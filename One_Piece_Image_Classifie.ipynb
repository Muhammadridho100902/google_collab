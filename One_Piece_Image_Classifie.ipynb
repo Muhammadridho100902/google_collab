{
  "nbformat": 4,
  "nbformat_minor": 0,
  "metadata": {
    "colab": {
      "provenance": [],
      "authorship_tag": "ABX9TyMbp7wXip5k8hHhYT0HEs7O",
      "include_colab_link": true
    },
    "kernelspec": {
      "name": "python3",
      "display_name": "Python 3"
    },
    "language_info": {
      "name": "python"
    }
  },
  "cells": [
    {
      "cell_type": "markdown",
      "metadata": {
        "id": "view-in-github",
        "colab_type": "text"
      },
      "source": [
        "<a href=\"https://colab.research.google.com/github/Muhammadridho100902/google_collab/blob/main/One_Piece_Image_Classifie.ipynb\" target=\"_parent\"><img src=\"https://colab.research.google.com/assets/colab-badge.svg\" alt=\"Open In Colab\"/></a>"
      ]
    },
    {
      "cell_type": "code",
      "execution_count": null,
      "metadata": {
        "colab": {
          "base_uri": "https://localhost:8080/"
        },
        "id": "V6FUX-dAIxWM",
        "outputId": "39069ff7-794e-4d3d-ec23-9c70c7ae712e"
      },
      "outputs": [
        {
          "output_type": "stream",
          "name": "stdout",
          "text": [
            "Downloading one-piece-image-classifier.zip to /content\n",
            "100% 2.52G/2.53G [00:21<00:00, 186MB/s]\n",
            "100% 2.53G/2.53G [00:21<00:00, 128MB/s]\n"
          ]
        }
      ],
      "source": [
        "! chmod 600 /content/kaggle.json\n",
        "! KAGGLE_CONFIG_DIR=/content/ kaggle datasets download -d ibrahimserouis99/one-piece-image-classifier"
      ]
    },
    {
      "cell_type": "code",
      "source": [
        "import zipfile\n",
        "\n",
        "dataset_zip = zipfile.ZipFile('/content/one-piece-image-classifier.zip')\n",
        "dataset_zip.extractall()\n",
        "dataset_zip.close()"
      ],
      "metadata": {
        "id": "fsgYEtb4LwFz"
      },
      "execution_count": null,
      "outputs": []
    },
    {
      "cell_type": "code",
      "source": [
        "import os\n",
        "import tensorflow as tf\n",
        "\n",
        "from tensorflow.keras.preprocessing.image import ImageDataGenerator\n",
        "\n",
        "dataset_dir = 'Data/Data'\n",
        "print(os.listdir(dataset_dir))"
      ],
      "metadata": {
        "colab": {
          "base_uri": "https://localhost:8080/"
        },
        "id": "okq1rB8OMFDt",
        "outputId": "3278458a-e1d6-41a2-ebb0-e55daa334052"
      },
      "execution_count": null,
      "outputs": [
        {
          "output_type": "stream",
          "name": "stdout",
          "text": [
            "['Shanks', 'Zoro', 'Luffy', 'Rayleigh', 'Crocodile', 'Chopper', 'Nami', 'Usopp', 'Brook', 'Kurohige', 'Franky', 'Sanji', 'Mihawk', 'Jinbei', 'Ace', 'Robin', 'Akainu', 'Law']\n"
          ]
        }
      ]
    },
    {
      "cell_type": "code",
      "source": [
        "data_generator = ImageDataGenerator(\n",
        "    rescale = 1./255,\n",
        "    horizontal_flip = True,\n",
        "    vertical_flip = True\n",
        ")"
      ],
      "metadata": {
        "id": "l9HASLOGM6nP"
      },
      "execution_count": null,
      "outputs": []
    },
    {
      "cell_type": "code",
      "source": [
        "training = data_generator.flow_from_directory(\n",
        "    dataset_dir,\n",
        "    target_size = (90,90),\n",
        "    batch_size = 20,\n",
        "    class_mode = 'categorical',\n",
        "    shuffle = True\n",
        ")"
      ],
      "metadata": {
        "colab": {
          "base_uri": "https://localhost:8080/"
        },
        "id": "VHndrIU1NIJi",
        "outputId": "c7f78e2c-322a-4e91-e63e-a992ead758e2"
      },
      "execution_count": null,
      "outputs": [
        {
          "output_type": "stream",
          "name": "stdout",
          "text": [
            "Found 11737 images belonging to 18 classes.\n"
          ]
        }
      ]
    },
    {
      "cell_type": "code",
      "source": [
        "model = tf.keras.models.Sequential([\n",
        "    tf.keras.layers.Conv2D(32, (3,3), activation = 'relu', input_shape = (90,90, 3)),\n",
        "    tf.keras.layers.MaxPooling2D(2,2),\n",
        "    tf.keras.layers.Conv2D(64, (3,3), activation = 'relu', input_shape = (90,90, 3)),\n",
        "    tf.keras.layers.MaxPooling2D(2,2),\n",
        "\n",
        "    tf.keras.layers.Flatten(),\n",
        "\n",
        "    tf.keras.layers.Dense(128, activation = 'relu'),\n",
        "    tf.keras.layers.Dense(18, activation = 'softmax'),\n",
        "\n",
        "])"
      ],
      "metadata": {
        "id": "JnQg6-t4NcTh"
      },
      "execution_count": null,
      "outputs": []
    },
    {
      "cell_type": "code",
      "source": [
        "model.compile(\n",
        "    loss = 'categorical_crossentropy',\n",
        "    metrics = ['acc'],\n",
        "    optimizer = 'adam'\n",
        ")"
      ],
      "metadata": {
        "id": "7T8UKUqbOV7y"
      },
      "execution_count": null,
      "outputs": []
    },
    {
      "cell_type": "code",
      "source": [
        "model.fit(\n",
        "    training,\n",
        "    epochs = 10\n",
        ")"
      ],
      "metadata": {
        "colab": {
          "base_uri": "https://localhost:8080/"
        },
        "id": "_La1PY23Oguq",
        "outputId": "5cacd9f4-4264-4747-85c5-78ab9e48ee06"
      },
      "execution_count": null,
      "outputs": [
        {
          "metadata": {
            "tags": null
          },
          "name": "stdout",
          "output_type": "stream",
          "text": [
            "Epoch 1/10\n"
          ]
        },
        {
          "metadata": {
            "tags": null
          },
          "name": "stderr",
          "output_type": "stream",
          "text": [
            "/usr/local/lib/python3.10/dist-packages/PIL/Image.py:996: UserWarning: Palette images with Transparency expressed in bytes should be converted to RGBA images\n",
            "  warnings.warn(\n"
          ]
        },
        {
          "output_type": "stream",
          "name": "stdout",
          "text": [
            "587/587 [==============================] - 231s 390ms/step - loss: 2.6506 - acc: 0.1729\n",
            "Epoch 2/10\n",
            "587/587 [==============================] - 230s 392ms/step - loss: 2.0826 - acc: 0.3625\n",
            "Epoch 3/10\n",
            "587/587 [==============================] - 213s 362ms/step - loss: 1.5708 - acc: 0.5282\n",
            "Epoch 4/10\n",
            "587/587 [==============================] - 204s 348ms/step - loss: 1.1776 - acc: 0.6545\n",
            "Epoch 5/10\n",
            "587/587 [==============================] - 215s 366ms/step - loss: 0.8851 - acc: 0.7421\n",
            "Epoch 6/10\n",
            "587/587 [==============================] - 217s 370ms/step - loss: 0.6845 - acc: 0.8057\n",
            "587/587 [==============================] - 217s 370ms/step - loss: 0.6845 - acc: 0.8057\n",
            "Epoch 7/10\n",
            "Epoch 7/10\n",
            "587/587 [==============================] - 222s 379ms/step - loss: 0.5155 - acc: 0.8519\n",
            "587/587 [==============================] - 222s 379ms/step - loss: 0.5155 - acc: 0.8519\n",
            "Epoch 8/10\n",
            "Epoch 8/10\n",
            "587/587 [==============================] - 222s 378ms/step - loss: 0.4067 - acc: 0.8883\n",
            "587/587 [==============================] - 222s 378ms/step - loss: 0.4067 - acc: 0.8883\n",
            "Epoch 9/10\n",
            "Epoch 9/10\n",
            "587/587 [==============================] - 211s 360ms/step - loss: 0.3495 - acc: 0.9034\n",
            "587/587 [==============================] - 211s 360ms/step - loss: 0.3495 - acc: 0.9034\n",
            "Epoch 10/10\n",
            "Epoch 10/10\n",
            "587/587 [==============================] - 219s 373ms/step - loss: 0.2750 - acc: 0.9226\n",
            "587/587 [==============================] - 219s 373ms/step - loss: 0.2750 - acc: 0.9226\n"
          ]
        },
        {
          "output_type": "execute_result",
          "data": {
            "text/plain": [
              "<keras.src.callbacks.History at 0x7fea70301ae0>"
            ]
          },
          "metadata": {},
          "execution_count": 9
        },
        {
          "output_type": "execute_result",
          "data": {
            "text/plain": [
              "<keras.src.callbacks.History at 0x7fea70301ae0>"
            ]
          },
          "metadata": {},
          "execution_count": 9
        }
      ]
    },
    {
      "cell_type": "code",
      "source": [
        "model.save('model_onepiece.h5')"
      ],
      "metadata": {
        "id": "u7DEI5Q2SgEK"
      },
      "execution_count": null,
      "outputs": []
    },
    {
      "cell_type": "code",
      "source": [
        "print(training.class_indices)"
      ],
      "metadata": {
        "colab": {
          "base_uri": "https://localhost:8080/"
        },
        "id": "o6MBLtG32hhW",
        "outputId": "c789eb0a-0fc8-4eba-86b6-a2ff2130fa5a"
      },
      "execution_count": null,
      "outputs": [
        {
          "output_type": "stream",
          "name": "stdout",
          "text": [
            "{'Ace': 0, 'Akainu': 1, 'Brook': 2, 'Chopper': 3, 'Crocodile': 4, 'Franky': 5, 'Jinbei': 6, 'Kurohige': 7, 'Law': 8, 'Luffy': 9, 'Mihawk': 10, 'Nami': 11, 'Rayleigh': 12, 'Robin': 13, 'Sanji': 14, 'Shanks': 15, 'Usopp': 16, 'Zoro': 17}\n"
          ]
        }
      ]
    }
  ]
}