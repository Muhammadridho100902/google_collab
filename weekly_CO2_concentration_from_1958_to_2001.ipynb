{
  "nbformat": 4,
  "nbformat_minor": 0,
  "metadata": {
    "colab": {
      "provenance": [],
      "authorship_tag": "ABX9TyPENDD4cAELK2sKRbBRxnK3",
      "include_colab_link": true
    },
    "kernelspec": {
      "name": "python3",
      "display_name": "Python 3"
    },
    "language_info": {
      "name": "python"
    }
  },
  "cells": [
    {
      "cell_type": "markdown",
      "metadata": {
        "id": "view-in-github",
        "colab_type": "text"
      },
      "source": [
        "<a href=\"https://colab.research.google.com/github/Muhammadridho100902/google_collab/blob/main/weekly_CO2_concentration_from_1958_to_2001.ipynb\" target=\"_parent\"><img src=\"https://colab.research.google.com/assets/colab-badge.svg\" alt=\"Open In Colab\"/></a>"
      ]
    },
    {
      "cell_type": "code",
      "execution_count": null,
      "metadata": {
        "id": "SZnYGTH9v4VB"
      },
      "outputs": [],
      "source": [
        "import numpy as np\n",
        "import pandas as pd\n",
        "import matplotlib.pyplot as plt\n",
        "import statsmodels.api as sm\n",
        "\n",
        "%matplotlib inline"
      ]
    },
    {
      "cell_type": "code",
      "source": [
        "data = sm.datasets.co2.load_pandas().data"
      ],
      "metadata": {
        "id": "tmDO1I1HwV_N"
      },
      "execution_count": null,
      "outputs": []
    },
    {
      "cell_type": "code",
      "source": [
        "data.head()"
      ],
      "metadata": {
        "colab": {
          "base_uri": "https://localhost:8080/",
          "height": 206
        },
        "id": "mwP-BxjGwj7g",
        "outputId": "9aaf4084-12ca-4f44-c24f-e7800c0390cd"
      },
      "execution_count": null,
      "outputs": [
        {
          "output_type": "execute_result",
          "data": {
            "text/plain": [
              "              co2\n",
              "1958-03-29  316.1\n",
              "1958-04-05  317.3\n",
              "1958-04-12  317.6\n",
              "1958-04-19  317.5\n",
              "1958-04-26  316.4"
            ],
            "text/html": [
              "\n",
              "  <div id=\"df-55448dc4-ae1e-4900-9633-bd02ee4a9633\">\n",
              "    <div class=\"colab-df-container\">\n",
              "      <div>\n",
              "<style scoped>\n",
              "    .dataframe tbody tr th:only-of-type {\n",
              "        vertical-align: middle;\n",
              "    }\n",
              "\n",
              "    .dataframe tbody tr th {\n",
              "        vertical-align: top;\n",
              "    }\n",
              "\n",
              "    .dataframe thead th {\n",
              "        text-align: right;\n",
              "    }\n",
              "</style>\n",
              "<table border=\"1\" class=\"dataframe\">\n",
              "  <thead>\n",
              "    <tr style=\"text-align: right;\">\n",
              "      <th></th>\n",
              "      <th>co2</th>\n",
              "    </tr>\n",
              "  </thead>\n",
              "  <tbody>\n",
              "    <tr>\n",
              "      <th>1958-03-29</th>\n",
              "      <td>316.1</td>\n",
              "    </tr>\n",
              "    <tr>\n",
              "      <th>1958-04-05</th>\n",
              "      <td>317.3</td>\n",
              "    </tr>\n",
              "    <tr>\n",
              "      <th>1958-04-12</th>\n",
              "      <td>317.6</td>\n",
              "    </tr>\n",
              "    <tr>\n",
              "      <th>1958-04-19</th>\n",
              "      <td>317.5</td>\n",
              "    </tr>\n",
              "    <tr>\n",
              "      <th>1958-04-26</th>\n",
              "      <td>316.4</td>\n",
              "    </tr>\n",
              "  </tbody>\n",
              "</table>\n",
              "</div>\n",
              "      <button class=\"colab-df-convert\" onclick=\"convertToInteractive('df-55448dc4-ae1e-4900-9633-bd02ee4a9633')\"\n",
              "              title=\"Convert this dataframe to an interactive table.\"\n",
              "              style=\"display:none;\">\n",
              "        \n",
              "  <svg xmlns=\"http://www.w3.org/2000/svg\" height=\"24px\"viewBox=\"0 0 24 24\"\n",
              "       width=\"24px\">\n",
              "    <path d=\"M0 0h24v24H0V0z\" fill=\"none\"/>\n",
              "    <path d=\"M18.56 5.44l.94 2.06.94-2.06 2.06-.94-2.06-.94-.94-2.06-.94 2.06-2.06.94zm-11 1L8.5 8.5l.94-2.06 2.06-.94-2.06-.94L8.5 2.5l-.94 2.06-2.06.94zm10 10l.94 2.06.94-2.06 2.06-.94-2.06-.94-.94-2.06-.94 2.06-2.06.94z\"/><path d=\"M17.41 7.96l-1.37-1.37c-.4-.4-.92-.59-1.43-.59-.52 0-1.04.2-1.43.59L10.3 9.45l-7.72 7.72c-.78.78-.78 2.05 0 2.83L4 21.41c.39.39.9.59 1.41.59.51 0 1.02-.2 1.41-.59l7.78-7.78 2.81-2.81c.8-.78.8-2.07 0-2.86zM5.41 20L4 18.59l7.72-7.72 1.47 1.35L5.41 20z\"/>\n",
              "  </svg>\n",
              "      </button>\n",
              "      \n",
              "  <style>\n",
              "    .colab-df-container {\n",
              "      display:flex;\n",
              "      flex-wrap:wrap;\n",
              "      gap: 12px;\n",
              "    }\n",
              "\n",
              "    .colab-df-convert {\n",
              "      background-color: #E8F0FE;\n",
              "      border: none;\n",
              "      border-radius: 50%;\n",
              "      cursor: pointer;\n",
              "      display: none;\n",
              "      fill: #1967D2;\n",
              "      height: 32px;\n",
              "      padding: 0 0 0 0;\n",
              "      width: 32px;\n",
              "    }\n",
              "\n",
              "    .colab-df-convert:hover {\n",
              "      background-color: #E2EBFA;\n",
              "      box-shadow: 0px 1px 2px rgba(60, 64, 67, 0.3), 0px 1px 3px 1px rgba(60, 64, 67, 0.15);\n",
              "      fill: #174EA6;\n",
              "    }\n",
              "\n",
              "    [theme=dark] .colab-df-convert {\n",
              "      background-color: #3B4455;\n",
              "      fill: #D2E3FC;\n",
              "    }\n",
              "\n",
              "    [theme=dark] .colab-df-convert:hover {\n",
              "      background-color: #434B5C;\n",
              "      box-shadow: 0px 1px 3px 1px rgba(0, 0, 0, 0.15);\n",
              "      filter: drop-shadow(0px 1px 2px rgba(0, 0, 0, 0.3));\n",
              "      fill: #FFFFFF;\n",
              "    }\n",
              "  </style>\n",
              "\n",
              "      <script>\n",
              "        const buttonEl =\n",
              "          document.querySelector('#df-55448dc4-ae1e-4900-9633-bd02ee4a9633 button.colab-df-convert');\n",
              "        buttonEl.style.display =\n",
              "          google.colab.kernel.accessAllowed ? 'block' : 'none';\n",
              "\n",
              "        async function convertToInteractive(key) {\n",
              "          const element = document.querySelector('#df-55448dc4-ae1e-4900-9633-bd02ee4a9633');\n",
              "          const dataTable =\n",
              "            await google.colab.kernel.invokeFunction('convertToInteractive',\n",
              "                                                     [key], {});\n",
              "          if (!dataTable) return;\n",
              "\n",
              "          const docLinkHtml = 'Like what you see? Visit the ' +\n",
              "            '<a target=\"_blank\" href=https://colab.research.google.com/notebooks/data_table.ipynb>data table notebook</a>'\n",
              "            + ' to learn more about interactive tables.';\n",
              "          element.innerHTML = '';\n",
              "          dataTable['output_type'] = 'display_data';\n",
              "          await google.colab.output.renderOutput(dataTable, element);\n",
              "          const docLink = document.createElement('div');\n",
              "          docLink.innerHTML = docLinkHtml;\n",
              "          element.appendChild(docLink);\n",
              "        }\n",
              "      </script>\n",
              "    </div>\n",
              "  </div>\n",
              "  "
            ]
          },
          "metadata": {},
          "execution_count": 3
        }
      ]
    },
    {
      "cell_type": "code",
      "source": [
        "fig, ax = plt.subplots(figsize = (15,5))\n",
        "\n",
        "ax.plot(data['co2'])\n",
        "ax.set_xlabel('Time')\n",
        "ax.set_ylabel('CO2 concentration (ppmw)')\n",
        "\n",
        "fig.autofmt_xdate()\n",
        "plt.tight_layout()"
      ],
      "metadata": {
        "colab": {
          "base_uri": "https://localhost:8080/",
          "height": 371
        },
        "id": "7NSmRLItwtXb",
        "outputId": "d593d10c-582f-4c6a-97cc-8c294197032d"
      },
      "execution_count": null,
      "outputs": [
        {
          "output_type": "display_data",
          "data": {
            "text/plain": [
              "<Figure size 1500x500 with 1 Axes>"
            ],
            "image/png": "[encoded data removed]"
          },
          "metadata": {}
        }
      ]
    },
    {
      "cell_type": "markdown",
      "source": [
        "From the image above, we notice clear positive trends as the consentration increasing over the time "
      ],
      "metadata": {
        "id": "DTS6f7jMxKr8"
      }
    },
    {
      "cell_type": "markdown",
      "source": [
        "# Handel Missing Values"
      ],
      "metadata": {
        "id": "XvKNMMGpxbqT"
      }
    },
    {
      "cell_type": "code",
      "source": [
        "data = data.interpolate()"
      ],
      "metadata": {
        "id": "ahyn92pYxgVr"
      },
      "execution_count": null,
      "outputs": []
    },
    {
      "cell_type": "markdown",
      "source": [
        "# Modelling with scikit-learn"
      ],
      "metadata": {
        "id": "f6Gqq2Jxxpbf"
      }
    },
    {
      "cell_type": "markdown",
      "source": [
        "#There are 3 different ways in which we can frame a time series forecasting problem as a supervised learning problem:\n",
        "\n",
        "1. Predict the next time step using the previous observation\n",
        "2. Predict the next time step using a sequence of past observations\n",
        "3. Predict a sequence of future time steps using a sequence of past observations\n",
        "\n",
        "# Let’s explore each situation in details!"
      ],
      "metadata": {
        "id": "9QEKZuqlxvl2"
      }
    },
    {
      "cell_type": "markdown",
      "source": [
        "1. Predict the next time step using the previous observation\n",
        "\n",
        "This is a simple use case with little practical applications, since a model is likely not going to learn anything from the previous observation only. However, it serves as a good starting point to help us understand the more complex scenarios later on."
      ],
      "metadata": {
        "id": "umBZNkD4yG_Q"
      }
    },
    {
      "cell_type": "code",
      "source": [
        "data.head()"
      ],
      "metadata": {
        "colab": {
          "base_uri": "https://localhost:8080/",
          "height": 206
        },
        "id": "FvphE2txyV5p",
        "outputId": "0ed0246c-dbc3-45ee-acea-a375b08adfeb"
      },
      "execution_count": null,
      "outputs": [
        {
          "output_type": "execute_result",
          "data": {
            "text/plain": [
              "              co2\n",
              "1958-03-29  316.1\n",
              "1958-04-05  317.3\n",
              "1958-04-12  317.6\n",
              "1958-04-19  317.5\n",
              "1958-04-26  316.4"
            ],
            "text/html": [
              "\n",
              "  <div id=\"df-694aa02b-0c4f-41c9-8621-bd0e1873ca98\">\n",
              "    <div class=\"colab-df-container\">\n",
              "      <div>\n",
              "<style scoped>\n",
              "    .dataframe tbody tr th:only-of-type {\n",
              "        vertical-align: middle;\n",
              "    }\n",
              "\n",
              "    .dataframe tbody tr th {\n",
              "        vertical-align: top;\n",
              "    }\n",
              "\n",
              "    .dataframe thead th {\n",
              "        text-align: right;\n",
              "    }\n",
              "</style>\n",
              "<table border=\"1\" class=\"dataframe\">\n",
              "  <thead>\n",
              "    <tr style=\"text-align: right;\">\n",
              "      <th></th>\n",
              "      <th>co2</th>\n",
              "    </tr>\n",
              "  </thead>\n",
              "  <tbody>\n",
              "    <tr>\n",
              "      <th>1958-03-29</th>\n",
              "      <td>316.1</td>\n",
              "    </tr>\n",
              "    <tr>\n",
              "      <th>1958-04-05</th>\n",
              "      <td>317.3</td>\n",
              "    </tr>\n",
              "    <tr>\n",
              "      <th>1958-04-12</th>\n",
              "      <td>317.6</td>\n",
              "    </tr>\n",
              "    <tr>\n",
              "      <th>1958-04-19</th>\n",
              "      <td>317.5</td>\n",
              "    </tr>\n",
              "    <tr>\n",
              "      <th>1958-04-26</th>\n",
              "      <td>316.4</td>\n",
              "    </tr>\n",
              "  </tbody>\n",
              "</table>\n",
              "</div>\n",
              "      <button class=\"colab-df-convert\" onclick=\"convertToInteractive('df-694aa02b-0c4f-41c9-8621-bd0e1873ca98')\"\n",
              "              title=\"Convert this dataframe to an interactive table.\"\n",
              "              style=\"display:none;\">\n",
              "        \n",
              "  <svg xmlns=\"http://www.w3.org/2000/svg\" height=\"24px\"viewBox=\"0 0 24 24\"\n",
              "       width=\"24px\">\n",
              "    <path d=\"M0 0h24v24H0V0z\" fill=\"none\"/>\n",
              "    <path d=\"M18.56 5.44l.94 2.06.94-2.06 2.06-.94-2.06-.94-.94-2.06-.94 2.06-2.06.94zm-11 1L8.5 8.5l.94-2.06 2.06-.94-2.06-.94L8.5 2.5l-.94 2.06-2.06.94zm10 10l.94 2.06.94-2.06 2.06-.94-2.06-.94-.94-2.06-.94 2.06-2.06.94z\"/><path d=\"M17.41 7.96l-1.37-1.37c-.4-.4-.92-.59-1.43-.59-.52 0-1.04.2-1.43.59L10.3 9.45l-7.72 7.72c-.78.78-.78 2.05 0 2.83L4 21.41c.39.39.9.59 1.41.59.51 0 1.02-.2 1.41-.59l7.78-7.78 2.81-2.81c.8-.78.8-2.07 0-2.86zM5.41 20L4 18.59l7.72-7.72 1.47 1.35L5.41 20z\"/>\n",
              "  </svg>\n",
              "      </button>\n",
              "      \n",
              "  <style>\n",
              "    .colab-df-container {\n",
              "      display:flex;\n",
              "      flex-wrap:wrap;\n",
              "      gap: 12px;\n",
              "    }\n",
              "\n",
              "    .colab-df-convert {\n",
              "      background-color: #E8F0FE;\n",
              "      border: none;\n",
              "      border-radius: 50%;\n",
              "      cursor: pointer;\n",
              "      display: none;\n",
              "      fill: #1967D2;\n",
              "      height: 32px;\n",
              "      padding: 0 0 0 0;\n",
              "      width: 32px;\n",
              "    }\n",
              "\n",
              "    .colab-df-convert:hover {\n",
              "      background-color: #E2EBFA;\n",
              "      box-shadow: 0px 1px 2px rgba(60, 64, 67, 0.3), 0px 1px 3px 1px rgba(60, 64, 67, 0.15);\n",
              "      fill: #174EA6;\n",
              "    }\n",
              "\n",
              "    [theme=dark] .colab-df-convert {\n",
              "      background-color: #3B4455;\n",
              "      fill: #D2E3FC;\n",
              "    }\n",
              "\n",
              "    [theme=dark] .colab-df-convert:hover {\n",
              "      background-color: #434B5C;\n",
              "      box-shadow: 0px 1px 3px 1px rgba(0, 0, 0, 0.15);\n",
              "      filter: drop-shadow(0px 1px 2px rgba(0, 0, 0, 0.3));\n",
              "      fill: #FFFFFF;\n",
              "    }\n",
              "  </style>\n",
              "\n",
              "      <script>\n",
              "        const buttonEl =\n",
              "          document.querySelector('#df-694aa02b-0c4f-41c9-8621-bd0e1873ca98 button.colab-df-convert');\n",
              "        buttonEl.style.display =\n",
              "          google.colab.kernel.accessAllowed ? 'block' : 'none';\n",
              "\n",
              "        async function convertToInteractive(key) {\n",
              "          const element = document.querySelector('#df-694aa02b-0c4f-41c9-8621-bd0e1873ca98');\n",
              "          const dataTable =\n",
              "            await google.colab.kernel.invokeFunction('convertToInteractive',\n",
              "                                                     [key], {});\n",
              "          if (!dataTable) return;\n",
              "\n",
              "          const docLinkHtml = 'Like what you see? Visit the ' +\n",
              "            '<a target=\"_blank\" href=https://colab.research.google.com/notebooks/data_table.ipynb>data table notebook</a>'\n",
              "            + ' to learn more about interactive tables.';\n",
              "          element.innerHTML = '';\n",
              "          dataTable['output_type'] = 'display_data';\n",
              "          await google.colab.output.renderOutput(dataTable, element);\n",
              "          const docLink = document.createElement('div');\n",
              "          docLink.innerHTML = docLinkHtml;\n",
              "          element.appendChild(docLink);\n",
              "        }\n",
              "      </script>\n",
              "    </div>\n",
              "  </div>\n",
              "  "
            ]
          },
          "metadata": {},
          "execution_count": 6
        }
      ]
    },
    {
      "cell_type": "code",
      "source": [
        "df = data.copy()\n",
        "df['y'] = df['co2'].shift(-1)"
      ],
      "metadata": {
        "id": "8yp2SIsTyZxX"
      },
      "execution_count": null,
      "outputs": []
    },
    {
      "cell_type": "code",
      "source": [
        "df.head()"
      ],
      "metadata": {
        "colab": {
          "base_uri": "https://localhost:8080/",
          "height": 206
        },
        "id": "lHIvNRfnyie8",
        "outputId": "f20c6ffb-ba12-4a5e-c7b9-f5bbf77fcc03"
      },
      "execution_count": null,
      "outputs": [
        {
          "output_type": "execute_result",
          "data": {
            "text/plain": [
              "              co2      y\n",
              "1958-03-29  316.1  317.3\n",
              "1958-04-05  317.3  317.6\n",
              "1958-04-12  317.6  317.5\n",
              "1958-04-19  317.5  316.4\n",
              "1958-04-26  316.4  316.9"
            ],
            "text/html": [
              "\n",
              "  <div id=\"df-9ec64cb3-ef59-4b27-8d3e-b473d36e5bd4\">\n",
              "    <div class=\"colab-df-container\">\n",
              "      <div>\n",
              "<style scoped>\n",
              "    .dataframe tbody tr th:only-of-type {\n",
              "        vertical-align: middle;\n",
              "    }\n",
              "\n",
              "    .dataframe tbody tr th {\n",
              "        vertical-align: top;\n",
              "    }\n",
              "\n",
              "    .dataframe thead th {\n",
              "        text-align: right;\n",
              "    }\n",
              "</style>\n",
              "<table border=\"1\" class=\"dataframe\">\n",
              "  <thead>\n",
              "    <tr style=\"text-align: right;\">\n",
              "      <th></th>\n",
              "      <th>co2</th>\n",
              "      <th>y</th>\n",
              "    </tr>\n",
              "  </thead>\n",
              "  <tbody>\n",
              "    <tr>\n",
              "      <th>1958-03-29</th>\n",
              "      <td>316.1</td>\n",
              "      <td>317.3</td>\n",
              "    </tr>\n",
              "    <tr>\n",
              "      <th>1958-04-05</th>\n",
              "      <td>317.3</td>\n",
              "      <td>317.6</td>\n",
              "    </tr>\n",
              "    <tr>\n",
              "      <th>1958-04-12</th>\n",
              "      <td>317.6</td>\n",
              "      <td>317.5</td>\n",
              "    </tr>\n",
              "    <tr>\n",
              "      <th>1958-04-19</th>\n",
              "      <td>317.5</td>\n",
              "      <td>316.4</td>\n",
              "    </tr>\n",
              "    <tr>\n",
              "      <th>1958-04-26</th>\n",
              "      <td>316.4</td>\n",
              "      <td>316.9</td>\n",
              "    </tr>\n",
              "  </tbody>\n",
              "</table>\n",
              "</div>\n",
              "      <button class=\"colab-df-convert\" onclick=\"convertToInteractive('df-9ec64cb3-ef59-4b27-8d3e-b473d36e5bd4')\"\n",
              "              title=\"Convert this dataframe to an interactive table.\"\n",
              "              style=\"display:none;\">\n",
              "        \n",
              "  <svg xmlns=\"http://www.w3.org/2000/svg\" height=\"24px\"viewBox=\"0 0 24 24\"\n",
              "       width=\"24px\">\n",
              "    <path d=\"M0 0h24v24H0V0z\" fill=\"none\"/>\n",
              "    <path d=\"M18.56 5.44l.94 2.06.94-2.06 2.06-.94-2.06-.94-.94-2.06-.94 2.06-2.06.94zm-11 1L8.5 8.5l.94-2.06 2.06-.94-2.06-.94L8.5 2.5l-.94 2.06-2.06.94zm10 10l.94 2.06.94-2.06 2.06-.94-2.06-.94-.94-2.06-.94 2.06-2.06.94z\"/><path d=\"M17.41 7.96l-1.37-1.37c-.4-.4-.92-.59-1.43-.59-.52 0-1.04.2-1.43.59L10.3 9.45l-7.72 7.72c-.78.78-.78 2.05 0 2.83L4 21.41c.39.39.9.59 1.41.59.51 0 1.02-.2 1.41-.59l7.78-7.78 2.81-2.81c.8-.78.8-2.07 0-2.86zM5.41 20L4 18.59l7.72-7.72 1.47 1.35L5.41 20z\"/>\n",
              "  </svg>\n",
              "      </button>\n",
              "      \n",
              "  <style>\n",
              "    .colab-df-container {\n",
              "      display:flex;\n",
              "      flex-wrap:wrap;\n",
              "      gap: 12px;\n",
              "    }\n",
              "\n",
              "    .colab-df-convert {\n",
              "      background-color: #E8F0FE;\n",
              "      border: none;\n",
              "      border-radius: 50%;\n",
              "      cursor: pointer;\n",
              "      display: none;\n",
              "      fill: #1967D2;\n",
              "      height: 32px;\n",
              "      padding: 0 0 0 0;\n",
              "      width: 32px;\n",
              "    }\n",
              "\n",
              "    .colab-df-convert:hover {\n",
              "      background-color: #E2EBFA;\n",
              "      box-shadow: 0px 1px 2px rgba(60, 64, 67, 0.3), 0px 1px 3px 1px rgba(60, 64, 67, 0.15);\n",
              "      fill: #174EA6;\n",
              "    }\n",
              "\n",
              "    [theme=dark] .colab-df-convert {\n",
              "      background-color: #3B4455;\n",
              "      fill: #D2E3FC;\n",
              "    }\n",
              "\n",
              "    [theme=dark] .colab-df-convert:hover {\n",
              "      background-color: #434B5C;\n",
              "      box-shadow: 0px 1px 3px 1px rgba(0, 0, 0, 0.15);\n",
              "      filter: drop-shadow(0px 1px 2px rgba(0, 0, 0, 0.3));\n",
              "      fill: #FFFFFF;\n",
              "    }\n",
              "  </style>\n",
              "\n",
              "      <script>\n",
              "        const buttonEl =\n",
              "          document.querySelector('#df-9ec64cb3-ef59-4b27-8d3e-b473d36e5bd4 button.colab-df-convert');\n",
              "        buttonEl.style.display =\n",
              "          google.colab.kernel.accessAllowed ? 'block' : 'none';\n",
              "\n",
              "        async function convertToInteractive(key) {\n",
              "          const element = document.querySelector('#df-9ec64cb3-ef59-4b27-8d3e-b473d36e5bd4');\n",
              "          const dataTable =\n",
              "            await google.colab.kernel.invokeFunction('convertToInteractive',\n",
              "                                                     [key], {});\n",
              "          if (!dataTable) return;\n",
              "\n",
              "          const docLinkHtml = 'Like what you see? Visit the ' +\n",
              "            '<a target=\"_blank\" href=https://colab.research.google.com/notebooks/data_table.ipynb>data table notebook</a>'\n",
              "            + ' to learn more about interactive tables.';\n",
              "          element.innerHTML = '';\n",
              "          dataTable['output_type'] = 'display_data';\n",
              "          await google.colab.output.renderOutput(dataTable, element);\n",
              "          const docLink = document.createElement('div');\n",
              "          docLink.innerHTML = docLinkHtml;\n",
              "          element.appendChild(docLink);\n",
              "        }\n",
              "      </script>\n",
              "    </div>\n",
              "  </div>\n",
              "  "
            ]
          },
          "metadata": {},
          "execution_count": 8
        }
      ]
    },
    {
      "cell_type": "markdown",
      "source": [
        "seperate the dataset into training and test set"
      ],
      "metadata": {
        "id": "LJKS5ti_ysmz"
      }
    },
    {
      "cell_type": "code",
      "source": [
        "train = df[:-104]\n",
        "test = df[-104:]\n",
        "test = test.drop(test.tail(1).index) # drop last row"
      ],
      "metadata": {
        "id": "2MH8OWbqyxzp"
      },
      "execution_count": null,
      "outputs": []
    },
    {
      "cell_type": "markdown",
      "source": [
        "Try \"Baseline Model\""
      ],
      "metadata": {
        "id": "luWUpQSQ0GzM"
      }
    },
    {
      "cell_type": "markdown",
      "source": [
        "we use co2 column as our baseline prediction"
      ],
      "metadata": {
        "id": "Dy_HB3lJ0Oq8"
      }
    },
    {
      "cell_type": "code",
      "source": [
        "test = test.copy()\n",
        "test['baseline_pred'] = test['co2']"
      ],
      "metadata": {
        "id": "5Bwi58wS0Va3"
      },
      "execution_count": null,
      "outputs": []
    },
    {
      "cell_type": "code",
      "source": [
        "test.head()"
      ],
      "metadata": {
        "colab": {
          "base_uri": "https://localhost:8080/",
          "height": 206
        },
        "id": "5UFJ9OO10fjT",
        "outputId": "8c5f297d-6228-4a64-a0a7-2666f6be5660"
      },
      "execution_count": null,
      "outputs": [
        {
          "output_type": "execute_result",
          "data": {
            "text/plain": [
              "              co2      y  baseline_pred\n",
              "2000-01-08  368.5  369.0          368.5\n",
              "2000-01-15  369.0  369.8          369.0\n",
              "2000-01-22  369.8  369.2          369.8\n",
              "2000-01-29  369.2  369.1          369.2\n",
              "2000-02-05  369.1  369.6          369.1"
            ],
            "text/html": [
              "\n",
              "  <div id=\"df-a66ffcc6-5f62-47ee-bf83-f53689c1b84d\">\n",
              "    <div class=\"colab-df-container\">\n",
              "      <div>\n",
              "<style scoped>\n",
              "    .dataframe tbody tr th:only-of-type {\n",
              "        vertical-align: middle;\n",
              "    }\n",
              "\n",
              "    .dataframe tbody tr th {\n",
              "        vertical-align: top;\n",
              "    }\n",
              "\n",
              "    .dataframe thead th {\n",
              "        text-align: right;\n",
              "    }\n",
              "</style>\n",
              "<table border=\"1\" class=\"dataframe\">\n",
              "  <thead>\n",
              "    <tr style=\"text-align: right;\">\n",
              "      <th></th>\n",
              "      <th>co2</th>\n",
              "      <th>y</th>\n",
              "      <th>baseline_pred</th>\n",
              "    </tr>\n",
              "  </thead>\n",
              "  <tbody>\n",
              "    <tr>\n",
              "      <th>2000-01-08</th>\n",
              "      <td>368.5</td>\n",
              "      <td>369.0</td>\n",
              "      <td>368.5</td>\n",
              "    </tr>\n",
              "    <tr>\n",
              "      <th>2000-01-15</th>\n",
              "      <td>369.0</td>\n",
              "      <td>369.8</td>\n",
              "      <td>369.0</td>\n",
              "    </tr>\n",
              "    <tr>\n",
              "      <th>2000-01-22</th>\n",
              "      <td>369.8</td>\n",
              "      <td>369.2</td>\n",
              "      <td>369.8</td>\n",
              "    </tr>\n",
              "    <tr>\n",
              "      <th>2000-01-29</th>\n",
              "      <td>369.2</td>\n",
              "      <td>369.1</td>\n",
              "      <td>369.2</td>\n",
              "    </tr>\n",
              "    <tr>\n",
              "      <th>2000-02-05</th>\n",
              "      <td>369.1</td>\n",
              "      <td>369.6</td>\n",
              "      <td>369.1</td>\n",
              "    </tr>\n",
              "  </tbody>\n",
              "</table>\n",
              "</div>\n",
              "      <button class=\"colab-df-convert\" onclick=\"convertToInteractive('df-a66ffcc6-5f62-47ee-bf83-f53689c1b84d')\"\n",
              "              title=\"Convert this dataframe to an interactive table.\"\n",
              "              style=\"display:none;\">\n",
              "        \n",
              "  <svg xmlns=\"http://www.w3.org/2000/svg\" height=\"24px\"viewBox=\"0 0 24 24\"\n",
              "       width=\"24px\">\n",
              "    <path d=\"M0 0h24v24H0V0z\" fill=\"none\"/>\n",
              "    <path d=\"M18.56 5.44l.94 2.06.94-2.06 2.06-.94-2.06-.94-.94-2.06-.94 2.06-2.06.94zm-11 1L8.5 8.5l.94-2.06 2.06-.94-2.06-.94L8.5 2.5l-.94 2.06-2.06.94zm10 10l.94 2.06.94-2.06 2.06-.94-2.06-.94-.94-2.06-.94 2.06-2.06.94z\"/><path d=\"M17.41 7.96l-1.37-1.37c-.4-.4-.92-.59-1.43-.59-.52 0-1.04.2-1.43.59L10.3 9.45l-7.72 7.72c-.78.78-.78 2.05 0 2.83L4 21.41c.39.39.9.59 1.41.59.51 0 1.02-.2 1.41-.59l7.78-7.78 2.81-2.81c.8-.78.8-2.07 0-2.86zM5.41 20L4 18.59l7.72-7.72 1.47 1.35L5.41 20z\"/>\n",
              "  </svg>\n",
              "      </button>\n",
              "      \n",
              "  <style>\n",
              "    .colab-df-container {\n",
              "      display:flex;\n",
              "      flex-wrap:wrap;\n",
              "      gap: 12px;\n",
              "    }\n",
              "\n",
              "    .colab-df-convert {\n",
              "      background-color: #E8F0FE;\n",
              "      border: none;\n",
              "      border-radius: 50%;\n",
              "      cursor: pointer;\n",
              "      display: none;\n",
              "      fill: #1967D2;\n",
              "      height: 32px;\n",
              "      padding: 0 0 0 0;\n",
              "      width: 32px;\n",
              "    }\n",
              "\n",
              "    .colab-df-convert:hover {\n",
              "      background-color: #E2EBFA;\n",
              "      box-shadow: 0px 1px 2px rgba(60, 64, 67, 0.3), 0px 1px 3px 1px rgba(60, 64, 67, 0.15);\n",
              "      fill: #174EA6;\n",
              "    }\n",
              "\n",
              "    [theme=dark] .colab-df-convert {\n",
              "      background-color: #3B4455;\n",
              "      fill: #D2E3FC;\n",
              "    }\n",
              "\n",
              "    [theme=dark] .colab-df-convert:hover {\n",
              "      background-color: #434B5C;\n",
              "      box-shadow: 0px 1px 3px 1px rgba(0, 0, 0, 0.15);\n",
              "      filter: drop-shadow(0px 1px 2px rgba(0, 0, 0, 0.3));\n",
              "      fill: #FFFFFF;\n",
              "    }\n",
              "  </style>\n",
              "\n",
              "      <script>\n",
              "        const buttonEl =\n",
              "          document.querySelector('#df-a66ffcc6-5f62-47ee-bf83-f53689c1b84d button.colab-df-convert');\n",
              "        buttonEl.style.display =\n",
              "          google.colab.kernel.accessAllowed ? 'block' : 'none';\n",
              "\n",
              "        async function convertToInteractive(key) {\n",
              "          const element = document.querySelector('#df-a66ffcc6-5f62-47ee-bf83-f53689c1b84d');\n",
              "          const dataTable =\n",
              "            await google.colab.kernel.invokeFunction('convertToInteractive',\n",
              "                                                     [key], {});\n",
              "          if (!dataTable) return;\n",
              "\n",
              "          const docLinkHtml = 'Like what you see? Visit the ' +\n",
              "            '<a target=\"_blank\" href=https://colab.research.google.com/notebooks/data_table.ipynb>data table notebook</a>'\n",
              "            + ' to learn more about interactive tables.';\n",
              "          element.innerHTML = '';\n",
              "          dataTable['output_type'] = 'display_data';\n",
              "          await google.colab.output.renderOutput(dataTable, element);\n",
              "          const docLink = document.createElement('div');\n",
              "          docLink.innerHTML = docLinkHtml;\n",
              "          element.appendChild(docLink);\n",
              "        }\n",
              "      </script>\n",
              "    </div>\n",
              "  </div>\n",
              "  "
            ]
          },
          "metadata": {},
          "execution_count": 11
        }
      ]
    },
    {
      "cell_type": "markdown",
      "source": [
        "# Decision Trees\n",
        "\n",
        "This model can be replaced by any model you want from the scikit-learn library! Note that we use a random state to ensure reproducibility."
      ],
      "metadata": {
        "id": "_EZzZk7H0lXJ"
      }
    },
    {
      "cell_type": "code",
      "source": [
        "from sklearn.tree import DecisionTreeRegressor\n",
        "\n",
        "x_train = train['co2'].values.reshape(-1,1)\n",
        "y_train = train['y'].values.reshape(-1,1)\n",
        "x_test = test['co2'].values.reshape(-1,1)\n",
        "\n",
        "# initialize the models\n",
        "dt_reg = DecisionTreeRegressor(random_state=42)\n",
        "\n",
        "# fit the model\n",
        "dt_reg.fit(x_train,y_train)\n",
        "\n",
        "# make prediction\n",
        "dt_pred = dt_reg.predict(x_test)\n",
        "\n",
        "# assign the prediction to new columns\n",
        "test['dt_pred'] = dt_pred\n"
      ],
      "metadata": {
        "id": "RdjpwBuw01CG"
      },
      "execution_count": null,
      "outputs": []
    },
    {
      "cell_type": "code",
      "source": [
        "test.head()"
      ],
      "metadata": {
        "colab": {
          "base_uri": "https://localhost:8080/",
          "height": 206
        },
        "id": "BjWW1szy2DK0",
        "outputId": "80fc24c3-effa-459f-e4e2-1694ea3d326d"
      },
      "execution_count": null,
      "outputs": [
        {
          "output_type": "execute_result",
          "data": {
            "text/plain": [
              "              co2      y  baseline_pred  dt_pred\n",
              "2000-01-08  368.5  369.0          368.5   368.65\n",
              "2000-01-15  369.0  369.8          369.0   368.50\n",
              "2000-01-22  369.8  369.2          369.8   369.40\n",
              "2000-01-29  369.2  369.1          369.2   369.10\n",
              "2000-02-05  369.1  369.6          369.1   368.80"
            ],
            "text/html": [
              "\n",
              "  <div id=\"df-113ac351-67d9-47bc-8338-df10510c2972\">\n",
              "    <div class=\"colab-df-container\">\n",
              "      <div>\n",
              "<style scoped>\n",
              "    .dataframe tbody tr th:only-of-type {\n",
              "        vertical-align: middle;\n",
              "    }\n",
              "\n",
              "    .dataframe tbody tr th {\n",
              "        vertical-align: top;\n",
              "    }\n",
              "\n",
              "    .dataframe thead th {\n",
              "        text-align: right;\n",
              "    }\n",
              "</style>\n",
              "<table border=\"1\" class=\"dataframe\">\n",
              "  <thead>\n",
              "    <tr style=\"text-align: right;\">\n",
              "      <th></th>\n",
              "      <th>co2</th>\n",
              "      <th>y</th>\n",
              "      <th>baseline_pred</th>\n",
              "      <th>dt_pred</th>\n",
              "    </tr>\n",
              "  </thead>\n",
              "  <tbody>\n",
              "    <tr>\n",
              "      <th>2000-01-08</th>\n",
              "      <td>368.5</td>\n",
              "      <td>369.0</td>\n",
              "      <td>368.5</td>\n",
              "      <td>368.65</td>\n",
              "    </tr>\n",
              "    <tr>\n",
              "      <th>2000-01-15</th>\n",
              "      <td>369.0</td>\n",
              "      <td>369.8</td>\n",
              "      <td>369.0</td>\n",
              "      <td>368.50</td>\n",
              "    </tr>\n",
              "    <tr>\n",
              "      <th>2000-01-22</th>\n",
              "      <td>369.8</td>\n",
              "      <td>369.2</td>\n",
              "      <td>369.8</td>\n",
              "      <td>369.40</td>\n",
              "    </tr>\n",
              "    <tr>\n",
              "      <th>2000-01-29</th>\n",
              "      <td>369.2</td>\n",
              "      <td>369.1</td>\n",
              "      <td>369.2</td>\n",
              "      <td>369.10</td>\n",
              "    </tr>\n",
              "    <tr>\n",
              "      <th>2000-02-05</th>\n",
              "      <td>369.1</td>\n",
              "      <td>369.6</td>\n",
              "      <td>369.1</td>\n",
              "      <td>368.80</td>\n",
              "    </tr>\n",
              "  </tbody>\n",
              "</table>\n",
              "</div>\n",
              "      <button class=\"colab-df-convert\" onclick=\"convertToInteractive('df-113ac351-67d9-47bc-8338-df10510c2972')\"\n",
              "              title=\"Convert this dataframe to an interactive table.\"\n",
              "              style=\"display:none;\">\n",
              "        \n",
              "  <svg xmlns=\"http://www.w3.org/2000/svg\" height=\"24px\"viewBox=\"0 0 24 24\"\n",
              "       width=\"24px\">\n",
              "    <path d=\"M0 0h24v24H0V0z\" fill=\"none\"/>\n",
              "    <path d=\"M18.56 5.44l.94 2.06.94-2.06 2.06-.94-2.06-.94-.94-2.06-.94 2.06-2.06.94zm-11 1L8.5 8.5l.94-2.06 2.06-.94-2.06-.94L8.5 2.5l-.94 2.06-2.06.94zm10 10l.94 2.06.94-2.06 2.06-.94-2.06-.94-.94-2.06-.94 2.06-2.06.94z\"/><path d=\"M17.41 7.96l-1.37-1.37c-.4-.4-.92-.59-1.43-.59-.52 0-1.04.2-1.43.59L10.3 9.45l-7.72 7.72c-.78.78-.78 2.05 0 2.83L4 21.41c.39.39.9.59 1.41.59.51 0 1.02-.2 1.41-.59l7.78-7.78 2.81-2.81c.8-.78.8-2.07 0-2.86zM5.41 20L4 18.59l7.72-7.72 1.47 1.35L5.41 20z\"/>\n",
              "  </svg>\n",
              "      </button>\n",
              "      \n",
              "  <style>\n",
              "    .colab-df-container {\n",
              "      display:flex;\n",
              "      flex-wrap:wrap;\n",
              "      gap: 12px;\n",
              "    }\n",
              "\n",
              "    .colab-df-convert {\n",
              "      background-color: #E8F0FE;\n",
              "      border: none;\n",
              "      border-radius: 50%;\n",
              "      cursor: pointer;\n",
              "      display: none;\n",
              "      fill: #1967D2;\n",
              "      height: 32px;\n",
              "      padding: 0 0 0 0;\n",
              "      width: 32px;\n",
              "    }\n",
              "\n",
              "    .colab-df-convert:hover {\n",
              "      background-color: #E2EBFA;\n",
              "      box-shadow: 0px 1px 2px rgba(60, 64, 67, 0.3), 0px 1px 3px 1px rgba(60, 64, 67, 0.15);\n",
              "      fill: #174EA6;\n",
              "    }\n",
              "\n",
              "    [theme=dark] .colab-df-convert {\n",
              "      background-color: #3B4455;\n",
              "      fill: #D2E3FC;\n",
              "    }\n",
              "\n",
              "    [theme=dark] .colab-df-convert:hover {\n",
              "      background-color: #434B5C;\n",
              "      box-shadow: 0px 1px 3px 1px rgba(0, 0, 0, 0.15);\n",
              "      filter: drop-shadow(0px 1px 2px rgba(0, 0, 0, 0.3));\n",
              "      fill: #FFFFFF;\n",
              "    }\n",
              "  </style>\n",
              "\n",
              "      <script>\n",
              "        const buttonEl =\n",
              "          document.querySelector('#df-113ac351-67d9-47bc-8338-df10510c2972 button.colab-df-convert');\n",
              "        buttonEl.style.display =\n",
              "          google.colab.kernel.accessAllowed ? 'block' : 'none';\n",
              "\n",
              "        async function convertToInteractive(key) {\n",
              "          const element = document.querySelector('#df-113ac351-67d9-47bc-8338-df10510c2972');\n",
              "          const dataTable =\n",
              "            await google.colab.kernel.invokeFunction('convertToInteractive',\n",
              "                                                     [key], {});\n",
              "          if (!dataTable) return;\n",
              "\n",
              "          const docLinkHtml = 'Like what you see? Visit the ' +\n",
              "            '<a target=\"_blank\" href=https://colab.research.google.com/notebooks/data_table.ipynb>data table notebook</a>'\n",
              "            + ' to learn more about interactive tables.';\n",
              "          element.innerHTML = '';\n",
              "          dataTable['output_type'] = 'display_data';\n",
              "          await google.colab.output.renderOutput(dataTable, element);\n",
              "          const docLink = document.createElement('div');\n",
              "          docLink.innerHTML = docLinkHtml;\n",
              "          element.appendChild(docLink);\n",
              "        }\n",
              "      </script>\n",
              "    </div>\n",
              "  </div>\n",
              "  "
            ]
          },
          "metadata": {},
          "execution_count": 13
        }
      ]
    },
    {
      "cell_type": "markdown",
      "source": [
        "# Gradient Boosting"
      ],
      "metadata": {
        "id": "uAIgMLnI2Ugc"
      }
    },
    {
      "cell_type": "code",
      "source": [
        "from sklearn.ensemble import GradientBoostingRegressor\n",
        "\n",
        "gbr = GradientBoostingRegressor(random_state=42)\n",
        "gbr.fit(x_train, y_train.ravel())\n",
        "gbr_pred = gbr.predict(x_test)\n",
        "test['gbr_pred'] = gbr_pred"
      ],
      "metadata": {
        "id": "VTj0rvYp2YxO"
      },
      "execution_count": null,
      "outputs": []
    },
    {
      "cell_type": "code",
      "source": [
        "test.head()"
      ],
      "metadata": {
        "colab": {
          "base_uri": "https://localhost:8080/",
          "height": 206
        },
        "id": "PE8C7B282_u4",
        "outputId": "48c6b261-1e9b-4694-a3a4-9f298289b009"
      },
      "execution_count": null,
      "outputs": [
        {
          "output_type": "execute_result",
          "data": {
            "text/plain": [
              "              co2      y  baseline_pred  dt_pred    gbr_pred\n",
              "2000-01-08  368.5  369.0          368.5   368.65  368.556464\n",
              "2000-01-15  369.0  369.8          369.0   368.50  368.774435\n",
              "2000-01-22  369.8  369.2          369.8   369.40  369.512468\n",
              "2000-01-29  369.2  369.1          369.2   369.10  369.041813\n",
              "2000-02-05  369.1  369.6          369.1   368.80  368.774435"
            ],
            "text/html": [
              "\n",
              "  <div id=\"df-bbbbb620-7c12-49fe-bf64-9d024a23b307\">\n",
              "    <div class=\"colab-df-container\">\n",
              "      <div>\n",
              "<style scoped>\n",
              "    .dataframe tbody tr th:only-of-type {\n",
              "        vertical-align: middle;\n",
              "    }\n",
              "\n",
              "    .dataframe tbody tr th {\n",
              "        vertical-align: top;\n",
              "    }\n",
              "\n",
              "    .dataframe thead th {\n",
              "        text-align: right;\n",
              "    }\n",
              "</style>\n",
              "<table border=\"1\" class=\"dataframe\">\n",
              "  <thead>\n",
              "    <tr style=\"text-align: right;\">\n",
              "      <th></th>\n",
              "      <th>co2</th>\n",
              "      <th>y</th>\n",
              "      <th>baseline_pred</th>\n",
              "      <th>dt_pred</th>\n",
              "      <th>gbr_pred</th>\n",
              "    </tr>\n",
              "  </thead>\n",
              "  <tbody>\n",
              "    <tr>\n",
              "      <th>2000-01-08</th>\n",
              "      <td>368.5</td>\n",
              "      <td>369.0</td>\n",
              "      <td>368.5</td>\n",
              "      <td>368.65</td>\n",
              "      <td>368.556464</td>\n",
              "    </tr>\n",
              "    <tr>\n",
              "      <th>2000-01-15</th>\n",
              "      <td>369.0</td>\n",
              "      <td>369.8</td>\n",
              "      <td>369.0</td>\n",
              "      <td>368.50</td>\n",
              "      <td>368.774435</td>\n",
              "    </tr>\n",
              "    <tr>\n",
              "      <th>2000-01-22</th>\n",
              "      <td>369.8</td>\n",
              "      <td>369.2</td>\n",
              "      <td>369.8</td>\n",
              "      <td>369.40</td>\n",
              "      <td>369.512468</td>\n",
              "    </tr>\n",
              "    <tr>\n",
              "      <th>2000-01-29</th>\n",
              "      <td>369.2</td>\n",
              "      <td>369.1</td>\n",
              "      <td>369.2</td>\n",
              "      <td>369.10</td>\n",
              "      <td>369.041813</td>\n",
              "    </tr>\n",
              "    <tr>\n",
              "      <th>2000-02-05</th>\n",
              "      <td>369.1</td>\n",
              "      <td>369.6</td>\n",
              "      <td>369.1</td>\n",
              "      <td>368.80</td>\n",
              "      <td>368.774435</td>\n",
              "    </tr>\n",
              "  </tbody>\n",
              "</table>\n",
              "</div>\n",
              "      <button class=\"colab-df-convert\" onclick=\"convertToInteractive('df-bbbbb620-7c12-49fe-bf64-9d024a23b307')\"\n",
              "              title=\"Convert this dataframe to an interactive table.\"\n",
              "              style=\"display:none;\">\n",
              "        \n",
              "  <svg xmlns=\"http://www.w3.org/2000/svg\" height=\"24px\"viewBox=\"0 0 24 24\"\n",
              "       width=\"24px\">\n",
              "    <path d=\"M0 0h24v24H0V0z\" fill=\"none\"/>\n",
              "    <path d=\"M18.56 5.44l.94 2.06.94-2.06 2.06-.94-2.06-.94-.94-2.06-.94 2.06-2.06.94zm-11 1L8.5 8.5l.94-2.06 2.06-.94-2.06-.94L8.5 2.5l-.94 2.06-2.06.94zm10 10l.94 2.06.94-2.06 2.06-.94-2.06-.94-.94-2.06-.94 2.06-2.06.94z\"/><path d=\"M17.41 7.96l-1.37-1.37c-.4-.4-.92-.59-1.43-.59-.52 0-1.04.2-1.43.59L10.3 9.45l-7.72 7.72c-.78.78-.78 2.05 0 2.83L4 21.41c.39.39.9.59 1.41.59.51 0 1.02-.2 1.41-.59l7.78-7.78 2.81-2.81c.8-.78.8-2.07 0-2.86zM5.41 20L4 18.59l7.72-7.72 1.47 1.35L5.41 20z\"/>\n",
              "  </svg>\n",
              "      </button>\n",
              "      \n",
              "  <style>\n",
              "    .colab-df-container {\n",
              "      display:flex;\n",
              "      flex-wrap:wrap;\n",
              "      gap: 12px;\n",
              "    }\n",
              "\n",
              "    .colab-df-convert {\n",
              "      background-color: #E8F0FE;\n",
              "      border: none;\n",
              "      border-radius: 50%;\n",
              "      cursor: pointer;\n",
              "      display: none;\n",
              "      fill: #1967D2;\n",
              "      height: 32px;\n",
              "      padding: 0 0 0 0;\n",
              "      width: 32px;\n",
              "    }\n",
              "\n",
              "    .colab-df-convert:hover {\n",
              "      background-color: #E2EBFA;\n",
              "      box-shadow: 0px 1px 2px rgba(60, 64, 67, 0.3), 0px 1px 3px 1px rgba(60, 64, 67, 0.15);\n",
              "      fill: #174EA6;\n",
              "    }\n",
              "\n",
              "    [theme=dark] .colab-df-convert {\n",
              "      background-color: #3B4455;\n",
              "      fill: #D2E3FC;\n",
              "    }\n",
              "\n",
              "    [theme=dark] .colab-df-convert:hover {\n",
              "      background-color: #434B5C;\n",
              "      box-shadow: 0px 1px 3px 1px rgba(0, 0, 0, 0.15);\n",
              "      filter: drop-shadow(0px 1px 2px rgba(0, 0, 0, 0.3));\n",
              "      fill: #FFFFFF;\n",
              "    }\n",
              "  </style>\n",
              "\n",
              "      <script>\n",
              "        const buttonEl =\n",
              "          document.querySelector('#df-bbbbb620-7c12-49fe-bf64-9d024a23b307 button.colab-df-convert');\n",
              "        buttonEl.style.display =\n",
              "          google.colab.kernel.accessAllowed ? 'block' : 'none';\n",
              "\n",
              "        async function convertToInteractive(key) {\n",
              "          const element = document.querySelector('#df-bbbbb620-7c12-49fe-bf64-9d024a23b307');\n",
              "          const dataTable =\n",
              "            await google.colab.kernel.invokeFunction('convertToInteractive',\n",
              "                                                     [key], {});\n",
              "          if (!dataTable) return;\n",
              "\n",
              "          const docLinkHtml = 'Like what you see? Visit the ' +\n",
              "            '<a target=\"_blank\" href=https://colab.research.google.com/notebooks/data_table.ipynb>data table notebook</a>'\n",
              "            + ' to learn more about interactive tables.';\n",
              "          element.innerHTML = '';\n",
              "          dataTable['output_type'] = 'display_data';\n",
              "          await google.colab.output.renderOutput(dataTable, element);\n",
              "          const docLink = document.createElement('div');\n",
              "          docLink.innerHTML = docLinkHtml;\n",
              "          element.appendChild(docLink);\n",
              "        }\n",
              "      </script>\n",
              "    </div>\n",
              "  </div>\n",
              "  "
            ]
          },
          "metadata": {},
          "execution_count": 15
        }
      ]
    },
    {
      "cell_type": "markdown",
      "source": [
        "# Evaluation Models\n",
        "\n",
        "we use mean absolute precentage error (MAPE) it return a percentage so it easy to interpret. **Make Sure to only use this if you dont have values close to zero like this case** "
      ],
      "metadata": {
        "id": "t2DOxr9n3DnM"
      }
    },
    {
      "cell_type": "code",
      "source": [
        "def mape(y_true, y_pred):\n",
        "  return round(np.mean(np.abs((y_true - y_pred) / y_true)) * 100, 2)"
      ],
      "metadata": {
        "id": "0Dxjx28_3mQS"
      },
      "execution_count": null,
      "outputs": []
    },
    {
      "cell_type": "markdown",
      "source": [
        "Than we can evaluate for each model with bar plot"
      ],
      "metadata": {
        "id": "qMuMJwwQ4Eg3"
      }
    },
    {
      "cell_type": "code",
      "source": [
        "baseline_mape = mape(test['y'], test['baseline_pred'])\n",
        "dt_mape = mape(test['y'], test['dt_pred'])\n",
        "gbr_mape = mape(test['y'], test['gbr_pred'])\n",
        "\n",
        "# Generate bar plot\n",
        "fig , ax  = plt.subplots(figsize=(15,5))\n",
        "\n",
        "x = ['Baseline', 'Decision Tree', 'Gradient Boosting']\n",
        "y = [baseline_mape, dt_mape, gbr_mape]\n",
        "\n",
        "ax.bar(x, y, width=0.4)\n",
        "ax.set_xlabel('Regressor models')\n",
        "ax.set_ylabel('MAPE (%)')\n",
        "ax.set_ylim(0, 0.3)\n",
        "\n",
        "for index, value in enumerate(y):\n",
        "    plt.text(x=index, y=value + 0.02, s=str(value), ha='center')\n",
        "    \n",
        "plt.tight_layout()\n",
        "\n"
      ],
      "metadata": {
        "colab": {
          "base_uri": "https://localhost:8080/",
          "height": 371
        },
        "id": "Tl0ddUTq4Jcs",
        "outputId": "fc922502-2447-431d-f831-53f4227caaca"
      },
      "execution_count": null,
      "outputs": [
        {
          "output_type": "display_data",
          "data": {
            "text/plain": [
              "<Figure size 1500x500 with 1 Axes>"
            ],
            "image/png": "[encoded data removed]"
          },
          "metadata": {}
        }
      ]
    },
    {
      "cell_type": "markdown",
      "source": [
        "**Looking at the figure above, we see that the baseline has the best performance, since it has the lowest MAPE. This makes sense as the CO2 concentration does not seem to change drastically from one week to another.**\n",
        "\n",
        "**In this case, using machine learning models did not give us any added value. Again, this might be because the model is only learning from one observation to make a prediction. It might be better to give it a sequence as input, in order to predict the next time step.**"
      ],
      "metadata": {
        "id": "Xn3fqT0F4_Xq"
      }
    },
    {
      "cell_type": "markdown",
      "source": [
        "# Predict the next time step using a sequence of past observations"
      ],
      "metadata": {
        "id": "oevzHmAV5yvo"
      }
    },
    {
      "cell_type": "code",
      "source": [
        "def window_input(window_length: int, data: pd.DataFrame) -> pd.DataFrame:\n",
        "  df = data.copy()\n",
        "\n",
        "  i = 1\n",
        "  while i < window_length:\n",
        "    df[f'x_{i}'] = df['co2'].shift(-i)\n",
        "    i = i + 1\n",
        "\n",
        "  if i == window_length:\n",
        "    df['y'] = df['co2'].shift(-i)\n",
        "\n",
        "  # drop rows where thers have NaN\n",
        "  df = df.dropna(axis=0)\n",
        "\n",
        "  return df"
      ],
      "metadata": {
        "id": "kpr3gciO50B4"
      },
      "execution_count": null,
      "outputs": []
    },
    {
      "cell_type": "code",
      "source": [
        "new_df = window_input(5, data)"
      ],
      "metadata": {
        "id": "ybYB7IVQ6xyY"
      },
      "execution_count": null,
      "outputs": []
    },
    {
      "cell_type": "code",
      "source": [
        "new_df"
      ],
      "metadata": {
        "colab": {
          "base_uri": "https://localhost:8080/",
          "height": 423
        },
        "id": "-PUdWR_664Pf",
        "outputId": "9dcb15cd-d9c9-410b-89a4-cac3334e0c35"
      },
      "execution_count": null,
      "outputs": [
        {
          "output_type": "execute_result",
          "data": {
            "text/plain": [
              "              co2    x_1    x_2    x_3    x_4       y\n",
              "1958-03-29  316.1  317.3  317.6  317.5  316.4  316.90\n",
              "1958-04-05  317.3  317.6  317.5  316.4  316.9  317.20\n",
              "1958-04-12  317.6  317.5  316.4  316.9  317.2  317.50\n",
              "1958-04-19  317.5  316.4  316.9  317.2  317.5  317.90\n",
              "1958-04-26  316.4  316.9  317.2  317.5  317.9  317.55\n",
              "...           ...    ...    ...    ...    ...     ...\n",
              "2001-10-27  368.7  368.7  368.8  369.7  370.3  370.30\n",
              "2001-11-03  368.7  368.8  369.7  370.3  370.3  370.80\n",
              "2001-11-10  368.8  369.7  370.3  370.3  370.8  371.20\n",
              "2001-11-17  369.7  370.3  370.3  370.8  371.2  371.30\n",
              "2001-11-24  370.3  370.3  370.8  371.2  371.3  371.50\n",
              "\n",
              "[2279 rows x 6 columns]"
            ],
            "text/html": [
              "\n",
              "  <div id=\"df-909c0381-23e7-4e9a-bb57-9139cb5d507b\">\n",
              "    <div class=\"colab-df-container\">\n",
              "      <div>\n",
              "<style scoped>\n",
              "    .dataframe tbody tr th:only-of-type {\n",
              "        vertical-align: middle;\n",
              "    }\n",
              "\n",
              "    .dataframe tbody tr th {\n",
              "        vertical-align: top;\n",
              "    }\n",
              "\n",
              "    .dataframe thead th {\n",
              "        text-align: right;\n",
              "    }\n",
              "</style>\n",
              "<table border=\"1\" class=\"dataframe\">\n",
              "  <thead>\n",
              "    <tr style=\"text-align: right;\">\n",
              "      <th></th>\n",
              "      <th>co2</th>\n",
              "      <th>x_1</th>\n",
              "      <th>x_2</th>\n",
              "      <th>x_3</th>\n",
              "      <th>x_4</th>\n",
              "      <th>y</th>\n",
              "    </tr>\n",
              "  </thead>\n",
              "  <tbody>\n",
              "    <tr>\n",
              "      <th>1958-03-29</th>\n",
              "      <td>316.1</td>\n",
              "      <td>317.3</td>\n",
              "      <td>317.6</td>\n",
              "      <td>317.5</td>\n",
              "      <td>316.4</td>\n",
              "      <td>316.90</td>\n",
              "    </tr>\n",
              "    <tr>\n",
              "      <th>1958-04-05</th>\n",
              "      <td>317.3</td>\n",
              "      <td>317.6</td>\n",
              "      <td>317.5</td>\n",
              "      <td>316.4</td>\n",
              "      <td>316.9</td>\n",
              "      <td>317.20</td>\n",
              "    </tr>\n",
              "    <tr>\n",
              "      <th>1958-04-12</th>\n",
              "      <td>317.6</td>\n",
              "      <td>317.5</td>\n",
              "      <td>316.4</td>\n",
              "      <td>316.9</td>\n",
              "      <td>317.2</td>\n",
              "      <td>317.50</td>\n",
              "    </tr>\n",
              "    <tr>\n",
              "      <th>1958-04-19</th>\n",
              "      <td>317.5</td>\n",
              "      <td>316.4</td>\n",
              "      <td>316.9</td>\n",
              "      <td>317.2</td>\n",
              "      <td>317.5</td>\n",
              "      <td>317.90</td>\n",
              "    </tr>\n",
              "    <tr>\n",
              "      <th>1958-04-26</th>\n",
              "      <td>316.4</td>\n",
              "      <td>316.9</td>\n",
              "      <td>317.2</td>\n",
              "      <td>317.5</td>\n",
              "      <td>317.9</td>\n",
              "      <td>317.55</td>\n",
              "    </tr>\n",
              "    <tr>\n",
              "      <th>...</th>\n",
              "      <td>...</td>\n",
              "      <td>...</td>\n",
              "      <td>...</td>\n",
              "      <td>...</td>\n",
              "      <td>...</td>\n",
              "      <td>...</td>\n",
              "    </tr>\n",
              "    <tr>\n",
              "      <th>2001-10-27</th>\n",
              "      <td>368.7</td>\n",
              "      <td>368.7</td>\n",
              "      <td>368.8</td>\n",
              "      <td>369.7</td>\n",
              "      <td>370.3</td>\n",
              "      <td>370.30</td>\n",
              "    </tr>\n",
              "    <tr>\n",
              "      <th>2001-11-03</th>\n",
              "      <td>368.7</td>\n",
              "      <td>368.8</td>\n",
              "      <td>369.7</td>\n",
              "      <td>370.3</td>\n",
              "      <td>370.3</td>\n",
              "      <td>370.80</td>\n",
              "    </tr>\n",
              "    <tr>\n",
              "      <th>2001-11-10</th>\n",
              "      <td>368.8</td>\n",
              "      <td>369.7</td>\n",
              "      <td>370.3</td>\n",
              "      <td>370.3</td>\n",
              "      <td>370.8</td>\n",
              "      <td>371.20</td>\n",
              "    </tr>\n",
              "    <tr>\n",
              "      <th>2001-11-17</th>\n",
              "      <td>369.7</td>\n",
              "      <td>370.3</td>\n",
              "      <td>370.3</td>\n",
              "      <td>370.8</td>\n",
              "      <td>371.2</td>\n",
              "      <td>371.30</td>\n",
              "    </tr>\n",
              "    <tr>\n",
              "      <th>2001-11-24</th>\n",
              "      <td>370.3</td>\n",
              "      <td>370.3</td>\n",
              "      <td>370.8</td>\n",
              "      <td>371.2</td>\n",
              "      <td>371.3</td>\n",
              "      <td>371.50</td>\n",
              "    </tr>\n",
              "  </tbody>\n",
              "</table>\n",
              "<p>2279 rows × 6 columns</p>\n",
              "</div>\n",
              "      <button class=\"colab-df-convert\" onclick=\"convertToInteractive('df-909c0381-23e7-4e9a-bb57-9139cb5d507b')\"\n",
              "              title=\"Convert this dataframe to an interactive table.\"\n",
              "              style=\"display:none;\">\n",
              "        \n",
              "  <svg xmlns=\"http://www.w3.org/2000/svg\" height=\"24px\"viewBox=\"0 0 24 24\"\n",
              "       width=\"24px\">\n",
              "    <path d=\"M0 0h24v24H0V0z\" fill=\"none\"/>\n",
              "    <path d=\"M18.56 5.44l.94 2.06.94-2.06 2.06-.94-2.06-.94-.94-2.06-.94 2.06-2.06.94zm-11 1L8.5 8.5l.94-2.06 2.06-.94-2.06-.94L8.5 2.5l-.94 2.06-2.06.94zm10 10l.94 2.06.94-2.06 2.06-.94-2.06-.94-.94-2.06-.94 2.06-2.06.94z\"/><path d=\"M17.41 7.96l-1.37-1.37c-.4-.4-.92-.59-1.43-.59-.52 0-1.04.2-1.43.59L10.3 9.45l-7.72 7.72c-.78.78-.78 2.05 0 2.83L4 21.41c.39.39.9.59 1.41.59.51 0 1.02-.2 1.41-.59l7.78-7.78 2.81-2.81c.8-.78.8-2.07 0-2.86zM5.41 20L4 18.59l7.72-7.72 1.47 1.35L5.41 20z\"/>\n",
              "  </svg>\n",
              "      </button>\n",
              "      \n",
              "  <style>\n",
              "    .colab-df-container {\n",
              "      display:flex;\n",
              "      flex-wrap:wrap;\n",
              "      gap: 12px;\n",
              "    }\n",
              "\n",
              "    .colab-df-convert {\n",
              "      background-color: #E8F0FE;\n",
              "      border: none;\n",
              "      border-radius: 50%;\n",
              "      cursor: pointer;\n",
              "      display: none;\n",
              "      fill: #1967D2;\n",
              "      height: 32px;\n",
              "      padding: 0 0 0 0;\n",
              "      width: 32px;\n",
              "    }\n",
              "\n",
              "    .colab-df-convert:hover {\n",
              "      background-color: #E2EBFA;\n",
              "      box-shadow: 0px 1px 2px rgba(60, 64, 67, 0.3), 0px 1px 3px 1px rgba(60, 64, 67, 0.15);\n",
              "      fill: #174EA6;\n",
              "    }\n",
              "\n",
              "    [theme=dark] .colab-df-convert {\n",
              "      background-color: #3B4455;\n",
              "      fill: #D2E3FC;\n",
              "    }\n",
              "\n",
              "    [theme=dark] .colab-df-convert:hover {\n",
              "      background-color: #434B5C;\n",
              "      box-shadow: 0px 1px 3px 1px rgba(0, 0, 0, 0.15);\n",
              "      filter: drop-shadow(0px 1px 2px rgba(0, 0, 0, 0.3));\n",
              "      fill: #FFFFFF;\n",
              "    }\n",
              "  </style>\n",
              "\n",
              "      <script>\n",
              "        const buttonEl =\n",
              "          document.querySelector('#df-909c0381-23e7-4e9a-bb57-9139cb5d507b button.colab-df-convert');\n",
              "        buttonEl.style.display =\n",
              "          google.colab.kernel.accessAllowed ? 'block' : 'none';\n",
              "\n",
              "        async function convertToInteractive(key) {\n",
              "          const element = document.querySelector('#df-909c0381-23e7-4e9a-bb57-9139cb5d507b');\n",
              "          const dataTable =\n",
              "            await google.colab.kernel.invokeFunction('convertToInteractive',\n",
              "                                                     [key], {});\n",
              "          if (!dataTable) return;\n",
              "\n",
              "          const docLinkHtml = 'Like what you see? Visit the ' +\n",
              "            '<a target=\"_blank\" href=https://colab.research.google.com/notebooks/data_table.ipynb>data table notebook</a>'\n",
              "            + ' to learn more about interactive tables.';\n",
              "          element.innerHTML = '';\n",
              "          dataTable['output_type'] = 'display_data';\n",
              "          await google.colab.output.renderOutput(dataTable, element);\n",
              "          const docLink = document.createElement('div');\n",
              "          docLink.innerHTML = docLinkHtml;\n",
              "          element.appendChild(docLink);\n",
              "        }\n",
              "      </script>\n",
              "    </div>\n",
              "  </div>\n",
              "  "
            ]
          },
          "metadata": {},
          "execution_count": 20
        }
      ]
    },
    {
      "cell_type": "markdown",
      "source": [
        "Split the data above into train and test set"
      ],
      "metadata": {
        "id": "-RBswt559i4i"
      }
    },
    {
      "cell_type": "code",
      "source": [
        "from sklearn.model_selection import train_test_split\n",
        "\n",
        "x = new_df[['co2', 'x_1', 'x_2', 'x_3', 'x_4']].values\n",
        "y = new_df['y'].values\n",
        "\n",
        "x_train, x_test, y_train, y_test = train_test_split(x,y, test_size = 0.3, random_state=42, shuffle=False)"
      ],
      "metadata": {
        "id": "XbSFHY3S9nSa"
      },
      "execution_count": null,
      "outputs": []
    },
    {
      "cell_type": "markdown",
      "source": [
        "# Baseline Model"
      ],
      "metadata": {
        "id": "ST6HZq9N-UDu"
      }
    },
    {
      "cell_type": "code",
      "source": [
        "baseline_pred = []\n",
        "\n",
        "for row in x_test:\n",
        "  baseline_pred.append(np.mean(row))"
      ],
      "metadata": {
        "id": "LHwwD6Wu-WeM"
      },
      "execution_count": null,
      "outputs": []
    },
    {
      "cell_type": "markdown",
      "source": [
        "# Decision Tree"
      ],
      "metadata": {
        "id": "T2oXqzVi-l_B"
      }
    },
    {
      "cell_type": "code",
      "source": [
        "dt_reg_5 = DecisionTreeRegressor(random_state=42)\n",
        "\n",
        "dt_reg_5.fit(x_train, y_train)\n",
        "\n",
        "dt_reg_5_pred = dt_reg_5.predict(x_test)"
      ],
      "metadata": {
        "id": "SqTMY01J-nzk"
      },
      "execution_count": null,
      "outputs": []
    },
    {
      "cell_type": "markdown",
      "source": [
        "# Gradient Boosting"
      ],
      "metadata": {
        "id": "wkPlYjLP-9yd"
      }
    },
    {
      "cell_type": "code",
      "source": [
        "gbr_5 = GradientBoostingRegressor(random_state=42)\n",
        "gbr_5.fit(x_train, y_train.ravel())\n",
        "gbr_5_pred = gbr_5.predict(x_test)"
      ],
      "metadata": {
        "id": "6Ej6gmnm_COk"
      },
      "execution_count": null,
      "outputs": []
    },
    {
      "cell_type": "markdown",
      "source": [
        "# Evaluation Using MAPE"
      ],
      "metadata": {
        "id": "g1hBwbqF_ZCt"
      }
    },
    {
      "cell_type": "code",
      "source": [
        "baseline_mape = mape(y_test, baseline_pred)\n",
        "dt_5_mape = mape(y_test, dt_reg_5_pred)\n",
        "gbr_5_mape = mape(y_test, gbr_5_pred)\n",
        "# Generate the bar plot\n",
        "fig, ax = plt.subplots()\n",
        "\n",
        "x = ['Baseline', 'Decision Tree', 'Gradient Boosting']\n",
        "y = [baseline_mape, dt_5_mape, gbr_5_mape]\n",
        "\n",
        "ax.bar(x, y, width=0.4)\n",
        "ax.set_xlabel('Regressor models')\n",
        "ax.set_ylabel('MAPE (%)')\n",
        "ax.set_ylim(0, 2.5)\n",
        "\n",
        "for index, value in enumerate(y):\n",
        "    plt.text(x=index, y=value + 0.1, s=str(value), ha='center')\n",
        "    \n",
        "plt.tight_layout()"
      ],
      "metadata": {
        "colab": {
          "base_uri": "https://localhost:8080/",
          "height": 487
        },
        "id": "WxiMG8nX_bxq",
        "outputId": "908c4422-a188-48c5-974e-303ba079f8ff"
      },
      "execution_count": null,
      "outputs": [
        {
          "output_type": "display_data",
          "data": {
            "text/plain": [
              "<Figure size 640x480 with 1 Axes>"
            ],
            "image/png": "[encoded data removed]"
          },
          "metadata": {}
        }
      ]
    },
    {
      "cell_type": "markdown",
      "source": [
        "# 3. Predict a sequence of future time steps using a sequence of past observations"
      ],
      "metadata": {
        "id": "Zgfs1Ww6_q5n"
      }
    },
    {
      "cell_type": "code",
      "source": [
        "def window_input_output(input_length: int, output_length: int, data: pd.DataFrame) -> pd.DataFrame:\n",
        "    \n",
        "    df = data.copy()\n",
        "    \n",
        "    i = 1\n",
        "    while i < input_length:\n",
        "        df[f'x_{i}'] = df['co2'].shift(-i)\n",
        "        i = i + 1\n",
        "        \n",
        "    j = 0\n",
        "    while j < output_length:\n",
        "        df[f'y_{j}'] = df['co2'].shift(-output_length-j)\n",
        "        j = j + 1\n",
        "        \n",
        "    df = df.dropna(axis=0)\n",
        "    \n",
        "    return df"
      ],
      "metadata": {
        "id": "Q0h4xdDf_s6O"
      },
      "execution_count": null,
      "outputs": []
    },
    {
      "cell_type": "code",
      "source": [
        "seq_df = window_input_output(26, 26, data)\n",
        "seq_df.head()"
      ],
      "metadata": {
        "colab": {
          "base_uri": "https://localhost:8080/",
          "height": 386
        },
        "id": "J1j4GAmk_w2g",
        "outputId": "0eb2e095-33db-4e54-99d8-d6ca541ee4e2"
      },
      "execution_count": null,
      "outputs": [
        {
          "output_type": "execute_result",
          "data": {
            "text/plain": [
              "              co2    x_1    x_2    x_3    x_4     x_5     x_6     x_7     x_8  \\\n",
              "1958-03-29  316.1  317.3  317.6  317.5  316.4  316.90  317.20  317.50  317.90   \n",
              "1958-04-05  317.3  317.6  317.5  316.4  316.9  317.20  317.50  317.90  317.55   \n",
              "1958-04-12  317.6  317.5  316.4  316.9  317.2  317.50  317.90  317.55  317.20   \n",
              "1958-04-19  317.5  316.4  316.9  317.2  317.5  317.90  317.55  317.20  316.85   \n",
              "1958-04-26  316.4  316.9  317.2  317.5  317.9  317.55  317.20  316.85  316.50   \n",
              "\n",
              "               x_9  ...    y_16    y_17    y_18    y_19    y_20    y_21  \\\n",
              "1958-03-29  317.55  ...  315.60  315.80  315.40  316.15  316.90  316.60   \n",
              "1958-04-05  317.20  ...  315.80  315.40  316.15  316.90  316.60  316.60   \n",
              "1958-04-12  316.85  ...  315.40  316.15  316.90  316.60  316.60  316.80   \n",
              "1958-04-19  316.50  ...  316.15  316.90  316.60  316.60  316.80  316.75   \n",
              "1958-04-26  316.15  ...  316.90  316.60  316.60  316.80  316.75  316.70   \n",
              "\n",
              "              y_22    y_23    y_24   y_25  \n",
              "1958-03-29  316.60  316.80  316.75  316.7  \n",
              "1958-04-05  316.80  316.75  316.70  316.7  \n",
              "1958-04-12  316.75  316.70  316.70  317.7  \n",
              "1958-04-19  316.70  316.70  317.70  317.1  \n",
              "1958-04-26  316.70  317.70  317.10  317.6  \n",
              "\n",
              "[5 rows x 52 columns]"
            ],
            "text/html": [
              "\n",
              "  <div id=\"df-9bac9029-9906-4ca9-b591-98baa5948951\">\n",
              "    <div class=\"colab-df-container\">\n",
              "      <div>\n",
              "<style scoped>\n",
              "    .dataframe tbody tr th:only-of-type {\n",
              "        vertical-align: middle;\n",
              "    }\n",
              "\n",
              "    .dataframe tbody tr th {\n",
              "        vertical-align: top;\n",
              "    }\n",
              "\n",
              "    .dataframe thead th {\n",
              "        text-align: right;\n",
              "    }\n",
              "</style>\n",
              "<table border=\"1\" class=\"dataframe\">\n",
              "  <thead>\n",
              "    <tr style=\"text-align: right;\">\n",
              "      <th></th>\n",
              "      <th>co2</th>\n",
              "      <th>x_1</th>\n",
              "      <th>x_2</th>\n",
              "      <th>x_3</th>\n",
              "      <th>x_4</th>\n",
              "      <th>x_5</th>\n",
              "      <th>x_6</th>\n",
              "      <th>x_7</th>\n",
              "      <th>x_8</th>\n",
              "      <th>x_9</th>\n",
              "      <th>...</th>\n",
              "      <th>y_16</th>\n",
              "      <th>y_17</th>\n",
              "      <th>y_18</th>\n",
              "      <th>y_19</th>\n",
              "      <th>y_20</th>\n",
              "      <th>y_21</th>\n",
              "      <th>y_22</th>\n",
              "      <th>y_23</th>\n",
              "      <th>y_24</th>\n",
              "      <th>y_25</th>\n",
              "    </tr>\n",
              "  </thead>\n",
              "  <tbody>\n",
              "    <tr>\n",
              "      <th>1958-03-29</th>\n",
              "      <td>316.1</td>\n",
              "      <td>317.3</td>\n",
              "      <td>317.6</td>\n",
              "      <td>317.5</td>\n",
              "      <td>316.4</td>\n",
              "      <td>316.90</td>\n",
              "      <td>317.20</td>\n",
              "      <td>317.50</td>\n",
              "      <td>317.90</td>\n",
              "      <td>317.55</td>\n",
              "      <td>...</td>\n",
              "      <td>315.60</td>\n",
              "      <td>315.80</td>\n",
              "      <td>315.40</td>\n",
              "      <td>316.15</td>\n",
              "      <td>316.90</td>\n",
              "      <td>316.60</td>\n",
              "      <td>316.60</td>\n",
              "      <td>316.80</td>\n",
              "      <td>316.75</td>\n",
              "      <td>316.7</td>\n",
              "    </tr>\n",
              "    <tr>\n",
              "      <th>1958-04-05</th>\n",
              "      <td>317.3</td>\n",
              "      <td>317.6</td>\n",
              "      <td>317.5</td>\n",
              "      <td>316.4</td>\n",
              "      <td>316.9</td>\n",
              "      <td>317.20</td>\n",
              "      <td>317.50</td>\n",
              "      <td>317.90</td>\n",
              "      <td>317.55</td>\n",
              "      <td>317.20</td>\n",
              "      <td>...</td>\n",
              "      <td>315.80</td>\n",
              "      <td>315.40</td>\n",
              "      <td>316.15</td>\n",
              "      <td>316.90</td>\n",
              "      <td>316.60</td>\n",
              "      <td>316.60</td>\n",
              "      <td>316.80</td>\n",
              "      <td>316.75</td>\n",
              "      <td>316.70</td>\n",
              "      <td>316.7</td>\n",
              "    </tr>\n",
              "    <tr>\n",
              "      <th>1958-04-12</th>\n",
              "      <td>317.6</td>\n",
              "      <td>317.5</td>\n",
              "      <td>316.4</td>\n",
              "      <td>316.9</td>\n",
              "      <td>317.2</td>\n",
              "      <td>317.50</td>\n",
              "      <td>317.90</td>\n",
              "      <td>317.55</td>\n",
              "      <td>317.20</td>\n",
              "      <td>316.85</td>\n",
              "      <td>...</td>\n",
              "      <td>315.40</td>\n",
              "      <td>316.15</td>\n",
              "      <td>316.90</td>\n",
              "      <td>316.60</td>\n",
              "      <td>316.60</td>\n",
              "      <td>316.80</td>\n",
              "      <td>316.75</td>\n",
              "      <td>316.70</td>\n",
              "      <td>316.70</td>\n",
              "      <td>317.7</td>\n",
              "    </tr>\n",
              "    <tr>\n",
              "      <th>1958-04-19</th>\n",
              "      <td>317.5</td>\n",
              "      <td>316.4</td>\n",
              "      <td>316.9</td>\n",
              "      <td>317.2</td>\n",
              "      <td>317.5</td>\n",
              "      <td>317.90</td>\n",
              "      <td>317.55</td>\n",
              "      <td>317.20</td>\n",
              "      <td>316.85</td>\n",
              "      <td>316.50</td>\n",
              "      <td>...</td>\n",
              "      <td>316.15</td>\n",
              "      <td>316.90</td>\n",
              "      <td>316.60</td>\n",
              "      <td>316.60</td>\n",
              "      <td>316.80</td>\n",
              "      <td>316.75</td>\n",
              "      <td>316.70</td>\n",
              "      <td>316.70</td>\n",
              "      <td>317.70</td>\n",
              "      <td>317.1</td>\n",
              "    </tr>\n",
              "    <tr>\n",
              "      <th>1958-04-26</th>\n",
              "      <td>316.4</td>\n",
              "      <td>316.9</td>\n",
              "      <td>317.2</td>\n",
              "      <td>317.5</td>\n",
              "      <td>317.9</td>\n",
              "      <td>317.55</td>\n",
              "      <td>317.20</td>\n",
              "      <td>316.85</td>\n",
              "      <td>316.50</td>\n",
              "      <td>316.15</td>\n",
              "      <td>...</td>\n",
              "      <td>316.90</td>\n",
              "      <td>316.60</td>\n",
              "      <td>316.60</td>\n",
              "      <td>316.80</td>\n",
              "      <td>316.75</td>\n",
              "      <td>316.70</td>\n",
              "      <td>316.70</td>\n",
              "      <td>317.70</td>\n",
              "      <td>317.10</td>\n",
              "      <td>317.6</td>\n",
              "    </tr>\n",
              "  </tbody>\n",
              "</table>\n",
              "<p>5 rows × 52 columns</p>\n",
              "</div>\n",
              "      <button class=\"colab-df-convert\" onclick=\"convertToInteractive('df-9bac9029-9906-4ca9-b591-98baa5948951')\"\n",
              "              title=\"Convert this dataframe to an interactive table.\"\n",
              "              style=\"display:none;\">\n",
              "        \n",
              "  <svg xmlns=\"http://www.w3.org/2000/svg\" height=\"24px\"viewBox=\"0 0 24 24\"\n",
              "       width=\"24px\">\n",
              "    <path d=\"M0 0h24v24H0V0z\" fill=\"none\"/>\n",
              "    <path d=\"M18.56 5.44l.94 2.06.94-2.06 2.06-.94-2.06-.94-.94-2.06-.94 2.06-2.06.94zm-11 1L8.5 8.5l.94-2.06 2.06-.94-2.06-.94L8.5 2.5l-.94 2.06-2.06.94zm10 10l.94 2.06.94-2.06 2.06-.94-2.06-.94-.94-2.06-.94 2.06-2.06.94z\"/><path d=\"M17.41 7.96l-1.37-1.37c-.4-.4-.92-.59-1.43-.59-.52 0-1.04.2-1.43.59L10.3 9.45l-7.72 7.72c-.78.78-.78 2.05 0 2.83L4 21.41c.39.39.9.59 1.41.59.51 0 1.02-.2 1.41-.59l7.78-7.78 2.81-2.81c.8-.78.8-2.07 0-2.86zM5.41 20L4 18.59l7.72-7.72 1.47 1.35L5.41 20z\"/>\n",
              "  </svg>\n",
              "      </button>\n",
              "      \n",
              "  <style>\n",
              "    .colab-df-container {\n",
              "      display:flex;\n",
              "      flex-wrap:wrap;\n",
              "      gap: 12px;\n",
              "    }\n",
              "\n",
              "    .colab-df-convert {\n",
              "      background-color: #E8F0FE;\n",
              "      border: none;\n",
              "      border-radius: 50%;\n",
              "      cursor: pointer;\n",
              "      display: none;\n",
              "      fill: #1967D2;\n",
              "      height: 32px;\n",
              "      padding: 0 0 0 0;\n",
              "      width: 32px;\n",
              "    }\n",
              "\n",
              "    .colab-df-convert:hover {\n",
              "      background-color: #E2EBFA;\n",
              "      box-shadow: 0px 1px 2px rgba(60, 64, 67, 0.3), 0px 1px 3px 1px rgba(60, 64, 67, 0.15);\n",
              "      fill: #174EA6;\n",
              "    }\n",
              "\n",
              "    [theme=dark] .colab-df-convert {\n",
              "      background-color: #3B4455;\n",
              "      fill: #D2E3FC;\n",
              "    }\n",
              "\n",
              "    [theme=dark] .colab-df-convert:hover {\n",
              "      background-color: #434B5C;\n",
              "      box-shadow: 0px 1px 3px 1px rgba(0, 0, 0, 0.15);\n",
              "      filter: drop-shadow(0px 1px 2px rgba(0, 0, 0, 0.3));\n",
              "      fill: #FFFFFF;\n",
              "    }\n",
              "  </style>\n",
              "\n",
              "      <script>\n",
              "        const buttonEl =\n",
              "          document.querySelector('#df-9bac9029-9906-4ca9-b591-98baa5948951 button.colab-df-convert');\n",
              "        buttonEl.style.display =\n",
              "          google.colab.kernel.accessAllowed ? 'block' : 'none';\n",
              "\n",
              "        async function convertToInteractive(key) {\n",
              "          const element = document.querySelector('#df-9bac9029-9906-4ca9-b591-98baa5948951');\n",
              "          const dataTable =\n",
              "            await google.colab.kernel.invokeFunction('convertToInteractive',\n",
              "                                                     [key], {});\n",
              "          if (!dataTable) return;\n",
              "\n",
              "          const docLinkHtml = 'Like what you see? Visit the ' +\n",
              "            '<a target=\"_blank\" href=https://colab.research.google.com/notebooks/data_table.ipynb>data table notebook</a>'\n",
              "            + ' to learn more about interactive tables.';\n",
              "          element.innerHTML = '';\n",
              "          dataTable['output_type'] = 'display_data';\n",
              "          await google.colab.output.renderOutput(dataTable, element);\n",
              "          const docLink = document.createElement('div');\n",
              "          docLink.innerHTML = docLinkHtml;\n",
              "          element.appendChild(docLink);\n",
              "        }\n",
              "      </script>\n",
              "    </div>\n",
              "  </div>\n",
              "  "
            ]
          },
          "metadata": {},
          "execution_count": 27
        }
      ]
    },
    {
      "cell_type": "markdown",
      "source": [
        "**Before moving on to modeling, again, we will split the data into a training and a test set. Here, we reserve the last two rows for the test set, as it gives us 52 test samples.**"
      ],
      "metadata": {
        "id": "iVHWTF78AAUF"
      }
    },
    {
      "cell_type": "code",
      "source": [
        "X_cols = [col for col in seq_df.columns if col.startswith('x')]\n",
        "\n",
        "X_cols.insert(0, 'co2')\n",
        "\n",
        "y_cols = [col for col in seq_df.columns if col.startswith('y')]"
      ],
      "metadata": {
        "id": "Wq505fNJ_9SM"
      },
      "execution_count": null,
      "outputs": []
    },
    {
      "cell_type": "code",
      "source": [
        "X_train = seq_df[X_cols][:-2].values\n",
        "y_train = seq_df[y_cols][:-2].values\n",
        "\n",
        "X_test = seq_df[X_cols][-2:].values\n",
        "y_test = seq_df[y_cols][-2:].values"
      ],
      "metadata": {
        "id": "IYxuPOxhBUJZ"
      },
      "execution_count": null,
      "outputs": []
    },
    {
      "cell_type": "markdown",
      "source": [
        "**Decision Tree**"
      ],
      "metadata": {
        "id": "MWkzT0GhAcPc"
      }
    },
    {
      "cell_type": "code",
      "source": [
        "dt_seq = DecisionTreeRegressor(random_state=42)\n",
        "\n",
        "dt_seq.fit(X_train, y_train)\n",
        "\n",
        "dt_seq_preds = dt_seq.predict(X_test)"
      ],
      "metadata": {
        "id": "vjWTp72PAe20"
      },
      "execution_count": null,
      "outputs": []
    },
    {
      "cell_type": "markdown",
      "source": [
        "**Gradient Boostin**"
      ],
      "metadata": {
        "id": "jsw0XlK3Bjoo"
      }
    },
    {
      "cell_type": "code",
      "source": [
        "from sklearn.multioutput import RegressorChain\n",
        "\n",
        "gbr_seq = GradientBoostingRegressor(random_state=42)\n",
        "\n",
        "chained_gbr = RegressorChain(gbr_seq)\n",
        "\n",
        "chained_gbr.fit(X_train, y_train)\n",
        "\n",
        "gbr_seq_preds = chained_gbr.predict(X_test)"
      ],
      "metadata": {
        "id": "ZbxRNYroBl1L"
      },
      "execution_count": null,
      "outputs": []
    },
    {
      "cell_type": "markdown",
      "source": [
        "# **EVALUATION MODEL AGAIN**"
      ],
      "metadata": {
        "id": "fjDM-Z_1Cd0v"
      }
    },
    {
      "cell_type": "code",
      "source": [
        "mape_dt_seq = mape(dt_seq_preds.reshape(1, -1), y_test.reshape(1, -1))\n",
        "mape_gbr_seq = mape(gbr_seq_preds.reshape(1, -1), y_test.reshape(1, -1))\n",
        "mape_baseline = mape(X_test.reshape(1, -1), y_test.reshape(1, -1))\n",
        "# Generate the bar plot\n",
        "fig, ax = plt.subplots()\n",
        "\n",
        "x = ['Baseline', 'Decision Tree', 'Gradient Boosting']\n",
        "y = [mape_baseline, mape_dt_seq, mape_gbr_seq]\n",
        "\n",
        "ax.bar(x, y, width=0.4)\n",
        "ax.set_xlabel('Regressor models')\n",
        "ax.set_ylabel('MAPE (%)')\n",
        "ax.set_ylim(0, 1)\n",
        "\n",
        "for index, value in enumerate(y):\n",
        "    plt.text(x=index, y=value + 0.05, s=str(value), ha='center')\n",
        "    \n",
        "plt.tight_layout()"
      ],
      "metadata": {
        "colab": {
          "base_uri": "https://localhost:8080/",
          "height": 487
        },
        "id": "VY_7zHUfCl5D",
        "outputId": "42137a8d-1c56-4475-8aae-e9e37f3fe49a"
      },
      "execution_count": null,
      "outputs": [
        {
          "output_type": "display_data",
          "data": {
            "text/plain": [
              "<Figure size 640x480 with 1 Axes>"
            ],
            "image/png": "[encoded data removed]"
          },
          "metadata": {}
        }
      ]
    },
    {
      "cell_type": "markdown",
      "source": [
        "**From the figure above, we can see that we finally managed to train ML models that outperform the baseline! Here, the decision tree model is the champion model, as it achieves the lowest MAPE.**\n",
        "\n",
        "We optionally visualize the predictions over the last year.**"
      ],
      "metadata": {
        "id": "Mdkly45UCseR"
      }
    },
    {
      "cell_type": "code",
      "source": [
        "fig, ax = plt.subplots(figsize=(16, 11))\n",
        "ax.plot(np.arange(0, 26, 1), X_test[1], 'b-', label='input')\n",
        "ax.plot(np.arange(26, 52, 1), y_test[1], marker='.', color='blue', label='Actual')\n",
        "ax.plot(np.arange(26, 52, 1), X_test[1], marker='o', color='red', label='Baseline')\n",
        "ax.plot(np.arange(26, 52, 1), dt_seq_preds[1], marker='^', color='green', label='Decision Tree')\n",
        "ax.plot(np.arange(26, 52, 1), gbr_seq_preds[1], marker='P', color='black', label='Gradient Boosting')\n",
        "ax.set_xlabel('Timesteps')\n",
        "ax.set_ylabel('CO2 concentration (ppmv)')\n",
        "plt.xticks(np.arange(1, 104, 52), np.arange(2000, 2002, 1))\n",
        "plt.legend(loc=2)\n",
        "fig.autofmt_xdate()\n",
        "plt.tight_layout()"
      ],
      "metadata": {
        "colab": {
          "base_uri": "https://localhost:8080/",
          "height": 1000
        },
        "id": "_kdF7cBFC2U4",
        "outputId": "19d32c1f-8652-4d87-fbe5-dc4d20ee954f"
      },
      "execution_count": null,
      "outputs": [
        {
          "output_type": "display_data",
          "data": {
            "text/plain": [
              "<Figure size 1600x1100 with 1 Axes>"
            ],
            "image/png": "[encoded data removed]"
          },
          "metadata": {}
        }
      ]
    },
    {
      "cell_type": "code",
      "source": [
        "import pandas as pd\n",
        "import numpy as np\n",
        "import matplotlib.pyplot as plt\n",
        "from statsmodels.tsa.arima.model import ARIMA\n",
        "\n",
        "# Create a pandas DataFrame with the provided data\n",
        "data = pd.DataFrame({\n",
        "    'Year': [1996, 1997, 1998, 1999, 2000],\n",
        "    'Total': [50332047.0, 55982040.0, 58504660.0, 62108239.0, 67105675.0],\n",
        "    'y': [55982040.0, 58504660.0, 62108239.0, 67105675.0, 71072961.0]\n",
        "})\n",
        "\n",
        "# Set the 'Year' column as the index\n",
        "data.set_index('Year', inplace=True)\n",
        "\n",
        "# Fit the ARIMA model\n",
        "model = ARIMA(data['y'], order=(1, 0, 0))  # Adjust the order if needed\n",
        "model_fit = model.fit()\n",
        "\n",
        "# Generate predictions\n",
        "predictions = model_fit.predict(start=len(data), end=len(data) + 5)  # Adjust the number of predictions as needed\n",
        "\n",
        "# Visualize the actual data and predictions\n",
        "plt.plot(data['y'], label='Actual')\n",
        "plt.plot(predictions, label='Predicted')\n",
        "plt.xlabel('Year')\n",
        "plt.ylabel('Value')\n",
        "plt.title('Actual vs Predicted Data')\n",
        "plt.legend()\n",
        "plt.show()\n"
      ],
      "metadata": {
        "colab": {
          "base_uri": "https://localhost:8080/",
          "height": 631
        },
        "id": "SyHpKY2l42Z3",
        "outputId": "bb29aa90-9f2f-4746-d558-d64331537abb"
      },
      "execution_count": null,
      "outputs": [
        {
          "output_type": "stream",
          "name": "stderr",
          "text": [
            "/usr/local/lib/python3.10/dist-packages/statsmodels/tsa/base/tsa_model.py:471: ValueWarning: An unsupported index was provided and will be ignored when e.g. forecasting.\n",
            "  self._init_dates(dates, freq)\n",
            "/usr/local/lib/python3.10/dist-packages/statsmodels/tsa/base/tsa_model.py:471: ValueWarning: An unsupported index was provided and will be ignored when e.g. forecasting.\n",
            "  self._init_dates(dates, freq)\n",
            "/usr/local/lib/python3.10/dist-packages/statsmodels/tsa/base/tsa_model.py:471: ValueWarning: An unsupported index was provided and will be ignored when e.g. forecasting.\n",
            "  self._init_dates(dates, freq)\n",
            "/usr/local/lib/python3.10/dist-packages/statsmodels/tsa/base/tsa_model.py:834: ValueWarning: No supported index is available. Prediction results will be given with an integer index beginning at `start`.\n",
            "  return get_prediction_index(\n"
          ]
        },
        {
          "output_type": "display_data",
          "data": {
            "text/plain": [
              "<Figure size 640x480 with 1 Axes>"
            ],
            "image/png": "[encoded data removed]"
          },
          "metadata": {}
        }
      ]
    }
  ]
}