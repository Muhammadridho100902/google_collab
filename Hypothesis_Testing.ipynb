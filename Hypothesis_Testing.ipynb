{
  "nbformat": 4,
  "nbformat_minor": 0,
  "metadata": {
    "colab": {
      "provenance": [],
      "authorship_tag": "ABX9TyN6tqVs0kptwODvcpQ3vfd4",
      "include_colab_link": true
    },
    "kernelspec": {
      "name": "python3",
      "display_name": "Python 3"
    },
    "language_info": {
      "name": "python"
    }
  },
  "cells": [
    {
      "cell_type": "markdown",
      "metadata": {
        "id": "view-in-github",
        "colab_type": "text"
      },
      "source": [
        "<a href=\"https://colab.research.google.com/github/Muhammadridho100902/google_collab/blob/main/Hypothesis_Testing.ipynb\" target=\"_parent\"><img src=\"https://colab.research.google.com/assets/colab-badge.svg\" alt=\"Open In Colab\"/></a>"
      ]
    },
    {
      "cell_type": "markdown",
      "source": [
        "# One Tailed Test"
      ],
      "metadata": {
        "id": "ZEQd6DI_qmwy"
      }
    },
    {
      "cell_type": "code",
      "execution_count": 32,
      "metadata": {
        "colab": {
          "base_uri": "https://localhost:8080/"
        },
        "id": "BbOpxJsKo17k",
        "outputId": "3133fce4-d0a6-43ac-d17f-cea033daeb24"
      },
      "outputs": [
        {
          "output_type": "execute_result",
          "data": {
            "text/plain": [
              "270.0"
            ]
          },
          "metadata": {},
          "execution_count": 32
        }
      ],
      "source": [
        "import scipy.stats as stats\n",
        "import numpy as np\n",
        "\n",
        "data = [300, 100, 200, 400, 500, 120]\n",
        "np.mean([data])"
      ]
    },
    {
      "cell_type": "markdown",
      "source": [
        "H0 : Average speed from bikes on hills is 270\n",
        "\n",
        "H1 : Average speed from bikes on hills is  not 270"
      ],
      "metadata": {
        "id": "h8HGVlbKpXjK"
      }
    },
    {
      "cell_type": "code",
      "source": [
        "ttest, pvalue = stats.ttest_1samp(data, popmean=270)\n",
        "\n",
        "if pvalue > 0.05:\n",
        "  print('We fail reject H0, Average speed from bikes on hills is 270')\n",
        "else:\n",
        "  print('We success reject H0, Average speed from bikes on hills is not 270')"
      ],
      "metadata": {
        "colab": {
          "base_uri": "https://localhost:8080/"
        },
        "id": "C9-cnbCqpQPH",
        "outputId": "6db85632-311b-4790-8f8a-33f1cd796169"
      },
      "execution_count": 33,
      "outputs": [
        {
          "output_type": "stream",
          "name": "stdout",
          "text": [
            "We fail reject H0, Average speed from bikes on hills is 270\n"
          ]
        }
      ]
    },
    {
      "cell_type": "markdown",
      "source": [
        "# Two Tailed Test"
      ],
      "metadata": {
        "id": "SSJPpUusqrY6"
      }
    },
    {
      "cell_type": "code",
      "source": [
        "A = [1000, 2000, 3000, 4000, 5000]\n",
        "B = [100, 200, 300, 400, 500]"
      ],
      "metadata": {
        "id": "yy3Cyf3mqtpj"
      },
      "execution_count": 34,
      "outputs": []
    },
    {
      "cell_type": "markdown",
      "source": [
        "H0 : Average data a = Average data b\n",
        "\n",
        "H1 : Average data a != Average data b"
      ],
      "metadata": {
        "id": "-vUZSOfNrBSM"
      }
    },
    {
      "cell_type": "code",
      "source": [
        "ttest, pvalue = stats.ttest_ind(A, B)\n",
        "\n",
        "if pvalue > 0.05:\n",
        "  print(f'We fail reject H0, the p-value {pvalue}. Average data a is equal to Average data b')\n",
        "else:\n",
        "  print(f'We success reject H0, the p-value {pvalue}. Average data a is not equal to Average data b')"
      ],
      "metadata": {
        "colab": {
          "base_uri": "https://localhost:8080/"
        },
        "id": "JLehrPXSrL-h",
        "outputId": "bde5a978-8c9c-4d6f-b8d0-ae9ea58c9e61"
      },
      "execution_count": 35,
      "outputs": [
        {
          "output_type": "stream",
          "name": "stdout",
          "text": [
            "We success reject H0, the p-value 0.005240940516978861. Average data a is not equal to Average data b\n"
          ]
        }
      ]
    },
    {
      "cell_type": "markdown",
      "source": [
        "## Using Trims for Extream Values"
      ],
      "metadata": {
        "id": "F9dUsqOs6S4a"
      }
    },
    {
      "cell_type": "code",
      "source": [
        "a = (56, 128.6, 12, 123.8, 64.34, 78, 763.3)\n",
        "b = (1.1, 2.9, 4.2)\n",
        "\n",
        "ttest_result = stats.ttest_ind(a, b, trim=.2)\n",
        "\n",
        "if ttest_result.pvalue > 0.05:\n",
        "  print(f'We fail reject H0, the p-value {ttest_result.pvalue}. The Mean Top Speed Lancer IX Before Remap and After Remap is Equal')\n",
        "else:\n",
        "  print(f'We success reject H0, the p-value {ttest_result.pvalue}. The Mean Top Speed Lancer IX Before Remap and After Remap is not Equal')"
      ],
      "metadata": {
        "colab": {
          "base_uri": "https://localhost:8080/"
        },
        "id": "NqmBBqduvqJA",
        "outputId": "f171f68e-de76-4084-abc6-67690a6ecb06"
      },
      "execution_count": 36,
      "outputs": [
        {
          "output_type": "stream",
          "name": "stdout",
          "text": [
            "We success reject H0, the p-value 0.01369338726499547. The Mean Top Speed Lancer IX Before Remap and After Remap is not Equal\n"
          ]
        }
      ]
    },
    {
      "cell_type": "code",
      "source": [
        "# This Explained how the trims work on 20% data like i used aboved\n",
        "\n",
        "a = np.array([56, 128.6, 12, 123.8, 64.34, 78, 763.3])\n",
        "b = np.array([1.1, 2.9, 4.2])\n",
        "\n",
        "# Sort the data on each variable, to see the data on ascending\n",
        "a_sorted = np.sort(a)\n",
        "b_sorted = np.sort(b)\n",
        "\n",
        "print(a_sorted)\n",
        "print(b_sorted)"
      ],
      "metadata": {
        "colab": {
          "base_uri": "https://localhost:8080/"
        },
        "id": "5GaCq85E43Sh",
        "outputId": "b45a0f4c-51b7-4a79-d306-3aa4630e1748"
      },
      "execution_count": 37,
      "outputs": [
        {
          "output_type": "stream",
          "name": "stdout",
          "text": [
            "[ 12.    56.    64.34  78.   123.8  128.6  763.3 ]\n",
            "[1.1 2.9 4.2]\n"
          ]
        }
      ]
    },
    {
      "cell_type": "code",
      "source": [
        "# The data will be cut before the ttest work.\n",
        "# Which mean, 20% from min value dan 20% from max value will be remove on each sample\n",
        "\n",
        "trim_percentage = 0.2\n",
        "a_trimmed = a_sorted[int(trim_percentage * len(a_sorted)):int((1 - trim_percentage) * len(a_sorted))]\n",
        "b_trimmed = b_sorted[int(trim_percentage * len(b_sorted)):int((1 - trim_percentage) * len(b_sorted))]\n",
        "\n",
        "print(a_trimmed)\n",
        "print(b_trimmed)\n",
        "\n",
        "# After this trim, we can using the ttest for the hypothesis testing"
      ],
      "metadata": {
        "colab": {
          "base_uri": "https://localhost:8080/"
        },
        "id": "_3pkcWjc5D1w",
        "outputId": "44c68fef-cb3c-43f1-eb30-253d6b23ad9e"
      },
      "execution_count": 38,
      "outputs": [
        {
          "output_type": "stream",
          "name": "stdout",
          "text": [
            "[ 56.    64.34  78.   123.8 ]\n",
            "[1.1 2.9]\n"
          ]
        }
      ]
    },
    {
      "cell_type": "markdown",
      "source": [
        "# Paired Sample Test"
      ],
      "metadata": {
        "id": "L5uPuLcwsqvu"
      }
    },
    {
      "cell_type": "markdown",
      "source": [
        "H0 : The Mean Top Speed Lancer IX Before Remap and After Remap is Equal\n",
        "\n",
        "H1 : The Mean Top Speed Lancer IX Before Remap and After Remap is not Equal"
      ],
      "metadata": {
        "id": "Fh0VzCb6tHd5"
      }
    },
    {
      "cell_type": "code",
      "source": [
        "before_remap = [200, 220, 240, 260, 280, 300]\n",
        "after_remap = [310, 315, 330, 350, 360, 390]"
      ],
      "metadata": {
        "id": "ncCb8PhMsu_p"
      },
      "execution_count": 39,
      "outputs": []
    },
    {
      "cell_type": "code",
      "source": [
        "ttest_result = stats.ttest_rel(before_remap, after_remap)\n",
        "\n",
        "if ttest_result.pvalue > 0.05:\n",
        "  print(f'We fail reject H0, the p-value {ttest_result.pvalue}. The Mean Top Speed Lancer IX Before Remap and After Remap is Equal')\n",
        "else:\n",
        "  print(f'We success reject H0, the p-value {ttest_result.pvalue}. The Mean Top Speed Lancer IX Before Remap and After Remap is not Equal')"
      ],
      "metadata": {
        "colab": {
          "base_uri": "https://localhost:8080/"
        },
        "id": "3lQJsVgtth-Y",
        "outputId": "f8e6d6e2-4db9-417b-9f70-c816861faa80"
      },
      "execution_count": 40,
      "outputs": [
        {
          "output_type": "stream",
          "name": "stdout",
          "text": [
            "We success reject H0, the p-value 2.923692748089711e-06. The Mean Top Speed Lancer IX Before Remap and After Remap is not Equal\n"
          ]
        }
      ]
    }
  ]
}