{
  "nbformat": 4,
  "nbformat_minor": 0,
  "metadata": {
    "colab": {
      "provenance": [],
      "authorship_tag": "ABX9TyPk+f23iJyJgMDEdk/7rsEZ",
      "include_colab_link": true
    },
    "kernelspec": {
      "name": "python3",
      "display_name": "Python 3"
    },
    "language_info": {
      "name": "python"
    }
  },
  "cells": [
    {
      "cell_type": "markdown",
      "metadata": {
        "id": "view-in-github",
        "colab_type": "text"
      },
      "source": [
        "<a href=\"https://colab.research.google.com/github/Muhammadridho100902/google_collab/blob/main/A_B_Testing_of_Themes.ipynb\" target=\"_parent\"><img src=\"https://colab.research.google.com/assets/colab-badge.svg\" alt=\"Open In Colab\"/></a>"
      ]
    },
    {
      "cell_type": "markdown",
      "source": [
        "An online bookstore is looking to optimize its website design to improve user engagement and ultimately increase book purchases. The website currently offers two themes for its users: “Light Theme” and “Dark Theme.” The bookstore’s data science team wants to conduct an A/B testing experiment to determine which theme leads to better user engagement and higher conversion rates for book purchases.\n",
        "\n",
        "The data collected by the bookstore contains user interactions and engagement metrics for both the Light Theme and Dark Theme. The dataset includes the following key features:\n",
        "\n",
        "1. Theme: dark or light\n",
        "2. Click Through Rate: The proportion of the users who click on links or buttons on the website.\n",
        "3. Conversion Rate: The percentage of users who signed up on the platform after visiting for the first time.\n",
        "4. Bounce Rate: The percentage of users who leave the website without further interaction after visiting a single page.\n",
        "5. Scroll Depth: The depth to which users scroll through the website pages.\n",
        "6. Age: The age of the user.\n",
        "7. Location: The location of the user.\n",
        "8. Session Duration: The duration of the user’s session on the website.\n",
        "9. Purchases: Whether the user purchased the book (Yes/No).\n",
        "10. Added_to_Cart: Whether the user added books to the cart (Yes/No)."
      ],
      "metadata": {
        "id": "3VslOjxBJhFD"
      }
    },
    {
      "cell_type": "code",
      "execution_count": 1,
      "metadata": {
        "id": "c_F22DsQIzx0"
      },
      "outputs": [],
      "source": [
        "import pandas as pd\n",
        "import plotly.express as px\n",
        "import plotly.graph_objects as go\n",
        "from statsmodels.stats.proportion import proportions_ztest\n",
        "from scipy import stats"
      ]
    },
    {
      "cell_type": "code",
      "source": [
        "data = pd.read_csv('/content/website_ab_test.csv')\n",
        "data.head()"
      ],
      "metadata": {
        "colab": {
          "base_uri": "https://localhost:8080/",
          "height": 206
        },
        "id": "WRYDmihwJ7mV",
        "outputId": "4d589a6f-464d-4597-8dda-31529ba0c9cd"
      },
      "execution_count": 2,
      "outputs": [
        {
          "output_type": "execute_result",
          "data": {
            "text/plain": [
              "         Theme  Click Through Rate  Conversion Rate  Bounce Rate  \\\n",
              "0  Light Theme            0.054920         0.282367     0.405085   \n",
              "1  Light Theme            0.113932         0.032973     0.732759   \n",
              "2   Dark Theme            0.323352         0.178763     0.296543   \n",
              "3  Light Theme            0.485836         0.325225     0.245001   \n",
              "4  Light Theme            0.034783         0.196766     0.765100   \n",
              "\n",
              "   Scroll_Depth  Age   Location  Session_Duration Purchases Added_to_Cart  \n",
              "0     72.489458   25    Chennai              1535        No           Yes  \n",
              "1     61.858568   19       Pune               303        No           Yes  \n",
              "2     45.737376   47    Chennai               563       Yes           Yes  \n",
              "3     76.305298   58       Pune               385       Yes            No  \n",
              "4     48.927407   25  New Delhi              1437        No            No  "
            ],
            "text/html": [
              "\n",
              "  <div id=\"df-61749c15-08ca-4211-89ef-ff34e65c502a\" class=\"colab-df-container\">\n",
              "    <div>\n",
              "<style scoped>\n",
              "    .dataframe tbody tr th:only-of-type {\n",
              "        vertical-align: middle;\n",
              "    }\n",
              "\n",
              "    .dataframe tbody tr th {\n",
              "        vertical-align: top;\n",
              "    }\n",
              "\n",
              "    .dataframe thead th {\n",
              "        text-align: right;\n",
              "    }\n",
              "</style>\n",
              "<table border=\"1\" class=\"dataframe\">\n",
              "  <thead>\n",
              "    <tr style=\"text-align: right;\">\n",
              "      <th></th>\n",
              "      <th>Theme</th>\n",
              "      <th>Click Through Rate</th>\n",
              "      <th>Conversion Rate</th>\n",
              "      <th>Bounce Rate</th>\n",
              "      <th>Scroll_Depth</th>\n",
              "      <th>Age</th>\n",
              "      <th>Location</th>\n",
              "      <th>Session_Duration</th>\n",
              "      <th>Purchases</th>\n",
              "      <th>Added_to_Cart</th>\n",
              "    </tr>\n",
              "  </thead>\n",
              "  <tbody>\n",
              "    <tr>\n",
              "      <th>0</th>\n",
              "      <td>Light Theme</td>\n",
              "      <td>0.054920</td>\n",
              "      <td>0.282367</td>\n",
              "      <td>0.405085</td>\n",
              "      <td>72.489458</td>\n",
              "      <td>25</td>\n",
              "      <td>Chennai</td>\n",
              "      <td>1535</td>\n",
              "      <td>No</td>\n",
              "      <td>Yes</td>\n",
              "    </tr>\n",
              "    <tr>\n",
              "      <th>1</th>\n",
              "      <td>Light Theme</td>\n",
              "      <td>0.113932</td>\n",
              "      <td>0.032973</td>\n",
              "      <td>0.732759</td>\n",
              "      <td>61.858568</td>\n",
              "      <td>19</td>\n",
              "      <td>Pune</td>\n",
              "      <td>303</td>\n",
              "      <td>No</td>\n",
              "      <td>Yes</td>\n",
              "    </tr>\n",
              "    <tr>\n",
              "      <th>2</th>\n",
              "      <td>Dark Theme</td>\n",
              "      <td>0.323352</td>\n",
              "      <td>0.178763</td>\n",
              "      <td>0.296543</td>\n",
              "      <td>45.737376</td>\n",
              "      <td>47</td>\n",
              "      <td>Chennai</td>\n",
              "      <td>563</td>\n",
              "      <td>Yes</td>\n",
              "      <td>Yes</td>\n",
              "    </tr>\n",
              "    <tr>\n",
              "      <th>3</th>\n",
              "      <td>Light Theme</td>\n",
              "      <td>0.485836</td>\n",
              "      <td>0.325225</td>\n",
              "      <td>0.245001</td>\n",
              "      <td>76.305298</td>\n",
              "      <td>58</td>\n",
              "      <td>Pune</td>\n",
              "      <td>385</td>\n",
              "      <td>Yes</td>\n",
              "      <td>No</td>\n",
              "    </tr>\n",
              "    <tr>\n",
              "      <th>4</th>\n",
              "      <td>Light Theme</td>\n",
              "      <td>0.034783</td>\n",
              "      <td>0.196766</td>\n",
              "      <td>0.765100</td>\n",
              "      <td>48.927407</td>\n",
              "      <td>25</td>\n",
              "      <td>New Delhi</td>\n",
              "      <td>1437</td>\n",
              "      <td>No</td>\n",
              "      <td>No</td>\n",
              "    </tr>\n",
              "  </tbody>\n",
              "</table>\n",
              "</div>\n",
              "    <div class=\"colab-df-buttons\">\n",
              "\n",
              "  <div class=\"colab-df-container\">\n",
              "    <button class=\"colab-df-convert\" onclick=\"convertToInteractive('df-61749c15-08ca-4211-89ef-ff34e65c502a')\"\n",
              "            title=\"Convert this dataframe to an interactive table.\"\n",
              "            style=\"display:none;\">\n",
              "\n",
              "  <svg xmlns=\"http://www.w3.org/2000/svg\" height=\"24px\" viewBox=\"0 -960 960 960\">\n",
              "    <path d=\"M120-120v-720h720v720H120Zm60-500h600v-160H180v160Zm220 220h160v-160H400v160Zm0 220h160v-160H400v160ZM180-400h160v-160H180v160Zm440 0h160v-160H620v160ZM180-180h160v-160H180v160Zm440 0h160v-160H620v160Z\"/>\n",
              "  </svg>\n",
              "    </button>\n",
              "\n",
              "  <style>\n",
              "    .colab-df-container {\n",
              "      display:flex;\n",
              "      gap: 12px;\n",
              "    }\n",
              "\n",
              "    .colab-df-convert {\n",
              "      background-color: #E8F0FE;\n",
              "      border: none;\n",
              "      border-radius: 50%;\n",
              "      cursor: pointer;\n",
              "      display: none;\n",
              "      fill: #1967D2;\n",
              "      height: 32px;\n",
              "      padding: 0 0 0 0;\n",
              "      width: 32px;\n",
              "    }\n",
              "\n",
              "    .colab-df-convert:hover {\n",
              "      background-color: #E2EBFA;\n",
              "      box-shadow: 0px 1px 2px rgba(60, 64, 67, 0.3), 0px 1px 3px 1px rgba(60, 64, 67, 0.15);\n",
              "      fill: #174EA6;\n",
              "    }\n",
              "\n",
              "    .colab-df-buttons div {\n",
              "      margin-bottom: 4px;\n",
              "    }\n",
              "\n",
              "    [theme=dark] .colab-df-convert {\n",
              "      background-color: #3B4455;\n",
              "      fill: #D2E3FC;\n",
              "    }\n",
              "\n",
              "    [theme=dark] .colab-df-convert:hover {\n",
              "      background-color: #434B5C;\n",
              "      box-shadow: 0px 1px 3px 1px rgba(0, 0, 0, 0.15);\n",
              "      filter: drop-shadow(0px 1px 2px rgba(0, 0, 0, 0.3));\n",
              "      fill: #FFFFFF;\n",
              "    }\n",
              "  </style>\n",
              "\n",
              "    <script>\n",
              "      const buttonEl =\n",
              "        document.querySelector('#df-61749c15-08ca-4211-89ef-ff34e65c502a button.colab-df-convert');\n",
              "      buttonEl.style.display =\n",
              "        google.colab.kernel.accessAllowed ? 'block' : 'none';\n",
              "\n",
              "      async function convertToInteractive(key) {\n",
              "        const element = document.querySelector('#df-61749c15-08ca-4211-89ef-ff34e65c502a');\n",
              "        const dataTable =\n",
              "          await google.colab.kernel.invokeFunction('convertToInteractive',\n",
              "                                                    [key], {});\n",
              "        if (!dataTable) return;\n",
              "\n",
              "        const docLinkHtml = 'Like what you see? Visit the ' +\n",
              "          '<a target=\"_blank\" href=https://colab.research.google.com/notebooks/data_table.ipynb>data table notebook</a>'\n",
              "          + ' to learn more about interactive tables.';\n",
              "        element.innerHTML = '';\n",
              "        dataTable['output_type'] = 'display_data';\n",
              "        await google.colab.output.renderOutput(dataTable, element);\n",
              "        const docLink = document.createElement('div');\n",
              "        docLink.innerHTML = docLinkHtml;\n",
              "        element.appendChild(docLink);\n",
              "      }\n",
              "    </script>\n",
              "  </div>\n",
              "\n",
              "\n",
              "<div id=\"df-2ebb3942-758d-4ac6-a55a-2b5f0edcdfc6\">\n",
              "  <button class=\"colab-df-quickchart\" onclick=\"quickchart('df-2ebb3942-758d-4ac6-a55a-2b5f0edcdfc6')\"\n",
              "            title=\"Suggest charts.\"\n",
              "            style=\"display:none;\">\n",
              "\n",
              "<svg xmlns=\"http://www.w3.org/2000/svg\" height=\"24px\"viewBox=\"0 0 24 24\"\n",
              "     width=\"24px\">\n",
              "    <g>\n",
              "        <path d=\"M19 3H5c-1.1 0-2 .9-2 2v14c0 1.1.9 2 2 2h14c1.1 0 2-.9 2-2V5c0-1.1-.9-2-2-2zM9 17H7v-7h2v7zm4 0h-2V7h2v10zm4 0h-2v-4h2v4z\"/>\n",
              "    </g>\n",
              "</svg>\n",
              "  </button>\n",
              "\n",
              "<style>\n",
              "  .colab-df-quickchart {\n",
              "      --bg-color: #E8F0FE;\n",
              "      --fill-color: #1967D2;\n",
              "      --hover-bg-color: #E2EBFA;\n",
              "      --hover-fill-color: #174EA6;\n",
              "      --disabled-fill-color: #AAA;\n",
              "      --disabled-bg-color: #DDD;\n",
              "  }\n",
              "\n",
              "  [theme=dark] .colab-df-quickchart {\n",
              "      --bg-color: #3B4455;\n",
              "      --fill-color: #D2E3FC;\n",
              "      --hover-bg-color: #434B5C;\n",
              "      --hover-fill-color: #FFFFFF;\n",
              "      --disabled-bg-color: #3B4455;\n",
              "      --disabled-fill-color: #666;\n",
              "  }\n",
              "\n",
              "  .colab-df-quickchart {\n",
              "    background-color: var(--bg-color);\n",
              "    border: none;\n",
              "    border-radius: 50%;\n",
              "    cursor: pointer;\n",
              "    display: none;\n",
              "    fill: var(--fill-color);\n",
              "    height: 32px;\n",
              "    padding: 0;\n",
              "    width: 32px;\n",
              "  }\n",
              "\n",
              "  .colab-df-quickchart:hover {\n",
              "    background-color: var(--hover-bg-color);\n",
              "    box-shadow: 0 1px 2px rgba(60, 64, 67, 0.3), 0 1px 3px 1px rgba(60, 64, 67, 0.15);\n",
              "    fill: var(--button-hover-fill-color);\n",
              "  }\n",
              "\n",
              "  .colab-df-quickchart-complete:disabled,\n",
              "  .colab-df-quickchart-complete:disabled:hover {\n",
              "    background-color: var(--disabled-bg-color);\n",
              "    fill: var(--disabled-fill-color);\n",
              "    box-shadow: none;\n",
              "  }\n",
              "\n",
              "  .colab-df-spinner {\n",
              "    border: 2px solid var(--fill-color);\n",
              "    border-color: transparent;\n",
              "    border-bottom-color: var(--fill-color);\n",
              "    animation:\n",
              "      spin 1s steps(1) infinite;\n",
              "  }\n",
              "\n",
              "  @keyframes spin {\n",
              "    0% {\n",
              "      border-color: transparent;\n",
              "      border-bottom-color: var(--fill-color);\n",
              "      border-left-color: var(--fill-color);\n",
              "    }\n",
              "    20% {\n",
              "      border-color: transparent;\n",
              "      border-left-color: var(--fill-color);\n",
              "      border-top-color: var(--fill-color);\n",
              "    }\n",
              "    30% {\n",
              "      border-color: transparent;\n",
              "      border-left-color: var(--fill-color);\n",
              "      border-top-color: var(--fill-color);\n",
              "      border-right-color: var(--fill-color);\n",
              "    }\n",
              "    40% {\n",
              "      border-color: transparent;\n",
              "      border-right-color: var(--fill-color);\n",
              "      border-top-color: var(--fill-color);\n",
              "    }\n",
              "    60% {\n",
              "      border-color: transparent;\n",
              "      border-right-color: var(--fill-color);\n",
              "    }\n",
              "    80% {\n",
              "      border-color: transparent;\n",
              "      border-right-color: var(--fill-color);\n",
              "      border-bottom-color: var(--fill-color);\n",
              "    }\n",
              "    90% {\n",
              "      border-color: transparent;\n",
              "      border-bottom-color: var(--fill-color);\n",
              "    }\n",
              "  }\n",
              "</style>\n",
              "\n",
              "  <script>\n",
              "    async function quickchart(key) {\n",
              "      const quickchartButtonEl =\n",
              "        document.querySelector('#' + key + ' button');\n",
              "      quickchartButtonEl.disabled = true;  // To prevent multiple clicks.\n",
              "      quickchartButtonEl.classList.add('colab-df-spinner');\n",
              "      try {\n",
              "        const charts = await google.colab.kernel.invokeFunction(\n",
              "            'suggestCharts', [key], {});\n",
              "      } catch (error) {\n",
              "        console.error('Error during call to suggestCharts:', error);\n",
              "      }\n",
              "      quickchartButtonEl.classList.remove('colab-df-spinner');\n",
              "      quickchartButtonEl.classList.add('colab-df-quickchart-complete');\n",
              "    }\n",
              "    (() => {\n",
              "      let quickchartButtonEl =\n",
              "        document.querySelector('#df-2ebb3942-758d-4ac6-a55a-2b5f0edcdfc6 button');\n",
              "      quickchartButtonEl.style.display =\n",
              "        google.colab.kernel.accessAllowed ? 'block' : 'none';\n",
              "    })();\n",
              "  </script>\n",
              "</div>\n",
              "    </div>\n",
              "  </div>\n"
            ]
          },
          "metadata": {},
          "execution_count": 2
        }
      ]
    },
    {
      "cell_type": "code",
      "source": [
        "data.info()"
      ],
      "metadata": {
        "colab": {
          "base_uri": "https://localhost:8080/"
        },
        "id": "gSwaytFZKDEo",
        "outputId": "0e1e0702-6221-4496-d285-b956e20d9f5a"
      },
      "execution_count": 3,
      "outputs": [
        {
          "output_type": "stream",
          "name": "stdout",
          "text": [
            "<class 'pandas.core.frame.DataFrame'>\n",
            "RangeIndex: 1000 entries, 0 to 999\n",
            "Data columns (total 10 columns):\n",
            " #   Column              Non-Null Count  Dtype  \n",
            "---  ------              --------------  -----  \n",
            " 0   Theme               1000 non-null   object \n",
            " 1   Click Through Rate  1000 non-null   float64\n",
            " 2   Conversion Rate     1000 non-null   float64\n",
            " 3   Bounce Rate         1000 non-null   float64\n",
            " 4   Scroll_Depth        1000 non-null   float64\n",
            " 5   Age                 1000 non-null   int64  \n",
            " 6   Location            1000 non-null   object \n",
            " 7   Session_Duration    1000 non-null   int64  \n",
            " 8   Purchases           1000 non-null   object \n",
            " 9   Added_to_Cart       1000 non-null   object \n",
            "dtypes: float64(4), int64(2), object(4)\n",
            "memory usage: 78.2+ KB\n"
          ]
        }
      ]
    },
    {
      "cell_type": "code",
      "source": [
        "data.describe()"
      ],
      "metadata": {
        "colab": {
          "base_uri": "https://localhost:8080/",
          "height": 300
        },
        "id": "HNbBms4HKKEq",
        "outputId": "d154b667-0a6b-4329-e06d-09cca1e3dbb4"
      },
      "execution_count": 4,
      "outputs": [
        {
          "output_type": "execute_result",
          "data": {
            "text/plain": [
              "       Click Through Rate  Conversion Rate  Bounce Rate  Scroll_Depth  \\\n",
              "count         1000.000000      1000.000000  1000.000000   1000.000000   \n",
              "mean             0.256048         0.253312     0.505758     50.319494   \n",
              "std              0.139265         0.139092     0.172195     16.895269   \n",
              "min              0.010767         0.010881     0.200720     20.011738   \n",
              "25%              0.140794         0.131564     0.353609     35.655167   \n",
              "50%              0.253715         0.252823     0.514049     51.130712   \n",
              "75%              0.370674         0.373040     0.648557     64.666258   \n",
              "max              0.499989         0.498916     0.799658     79.997108   \n",
              "\n",
              "               Age  Session_Duration  \n",
              "count  1000.000000       1000.000000  \n",
              "mean     41.528000        924.999000  \n",
              "std      14.114334        508.231723  \n",
              "min      18.000000         38.000000  \n",
              "25%      29.000000        466.500000  \n",
              "50%      42.000000        931.000000  \n",
              "75%      54.000000       1375.250000  \n",
              "max      65.000000       1797.000000  "
            ],
            "text/html": [
              "\n",
              "  <div id=\"df-eaf79231-5465-414f-90fb-93652ac22e82\" class=\"colab-df-container\">\n",
              "    <div>\n",
              "<style scoped>\n",
              "    .dataframe tbody tr th:only-of-type {\n",
              "        vertical-align: middle;\n",
              "    }\n",
              "\n",
              "    .dataframe tbody tr th {\n",
              "        vertical-align: top;\n",
              "    }\n",
              "\n",
              "    .dataframe thead th {\n",
              "        text-align: right;\n",
              "    }\n",
              "</style>\n",
              "<table border=\"1\" class=\"dataframe\">\n",
              "  <thead>\n",
              "    <tr style=\"text-align: right;\">\n",
              "      <th></th>\n",
              "      <th>Click Through Rate</th>\n",
              "      <th>Conversion Rate</th>\n",
              "      <th>Bounce Rate</th>\n",
              "      <th>Scroll_Depth</th>\n",
              "      <th>Age</th>\n",
              "      <th>Session_Duration</th>\n",
              "    </tr>\n",
              "  </thead>\n",
              "  <tbody>\n",
              "    <tr>\n",
              "      <th>count</th>\n",
              "      <td>1000.000000</td>\n",
              "      <td>1000.000000</td>\n",
              "      <td>1000.000000</td>\n",
              "      <td>1000.000000</td>\n",
              "      <td>1000.000000</td>\n",
              "      <td>1000.000000</td>\n",
              "    </tr>\n",
              "    <tr>\n",
              "      <th>mean</th>\n",
              "      <td>0.256048</td>\n",
              "      <td>0.253312</td>\n",
              "      <td>0.505758</td>\n",
              "      <td>50.319494</td>\n",
              "      <td>41.528000</td>\n",
              "      <td>924.999000</td>\n",
              "    </tr>\n",
              "    <tr>\n",
              "      <th>std</th>\n",
              "      <td>0.139265</td>\n",
              "      <td>0.139092</td>\n",
              "      <td>0.172195</td>\n",
              "      <td>16.895269</td>\n",
              "      <td>14.114334</td>\n",
              "      <td>508.231723</td>\n",
              "    </tr>\n",
              "    <tr>\n",
              "      <th>min</th>\n",
              "      <td>0.010767</td>\n",
              "      <td>0.010881</td>\n",
              "      <td>0.200720</td>\n",
              "      <td>20.011738</td>\n",
              "      <td>18.000000</td>\n",
              "      <td>38.000000</td>\n",
              "    </tr>\n",
              "    <tr>\n",
              "      <th>25%</th>\n",
              "      <td>0.140794</td>\n",
              "      <td>0.131564</td>\n",
              "      <td>0.353609</td>\n",
              "      <td>35.655167</td>\n",
              "      <td>29.000000</td>\n",
              "      <td>466.500000</td>\n",
              "    </tr>\n",
              "    <tr>\n",
              "      <th>50%</th>\n",
              "      <td>0.253715</td>\n",
              "      <td>0.252823</td>\n",
              "      <td>0.514049</td>\n",
              "      <td>51.130712</td>\n",
              "      <td>42.000000</td>\n",
              "      <td>931.000000</td>\n",
              "    </tr>\n",
              "    <tr>\n",
              "      <th>75%</th>\n",
              "      <td>0.370674</td>\n",
              "      <td>0.373040</td>\n",
              "      <td>0.648557</td>\n",
              "      <td>64.666258</td>\n",
              "      <td>54.000000</td>\n",
              "      <td>1375.250000</td>\n",
              "    </tr>\n",
              "    <tr>\n",
              "      <th>max</th>\n",
              "      <td>0.499989</td>\n",
              "      <td>0.498916</td>\n",
              "      <td>0.799658</td>\n",
              "      <td>79.997108</td>\n",
              "      <td>65.000000</td>\n",
              "      <td>1797.000000</td>\n",
              "    </tr>\n",
              "  </tbody>\n",
              "</table>\n",
              "</div>\n",
              "    <div class=\"colab-df-buttons\">\n",
              "\n",
              "  <div class=\"colab-df-container\">\n",
              "    <button class=\"colab-df-convert\" onclick=\"convertToInteractive('df-eaf79231-5465-414f-90fb-93652ac22e82')\"\n",
              "            title=\"Convert this dataframe to an interactive table.\"\n",
              "            style=\"display:none;\">\n",
              "\n",
              "  <svg xmlns=\"http://www.w3.org/2000/svg\" height=\"24px\" viewBox=\"0 -960 960 960\">\n",
              "    <path d=\"M120-120v-720h720v720H120Zm60-500h600v-160H180v160Zm220 220h160v-160H400v160Zm0 220h160v-160H400v160ZM180-400h160v-160H180v160Zm440 0h160v-160H620v160ZM180-180h160v-160H180v160Zm440 0h160v-160H620v160Z\"/>\n",
              "  </svg>\n",
              "    </button>\n",
              "\n",
              "  <style>\n",
              "    .colab-df-container {\n",
              "      display:flex;\n",
              "      gap: 12px;\n",
              "    }\n",
              "\n",
              "    .colab-df-convert {\n",
              "      background-color: #E8F0FE;\n",
              "      border: none;\n",
              "      border-radius: 50%;\n",
              "      cursor: pointer;\n",
              "      display: none;\n",
              "      fill: #1967D2;\n",
              "      height: 32px;\n",
              "      padding: 0 0 0 0;\n",
              "      width: 32px;\n",
              "    }\n",
              "\n",
              "    .colab-df-convert:hover {\n",
              "      background-color: #E2EBFA;\n",
              "      box-shadow: 0px 1px 2px rgba(60, 64, 67, 0.3), 0px 1px 3px 1px rgba(60, 64, 67, 0.15);\n",
              "      fill: #174EA6;\n",
              "    }\n",
              "\n",
              "    .colab-df-buttons div {\n",
              "      margin-bottom: 4px;\n",
              "    }\n",
              "\n",
              "    [theme=dark] .colab-df-convert {\n",
              "      background-color: #3B4455;\n",
              "      fill: #D2E3FC;\n",
              "    }\n",
              "\n",
              "    [theme=dark] .colab-df-convert:hover {\n",
              "      background-color: #434B5C;\n",
              "      box-shadow: 0px 1px 3px 1px rgba(0, 0, 0, 0.15);\n",
              "      filter: drop-shadow(0px 1px 2px rgba(0, 0, 0, 0.3));\n",
              "      fill: #FFFFFF;\n",
              "    }\n",
              "  </style>\n",
              "\n",
              "    <script>\n",
              "      const buttonEl =\n",
              "        document.querySelector('#df-eaf79231-5465-414f-90fb-93652ac22e82 button.colab-df-convert');\n",
              "      buttonEl.style.display =\n",
              "        google.colab.kernel.accessAllowed ? 'block' : 'none';\n",
              "\n",
              "      async function convertToInteractive(key) {\n",
              "        const element = document.querySelector('#df-eaf79231-5465-414f-90fb-93652ac22e82');\n",
              "        const dataTable =\n",
              "          await google.colab.kernel.invokeFunction('convertToInteractive',\n",
              "                                                    [key], {});\n",
              "        if (!dataTable) return;\n",
              "\n",
              "        const docLinkHtml = 'Like what you see? Visit the ' +\n",
              "          '<a target=\"_blank\" href=https://colab.research.google.com/notebooks/data_table.ipynb>data table notebook</a>'\n",
              "          + ' to learn more about interactive tables.';\n",
              "        element.innerHTML = '';\n",
              "        dataTable['output_type'] = 'display_data';\n",
              "        await google.colab.output.renderOutput(dataTable, element);\n",
              "        const docLink = document.createElement('div');\n",
              "        docLink.innerHTML = docLinkHtml;\n",
              "        element.appendChild(docLink);\n",
              "      }\n",
              "    </script>\n",
              "  </div>\n",
              "\n",
              "\n",
              "<div id=\"df-bbf457da-a32d-4aff-b4c4-3152a3744082\">\n",
              "  <button class=\"colab-df-quickchart\" onclick=\"quickchart('df-bbf457da-a32d-4aff-b4c4-3152a3744082')\"\n",
              "            title=\"Suggest charts.\"\n",
              "            style=\"display:none;\">\n",
              "\n",
              "<svg xmlns=\"http://www.w3.org/2000/svg\" height=\"24px\"viewBox=\"0 0 24 24\"\n",
              "     width=\"24px\">\n",
              "    <g>\n",
              "        <path d=\"M19 3H5c-1.1 0-2 .9-2 2v14c0 1.1.9 2 2 2h14c1.1 0 2-.9 2-2V5c0-1.1-.9-2-2-2zM9 17H7v-7h2v7zm4 0h-2V7h2v10zm4 0h-2v-4h2v4z\"/>\n",
              "    </g>\n",
              "</svg>\n",
              "  </button>\n",
              "\n",
              "<style>\n",
              "  .colab-df-quickchart {\n",
              "      --bg-color: #E8F0FE;\n",
              "      --fill-color: #1967D2;\n",
              "      --hover-bg-color: #E2EBFA;\n",
              "      --hover-fill-color: #174EA6;\n",
              "      --disabled-fill-color: #AAA;\n",
              "      --disabled-bg-color: #DDD;\n",
              "  }\n",
              "\n",
              "  [theme=dark] .colab-df-quickchart {\n",
              "      --bg-color: #3B4455;\n",
              "      --fill-color: #D2E3FC;\n",
              "      --hover-bg-color: #434B5C;\n",
              "      --hover-fill-color: #FFFFFF;\n",
              "      --disabled-bg-color: #3B4455;\n",
              "      --disabled-fill-color: #666;\n",
              "  }\n",
              "\n",
              "  .colab-df-quickchart {\n",
              "    background-color: var(--bg-color);\n",
              "    border: none;\n",
              "    border-radius: 50%;\n",
              "    cursor: pointer;\n",
              "    display: none;\n",
              "    fill: var(--fill-color);\n",
              "    height: 32px;\n",
              "    padding: 0;\n",
              "    width: 32px;\n",
              "  }\n",
              "\n",
              "  .colab-df-quickchart:hover {\n",
              "    background-color: var(--hover-bg-color);\n",
              "    box-shadow: 0 1px 2px rgba(60, 64, 67, 0.3), 0 1px 3px 1px rgba(60, 64, 67, 0.15);\n",
              "    fill: var(--button-hover-fill-color);\n",
              "  }\n",
              "\n",
              "  .colab-df-quickchart-complete:disabled,\n",
              "  .colab-df-quickchart-complete:disabled:hover {\n",
              "    background-color: var(--disabled-bg-color);\n",
              "    fill: var(--disabled-fill-color);\n",
              "    box-shadow: none;\n",
              "  }\n",
              "\n",
              "  .colab-df-spinner {\n",
              "    border: 2px solid var(--fill-color);\n",
              "    border-color: transparent;\n",
              "    border-bottom-color: var(--fill-color);\n",
              "    animation:\n",
              "      spin 1s steps(1) infinite;\n",
              "  }\n",
              "\n",
              "  @keyframes spin {\n",
              "    0% {\n",
              "      border-color: transparent;\n",
              "      border-bottom-color: var(--fill-color);\n",
              "      border-left-color: var(--fill-color);\n",
              "    }\n",
              "    20% {\n",
              "      border-color: transparent;\n",
              "      border-left-color: var(--fill-color);\n",
              "      border-top-color: var(--fill-color);\n",
              "    }\n",
              "    30% {\n",
              "      border-color: transparent;\n",
              "      border-left-color: var(--fill-color);\n",
              "      border-top-color: var(--fill-color);\n",
              "      border-right-color: var(--fill-color);\n",
              "    }\n",
              "    40% {\n",
              "      border-color: transparent;\n",
              "      border-right-color: var(--fill-color);\n",
              "      border-top-color: var(--fill-color);\n",
              "    }\n",
              "    60% {\n",
              "      border-color: transparent;\n",
              "      border-right-color: var(--fill-color);\n",
              "    }\n",
              "    80% {\n",
              "      border-color: transparent;\n",
              "      border-right-color: var(--fill-color);\n",
              "      border-bottom-color: var(--fill-color);\n",
              "    }\n",
              "    90% {\n",
              "      border-color: transparent;\n",
              "      border-bottom-color: var(--fill-color);\n",
              "    }\n",
              "  }\n",
              "</style>\n",
              "\n",
              "  <script>\n",
              "    async function quickchart(key) {\n",
              "      const quickchartButtonEl =\n",
              "        document.querySelector('#' + key + ' button');\n",
              "      quickchartButtonEl.disabled = true;  // To prevent multiple clicks.\n",
              "      quickchartButtonEl.classList.add('colab-df-spinner');\n",
              "      try {\n",
              "        const charts = await google.colab.kernel.invokeFunction(\n",
              "            'suggestCharts', [key], {});\n",
              "      } catch (error) {\n",
              "        console.error('Error during call to suggestCharts:', error);\n",
              "      }\n",
              "      quickchartButtonEl.classList.remove('colab-df-spinner');\n",
              "      quickchartButtonEl.classList.add('colab-df-quickchart-complete');\n",
              "    }\n",
              "    (() => {\n",
              "      let quickchartButtonEl =\n",
              "        document.querySelector('#df-bbf457da-a32d-4aff-b4c4-3152a3744082 button');\n",
              "      quickchartButtonEl.style.display =\n",
              "        google.colab.kernel.accessAllowed ? 'block' : 'none';\n",
              "    })();\n",
              "  </script>\n",
              "</div>\n",
              "    </div>\n",
              "  </div>\n"
            ]
          },
          "metadata": {},
          "execution_count": 4
        }
      ]
    },
    {
      "cell_type": "code",
      "source": [
        "data.isnull().sum()"
      ],
      "metadata": {
        "colab": {
          "base_uri": "https://localhost:8080/"
        },
        "id": "AlZdcHFsKPY3",
        "outputId": "a103a7fd-ed4a-4f22-8138-3512250fc323"
      },
      "execution_count": 5,
      "outputs": [
        {
          "output_type": "execute_result",
          "data": {
            "text/plain": [
              "Theme                 0\n",
              "Click Through Rate    0\n",
              "Conversion Rate       0\n",
              "Bounce Rate           0\n",
              "Scroll_Depth          0\n",
              "Age                   0\n",
              "Location              0\n",
              "Session_Duration      0\n",
              "Purchases             0\n",
              "Added_to_Cart         0\n",
              "dtype: int64"
            ]
          },
          "metadata": {},
          "execution_count": 5
        }
      ]
    },
    {
      "cell_type": "code",
      "source": [
        "data.duplicated().sum()"
      ],
      "metadata": {
        "colab": {
          "base_uri": "https://localhost:8080/"
        },
        "id": "Dy93Y430KS7z",
        "outputId": "42a74c2a-1a6e-419f-b51d-3d05fb6a6247"
      },
      "execution_count": 6,
      "outputs": [
        {
          "output_type": "execute_result",
          "data": {
            "text/plain": [
              "0"
            ]
          },
          "metadata": {},
          "execution_count": 6
        }
      ]
    },
    {
      "cell_type": "code",
      "source": [
        "data.head()"
      ],
      "metadata": {
        "colab": {
          "base_uri": "https://localhost:8080/",
          "height": 206
        },
        "id": "KmEovWGhKWVo",
        "outputId": "423f380a-a7d7-4bbe-e39a-e658061b18fd"
      },
      "execution_count": 7,
      "outputs": [
        {
          "output_type": "execute_result",
          "data": {
            "text/plain": [
              "         Theme  Click Through Rate  Conversion Rate  Bounce Rate  \\\n",
              "0  Light Theme            0.054920         0.282367     0.405085   \n",
              "1  Light Theme            0.113932         0.032973     0.732759   \n",
              "2   Dark Theme            0.323352         0.178763     0.296543   \n",
              "3  Light Theme            0.485836         0.325225     0.245001   \n",
              "4  Light Theme            0.034783         0.196766     0.765100   \n",
              "\n",
              "   Scroll_Depth  Age   Location  Session_Duration Purchases Added_to_Cart  \n",
              "0     72.489458   25    Chennai              1535        No           Yes  \n",
              "1     61.858568   19       Pune               303        No           Yes  \n",
              "2     45.737376   47    Chennai               563       Yes           Yes  \n",
              "3     76.305298   58       Pune               385       Yes            No  \n",
              "4     48.927407   25  New Delhi              1437        No            No  "
            ],
            "text/html": [
              "\n",
              "  <div id=\"df-744d3a80-2bfe-4dac-aee5-f62eb7dc3c61\" class=\"colab-df-container\">\n",
              "    <div>\n",
              "<style scoped>\n",
              "    .dataframe tbody tr th:only-of-type {\n",
              "        vertical-align: middle;\n",
              "    }\n",
              "\n",
              "    .dataframe tbody tr th {\n",
              "        vertical-align: top;\n",
              "    }\n",
              "\n",
              "    .dataframe thead th {\n",
              "        text-align: right;\n",
              "    }\n",
              "</style>\n",
              "<table border=\"1\" class=\"dataframe\">\n",
              "  <thead>\n",
              "    <tr style=\"text-align: right;\">\n",
              "      <th></th>\n",
              "      <th>Theme</th>\n",
              "      <th>Click Through Rate</th>\n",
              "      <th>Conversion Rate</th>\n",
              "      <th>Bounce Rate</th>\n",
              "      <th>Scroll_Depth</th>\n",
              "      <th>Age</th>\n",
              "      <th>Location</th>\n",
              "      <th>Session_Duration</th>\n",
              "      <th>Purchases</th>\n",
              "      <th>Added_to_Cart</th>\n",
              "    </tr>\n",
              "  </thead>\n",
              "  <tbody>\n",
              "    <tr>\n",
              "      <th>0</th>\n",
              "      <td>Light Theme</td>\n",
              "      <td>0.054920</td>\n",
              "      <td>0.282367</td>\n",
              "      <td>0.405085</td>\n",
              "      <td>72.489458</td>\n",
              "      <td>25</td>\n",
              "      <td>Chennai</td>\n",
              "      <td>1535</td>\n",
              "      <td>No</td>\n",
              "      <td>Yes</td>\n",
              "    </tr>\n",
              "    <tr>\n",
              "      <th>1</th>\n",
              "      <td>Light Theme</td>\n",
              "      <td>0.113932</td>\n",
              "      <td>0.032973</td>\n",
              "      <td>0.732759</td>\n",
              "      <td>61.858568</td>\n",
              "      <td>19</td>\n",
              "      <td>Pune</td>\n",
              "      <td>303</td>\n",
              "      <td>No</td>\n",
              "      <td>Yes</td>\n",
              "    </tr>\n",
              "    <tr>\n",
              "      <th>2</th>\n",
              "      <td>Dark Theme</td>\n",
              "      <td>0.323352</td>\n",
              "      <td>0.178763</td>\n",
              "      <td>0.296543</td>\n",
              "      <td>45.737376</td>\n",
              "      <td>47</td>\n",
              "      <td>Chennai</td>\n",
              "      <td>563</td>\n",
              "      <td>Yes</td>\n",
              "      <td>Yes</td>\n",
              "    </tr>\n",
              "    <tr>\n",
              "      <th>3</th>\n",
              "      <td>Light Theme</td>\n",
              "      <td>0.485836</td>\n",
              "      <td>0.325225</td>\n",
              "      <td>0.245001</td>\n",
              "      <td>76.305298</td>\n",
              "      <td>58</td>\n",
              "      <td>Pune</td>\n",
              "      <td>385</td>\n",
              "      <td>Yes</td>\n",
              "      <td>No</td>\n",
              "    </tr>\n",
              "    <tr>\n",
              "      <th>4</th>\n",
              "      <td>Light Theme</td>\n",
              "      <td>0.034783</td>\n",
              "      <td>0.196766</td>\n",
              "      <td>0.765100</td>\n",
              "      <td>48.927407</td>\n",
              "      <td>25</td>\n",
              "      <td>New Delhi</td>\n",
              "      <td>1437</td>\n",
              "      <td>No</td>\n",
              "      <td>No</td>\n",
              "    </tr>\n",
              "  </tbody>\n",
              "</table>\n",
              "</div>\n",
              "    <div class=\"colab-df-buttons\">\n",
              "\n",
              "  <div class=\"colab-df-container\">\n",
              "    <button class=\"colab-df-convert\" onclick=\"convertToInteractive('df-744d3a80-2bfe-4dac-aee5-f62eb7dc3c61')\"\n",
              "            title=\"Convert this dataframe to an interactive table.\"\n",
              "            style=\"display:none;\">\n",
              "\n",
              "  <svg xmlns=\"http://www.w3.org/2000/svg\" height=\"24px\" viewBox=\"0 -960 960 960\">\n",
              "    <path d=\"M120-120v-720h720v720H120Zm60-500h600v-160H180v160Zm220 220h160v-160H400v160Zm0 220h160v-160H400v160ZM180-400h160v-160H180v160Zm440 0h160v-160H620v160ZM180-180h160v-160H180v160Zm440 0h160v-160H620v160Z\"/>\n",
              "  </svg>\n",
              "    </button>\n",
              "\n",
              "  <style>\n",
              "    .colab-df-container {\n",
              "      display:flex;\n",
              "      gap: 12px;\n",
              "    }\n",
              "\n",
              "    .colab-df-convert {\n",
              "      background-color: #E8F0FE;\n",
              "      border: none;\n",
              "      border-radius: 50%;\n",
              "      cursor: pointer;\n",
              "      display: none;\n",
              "      fill: #1967D2;\n",
              "      height: 32px;\n",
              "      padding: 0 0 0 0;\n",
              "      width: 32px;\n",
              "    }\n",
              "\n",
              "    .colab-df-convert:hover {\n",
              "      background-color: #E2EBFA;\n",
              "      box-shadow: 0px 1px 2px rgba(60, 64, 67, 0.3), 0px 1px 3px 1px rgba(60, 64, 67, 0.15);\n",
              "      fill: #174EA6;\n",
              "    }\n",
              "\n",
              "    .colab-df-buttons div {\n",
              "      margin-bottom: 4px;\n",
              "    }\n",
              "\n",
              "    [theme=dark] .colab-df-convert {\n",
              "      background-color: #3B4455;\n",
              "      fill: #D2E3FC;\n",
              "    }\n",
              "\n",
              "    [theme=dark] .colab-df-convert:hover {\n",
              "      background-color: #434B5C;\n",
              "      box-shadow: 0px 1px 3px 1px rgba(0, 0, 0, 0.15);\n",
              "      filter: drop-shadow(0px 1px 2px rgba(0, 0, 0, 0.3));\n",
              "      fill: #FFFFFF;\n",
              "    }\n",
              "  </style>\n",
              "\n",
              "    <script>\n",
              "      const buttonEl =\n",
              "        document.querySelector('#df-744d3a80-2bfe-4dac-aee5-f62eb7dc3c61 button.colab-df-convert');\n",
              "      buttonEl.style.display =\n",
              "        google.colab.kernel.accessAllowed ? 'block' : 'none';\n",
              "\n",
              "      async function convertToInteractive(key) {\n",
              "        const element = document.querySelector('#df-744d3a80-2bfe-4dac-aee5-f62eb7dc3c61');\n",
              "        const dataTable =\n",
              "          await google.colab.kernel.invokeFunction('convertToInteractive',\n",
              "                                                    [key], {});\n",
              "        if (!dataTable) return;\n",
              "\n",
              "        const docLinkHtml = 'Like what you see? Visit the ' +\n",
              "          '<a target=\"_blank\" href=https://colab.research.google.com/notebooks/data_table.ipynb>data table notebook</a>'\n",
              "          + ' to learn more about interactive tables.';\n",
              "        element.innerHTML = '';\n",
              "        dataTable['output_type'] = 'display_data';\n",
              "        await google.colab.output.renderOutput(dataTable, element);\n",
              "        const docLink = document.createElement('div');\n",
              "        docLink.innerHTML = docLinkHtml;\n",
              "        element.appendChild(docLink);\n",
              "      }\n",
              "    </script>\n",
              "  </div>\n",
              "\n",
              "\n",
              "<div id=\"df-7dfbd440-d526-4400-9932-dc99817f0a0e\">\n",
              "  <button class=\"colab-df-quickchart\" onclick=\"quickchart('df-7dfbd440-d526-4400-9932-dc99817f0a0e')\"\n",
              "            title=\"Suggest charts.\"\n",
              "            style=\"display:none;\">\n",
              "\n",
              "<svg xmlns=\"http://www.w3.org/2000/svg\" height=\"24px\"viewBox=\"0 0 24 24\"\n",
              "     width=\"24px\">\n",
              "    <g>\n",
              "        <path d=\"M19 3H5c-1.1 0-2 .9-2 2v14c0 1.1.9 2 2 2h14c1.1 0 2-.9 2-2V5c0-1.1-.9-2-2-2zM9 17H7v-7h2v7zm4 0h-2V7h2v10zm4 0h-2v-4h2v4z\"/>\n",
              "    </g>\n",
              "</svg>\n",
              "  </button>\n",
              "\n",
              "<style>\n",
              "  .colab-df-quickchart {\n",
              "      --bg-color: #E8F0FE;\n",
              "      --fill-color: #1967D2;\n",
              "      --hover-bg-color: #E2EBFA;\n",
              "      --hover-fill-color: #174EA6;\n",
              "      --disabled-fill-color: #AAA;\n",
              "      --disabled-bg-color: #DDD;\n",
              "  }\n",
              "\n",
              "  [theme=dark] .colab-df-quickchart {\n",
              "      --bg-color: #3B4455;\n",
              "      --fill-color: #D2E3FC;\n",
              "      --hover-bg-color: #434B5C;\n",
              "      --hover-fill-color: #FFFFFF;\n",
              "      --disabled-bg-color: #3B4455;\n",
              "      --disabled-fill-color: #666;\n",
              "  }\n",
              "\n",
              "  .colab-df-quickchart {\n",
              "    background-color: var(--bg-color);\n",
              "    border: none;\n",
              "    border-radius: 50%;\n",
              "    cursor: pointer;\n",
              "    display: none;\n",
              "    fill: var(--fill-color);\n",
              "    height: 32px;\n",
              "    padding: 0;\n",
              "    width: 32px;\n",
              "  }\n",
              "\n",
              "  .colab-df-quickchart:hover {\n",
              "    background-color: var(--hover-bg-color);\n",
              "    box-shadow: 0 1px 2px rgba(60, 64, 67, 0.3), 0 1px 3px 1px rgba(60, 64, 67, 0.15);\n",
              "    fill: var(--button-hover-fill-color);\n",
              "  }\n",
              "\n",
              "  .colab-df-quickchart-complete:disabled,\n",
              "  .colab-df-quickchart-complete:disabled:hover {\n",
              "    background-color: var(--disabled-bg-color);\n",
              "    fill: var(--disabled-fill-color);\n",
              "    box-shadow: none;\n",
              "  }\n",
              "\n",
              "  .colab-df-spinner {\n",
              "    border: 2px solid var(--fill-color);\n",
              "    border-color: transparent;\n",
              "    border-bottom-color: var(--fill-color);\n",
              "    animation:\n",
              "      spin 1s steps(1) infinite;\n",
              "  }\n",
              "\n",
              "  @keyframes spin {\n",
              "    0% {\n",
              "      border-color: transparent;\n",
              "      border-bottom-color: var(--fill-color);\n",
              "      border-left-color: var(--fill-color);\n",
              "    }\n",
              "    20% {\n",
              "      border-color: transparent;\n",
              "      border-left-color: var(--fill-color);\n",
              "      border-top-color: var(--fill-color);\n",
              "    }\n",
              "    30% {\n",
              "      border-color: transparent;\n",
              "      border-left-color: var(--fill-color);\n",
              "      border-top-color: var(--fill-color);\n",
              "      border-right-color: var(--fill-color);\n",
              "    }\n",
              "    40% {\n",
              "      border-color: transparent;\n",
              "      border-right-color: var(--fill-color);\n",
              "      border-top-color: var(--fill-color);\n",
              "    }\n",
              "    60% {\n",
              "      border-color: transparent;\n",
              "      border-right-color: var(--fill-color);\n",
              "    }\n",
              "    80% {\n",
              "      border-color: transparent;\n",
              "      border-right-color: var(--fill-color);\n",
              "      border-bottom-color: var(--fill-color);\n",
              "    }\n",
              "    90% {\n",
              "      border-color: transparent;\n",
              "      border-bottom-color: var(--fill-color);\n",
              "    }\n",
              "  }\n",
              "</style>\n",
              "\n",
              "  <script>\n",
              "    async function quickchart(key) {\n",
              "      const quickchartButtonEl =\n",
              "        document.querySelector('#' + key + ' button');\n",
              "      quickchartButtonEl.disabled = true;  // To prevent multiple clicks.\n",
              "      quickchartButtonEl.classList.add('colab-df-spinner');\n",
              "      try {\n",
              "        const charts = await google.colab.kernel.invokeFunction(\n",
              "            'suggestCharts', [key], {});\n",
              "      } catch (error) {\n",
              "        console.error('Error during call to suggestCharts:', error);\n",
              "      }\n",
              "      quickchartButtonEl.classList.remove('colab-df-spinner');\n",
              "      quickchartButtonEl.classList.add('colab-df-quickchart-complete');\n",
              "    }\n",
              "    (() => {\n",
              "      let quickchartButtonEl =\n",
              "        document.querySelector('#df-7dfbd440-d526-4400-9932-dc99817f0a0e button');\n",
              "      quickchartButtonEl.style.display =\n",
              "        google.colab.kernel.accessAllowed ? 'block' : 'none';\n",
              "    })();\n",
              "  </script>\n",
              "</div>\n",
              "    </div>\n",
              "  </div>\n"
            ]
          },
          "metadata": {},
          "execution_count": 7
        }
      ]
    },
    {
      "cell_type": "code",
      "source": [
        "data.dtypes"
      ],
      "metadata": {
        "colab": {
          "base_uri": "https://localhost:8080/"
        },
        "id": "ZTlStaCKWpqj",
        "outputId": "63241ab1-de6d-4113-c256-ced3340d3e18"
      },
      "execution_count": 8,
      "outputs": [
        {
          "output_type": "execute_result",
          "data": {
            "text/plain": [
              "Theme                  object\n",
              "Click Through Rate    float64\n",
              "Conversion Rate       float64\n",
              "Bounce Rate           float64\n",
              "Scroll_Depth          float64\n",
              "Age                     int64\n",
              "Location               object\n",
              "Session_Duration        int64\n",
              "Purchases              object\n",
              "Added_to_Cart          object\n",
              "dtype: object"
            ]
          },
          "metadata": {},
          "execution_count": 8
        }
      ]
    },
    {
      "cell_type": "code",
      "source": [
        "for i in data.columns:\n",
        "  if data[i].dtype != 'object':\n",
        "    fig = px.box(x=data[i], labels={'x':i})\n",
        "    fig.show()"
      ],
      "metadata": {
        "colab": {
          "base_uri": "https://localhost:8080/",
          "height": 1000
        },
        "id": "UaZMVFePYQAK",
        "outputId": "ca1a0698-b306-486e-ac38-fe2a6fa11b61"
      },
      "execution_count": 9,
      "outputs": [
        {
          "output_type": "display_data",
          "data": {
            "text/html": [
              "<html>\n",
              "<head><meta charset=\"utf-8\" /></head>\n",
              "<body>\n",
              "    <div>            <script src=\"https://cdnjs.cloudflare.com/ajax/libs/mathjax/2.7.5/MathJax.js?config=TeX-AMS-MML_SVG\"></script><script type=\"text/javascript\">if (window.MathJax && window.MathJax.Hub && window.MathJax.Hub.Config) {window.MathJax.Hub.Config({SVG: {font: \"STIX-Web\"}});}</script>                <script type=\"text/javascript\">window.PlotlyConfig = {MathJaxConfig: 'local'};</script>\n",
              "        <script charset=\"utf-8\" src=\"https://cdn.plot.ly/plotly-2.24.1.min.js\"></script>                <div id=\"73b0fdf6-5ed6-435b-9d7c-0082a3a7d864\" class=\"plotly-graph-div\" style=\"height:525px; width:100%;\"></div>            <script type=\"text/javascript\">                                    window.PLOTLYENV=window.PLOTLYENV || {};                                    if (document.getElementById(\"73b0fdf6-5ed6-435b-9d7c-0082a3a7d864\")) {                    Plotly.newPlot(                        \"73b0fdf6-5ed6-435b-9d7c-0082a3a7d864\",                        [{\"alignmentgroup\":\"True\",\"hovertemplate\":\"Click Through Rate=%{x}\\u003cextra\\u003e\\u003c\\u002fextra\\u003e\",\"legendgroup\":\"\",\"marker\":{\"color\":\"#636efa\"},\"name\":\"\",\"notched\":false,\"offsetgroup\":\"\",\"orientation\":\"h\",\"showlegend\":false,\"x\":[0.0549199776705852,0.1139318495574234,0.3233515300795548,0.4858357229118433,0.0347834702248077,0.1734194866519328,0.4945222429312966,0.3956192689883948,0.1105507318200094,0.4166107402363949,0.2815618163459532,0.2973277109549653,0.4083959607493189,0.1241693527325554,0.3894406031243618,0.3964354395960286,0.3020310012354658,0.1458646745280846,0.4921737846053921,0.4938883791394244,0.2747055738629442,0.4012717735432355,0.0638639104658234,0.4345594653683325,0.0745835824853297,0.1855387168161011,0.3963314518823213,0.2985379318047167,0.0177327309204685,0.1400300790792369,0.0721116864192623,0.2162706728859388,0.0656881603254078,0.0411434386920967,0.2296548549922432,0.1873990971705809,0.3008963487553333,0.2314826557552886,0.1185593806449596,0.3114023497793739,0.3663490686102302,0.4552883270742047,0.3328625061028532,0.1577988612237635,0.3252369352606895,0.0252638133600685,0.4993075099937702,0.4251762861519489,0.2188740734471959,0.0629012965428213,0.3590766442995772,0.2273455413878742,0.450640714910532,0.1678347916756997,0.0826835745735786,0.0718338782694774,0.3159155721977918,0.2968286973885793,0.3589548702488904,0.1966431554210752,0.3027220090476635,0.154499895515446,0.2577200264979833,0.2207976696535754,0.3986170856198066,0.066062895490739,0.3308093491863397,0.4400760444014648,0.2801542619110014,0.4340912346941329,0.2207342714165293,0.4451646007743615,0.2127686498766876,0.4154354201422219,0.2053777902859071,0.3675101287409071,0.1631486914985951,0.1631365498595152,0.1348960002765618,0.4772603336333711,0.3465423073788186,0.2423912639386603,0.0547001462993638,0.0518285350924935,0.2216194940903527,0.3748485949040207,0.1925969610941927,0.0737565722511832,0.0393906792057148,0.4787460656849842,0.2852248569691668,0.338306499718825,0.2112962301318575,0.438067612394816,0.4711536357375925,0.2172390593243028,0.4587633987763504,0.0352085791864642,0.1509384097471903,0.1630999605529504,0.0607642773030703,0.258632148014322,0.0858177861705481,0.2462728041401504,0.4251646755861267,0.1815558571683836,0.2825700832911201,0.066293803629851,0.1464984241225496,0.1208179562206452,0.2202650813320728,0.2848731938565361,0.3860419406073477,0.3146446646798469,0.3407385885337187,0.2828024800335196,0.3084075086210019,0.3323373017194553,0.3498008820492728,0.0241870587200214,0.1439024904692351,0.3835806638106889,0.4615533853062546,0.182001476161121,0.0988887235241586,0.0801932302675942,0.3320988710700298,0.0440968564116848,0.3730748389680258,0.4861870561914293,0.0549612646966782,0.2699365174428754,0.1943352587947094,0.2322864374297785,0.0871305451640934,0.162702311155066,0.168947617118429,0.471289637745327,0.3021496483804952,0.4428376704139882,0.0862341526681992,0.3796735807712428,0.034383621292149,0.0499749484906374,0.2271253574218597,0.2177672388253676,0.3074672436460975,0.212950031562535,0.1156287930154959,0.2610496898425413,0.1791346991856223,0.0643359883784559,0.3423267675374318,0.3006357826922092,0.2681977125025909,0.1611255020071156,0.118054033396237,0.4923783725773485,0.0368431596738596,0.1101673309333285,0.4732088027410555,0.386001268381216,0.3844388389230113,0.1518290942965444,0.068792328415719,0.2537188110205301,0.2210209555632654,0.0733009938620153,0.2709653504550376,0.1227542508775632,0.2837745481606092,0.3373436041551685,0.183541913966216,0.2045648753811756,0.3736002504134781,0.2237476018010329,0.2352795826745747,0.0481526798191212,0.1633997090318947,0.2203493002874094,0.2081672134075648,0.3236694178333136,0.1518624507370215,0.2084658304618277,0.4834378486062318,0.0942178584832538,0.4743310115701062,0.2354474819279662,0.347908920129293,0.1873078187047216,0.2239887719884316,0.0618729353638371,0.223481498200796,0.2062204099948827,0.0485370728666013,0.4365569639357517,0.3754443649676554,0.1185703088581831,0.3917677556155997,0.0474258949617803,0.3202800868144114,0.2699963621785976,0.1050128160707811,0.3903518323689243,0.1820388701291066,0.4795294410086037,0.3262670583230863,0.082368019638745,0.0603742186111037,0.1354244287808476,0.0950145209966264,0.0849061966129056,0.3819846662223295,0.0469231040537476,0.4761331488839951,0.317694898338,0.2373370035713795,0.2862303868110463,0.29393936395618,0.3437554043742685,0.4422035967305375,0.3250659970290673,0.493400654390571,0.1683720384052467,0.4857768014619985,0.1649080583003843,0.2254837800075133,0.2397713309279229,0.3193787088124604,0.4002015427841998,0.2997956808472002,0.1824516890838375,0.0463534215249109,0.2362538183587625,0.0284275503298351,0.1906814237500082,0.1506677459746464,0.3258865700921603,0.488910580941243,0.0542452869665183,0.3010991111283245,0.1983964135254078,0.2943614096314834,0.4775734235941672,0.3720713122858078,0.0301011297879331,0.4554344787210956,0.2901117763623621,0.1022373378839202,0.3064528586943315,0.2556699779176855,0.4792839558446266,0.2307563234173947,0.4073737375480841,0.4203148173413016,0.4913689347357647,0.0513212746920362,0.3266022746604223,0.0291796418383301,0.3567346351184066,0.4955831510969748,0.2667935910533855,0.3088046490981104,0.1883100002459992,0.4597890266673106,0.1998341141663268,0.3894877464011304,0.3426598830741947,0.035659103592643,0.3191344214765699,0.1739781801573694,0.1715484700076871,0.2834019740850171,0.1994164603146315,0.1334779346334151,0.4272674673923581,0.4825609140404158,0.3053233986937034,0.0836829303454413,0.0499359738494631,0.3351699319429688,0.4592057629779889,0.1620135514003879,0.3314668118376671,0.3344462268952982,0.0731863125530644,0.3573286670418164,0.0515123158819609,0.2838718143446211,0.3253116990470465,0.1709535115842561,0.0726189444091695,0.3543871273561559,0.4740832259654968,0.4986104153532764,0.4570995128745789,0.0557919528823506,0.3385234596391701,0.2591593583471757,0.018932963517851,0.1613443743313016,0.4760729636621058,0.1774488491144586,0.3854165417572315,0.1040825644955492,0.499988544340484,0.0859231347427583,0.1549381298107646,0.3961788850989861,0.2587679592350766,0.2744876716226988,0.3719355614707191,0.2680004984773417,0.3343453263119946,0.4394324585459435,0.3128354180918189,0.3026507561250979,0.0855838530473495,0.0986145239126613,0.349494364022001,0.3161228351774172,0.4523014315300747,0.3633796689246593,0.031409289697712,0.1885067129240768,0.3625969801574185,0.4850984156702262,0.3091917568416497,0.3786716709046281,0.3940621761230729,0.1246614427243579,0.1271925636503045,0.4831423522250778,0.3943414174006703,0.4529474256873545,0.1050679263490592,0.3423703442818953,0.2895055027483068,0.22589272771942,0.3870248904680322,0.3912807782524637,0.2564242788289136,0.2151438050975754,0.0894085048904769,0.1078518884078936,0.3062850893126076,0.4377709408290801,0.0355681035978922,0.2454894211762942,0.191893932236172,0.4678038414587748,0.3585864787883103,0.2627955999007177,0.0710921082621878,0.0510988114321771,0.0885530437802354,0.2301664179831746,0.2615428415849867,0.417212892132711,0.0549396491329557,0.4561474273264305,0.4101845953691952,0.4434685891218236,0.4659312442918747,0.2132994838513126,0.2042624430804214,0.1932411289627198,0.1992213978418515,0.0499866642334104,0.1200239917174867,0.1661555889703683,0.0585507309525935,0.3602050935363824,0.1742922743989267,0.0815641603426918,0.0287685636473514,0.4595241240902482,0.2415029171934371,0.4172441381067664,0.3818321658351475,0.2398639623061919,0.3115206460101387,0.4538701696606027,0.0193119036063754,0.1156708247894936,0.0832646132924711,0.4707107151772458,0.3083512485668662,0.2173948318845149,0.3903245899913443,0.1264437110540575,0.0697056891277225,0.1268353566953131,0.323086348764677,0.3151771784870749,0.0407755039954212,0.4199769830966143,0.2549163188964287,0.27266635431389,0.3196579215864398,0.2917732541900104,0.3620867206182528,0.1527232740098763,0.0107665246073655,0.1828798594167565,0.2896252208509901,0.1017838167812074,0.3374253024306211,0.2665074332623235,0.1866958412763689,0.4771678022129023,0.2766001603647364,0.3953420445642056,0.2587350685263757,0.0199638100812012,0.4379324048784836,0.0313318683317205,0.1995718475484052,0.1929181696794079,0.3761851298656962,0.1849759994922191,0.0431041832935304,0.1281517029489658,0.3319811560053073,0.0607952950748478,0.2951326275634886,0.380772673956559,0.0753706990310883,0.1826265325959528,0.1758881565080534,0.324969851939333,0.4168879918141653,0.3454944575404019,0.4906014010365361,0.2444802740927827,0.0993162192227978,0.0760777647861783,0.3608620782221354,0.4723665238489433,0.0281220571978901,0.1087795864899834,0.3976435144822315,0.4440372889528715,0.1646419518243654,0.161937182639077,0.2051297872861483,0.4095489795214313,0.2419658861616533,0.027944178053085,0.3269812444123676,0.1501943388202588,0.4324478799299326,0.0334239767807807,0.331308370103263,0.143876136995798,0.4016777816439374,0.2241061777312188,0.2060106695757863,0.2254709505168524,0.4786745717335934,0.1761279479199987,0.1015404366190699,0.3491135606451814,0.1899999942102441,0.4006725313845661,0.1406931409430694,0.0504796382506925,0.2180048340460228,0.2209975044816889,0.4975981007735969,0.0984236781096641,0.1539455453112244,0.060272974813236,0.1706807536173643,0.1548635751767677,0.2284987239188298,0.3616548265427118,0.0916559383122976,0.227515106739536,0.229093533238426,0.3661390538984403,0.4566875431146774,0.3112772262773945,0.2231208470056364,0.3233399621413154,0.3978241361265864,0.0381054515150947,0.3388801055578972,0.2090430134387497,0.2614121495376305,0.377450012288326,0.0883934960280865,0.0252589033541227,0.4258479618855619,0.3422635472777699,0.224704684220638,0.0718527119081045,0.1256377364059726,0.3261298090927373,0.1874537854462761,0.4752388848211606,0.0258688087500368,0.0851847000624269,0.230462058670249,0.1917726086995494,0.2275302516960456,0.0476738601268952,0.0774706028359781,0.1898054748403778,0.1640488662442919,0.1465579854869075,0.4806548256098465,0.0226975370234301,0.1011635442415739,0.2636951843621121,0.4576358278484614,0.0677028877904308,0.3897325969304292,0.3549785274913447,0.1151395084576226,0.3098198195541848,0.350050514109989,0.4993281333199746,0.1080873870856488,0.0765069246879583,0.0462854991965064,0.0946016183521801,0.3595512482382691,0.4986585779712905,0.4071514769952396,0.4841050058179005,0.4934215832248181,0.3372414973395943,0.3576748385415982,0.2794986022685763,0.1522775185611286,0.1569787723360017,0.0871775721668188,0.3576862576930893,0.3531074354236797,0.095304594776863,0.1871311697310977,0.1198783914705187,0.4927149478977947,0.398112180069459,0.1260007303005665,0.2520707493489919,0.1868392969777472,0.2904159294870977,0.2390288612529206,0.491675859244965,0.0735879025597475,0.4432807589489638,0.0422165715810093,0.2050983905777451,0.3612974632698754,0.2445459038584744,0.2112896091259317,0.2106224284577094,0.2917012491534489,0.071410123307005,0.1653435585256361,0.046340859685,0.2382582678143188,0.2635064057917314,0.0728839592650567,0.4162363267863455,0.280138687368475,0.2980151352968956,0.3862130023052518,0.0732261493204754,0.2564032553601936,0.4354236974355004,0.4173814951690953,0.263870045132768,0.1590210259756592,0.0893638101823908,0.4680215399531479,0.1204804395105786,0.4742667370367273,0.2642599187680609,0.149183672029581,0.0486413533448919,0.106187940546706,0.478612297251167,0.1444810062746215,0.3162609571098093,0.311069856371017,0.0557799193729522,0.3240838393765061,0.2999861382051365,0.2945167855587243,0.0938883052973382,0.3159948018424962,0.4519804379084561,0.175433597436843,0.4627255654049876,0.0301852087256742,0.4332527838938162,0.0497991988977512,0.4747879584454918,0.387800960709288,0.1396813948381967,0.1132961060539626,0.2903472291985714,0.3128731288992292,0.024840090304901,0.4456084719099876,0.2773329669381612,0.324534571757604,0.1580261153477651,0.1299901762179821,0.4056011640701109,0.2089853381048336,0.2322366251480339,0.347420650119762,0.0874594190374515,0.2136546556449164,0.2375766573099141,0.1766943584923709,0.0803976586696909,0.4321276876479224,0.1664650323968967,0.494131451038874,0.1792315747434893,0.2053711375152722,0.3827258474496356,0.2623402657002888,0.0620301274684576,0.1284515518588689,0.0700357354511403,0.2303020458778757,0.0790300411540099,0.0347965929821422,0.4732385974245772,0.4334402866775911,0.2148860242340895,0.481716067597275,0.4521323052663566,0.4086041447553303,0.4675382522722083,0.3633529301228397,0.1030187095994462,0.0880777818273761,0.4980250114367542,0.2387394076913018,0.4407470751642051,0.2537114337932794,0.0541240565714543,0.2026886702155156,0.2340430146729681,0.1279570339278933,0.2958386148729815,0.0338424851355314,0.1478646058030289,0.3027841977949912,0.4229963269873515,0.3395350958450702,0.1500167069060986,0.014006928914148,0.0626735713418916,0.0756281225562341,0.1395917208975475,0.1892310434899465,0.2075944953360356,0.0321687733105196,0.035067266817674,0.2852902639313124,0.1876366502126994,0.1514148315491569,0.1993109242400914,0.2306736465138048,0.2794299738635356,0.4144025457997206,0.3153883735343465,0.3094111391769155,0.0730450614377154,0.0573739281521202,0.1928671847991618,0.4935259555738553,0.2833376007533431,0.1891471228743563,0.0806910060907778,0.3052068460693212,0.2066796712952716,0.0297249040171402,0.0290678434606479,0.3596600046991552,0.4039432690451639,0.2644730280632108,0.0829809256424579,0.4476345291182235,0.078492683028454,0.466370680409695,0.1660797155620604,0.2025477480545767,0.3120852388610429,0.4228749444084229,0.3009250812591835,0.2585843432386353,0.2597599093679079,0.2500248595124669,0.2858328877158267,0.2426973739990363,0.0181521081961343,0.1723074008536721,0.0637062488507481,0.214104732021794,0.1607621385187645,0.4503958810523812,0.4373285659189625,0.318337635495194,0.3024857118170649,0.1401099141230034,0.3312395763667148,0.4863078633719637,0.2934524227905337,0.1214961803964231,0.0351640309089899,0.2454199040200628,0.2668738429860947,0.363379589272071,0.3895570036185674,0.1962932647944248,0.4126140326526476,0.1286763144692,0.2905594329880217,0.3532552464593113,0.1034843206351943,0.2261088974305191,0.2152023461029031,0.2123504537965739,0.1099069245240459,0.2558915572593839,0.309624249346966,0.2410866772955706,0.425704727475049,0.36642702848105,0.3558298637543649,0.2641547736644554,0.2848345187252332,0.4990802055186862,0.2444017818382665,0.1946441403309909,0.4787758911763086,0.2352351306895974,0.2712322616408783,0.2776738774299668,0.3411756025126203,0.4351506576929467,0.3435654858888794,0.4037897397557163,0.139537469811272,0.2472482498303758,0.4790953241347847,0.1467131340016607,0.156264588983244,0.471327917700456,0.4913075452732379,0.3878753918529453,0.3554014590499261,0.3482175566661674,0.2496115089606491,0.24510367736901,0.2846389192157476,0.4678978407364235,0.3636155455112024,0.1510167939939968,0.2910036338980861,0.2761635297242563,0.4489226261547108,0.203320903264023,0.1791159908306475,0.3888015210946035,0.0817732997411623,0.0306125785480355,0.4781037216628285,0.0487244236448266,0.4627647196260414,0.3314263047699447,0.3761958648618224,0.1148535359577336,0.4156963347189365,0.1428550337790081,0.2853888296419675,0.1430945186858158,0.0635210249698292,0.3730365785773615,0.127248212313685,0.0348750606791573,0.4535402535662824,0.1205791066780152,0.1240899143049168,0.0590969999322121,0.171843875508796,0.2414779144470915,0.3437840734249008,0.0773588467578508,0.4826141959404405,0.4891762487982127,0.0873911273433614,0.3299174708736369,0.4415172540427432,0.2430928257402015,0.32876395901839,0.3803964191102823,0.1507500684065533,0.149853517237976,0.0389896672583304,0.3866752468335312,0.329626377905349,0.1237878976182983,0.3719563959116314,0.4266632197720408,0.028276140820105,0.4615207320882509,0.2147636413000526,0.420426395655695,0.4676220791833181,0.0278065261141522,0.4197395670751284,0.3961007086391606,0.1012926996420195,0.3770115687060681,0.4374224357587058,0.1518388183385443,0.0283584262023934,0.1562121832244195,0.3053636530978779,0.4649428745483384,0.1741706357109189,0.2326310482968295,0.3242430806623193,0.266916082069405,0.445737382247259,0.0757579735444431,0.2570642100224657,0.1436901699340163,0.4063188003390797,0.1720352074475749,0.3682484245662993,0.3276598159675284,0.3621131049933846,0.0169012558530477,0.1751849678715776,0.1545618862525581,0.3404565585484247,0.1046490309833921,0.3093677048348768,0.3229756391014974,0.208690283635445,0.2195745926535689,0.1706840627826862,0.2064082908476544,0.0567387018393187,0.4910257442958639,0.2439525082600475,0.4685544396306803,0.0133467590643821,0.1979514514312551,0.2289004056851622,0.1408272202124972,0.1715163986232389,0.2954057682619425,0.290709900301721,0.1381610438995424,0.1861805243749664,0.1257882629367777,0.3372151962513489,0.2380435455615454,0.0882612443615059,0.3461760737466441,0.4623219468340873,0.4450226928647082,0.3872221132545113,0.3482422849352189,0.3229685493476978,0.4709114556354912,0.1900965125200634,0.1182161275846735,0.479106663059061,0.2443091308702597,0.2329395496576284,0.4945306013287013,0.1930761725735988,0.3539509561592706,0.457270475258721,0.3811017564191197,0.4029775459722152,0.4145457194523639,0.3833112137858425,0.343367540760505,0.3019490881102992,0.395811638013396,0.2674982615478821,0.2688048307958647,0.1872745855768794,0.4594499063226779,0.0649823078532624,0.4160992864396283,0.4524151985175062,0.1090568216936574,0.2729634775476728,0.0906232067255499,0.428698143623526,0.2265018708032191,0.3433446665901447,0.3612898034285184,0.2495257037472829,0.4504557823396021,0.228286519171738,0.0372615448548035,0.0746527265123385,0.2135580411838833,0.2863164806983695,0.2838106275093955,0.339656178991411,0.1610030863762441,0.0206675243676816,0.1346840373431301,0.0114775810796334,0.1167716412497499,0.045784467698574,0.2176117185415263,0.3531885902676162,0.2751701169991537,0.0395252593453643,0.4481670382158412,0.4932072515603157,0.2413148884143686,0.1506744463767468,0.0981908501445971,0.0763601445798244,0.3243472500844546,0.3673518546408533,0.4822534577993851,0.1934858511127511,0.4467534665570781,0.229783195004716,0.4593863875740467,0.1949732113187485,0.0493224963883896,0.4824307444265361,0.4385313236285532,0.0751650051044799,0.4315404247522894,0.068130251969785,0.4964949202780176,0.20259872957418,0.0724000727880782,0.4895749447429046,0.4190625897176706,0.3805279132808767,0.4894604345127781,0.2368719115854421,0.3623560477553175,0.2178227345693667,0.1958454693365589,0.1225353927260703,0.2357063864888121,0.0860094728698459,0.1023554211060037,0.4388520055656264,0.385090065339907,0.0257864843058907,0.3334968660431198,0.3113123715323671,0.4687565858888681,0.4456302575593176,0.1279264841301738,0.0429725424158527,0.3010326322648851,0.2287561224618151,0.3392915820673873,0.437384084715332,0.1299197340970123,0.0316759977274389,0.2250917776288557,0.2744823063646399,0.3796489972861693,0.3902711745177029,0.0786664318063032,0.4968068862090937,0.1247391433994118,0.4590345462295678,0.2922940644343406,0.2929626591725621,0.3885437241162406,0.4110074196541749,0.1260829770405931,0.4393665778651655,0.4929908247553116,0.2654130165898125,0.2126445011589338,0.1448254210492166,0.2827918778715649,0.2999168898989245,0.3702539335688431,0.09581526224864,0.3425875604102632],\"x0\":\" \",\"xaxis\":\"x\",\"y0\":\" \",\"yaxis\":\"y\",\"type\":\"box\"}],                        {\"template\":{\"data\":{\"histogram2dcontour\":[{\"type\":\"histogram2dcontour\",\"colorbar\":{\"outlinewidth\":0,\"ticks\":\"\"},\"colorscale\":[[0.0,\"#0d0887\"],[0.1111111111111111,\"#46039f\"],[0.2222222222222222,\"#7201a8\"],[0.3333333333333333,\"#9c179e\"],[0.4444444444444444,\"#bd3786\"],[0.5555555555555556,\"#d8576b\"],[0.6666666666666666,\"#ed7953\"],[0.7777777777777778,\"#fb9f3a\"],[0.8888888888888888,\"#fdca26\"],[1.0,\"#f0f921\"]]}],\"choropleth\":[{\"type\":\"choropleth\",\"colorbar\":{\"outlinewidth\":0,\"ticks\":\"\"}}],\"histogram2d\":[{\"type\":\"histogram2d\",\"colorbar\":{\"outlinewidth\":0,\"ticks\":\"\"},\"colorscale\":[[0.0,\"#0d0887\"],[0.1111111111111111,\"#46039f\"],[0.2222222222222222,\"#7201a8\"],[0.3333333333333333,\"#9c179e\"],[0.4444444444444444,\"#bd3786\"],[0.5555555555555556,\"#d8576b\"],[0.6666666666666666,\"#ed7953\"],[0.7777777777777778,\"#fb9f3a\"],[0.8888888888888888,\"#fdca26\"],[1.0,\"#f0f921\"]]}],\"heatmap\":[{\"type\":\"heatmap\",\"colorbar\":{\"outlinewidth\":0,\"ticks\":\"\"},\"colorscale\":[[0.0,\"#0d0887\"],[0.1111111111111111,\"#46039f\"],[0.2222222222222222,\"#7201a8\"],[0.3333333333333333,\"#9c179e\"],[0.4444444444444444,\"#bd3786\"],[0.5555555555555556,\"#d8576b\"],[0.6666666666666666,\"#ed7953\"],[0.7777777777777778,\"#fb9f3a\"],[0.8888888888888888,\"#fdca26\"],[1.0,\"#f0f921\"]]}],\"heatmapgl\":[{\"type\":\"heatmapgl\",\"colorbar\":{\"outlinewidth\":0,\"ticks\":\"\"},\"colorscale\":[[0.0,\"#0d0887\"],[0.1111111111111111,\"#46039f\"],[0.2222222222222222,\"#7201a8\"],[0.3333333333333333,\"#9c179e\"],[0.4444444444444444,\"#bd3786\"],[0.5555555555555556,\"#d8576b\"],[0.6666666666666666,\"#ed7953\"],[0.7777777777777778,\"#fb9f3a\"],[0.8888888888888888,\"#fdca26\"],[1.0,\"#f0f921\"]]}],\"contourcarpet\":[{\"type\":\"contourcarpet\",\"colorbar\":{\"outlinewidth\":0,\"ticks\":\"\"}}],\"contour\":[{\"type\":\"contour\",\"colorbar\":{\"outlinewidth\":0,\"ticks\":\"\"},\"colorscale\":[[0.0,\"#0d0887\"],[0.1111111111111111,\"#46039f\"],[0.2222222222222222,\"#7201a8\"],[0.3333333333333333,\"#9c179e\"],[0.4444444444444444,\"#bd3786\"],[0.5555555555555556,\"#d8576b\"],[0.6666666666666666,\"#ed7953\"],[0.7777777777777778,\"#fb9f3a\"],[0.8888888888888888,\"#fdca26\"],[1.0,\"#f0f921\"]]}],\"surface\":[{\"type\":\"surface\",\"colorbar\":{\"outlinewidth\":0,\"ticks\":\"\"},\"colorscale\":[[0.0,\"#0d0887\"],[0.1111111111111111,\"#46039f\"],[0.2222222222222222,\"#7201a8\"],[0.3333333333333333,\"#9c179e\"],[0.4444444444444444,\"#bd3786\"],[0.5555555555555556,\"#d8576b\"],[0.6666666666666666,\"#ed7953\"],[0.7777777777777778,\"#fb9f3a\"],[0.8888888888888888,\"#fdca26\"],[1.0,\"#f0f921\"]]}],\"mesh3d\":[{\"type\":\"mesh3d\",\"colorbar\":{\"outlinewidth\":0,\"ticks\":\"\"}}],\"scatter\":[{\"fillpattern\":{\"fillmode\":\"overlay\",\"size\":10,\"solidity\":0.2},\"type\":\"scatter\"}],\"parcoords\":[{\"type\":\"parcoords\",\"line\":{\"colorbar\":{\"outlinewidth\":0,\"ticks\":\"\"}}}],\"scatterpolargl\":[{\"type\":\"scatterpolargl\",\"marker\":{\"colorbar\":{\"outlinewidth\":0,\"ticks\":\"\"}}}],\"bar\":[{\"error_x\":{\"color\":\"#2a3f5f\"},\"error_y\":{\"color\":\"#2a3f5f\"},\"marker\":{\"line\":{\"color\":\"#E5ECF6\",\"width\":0.5},\"pattern\":{\"fillmode\":\"overlay\",\"size\":10,\"solidity\":0.2}},\"type\":\"bar\"}],\"scattergeo\":[{\"type\":\"scattergeo\",\"marker\":{\"colorbar\":{\"outlinewidth\":0,\"ticks\":\"\"}}}],\"scatterpolar\":[{\"type\":\"scatterpolar\",\"marker\":{\"colorbar\":{\"outlinewidth\":0,\"ticks\":\"\"}}}],\"histogram\":[{\"marker\":{\"pattern\":{\"fillmode\":\"overlay\",\"size\":10,\"solidity\":0.2}},\"type\":\"histogram\"}],\"scattergl\":[{\"type\":\"scattergl\",\"marker\":{\"colorbar\":{\"outlinewidth\":0,\"ticks\":\"\"}}}],\"scatter3d\":[{\"type\":\"scatter3d\",\"line\":{\"colorbar\":{\"outlinewidth\":0,\"ticks\":\"\"}},\"marker\":{\"colorbar\":{\"outlinewidth\":0,\"ticks\":\"\"}}}],\"scattermapbox\":[{\"type\":\"scattermapbox\",\"marker\":{\"colorbar\":{\"outlinewidth\":0,\"ticks\":\"\"}}}],\"scatterternary\":[{\"type\":\"scatterternary\",\"marker\":{\"colorbar\":{\"outlinewidth\":0,\"ticks\":\"\"}}}],\"scattercarpet\":[{\"type\":\"scattercarpet\",\"marker\":{\"colorbar\":{\"outlinewidth\":0,\"ticks\":\"\"}}}],\"carpet\":[{\"aaxis\":{\"endlinecolor\":\"#2a3f5f\",\"gridcolor\":\"white\",\"linecolor\":\"white\",\"minorgridcolor\":\"white\",\"startlinecolor\":\"#2a3f5f\"},\"baxis\":{\"endlinecolor\":\"#2a3f5f\",\"gridcolor\":\"white\",\"linecolor\":\"white\",\"minorgridcolor\":\"white\",\"startlinecolor\":\"#2a3f5f\"},\"type\":\"carpet\"}],\"table\":[{\"cells\":{\"fill\":{\"color\":\"#EBF0F8\"},\"line\":{\"color\":\"white\"}},\"header\":{\"fill\":{\"color\":\"#C8D4E3\"},\"line\":{\"color\":\"white\"}},\"type\":\"table\"}],\"barpolar\":[{\"marker\":{\"line\":{\"color\":\"#E5ECF6\",\"width\":0.5},\"pattern\":{\"fillmode\":\"overlay\",\"size\":10,\"solidity\":0.2}},\"type\":\"barpolar\"}],\"pie\":[{\"automargin\":true,\"type\":\"pie\"}]},\"layout\":{\"autotypenumbers\":\"strict\",\"colorway\":[\"#636efa\",\"#EF553B\",\"#00cc96\",\"#ab63fa\",\"#FFA15A\",\"#19d3f3\",\"#FF6692\",\"#B6E880\",\"#FF97FF\",\"#FECB52\"],\"font\":{\"color\":\"#2a3f5f\"},\"hovermode\":\"closest\",\"hoverlabel\":{\"align\":\"left\"},\"paper_bgcolor\":\"white\",\"plot_bgcolor\":\"#E5ECF6\",\"polar\":{\"bgcolor\":\"#E5ECF6\",\"angularaxis\":{\"gridcolor\":\"white\",\"linecolor\":\"white\",\"ticks\":\"\"},\"radialaxis\":{\"gridcolor\":\"white\",\"linecolor\":\"white\",\"ticks\":\"\"}},\"ternary\":{\"bgcolor\":\"#E5ECF6\",\"aaxis\":{\"gridcolor\":\"white\",\"linecolor\":\"white\",\"ticks\":\"\"},\"baxis\":{\"gridcolor\":\"white\",\"linecolor\":\"white\",\"ticks\":\"\"},\"caxis\":{\"gridcolor\":\"white\",\"linecolor\":\"white\",\"ticks\":\"\"}},\"coloraxis\":{\"colorbar\":{\"outlinewidth\":0,\"ticks\":\"\"}},\"colorscale\":{\"sequential\":[[0.0,\"#0d0887\"],[0.1111111111111111,\"#46039f\"],[0.2222222222222222,\"#7201a8\"],[0.3333333333333333,\"#9c179e\"],[0.4444444444444444,\"#bd3786\"],[0.5555555555555556,\"#d8576b\"],[0.6666666666666666,\"#ed7953\"],[0.7777777777777778,\"#fb9f3a\"],[0.8888888888888888,\"#fdca26\"],[1.0,\"#f0f921\"]],\"sequentialminus\":[[0.0,\"#0d0887\"],[0.1111111111111111,\"#46039f\"],[0.2222222222222222,\"#7201a8\"],[0.3333333333333333,\"#9c179e\"],[0.4444444444444444,\"#bd3786\"],[0.5555555555555556,\"#d8576b\"],[0.6666666666666666,\"#ed7953\"],[0.7777777777777778,\"#fb9f3a\"],[0.8888888888888888,\"#fdca26\"],[1.0,\"#f0f921\"]],\"diverging\":[[0,\"#8e0152\"],[0.1,\"#c51b7d\"],[0.2,\"#de77ae\"],[0.3,\"#f1b6da\"],[0.4,\"#fde0ef\"],[0.5,\"#f7f7f7\"],[0.6,\"#e6f5d0\"],[0.7,\"#b8e186\"],[0.8,\"#7fbc41\"],[0.9,\"#4d9221\"],[1,\"#276419\"]]},\"xaxis\":{\"gridcolor\":\"white\",\"linecolor\":\"white\",\"ticks\":\"\",\"title\":{\"standoff\":15},\"zerolinecolor\":\"white\",\"automargin\":true,\"zerolinewidth\":2},\"yaxis\":{\"gridcolor\":\"white\",\"linecolor\":\"white\",\"ticks\":\"\",\"title\":{\"standoff\":15},\"zerolinecolor\":\"white\",\"automargin\":true,\"zerolinewidth\":2},\"scene\":{\"xaxis\":{\"backgroundcolor\":\"#E5ECF6\",\"gridcolor\":\"white\",\"linecolor\":\"white\",\"showbackground\":true,\"ticks\":\"\",\"zerolinecolor\":\"white\",\"gridwidth\":2},\"yaxis\":{\"backgroundcolor\":\"#E5ECF6\",\"gridcolor\":\"white\",\"linecolor\":\"white\",\"showbackground\":true,\"ticks\":\"\",\"zerolinecolor\":\"white\",\"gridwidth\":2},\"zaxis\":{\"backgroundcolor\":\"#E5ECF6\",\"gridcolor\":\"white\",\"linecolor\":\"white\",\"showbackground\":true,\"ticks\":\"\",\"zerolinecolor\":\"white\",\"gridwidth\":2}},\"shapedefaults\":{\"line\":{\"color\":\"#2a3f5f\"}},\"annotationdefaults\":{\"arrowcolor\":\"#2a3f5f\",\"arrowhead\":0,\"arrowwidth\":1},\"geo\":{\"bgcolor\":\"white\",\"landcolor\":\"#E5ECF6\",\"subunitcolor\":\"white\",\"showland\":true,\"showlakes\":true,\"lakecolor\":\"white\"},\"title\":{\"x\":0.05},\"mapbox\":{\"style\":\"light\"}}},\"xaxis\":{\"anchor\":\"y\",\"domain\":[0.0,1.0],\"title\":{\"text\":\"Click Through Rate\"}},\"yaxis\":{\"anchor\":\"x\",\"domain\":[0.0,1.0]},\"legend\":{\"tracegroupgap\":0},\"margin\":{\"t\":60},\"boxmode\":\"group\"},                        {\"responsive\": true}                    ).then(function(){\n",
              "                            \n",
              "var gd = document.getElementById('73b0fdf6-5ed6-435b-9d7c-0082a3a7d864');\n",
              "var x = new MutationObserver(function (mutations, observer) {{\n",
              "        var display = window.getComputedStyle(gd).display;\n",
              "        if (!display || display === 'none') {{\n",
              "            console.log([gd, 'removed!']);\n",
              "            Plotly.purge(gd);\n",
              "            observer.disconnect();\n",
              "        }}\n",
              "}});\n",
              "\n",
              "// Listen for the removal of the full notebook cells\n",
              "var notebookContainer = gd.closest('#notebook-container');\n",
              "if (notebookContainer) {{\n",
              "    x.observe(notebookContainer, {childList: true});\n",
              "}}\n",
              "\n",
              "// Listen for the clearing of the current output cell\n",
              "var outputEl = gd.closest('.output');\n",
              "if (outputEl) {{\n",
              "    x.observe(outputEl, {childList: true});\n",
              "}}\n",
              "\n",
              "                        })                };                            </script>        </div>\n",
              "</body>\n",
              "</html>"
            ]
          },
          "metadata": {}
        },
        {
          "output_type": "display_data",
          "data": {
            "text/html": [
              "<html>\n",
              "<head><meta charset=\"utf-8\" /></head>\n",
              "<body>\n",
              "    <div>            <script src=\"https://cdnjs.cloudflare.com/ajax/libs/mathjax/2.7.5/MathJax.js?config=TeX-AMS-MML_SVG\"></script><script type=\"text/javascript\">if (window.MathJax && window.MathJax.Hub && window.MathJax.Hub.Config) {window.MathJax.Hub.Config({SVG: {font: \"STIX-Web\"}});}</script>                <script type=\"text/javascript\">window.PlotlyConfig = {MathJaxConfig: 'local'};</script>\n",
              "        <script charset=\"utf-8\" src=\"https://cdn.plot.ly/plotly-2.24.1.min.js\"></script>                <div id=\"3a6a96b9-1fe9-49ce-b945-0a929c512e36\" class=\"plotly-graph-div\" style=\"height:525px; width:100%;\"></div>            <script type=\"text/javascript\">                                    window.PLOTLYENV=window.PLOTLYENV || {};                                    if (document.getElementById(\"3a6a96b9-1fe9-49ce-b945-0a929c512e36\")) {                    Plotly.newPlot(                        \"3a6a96b9-1fe9-49ce-b945-0a929c512e36\",                        [{\"alignmentgroup\":\"True\",\"hovertemplate\":\"Conversion Rate=%{x}\\u003cextra\\u003e\\u003c\\u002fextra\\u003e\",\"legendgroup\":\"\",\"marker\":{\"color\":\"#636efa\"},\"name\":\"\",\"notched\":false,\"offsetgroup\":\"\",\"orientation\":\"h\",\"showlegend\":false,\"x\":[0.2823668263320191,0.0329732075067029,0.1787632665885786,0.3252248720002013,0.1967657699066717,0.2669868993474534,0.351191119581454,0.2100469966464983,0.1569453622733465,0.1001006995861521,0.2735848495515005,0.1280744126154263,0.1204188287061515,0.4301952069007801,0.0807323570909374,0.2368823281543193,0.0382357278881156,0.2122119696007313,0.2140888546635993,0.269695988861512,0.2003253339156558,0.1349478663476929,0.1718288668758114,0.0487445123634546,0.2303955446563315,0.1918279718258034,0.2724614128101356,0.4164090797553658,0.0352529482658667,0.1948123077310565,0.3064350287275895,0.0293783015614302,0.0456643209025264,0.4042788027467671,0.2979160075255451,0.3390107558953518,0.1163380956270035,0.1123556533906026,0.4544460854914226,0.1585621325592672,0.4554071387463325,0.1137858083040139,0.1031116118387728,0.3733228494784603,0.3759708214535585,0.3796220640441121,0.4580762354200382,0.3508568799954411,0.3548466055110948,0.2043497092903551,0.1272721698918853,0.1675913543254271,0.148699006784888,0.2384627258143466,0.3278734565976052,0.1611269193005949,0.1862258628106124,0.4425778566573998,0.2383419927829357,0.4033801446918102,0.3639826508615188,0.3831981949617585,0.1669143095465149,0.1095324707153842,0.1633317892463936,0.0324005695107364,0.4334015723200463,0.3732136655710796,0.0179477514906176,0.2811226661356653,0.2961756305678191,0.362805849497119,0.1546442208787917,0.1061339735361485,0.1227091267415991,0.2891968612249772,0.1304077080239186,0.2798148409333668,0.4722976270733389,0.1754064991778888,0.3840467065764967,0.2494243392615694,0.364543393734323,0.3724011044233429,0.2358062092396205,0.3690583961422592,0.1825663224826767,0.0785796790045024,0.2778077010756358,0.100183408702021,0.4457886195603538,0.4952585350311296,0.4790460780171953,0.2667327635479989,0.4211435618615278,0.0464219016070825,0.4108179963188292,0.0337720531562419,0.0131280739759816,0.0773708499435104,0.3190438074872073,0.043304291416057,0.0840045267677256,0.1171726395026529,0.2334447328960026,0.0396205582673792,0.3224870099627213,0.4676128233380204,0.4572482128200682,0.3330493275750327,0.0177085657659176,0.2707841176562409,0.211555869026534,0.0181958123252886,0.3638744335966032,0.2725116704327231,0.1504773829013099,0.2560858558002638,0.3519509473463605,0.2209808722512585,0.4704588372691642,0.0978407520982477,0.4598439337849155,0.26694884660065,0.128074727833619,0.3136926127818482,0.1336849161941934,0.1836761394216799,0.3995188027208987,0.0487194294690733,0.4800559191327797,0.2349088953200807,0.1291718681545122,0.3516457948883627,0.1569875737665623,0.4157504185695564,0.0495022901172228,0.4959206055889084,0.3284482813790221,0.0255254067913833,0.2085863660711003,0.1948130885573007,0.2432424990646266,0.322006557022263,0.354394123509362,0.0505162000278428,0.4242115993247607,0.326004548552218,0.1723226023261975,0.4888913194119971,0.4871814753616399,0.4484476939499229,0.4603845855657038,0.1225855835794981,0.4516237499220466,0.3492209791012228,0.2877242320254083,0.1428365758271169,0.4628380406381975,0.3453700842971843,0.1473827767421507,0.2760850421795236,0.3324735278347274,0.0978837065778338,0.4267095240510813,0.0176724666440479,0.1115074765506959,0.0806538650289526,0.4121384633275016,0.412242170014717,0.4651487207241309,0.1566456758946226,0.2863395178156448,0.2876810007466284,0.4262267883918191,0.341747133279574,0.2748755911927493,0.198084644900624,0.3724751337511524,0.3973440617647334,0.3477621651801478,0.0484295685990787,0.375273715014893,0.1794711541109625,0.0578660358054432,0.1237505621533884,0.0472489408171955,0.3065326841683147,0.3107939644745038,0.301848244401697,0.4847710583287619,0.1699245570191485,0.3207202442283201,0.3939385881004265,0.2307695954322493,0.121787811028566,0.280988485225737,0.1939592280358485,0.1010115444887464,0.2970788093934151,0.1962356296329953,0.388362028025998,0.1547359455454873,0.1307603928403793,0.0460182750239865,0.141306295138361,0.1961999966108933,0.3941062381164091,0.0855956763955286,0.2009147679446066,0.1867431117758896,0.0548450100611571,0.4720505113978017,0.2279205738481847,0.3830597806884762,0.0600933929154904,0.0527756438540068,0.2211799628282591,0.2829226657884016,0.2610960157211247,0.0606135343973959,0.0539132325605898,0.2815677046448103,0.3024930320906747,0.3943749748838757,0.4332219068614139,0.0160469012931376,0.2127669341863824,0.3917928617559579,0.3651734835770477,0.2841729074236132,0.4964377980627477,0.1289438349773035,0.2653412200741144,0.3458048359793327,0.0930558551701279,0.1417702921297723,0.1415193306031132,0.0815080621168084,0.091931626371975,0.1452213170851777,0.1568786044215659,0.3935066458410879,0.1869512070218687,0.4726689248593831,0.3632407317032404,0.2529431939942027,0.3121677080975371,0.2343522001237903,0.0763898675835312,0.013316011018481,0.2038890694289388,0.4223905594937069,0.1961460785120536,0.4324771721771019,0.2257092315258141,0.2210019482641144,0.4135322676685388,0.3290080605996432,0.3012525303416027,0.1572132894927704,0.3055735215110083,0.3506932248057218,0.244714773773773,0.0970422629463789,0.2051373954465639,0.1663774557621001,0.3700884390661814,0.3201222063645242,0.4842039118869665,0.3931674411057524,0.1696842563470237,0.1473470717674666,0.3950746005217598,0.1888576133236663,0.4667129047683384,0.1079020238681975,0.4986598136079181,0.0981643341782628,0.3861327747966989,0.0231888932509143,0.3663345482661939,0.4720577085547138,0.1127277142170289,0.4008659053053877,0.4173280862680769,0.0438877492494368,0.4254160857191074,0.3995723561233236,0.3397590496738149,0.0781977701212067,0.1583879948302385,0.1338140256162349,0.0855301848833696,0.2173326980072827,0.1947255008387783,0.2300426932084806,0.3029875888289884,0.2952995694160051,0.2718400265890374,0.4625129194631588,0.4361205249945621,0.214967339235441,0.0280149303931984,0.4845297399622905,0.3538008006572406,0.4080255180827076,0.30097177224389,0.4580566118779864,0.0635910183697006,0.1316331747340023,0.3357000047263079,0.0915058617072546,0.3102121721335156,0.2859779431817533,0.3260652899143191,0.3269043669537655,0.4837374554486167,0.1724823840200991,0.4001532215693832,0.0619128302869827,0.0583172137050464,0.118780528979237,0.3759579835400797,0.2834167740080801,0.3469555603106718,0.1183055507274827,0.1933185882244686,0.2369009721908546,0.3429821888983926,0.348314279803844,0.0838650169151575,0.4988743354531801,0.2465578314008502,0.1547617880540188,0.4610682968888182,0.0520688517158774,0.4173456949064978,0.3677738542811635,0.1806810396375228,0.1781026736133768,0.3942922987890615,0.2653462666022311,0.1806671453514668,0.0578352852515973,0.3637770322070568,0.2316991246958497,0.0429154266203149,0.0318946958109073,0.3582817049800737,0.021066706449525,0.1781081943028067,0.0635877140745391,0.402024561617773,0.4656619987794103,0.3728398475014965,0.2628370119294679,0.2804360420142598,0.1721849312210529,0.2189209979746243,0.2364065371722669,0.4009003362690899,0.3185825562505526,0.1013295933889943,0.3320808764677188,0.2038353652827755,0.3713203010776072,0.4427177134654594,0.2302917555732991,0.2204808921406383,0.0121805212298068,0.1152500914844452,0.1463889669525585,0.3548422742357671,0.4000439449448603,0.2929004735489078,0.4017561548744877,0.2730756151796156,0.1892385844121322,0.1065663948222972,0.0658379356455293,0.3386436998299651,0.2498471496148434,0.4832990359750629,0.1635680139252223,0.2004332378472471,0.202346562800052,0.0659737159347763,0.1824726129643896,0.2343516872265019,0.0945384813750664,0.3400585425342194,0.4023005577605066,0.4601544641040072,0.2991824988389646,0.3393339400413215,0.163461014984192,0.1269006359550074,0.0673049629456684,0.1929199747725122,0.0792656862013353,0.2003470019618955,0.3022486505475266,0.2916549619884631,0.217289003215874,0.2484684056892678,0.2733158422990301,0.4603888883901941,0.4660405194755702,0.0948850530528065,0.0917641066754206,0.1515290392841793,0.1016783041815772,0.4225727549269085,0.3135108896066957,0.434105893119642,0.4764025557391038,0.2474583705283851,0.105612960900782,0.198132646175297,0.2851752178942012,0.3300041827003302,0.2104758307002586,0.2509456812117913,0.3579697626944406,0.2274873539765385,0.0919542088397488,0.2870449216300378,0.3999816359051893,0.1180594580853287,0.0260205925604546,0.1201732741551713,0.1514484519691944,0.392562696740683,0.2871687259810711,0.3885483426995618,0.2527035380852656,0.2602949303051337,0.2906298864331935,0.1412655656025214,0.2761220292255921,0.4955378738027979,0.2756012557676386,0.3808252587943461,0.382402024137231,0.2262696240671955,0.1170855481549359,0.2183257965012196,0.3706344618405002,0.3302991341662354,0.1312904961845083,0.4386568246756733,0.0257928937701049,0.1387794601232015,0.4324778164937869,0.0526216729368586,0.4339923304843848,0.0675191529844664,0.4078255671717491,0.1128403021189892,0.3714303611821137,0.3476754576847636,0.4319138611724185,0.3090282832835436,0.2198018600145801,0.311914087893256,0.3945761618855866,0.4086296340927625,0.4046658417514364,0.2893364289544491,0.2708175907115017,0.3024602660834535,0.0925049086555113,0.4897100766374643,0.1533910019827879,0.2906404341086603,0.4766746992649752,0.2620633442915176,0.451076091400211,0.4094386438776577,0.0764385641497244,0.3775461268796668,0.2116821493223061,0.0390500843995679,0.1458885324362912,0.3313891758186757,0.3536989984242514,0.0750185195531088,0.081659287278231,0.1678273886885947,0.1313018226111088,0.4233422717552999,0.2024233676480857,0.0796641002069302,0.3198769714062765,0.3176282821816973,0.1938344406446512,0.0470029739326059,0.3993533290271557,0.3867532750637564,0.2073968789178922,0.3774031676078631,0.3504047717064968,0.4398855048480993,0.2328008680464662,0.2491417954144756,0.2951582168878004,0.4357648038068882,0.4251119897442666,0.0556394124638784,0.4863536430495987,0.321071867312718,0.3516715991163934,0.426552057497442,0.3998821840574442,0.2048807754124452,0.4843830042371535,0.4141753473416508,0.2524103243021894,0.1682039232990769,0.1489606072418393,0.2781821623682043,0.0739911826506974,0.4276870623813239,0.3962687902035743,0.4481357824388924,0.3835044709870259,0.0325120335727305,0.316827965856388,0.4199840676426519,0.0179778626626447,0.4654221089202857,0.0874119223373391,0.2336938866252541,0.4960007370221284,0.2196216574246877,0.4978900936798007,0.455609535013418,0.4422524043805794,0.1579140971444469,0.4384674509393835,0.4395315682461078,0.0557365924175686,0.1866133378646578,0.0503860600456851,0.3356093175922492,0.327966492482329,0.0353757647738409,0.3165460943408275,0.3657342981005181,0.3800637569630927,0.2203231609701198,0.0546876017362776,0.0566400022099337,0.1145763767036444,0.048189973570577,0.3009029534521216,0.2645276847719515,0.2280827696215406,0.0139506588193966,0.1783513335167126,0.0690909552141718,0.43156674352984,0.3500751905498342,0.2440731183045049,0.1221839650549311,0.0537722296869311,0.404918848575572,0.0605687512721286,0.1901052279150828,0.15663511043186,0.1975333144440921,0.4085502826351472,0.4385036747548107,0.324372312773322,0.3417971681803316,0.0435216876860637,0.2860126950901197,0.3090564272441707,0.0904171093974166,0.1820819822251177,0.1143971711975277,0.3766517298234501,0.4607481210808295,0.311877246174346,0.2267680960251513,0.1164498921668315,0.449330543348401,0.0786064393721398,0.070347039020741,0.3677044829590293,0.1822524637877335,0.2204004833408206,0.3976275639870524,0.1314153237321536,0.3258640784120699,0.1316018433210577,0.3044895402640391,0.3633780230411932,0.149611196903103,0.4712268300975358,0.0231439590116376,0.4250643102274733,0.4391553221479667,0.1106684018946965,0.3073941661392603,0.1024367964002742,0.2019579977900952,0.3266231895740246,0.3940627837924447,0.3989512355460899,0.1272771274484319,0.1990839316341608,0.1281300602465528,0.3226603416429876,0.0447958808307377,0.4454750187625848,0.0159128360716435,0.1869381214501183,0.1650715987732381,0.1995507419243369,0.4210969184227763,0.2162231317836948,0.2777145483690619,0.0946574529538728,0.2407971667325642,0.49380946977049,0.0457660019261971,0.297808113493703,0.0167587786053924,0.1157140398734447,0.4620638515772651,0.474853198504091,0.2050077617037236,0.1503790220469209,0.3591882472896128,0.3858839003262048,0.2175518652341307,0.207115931215805,0.3238632712730523,0.2734511254866649,0.0848134174641906,0.05096256615113,0.0487205653677828,0.4612531807986406,0.4874135583337354,0.0861347943010269,0.1701076451797666,0.2973542098760916,0.3839798242518154,0.3284213711598313,0.3251457390367716,0.1619830517646013,0.2243681610947817,0.4771797085908754,0.1269323202101432,0.129795079322489,0.4630675996310782,0.0668334249567404,0.3100254292661538,0.0369640236463556,0.3363789936410621,0.3324456566789933,0.09606649278497,0.0162058360641546,0.0772337807248146,0.0155617955347745,0.2532423369361306,0.1798855125626372,0.2634391927992081,0.413028367632442,0.1370310111478853,0.1922160211369096,0.3773904282059576,0.4379954276360169,0.3691385604019703,0.0678477929383578,0.4509497390269082,0.1741554028949353,0.2203690389787441,0.2666885636098479,0.1388453289049743,0.4877747880113073,0.3174910881203734,0.2531123087782182,0.2602831209187262,0.0371651643127865,0.4310862935168609,0.0917718824011609,0.0870818907395517,0.3889311870964125,0.4481915258706884,0.3403190114659175,0.0665134657317263,0.3729821816036417,0.0112585679559302,0.4307576144697886,0.0160211557882294,0.032530949645971,0.1883484832023079,0.4609110071773937,0.0976908575465413,0.4805676512432675,0.0273281512476782,0.4035265883642014,0.359870192802893,0.3312946142665368,0.120012503770612,0.1316489598450491,0.4587688347916385,0.166768217406544,0.414738527820741,0.2900526216825544,0.0685064555406574,0.3399296011921099,0.0358093530526662,0.1193606798658193,0.2627293240345477,0.0325050125829794,0.2064531750513162,0.4397257067106376,0.4343557926888046,0.3890284649578838,0.1622419092832316,0.05232890599232,0.2338056262128419,0.190770485984749,0.152881594421456,0.3944085364707973,0.3723922334993748,0.1288661568412488,0.1904540775710981,0.4862102951239551,0.4989156869693137,0.390184118418075,0.3689070350022406,0.2778140288787803,0.4000270351775897,0.0837775246286776,0.4668747909435458,0.0217160254282421,0.2753571479748756,0.3216115013613645,0.3497957950817594,0.0147014618365856,0.1741585104220837,0.3818752850747025,0.1943746669293413,0.371660503494258,0.1606802123854683,0.1105452427238903,0.4917267135284999,0.2157097625813941,0.480980679834996,0.4865540256240222,0.0797630077504345,0.1471143827258278,0.0315111301945481,0.1234215609704766,0.4242970754555017,0.2123978337154908,0.4488331906685313,0.2346444339866328,0.376470705431716,0.2945776074143703,0.2576596042917801,0.3222356832160191,0.2032321317245582,0.3000289240347755,0.0405186031247794,0.334597524795435,0.0740470603556793,0.1529212517878827,0.4269477158364234,0.4637605563730019,0.2025468087446357,0.4176309189969517,0.1698632687020919,0.2318513476346312,0.1244695010527732,0.4723417961547463,0.0766948047441923,0.3873718438782315,0.0633966885220346,0.0617722975503186,0.2302877063927576,0.1638763110279377,0.0691610011652337,0.1855608485093043,0.3874650068710875,0.2314393676897196,0.2370398315776428,0.4277162709739628,0.0543062351437771,0.4057224832934653,0.1590653416136613,0.355305353935586,0.3056182184052586,0.1153601868421072,0.4297209028945781,0.0826786607108586,0.3584671251597047,0.4845160020464208,0.2041597867130878,0.0339858026193071,0.1564319483748206,0.4118439117478694,0.095195188933836,0.4765273373436345,0.4287546392647815,0.2824173431587102,0.2795592370810195,0.0564153857261031,0.0599346008443042,0.3989667739607289,0.0695120951969838,0.040217900401968,0.3926703968007709,0.118921185017008,0.1070851872384546,0.2062850867390444,0.3462797783974244,0.4694117000393246,0.0511793178717692,0.2971981885792472,0.4595400049406742,0.0467437185397899,0.4986090988039321,0.1068976649807622,0.3265335788375239,0.4065563459925939,0.0550695329419389,0.4251649629800358,0.4063547321592229,0.0700385530361622,0.4717175239018165,0.0348124734484754,0.4628245455116276,0.222246624846949,0.3649711150940459,0.2531019316944951,0.1975374248979562,0.2190653690299058,0.1834321938098288,0.4550690657772425,0.1447410668218786,0.2285456010168616,0.0828293904436992,0.310912223111067,0.3123188106002997,0.3271664162322992,0.2544568888982845,0.4425615013378668,0.2447251556804757,0.0529835600189136,0.1976774852517668,0.2154250623862022,0.3248997375628332,0.4006269915226764,0.1320824000170055,0.497102765910792,0.2763917746355731,0.0195696918279511,0.1974240610982382,0.3595516276058922,0.2450453750551769,0.3929032018593918,0.1785767186970392,0.2871690463734618,0.1675861651473255,0.1425134855367971,0.0227708542067558,0.3025870128521315,0.0243586956629509,0.4072377891949099,0.1476570060007996,0.4062404029507215,0.2411253488020734,0.1851421174090553,0.2961545707271011,0.1240534426812092,0.0882161560585038,0.1314499564607707,0.1281648696258532,0.271507886648027,0.3977062339295233,0.3711594673797133,0.3843843646215804,0.4744232143276309,0.292089133223798,0.4915056715214359,0.2003270355899204,0.468250955724857,0.4958555412602293,0.0951188953689424,0.1259100550438058,0.165822140463017,0.3716714995491282,0.1858037350166603,0.2998656224744112,0.3546919126307576,0.1823242527567131,0.2881491690588532,0.0796301223033916,0.4747005679624862,0.4199814519593346,0.4070965699255236,0.485489977085524,0.2756410547452867,0.0960228161537188,0.0286022331880488,0.0375223086326229,0.3048147653580932,0.0197647150453907,0.2442146042014279,0.1725496568513596,0.3109260361546095,0.4051582525219014,0.1769719316907185,0.0969553376004292,0.403187977848196,0.4354263780903705,0.0391824217940666,0.0823788893031961,0.3553012074488388,0.0794098055320947,0.0643510900793643,0.2678844905028346,0.1887960276802911,0.0455404869694968,0.3552236247177598,0.3344483808714287,0.2971481649540794,0.1749149248589942,0.1680755701427259,0.4881717289773888,0.368852492458074,0.2240655076354953,0.3232403358126016,0.2487280093736822,0.1654688626927085,0.3565196314058007,0.2853688817459687,0.4459041062379937,0.3107174032600669,0.1848445180757807,0.3361105180426357,0.4090825758570603,0.1954082129921271,0.3696575369489508,0.1543134597122721,0.097077061363512,0.0108809742697042,0.3539841395978785,0.2906890484086029,0.4268709131121541,0.387706892363281,0.2880665498664047,0.0992200604466382,0.1659262868114465,0.4063153936273643,0.309576764689674,0.3234269186639757,0.0610140141768531,0.2531306783774141,0.1722725288213657,0.0481252528475076,0.1799369610947819,0.1665641527791681,0.3217315174177804,0.4819090160241405,0.4126142846598718,0.3383120398458862,0.3673501140956597,0.174517238131528,0.015583853944794,0.1127452993562446,0.3496562773974198,0.1817357693296848,0.3956398029844236,0.3630026581185144,0.033592254289308,0.2247278692496299,0.2156300823007516,0.0915058370190149,0.2128693901867432,0.4420676225838747,0.1821032729562502,0.1939203094668685,0.4161154190074632,0.3964776972933475,0.2932471905572346,0.3815393363439187,0.1205355364807075,0.2311308353850066,0.4016053372206063,0.0263722654022665,0.0198382191819793,0.1379525778913083,0.061315273764418],\"x0\":\" \",\"xaxis\":\"x\",\"y0\":\" \",\"yaxis\":\"y\",\"type\":\"box\"}],                        {\"template\":{\"data\":{\"histogram2dcontour\":[{\"type\":\"histogram2dcontour\",\"colorbar\":{\"outlinewidth\":0,\"ticks\":\"\"},\"colorscale\":[[0.0,\"#0d0887\"],[0.1111111111111111,\"#46039f\"],[0.2222222222222222,\"#7201a8\"],[0.3333333333333333,\"#9c179e\"],[0.4444444444444444,\"#bd3786\"],[0.5555555555555556,\"#d8576b\"],[0.6666666666666666,\"#ed7953\"],[0.7777777777777778,\"#fb9f3a\"],[0.8888888888888888,\"#fdca26\"],[1.0,\"#f0f921\"]]}],\"choropleth\":[{\"type\":\"choropleth\",\"colorbar\":{\"outlinewidth\":0,\"ticks\":\"\"}}],\"histogram2d\":[{\"type\":\"histogram2d\",\"colorbar\":{\"outlinewidth\":0,\"ticks\":\"\"},\"colorscale\":[[0.0,\"#0d0887\"],[0.1111111111111111,\"#46039f\"],[0.2222222222222222,\"#7201a8\"],[0.3333333333333333,\"#9c179e\"],[0.4444444444444444,\"#bd3786\"],[0.5555555555555556,\"#d8576b\"],[0.6666666666666666,\"#ed7953\"],[0.7777777777777778,\"#fb9f3a\"],[0.8888888888888888,\"#fdca26\"],[1.0,\"#f0f921\"]]}],\"heatmap\":[{\"type\":\"heatmap\",\"colorbar\":{\"outlinewidth\":0,\"ticks\":\"\"},\"colorscale\":[[0.0,\"#0d0887\"],[0.1111111111111111,\"#46039f\"],[0.2222222222222222,\"#7201a8\"],[0.3333333333333333,\"#9c179e\"],[0.4444444444444444,\"#bd3786\"],[0.5555555555555556,\"#d8576b\"],[0.6666666666666666,\"#ed7953\"],[0.7777777777777778,\"#fb9f3a\"],[0.8888888888888888,\"#fdca26\"],[1.0,\"#f0f921\"]]}],\"heatmapgl\":[{\"type\":\"heatmapgl\",\"colorbar\":{\"outlinewidth\":0,\"ticks\":\"\"},\"colorscale\":[[0.0,\"#0d0887\"],[0.1111111111111111,\"#46039f\"],[0.2222222222222222,\"#7201a8\"],[0.3333333333333333,\"#9c179e\"],[0.4444444444444444,\"#bd3786\"],[0.5555555555555556,\"#d8576b\"],[0.6666666666666666,\"#ed7953\"],[0.7777777777777778,\"#fb9f3a\"],[0.8888888888888888,\"#fdca26\"],[1.0,\"#f0f921\"]]}],\"contourcarpet\":[{\"type\":\"contourcarpet\",\"colorbar\":{\"outlinewidth\":0,\"ticks\":\"\"}}],\"contour\":[{\"type\":\"contour\",\"colorbar\":{\"outlinewidth\":0,\"ticks\":\"\"},\"colorscale\":[[0.0,\"#0d0887\"],[0.1111111111111111,\"#46039f\"],[0.2222222222222222,\"#7201a8\"],[0.3333333333333333,\"#9c179e\"],[0.4444444444444444,\"#bd3786\"],[0.5555555555555556,\"#d8576b\"],[0.6666666666666666,\"#ed7953\"],[0.7777777777777778,\"#fb9f3a\"],[0.8888888888888888,\"#fdca26\"],[1.0,\"#f0f921\"]]}],\"surface\":[{\"type\":\"surface\",\"colorbar\":{\"outlinewidth\":0,\"ticks\":\"\"},\"colorscale\":[[0.0,\"#0d0887\"],[0.1111111111111111,\"#46039f\"],[0.2222222222222222,\"#7201a8\"],[0.3333333333333333,\"#9c179e\"],[0.4444444444444444,\"#bd3786\"],[0.5555555555555556,\"#d8576b\"],[0.6666666666666666,\"#ed7953\"],[0.7777777777777778,\"#fb9f3a\"],[0.8888888888888888,\"#fdca26\"],[1.0,\"#f0f921\"]]}],\"mesh3d\":[{\"type\":\"mesh3d\",\"colorbar\":{\"outlinewidth\":0,\"ticks\":\"\"}}],\"scatter\":[{\"fillpattern\":{\"fillmode\":\"overlay\",\"size\":10,\"solidity\":0.2},\"type\":\"scatter\"}],\"parcoords\":[{\"type\":\"parcoords\",\"line\":{\"colorbar\":{\"outlinewidth\":0,\"ticks\":\"\"}}}],\"scatterpolargl\":[{\"type\":\"scatterpolargl\",\"marker\":{\"colorbar\":{\"outlinewidth\":0,\"ticks\":\"\"}}}],\"bar\":[{\"error_x\":{\"color\":\"#2a3f5f\"},\"error_y\":{\"color\":\"#2a3f5f\"},\"marker\":{\"line\":{\"color\":\"#E5ECF6\",\"width\":0.5},\"pattern\":{\"fillmode\":\"overlay\",\"size\":10,\"solidity\":0.2}},\"type\":\"bar\"}],\"scattergeo\":[{\"type\":\"scattergeo\",\"marker\":{\"colorbar\":{\"outlinewidth\":0,\"ticks\":\"\"}}}],\"scatterpolar\":[{\"type\":\"scatterpolar\",\"marker\":{\"colorbar\":{\"outlinewidth\":0,\"ticks\":\"\"}}}],\"histogram\":[{\"marker\":{\"pattern\":{\"fillmode\":\"overlay\",\"size\":10,\"solidity\":0.2}},\"type\":\"histogram\"}],\"scattergl\":[{\"type\":\"scattergl\",\"marker\":{\"colorbar\":{\"outlinewidth\":0,\"ticks\":\"\"}}}],\"scatter3d\":[{\"type\":\"scatter3d\",\"line\":{\"colorbar\":{\"outlinewidth\":0,\"ticks\":\"\"}},\"marker\":{\"colorbar\":{\"outlinewidth\":0,\"ticks\":\"\"}}}],\"scattermapbox\":[{\"type\":\"scattermapbox\",\"marker\":{\"colorbar\":{\"outlinewidth\":0,\"ticks\":\"\"}}}],\"scatterternary\":[{\"type\":\"scatterternary\",\"marker\":{\"colorbar\":{\"outlinewidth\":0,\"ticks\":\"\"}}}],\"scattercarpet\":[{\"type\":\"scattercarpet\",\"marker\":{\"colorbar\":{\"outlinewidth\":0,\"ticks\":\"\"}}}],\"carpet\":[{\"aaxis\":{\"endlinecolor\":\"#2a3f5f\",\"gridcolor\":\"white\",\"linecolor\":\"white\",\"minorgridcolor\":\"white\",\"startlinecolor\":\"#2a3f5f\"},\"baxis\":{\"endlinecolor\":\"#2a3f5f\",\"gridcolor\":\"white\",\"linecolor\":\"white\",\"minorgridcolor\":\"white\",\"startlinecolor\":\"#2a3f5f\"},\"type\":\"carpet\"}],\"table\":[{\"cells\":{\"fill\":{\"color\":\"#EBF0F8\"},\"line\":{\"color\":\"white\"}},\"header\":{\"fill\":{\"color\":\"#C8D4E3\"},\"line\":{\"color\":\"white\"}},\"type\":\"table\"}],\"barpolar\":[{\"marker\":{\"line\":{\"color\":\"#E5ECF6\",\"width\":0.5},\"pattern\":{\"fillmode\":\"overlay\",\"size\":10,\"solidity\":0.2}},\"type\":\"barpolar\"}],\"pie\":[{\"automargin\":true,\"type\":\"pie\"}]},\"layout\":{\"autotypenumbers\":\"strict\",\"colorway\":[\"#636efa\",\"#EF553B\",\"#00cc96\",\"#ab63fa\",\"#FFA15A\",\"#19d3f3\",\"#FF6692\",\"#B6E880\",\"#FF97FF\",\"#FECB52\"],\"font\":{\"color\":\"#2a3f5f\"},\"hovermode\":\"closest\",\"hoverlabel\":{\"align\":\"left\"},\"paper_bgcolor\":\"white\",\"plot_bgcolor\":\"#E5ECF6\",\"polar\":{\"bgcolor\":\"#E5ECF6\",\"angularaxis\":{\"gridcolor\":\"white\",\"linecolor\":\"white\",\"ticks\":\"\"},\"radialaxis\":{\"gridcolor\":\"white\",\"linecolor\":\"white\",\"ticks\":\"\"}},\"ternary\":{\"bgcolor\":\"#E5ECF6\",\"aaxis\":{\"gridcolor\":\"white\",\"linecolor\":\"white\",\"ticks\":\"\"},\"baxis\":{\"gridcolor\":\"white\",\"linecolor\":\"white\",\"ticks\":\"\"},\"caxis\":{\"gridcolor\":\"white\",\"linecolor\":\"white\",\"ticks\":\"\"}},\"coloraxis\":{\"colorbar\":{\"outlinewidth\":0,\"ticks\":\"\"}},\"colorscale\":{\"sequential\":[[0.0,\"#0d0887\"],[0.1111111111111111,\"#46039f\"],[0.2222222222222222,\"#7201a8\"],[0.3333333333333333,\"#9c179e\"],[0.4444444444444444,\"#bd3786\"],[0.5555555555555556,\"#d8576b\"],[0.6666666666666666,\"#ed7953\"],[0.7777777777777778,\"#fb9f3a\"],[0.8888888888888888,\"#fdca26\"],[1.0,\"#f0f921\"]],\"sequentialminus\":[[0.0,\"#0d0887\"],[0.1111111111111111,\"#46039f\"],[0.2222222222222222,\"#7201a8\"],[0.3333333333333333,\"#9c179e\"],[0.4444444444444444,\"#bd3786\"],[0.5555555555555556,\"#d8576b\"],[0.6666666666666666,\"#ed7953\"],[0.7777777777777778,\"#fb9f3a\"],[0.8888888888888888,\"#fdca26\"],[1.0,\"#f0f921\"]],\"diverging\":[[0,\"#8e0152\"],[0.1,\"#c51b7d\"],[0.2,\"#de77ae\"],[0.3,\"#f1b6da\"],[0.4,\"#fde0ef\"],[0.5,\"#f7f7f7\"],[0.6,\"#e6f5d0\"],[0.7,\"#b8e186\"],[0.8,\"#7fbc41\"],[0.9,\"#4d9221\"],[1,\"#276419\"]]},\"xaxis\":{\"gridcolor\":\"white\",\"linecolor\":\"white\",\"ticks\":\"\",\"title\":{\"standoff\":15},\"zerolinecolor\":\"white\",\"automargin\":true,\"zerolinewidth\":2},\"yaxis\":{\"gridcolor\":\"white\",\"linecolor\":\"white\",\"ticks\":\"\",\"title\":{\"standoff\":15},\"zerolinecolor\":\"white\",\"automargin\":true,\"zerolinewidth\":2},\"scene\":{\"xaxis\":{\"backgroundcolor\":\"#E5ECF6\",\"gridcolor\":\"white\",\"linecolor\":\"white\",\"showbackground\":true,\"ticks\":\"\",\"zerolinecolor\":\"white\",\"gridwidth\":2},\"yaxis\":{\"backgroundcolor\":\"#E5ECF6\",\"gridcolor\":\"white\",\"linecolor\":\"white\",\"showbackground\":true,\"ticks\":\"\",\"zerolinecolor\":\"white\",\"gridwidth\":2},\"zaxis\":{\"backgroundcolor\":\"#E5ECF6\",\"gridcolor\":\"white\",\"linecolor\":\"white\",\"showbackground\":true,\"ticks\":\"\",\"zerolinecolor\":\"white\",\"gridwidth\":2}},\"shapedefaults\":{\"line\":{\"color\":\"#2a3f5f\"}},\"annotationdefaults\":{\"arrowcolor\":\"#2a3f5f\",\"arrowhead\":0,\"arrowwidth\":1},\"geo\":{\"bgcolor\":\"white\",\"landcolor\":\"#E5ECF6\",\"subunitcolor\":\"white\",\"showland\":true,\"showlakes\":true,\"lakecolor\":\"white\"},\"title\":{\"x\":0.05},\"mapbox\":{\"style\":\"light\"}}},\"xaxis\":{\"anchor\":\"y\",\"domain\":[0.0,1.0],\"title\":{\"text\":\"Conversion Rate\"}},\"yaxis\":{\"anchor\":\"x\",\"domain\":[0.0,1.0]},\"legend\":{\"tracegroupgap\":0},\"margin\":{\"t\":60},\"boxmode\":\"group\"},                        {\"responsive\": true}                    ).then(function(){\n",
              "                            \n",
              "var gd = document.getElementById('3a6a96b9-1fe9-49ce-b945-0a929c512e36');\n",
              "var x = new MutationObserver(function (mutations, observer) {{\n",
              "        var display = window.getComputedStyle(gd).display;\n",
              "        if (!display || display === 'none') {{\n",
              "            console.log([gd, 'removed!']);\n",
              "            Plotly.purge(gd);\n",
              "            observer.disconnect();\n",
              "        }}\n",
              "}});\n",
              "\n",
              "// Listen for the removal of the full notebook cells\n",
              "var notebookContainer = gd.closest('#notebook-container');\n",
              "if (notebookContainer) {{\n",
              "    x.observe(notebookContainer, {childList: true});\n",
              "}}\n",
              "\n",
              "// Listen for the clearing of the current output cell\n",
              "var outputEl = gd.closest('.output');\n",
              "if (outputEl) {{\n",
              "    x.observe(outputEl, {childList: true});\n",
              "}}\n",
              "\n",
              "                        })                };                            </script>        </div>\n",
              "</body>\n",
              "</html>"
            ]
          },
          "metadata": {}
        },
        {
          "output_type": "display_data",
          "data": {
            "text/html": [
              "<html>\n",
              "<head><meta charset=\"utf-8\" /></head>\n",
              "<body>\n",
              "    <div>            <script src=\"https://cdnjs.cloudflare.com/ajax/libs/mathjax/2.7.5/MathJax.js?config=TeX-AMS-MML_SVG\"></script><script type=\"text/javascript\">if (window.MathJax && window.MathJax.Hub && window.MathJax.Hub.Config) {window.MathJax.Hub.Config({SVG: {font: \"STIX-Web\"}});}</script>                <script type=\"text/javascript\">window.PlotlyConfig = {MathJaxConfig: 'local'};</script>\n",
              "        <script charset=\"utf-8\" src=\"https://cdn.plot.ly/plotly-2.24.1.min.js\"></script>                <div id=\"d03f5042-82e7-4506-922f-79ed8f326f7f\" class=\"plotly-graph-div\" style=\"height:525px; width:100%;\"></div>            <script type=\"text/javascript\">                                    window.PLOTLYENV=window.PLOTLYENV || {};                                    if (document.getElementById(\"d03f5042-82e7-4506-922f-79ed8f326f7f\")) {                    Plotly.newPlot(                        \"d03f5042-82e7-4506-922f-79ed8f326f7f\",                        [{\"alignmentgroup\":\"True\",\"hovertemplate\":\"Bounce Rate=%{x}\\u003cextra\\u003e\\u003c\\u002fextra\\u003e\",\"legendgroup\":\"\",\"marker\":{\"color\":\"#636efa\"},\"name\":\"\",\"notched\":false,\"offsetgroup\":\"\",\"orientation\":\"h\",\"showlegend\":false,\"x\":[0.4050849206899338,0.7327587606405821,0.2965426969467927,0.2450014526264947,0.7651004861211368,0.7868249137391361,0.4027703505487615,0.7911656600846859,0.7359357035878455,0.6227027879550749,0.4587940004875165,0.5921811051592105,0.5643905753929315,0.4605202309359779,0.2321334455963573,0.3986567476639917,0.784639052405883,0.4455679194503875,0.5324674593897377,0.755344160184148,0.5240752589639937,0.5963587356277842,0.3784403886089397,0.2575495528413449,0.4357413287688932,0.5297975801222973,0.4945689655255822,0.2327029110230308,0.2022893433016805,0.2525770155841832,0.6943383842498969,0.5750545722255805,0.488197038470245,0.2581921384888993,0.324171789754177,0.5829143954447424,0.7862346175995594,0.4841423906852413,0.2693053542450967,0.6709259438401491,0.4825666717697537,0.7369264900432828,0.3590026382705727,0.5851198295241268,0.4325162702122981,0.4226123149044485,0.4288671122613624,0.311949764694759,0.2267701548187254,0.4638442537116615,0.3580404857974154,0.7022472512806743,0.5385479527487131,0.2906784046541235,0.6178825706279358,0.2580215726153879,0.6008847043385717,0.6849080944424079,0.4483919917227575,0.6538741316932133,0.3365076551747408,0.2365902476346366,0.4322636581290001,0.5135493639944437,0.7793766224481811,0.6122407594333321,0.7618168613679308,0.5436285743787312,0.3413852116894526,0.3793112654043215,0.4368826191251451,0.7123638930066185,0.2208370961342817,0.5427319611629325,0.5100904381295308,0.5428912431487511,0.789652858467131,0.2884685924065792,0.7695528898709512,0.4694238417128278,0.7694368898169757,0.3002988724656323,0.3271340957662197,0.3156356504240006,0.2256055403800676,0.2470211132836934,0.6098752816113528,0.3211515679833407,0.6935384197260122,0.288726950440294,0.5570285927856848,0.3918496932572327,0.6362618055083182,0.6844062018409907,0.2522164645259044,0.5338185223818794,0.5312325149452395,0.7139745083877482,0.5118129065252417,0.7502971464699488,0.2074182783956109,0.62024727295216,0.552545652639398,0.6690113965552771,0.2675113055755603,0.2897853917548049,0.5399563562330639,0.5496062521265926,0.7788989988251775,0.2601223986965186,0.2633808921099473,0.6677268181785514,0.6714473781858066,0.7204851606591054,0.7280814707750194,0.7267361376176329,0.3584819781022227,0.5928726024281299,0.5432139438791372,0.4838279695993617,0.3033198368940389,0.4417843750589461,0.570946693161079,0.6084877179279682,0.4410319389646464,0.4374756465386191,0.7273745790041719,0.6143082525025874,0.2295745853144667,0.485130914691843,0.3611506129668564,0.4234644175480286,0.4027196488561597,0.6761912359433844,0.3865695787087678,0.7057079411668445,0.7149408699401447,0.6109112162808361,0.783497985611409,0.3367744481610604,0.380288268510488,0.6462341849942981,0.6644185401163549,0.3925209891919194,0.6372796479617331,0.5629874794731504,0.2535721101817594,0.4650299588354997,0.7480596832512443,0.4443022165042675,0.4906761978245972,0.5099008509540065,0.4243461258158865,0.2337234922436015,0.6748942352487406,0.2393701805671591,0.6257416390186338,0.4420310846074662,0.6683098577765914,0.5145717302530971,0.541203379760451,0.3042424136076723,0.7251083336752502,0.3204360656603128,0.2345765095181328,0.2198426267047911,0.2303355690152841,0.4162250490693775,0.3194658634393401,0.4210111565448625,0.4785310782721328,0.4381653665098987,0.7538441410237828,0.6087046162660266,0.345162856753767,0.4932720434399408,0.4676620595645175,0.7763122269681728,0.4847493734369289,0.5308002323646541,0.4065494023122502,0.7025922621540364,0.3551959563000252,0.6985221208133574,0.2542351526844623,0.2164702939386621,0.2297906257044109,0.7122927959513281,0.6678980810862076,0.3285911523868644,0.3328106462093289,0.3350672245518651,0.3240385916937153,0.5909523997135782,0.5079687402548747,0.7187779580666289,0.7802830134372685,0.6093198389212697,0.4844583239176069,0.2793884544702092,0.3039203938892869,0.6805188849946726,0.3342620190339853,0.5650063297379861,0.7658029808348106,0.6276442928628226,0.6256209178689435,0.3652271349302238,0.7372897850415503,0.7109517038555855,0.4753988113343658,0.3309254324437589,0.3812870547646112,0.5123827389969415,0.5741636577121282,0.5506922935052758,0.2044085436083989,0.7996576279209053,0.7798912726787506,0.7036270515958807,0.5368742703527605,0.5562635255264496,0.3696061266890582,0.6106478815143013,0.4890430512897837,0.4017701923326893,0.3658899499800566,0.3950822421677035,0.3661309581748257,0.5936717631418725,0.7713126788692495,0.5908798812275728,0.3130160487440048,0.5103761513477909,0.3441812466070967,0.2340648046378634,0.714389216016369,0.6860173848272859,0.4424590557539328,0.3917514429126192,0.2839577051458501,0.2152731626722241,0.4984236970430721,0.3773627799425704,0.7441469375129002,0.4427593367767702,0.6420392574458674,0.5498142214480145,0.7968522380532732,0.6896088206317209,0.405900229781344,0.6280215735243107,0.6117908665596028,0.582988153926568,0.4854411210411481,0.7644007727736317,0.4150982790022262,0.3801168971303966,0.3019919984369219,0.5945688108049101,0.534948826645922,0.3762704317164558,0.4824685236570722,0.644551334941321,0.6351119822636717,0.5354189936649123,0.7475748576957064,0.768154028116371,0.7397546947105191,0.592660786610692,0.3333521069077405,0.3339967552313652,0.7228593392986891,0.4522835409108867,0.7321061298161022,0.4230094578589167,0.5513424171241423,0.478256376912656,0.2706688827449228,0.2322061726438702,0.5806380461912213,0.5481878650678739,0.5723928171599615,0.4833318094436499,0.3167262829861523,0.2718895623125035,0.6084186585918183,0.5179031027779986,0.4478643524083285,0.7225094878118028,0.2904670706571575,0.7954087117327597,0.4056019309574,0.7923149596277039,0.7357070739863258,0.7919895535300887,0.2859344913797831,0.7174363660022698,0.3082140614641063,0.2484868801575042,0.3995776681499158,0.791984223619808,0.3880484430544032,0.2348081529351182,0.471231937141096,0.3256294210010466,0.6641253627923389,0.5457673494420219,0.2950610704254079,0.6711265434186273,0.6678514737846315,0.2776435745409715,0.4602268485731819,0.4576458338054723,0.4574152691602461,0.4864401655643423,0.2028014825480818,0.520269561705355,0.638395442246354,0.7700411692890994,0.7352038353184454,0.6541086427862735,0.5186202713425907,0.2107496753785676,0.202474300384612,0.6401619445479951,0.3357594267734501,0.7261910811559102,0.3872553562921172,0.2616249340037277,0.5020018872112215,0.3836690552548477,0.2391722134821586,0.2274310110429029,0.7690780250318101,0.4735557871811028,0.5121730473475303,0.5144705862008117,0.4601991380213531,0.6120680928027886,0.2802736580792047,0.7976833488108983,0.4941072107519994,0.6500693493564101,0.2989301053348974,0.7441365417161827,0.6872049901041015,0.2114748398739916,0.3345928179942168,0.7909277146959564,0.3267141374978868,0.2131479632393695,0.5027801327510987,0.2738971890505766,0.6266660540575104,0.6752762930275356,0.4251154596055037,0.5841926511635893,0.6627497980061179,0.5738808663871302,0.5563544407249104,0.2287762254266586,0.2648680701266271,0.7016720057416339,0.2289410338837642,0.2694738958035807,0.466588573367538,0.2741570377973424,0.3516429758417443,0.621120928912433,0.3232969493949057,0.6114440171285481,0.205582728837951,0.4525228738561179,0.2605879083088769,0.5121855405121021,0.57367866608039,0.6204358077220479,0.4512954510628554,0.7391731550019127,0.5069508718793074,0.5706187730330284,0.3696240609020556,0.670856039701091,0.498643437915951,0.5654010856140378,0.6667753499582139,0.6988992923042749,0.7838718333915169,0.4147531019304846,0.4458537383169735,0.2962241591784613,0.5288832582370402,0.7462139764772087,0.6129223492732243,0.4883983656642003,0.3407031595829338,0.2076496407611658,0.2534017037162782,0.266258550443793,0.5444916591153529,0.4964624173155926,0.7696676094386699,0.6677157335506618,0.245028928176598,0.6341457490680686,0.7428676303739494,0.5866020749412193,0.4740507408469883,0.7863745717526474,0.3584750136626244,0.2300481174877684,0.6879070483507297,0.7244842694972955,0.7113492114420259,0.4161287984323327,0.6060599192054887,0.4555971238249847,0.2695406321957639,0.7107475404063046,0.7341752069259693,0.2058033966362419,0.2830366656036154,0.5883191757076038,0.3971964956411454,0.7367165704267375,0.7730534938952642,0.3609856391480961,0.6398407672030538,0.4235732919646693,0.4056336336562161,0.2682991999422498,0.4401501355870512,0.4739232120148827,0.7014250072198309,0.6139414586901886,0.4869470065827627,0.4530438928999595,0.7316743320088517,0.3000672375249411,0.279506945741936,0.6358466672538805,0.7889415023139135,0.706609908458868,0.2622278634430217,0.7467360567633077,0.4896049103242075,0.5413660586404494,0.4628976830002393,0.5667938949752634,0.6674985767540287,0.5668150515652428,0.7175454647144563,0.7279701479011915,0.6363671808247771,0.7350576808928937,0.4898477938192993,0.4928736661952919,0.7325563568381261,0.4644127281575158,0.2380016278994658,0.5929841413240341,0.2074161277915604,0.7209993631151121,0.5148907472231778,0.6461742873936103,0.6342641259655903,0.3343909515942434,0.7734568581127124,0.7238861382229655,0.5114598074098073,0.6129449860777565,0.5709434096302486,0.4597087442653474,0.6359911810543105,0.4891578063923843,0.5982263863517147,0.5848426716843693,0.2891926713542626,0.6958626921102893,0.7352371289780362,0.5677484067733563,0.2069869204315485,0.7606228522520992,0.50334054313084,0.4815733619862996,0.4975009584549768,0.2992423239716824,0.6508580006285667,0.3923802893201641,0.3985369055128621,0.3668942781553449,0.5041575993122451,0.5302973418384075,0.4271825555113419,0.6902619834318757,0.247298357452875,0.4665133258756754,0.5438209583525297,0.2528119170215244,0.499073687704212,0.3896369164528258,0.7884024433674217,0.6471433787943707,0.210661477309361,0.4420637953832979,0.221499159442474,0.5294592738159137,0.6955452550540666,0.675069971103385,0.777902748968003,0.5825228734519987,0.7340665392950374,0.5373995432563927,0.5927575901365625,0.4737247539327523,0.4045125202686003,0.6951865943712379,0.6899532119464195,0.7065904637625515,0.3991835753328391,0.6604498399187236,0.5599706909349577,0.6299948408775056,0.4179767283018537,0.4715194737048002,0.258462213393986,0.595346152283611,0.2013181686760058,0.4130833871508414,0.5801967082817868,0.6799476293861132,0.5286143490164805,0.4243342162762406,0.2637933375497673,0.738126271206835,0.4954532853087002,0.6931031959512359,0.645506534225758,0.4455264543308087,0.352573586750858,0.3175528802910897,0.2724474844197165,0.7113166230599426,0.3293537026213676,0.6947324862245638,0.3143472584342416,0.4027601291586417,0.6542896050861643,0.2279002171455019,0.5799442805534583,0.6032850634551545,0.2739315141982369,0.7350526129476933,0.4744327261676939,0.5535896999665663,0.5025185456930221,0.7783128537185282,0.2026025766001537,0.6417283581878466,0.531935797342546,0.4596862279123788,0.5510724268090664,0.7546225242689233,0.6686488982491001,0.7461088918620458,0.6150906275744188,0.3041901621095597,0.6891464924590966,0.2621323766741406,0.5945130866790386,0.5636964643718118,0.3931062571888124,0.7288343402057706,0.4511988475002382,0.5653962161358159,0.6155093212233842,0.3489432734560782,0.4387219978731582,0.4057152836195751,0.376504125235285,0.6828780984880262,0.2829080033872074,0.5615146698058291,0.7318621132452496,0.5073767735015443,0.7058446587688967,0.5286835828157106,0.3883464770549879,0.6420911890365724,0.5321489377286284,0.3304055342117954,0.3258276177533011,0.6286307213779367,0.611966778391422,0.7527150586502569,0.2796030371546842,0.6262378662083434,0.7851076958700707,0.3066876195545201,0.5254948870583414,0.5821264609204891,0.6262116362843153,0.6564650148998401,0.5373681268708553,0.5496837626575151,0.7656041905305859,0.6260741788930204,0.6045460913235041,0.7363196008267521,0.5203416822221636,0.7264863409726372,0.4534318215026175,0.2076623090627639,0.2638822795090323,0.4285221881210508,0.2318389997046627,0.233962864577334,0.3601869616665766,0.6713193155568931,0.7901194361744026,0.6100341971988723,0.2878570340844176,0.2372196943637498,0.6706144405684199,0.3224005419921604,0.524703252459942,0.4152094624073485,0.471556702714324,0.569665300256172,0.6053156081117355,0.5371309900202221,0.3345844316888425,0.588271666592079,0.4333319972646034,0.5065533822073363,0.6781001886672755,0.6176770983083785,0.6157616451285493,0.2281879287651992,0.4289495768586754,0.449939742490807,0.6728669180385294,0.6110892578035027,0.7794999281411974,0.2322813153846498,0.6462019797474494,0.3218523336376027,0.7213099767905098,0.7162668430959498,0.4658383123426891,0.3353290986038135,0.5802730964331139,0.6257272719486016,0.4206446726103471,0.5530312041041932,0.6430700194987073,0.3178814490563277,0.6349487124277197,0.3160986272730427,0.4692889534417953,0.7900719941377292,0.2446813964261557,0.7774851493856094,0.6410476916157314,0.2716122867637793,0.2243805397831252,0.3674673477855263,0.3585437571856373,0.2965573098539682,0.7076085176543123,0.203387081610692,0.4797988029257475,0.7624966702825087,0.2239643535928579,0.7571769430754931,0.5581281992086267,0.6641965699153328,0.5752199975353867,0.7058839887167077,0.380692890989263,0.6739449094504579,0.5300961078319799,0.243728477287433,0.6246089368366853,0.5152370403109283,0.7741926305765023,0.5123637723990223,0.6717549436024146,0.2956222955104615,0.525848093049389,0.4420502398548076,0.4096417705172214,0.7300380433202707,0.5980006858641662,0.3986399219667814,0.3761446143021223,0.7701849658160911,0.5709683605901847,0.4849143132416803,0.5368008099065202,0.6512802540412539,0.589580068031566,0.2688331708413591,0.4076043744936611,0.344208725859954,0.5853586134927025,0.7511643795123624,0.3462962983201302,0.2239263490552515,0.7313960953992771,0.4288235645708401,0.6777239513918207,0.2680244165027555,0.3539543339918731,0.6343853650219544,0.2148234378308173,0.510120693544041,0.6622965933753164,0.5085854372508083,0.5052413558016281,0.4920828254991099,0.3778603817445708,0.5909169175886172,0.3921876542891325,0.2494072688291005,0.2575738586517936,0.7829772619438597,0.6639911109416552,0.5199234932988759,0.5761598455852501,0.326468884961315,0.5777086903464002,0.3279050791186877,0.6112431098112887,0.7013990466472215,0.3233477407891492,0.6972492025915216,0.7271823390255447,0.6448250209176842,0.4611426576073221,0.6900526088763079,0.2432722959528453,0.6116261235792395,0.2142517676616842,0.6301209703015479,0.2227317888476888,0.2439488174957099,0.3067952981332605,0.3511448005948255,0.2422652553392751,0.6929715911789789,0.7465919446586726,0.4445796670974759,0.470675398246425,0.4426688124225663,0.3898425475518001,0.4337011203466299,0.2709834569759713,0.2035393564764681,0.6321714086160781,0.2379425544558193,0.647570618624723,0.2273101122716755,0.7089507434036857,0.4146200832488287,0.5017021705484489,0.3739019593010481,0.6115271954298797,0.5639395047120984,0.3689104665753583,0.7560145278469153,0.4288481446882184,0.6932734220954322,0.2184914908140346,0.2937940844899465,0.3319194352763062,0.6480523469641473,0.6780622622258274,0.7096804628330073,0.3769870815879148,0.5804274014118711,0.3788339019296574,0.7321868713833493,0.779219236053603,0.72028338341113,0.5887643651953214,0.7744349894648721,0.2066901246615835,0.724860156573667,0.2848243197347305,0.2250638842807553,0.5436311569660376,0.4364490205220224,0.528515270115343,0.2510761140496633,0.3260317344142344,0.6448582898238884,0.6355624080174491,0.3270421657531909,0.7433768182066003,0.7108753108049306,0.2854730702681289,0.3103956336712299,0.5701309539440946,0.3516450667127648,0.2687735252739101,0.6025867468103471,0.5403755866836808,0.2326329835566329,0.6506250885085905,0.7940458535893846,0.529310668086701,0.5868047083154229,0.2438867432951301,0.6030111494691496,0.350412568888973,0.3184505554687496,0.5483573920452166,0.7709239438065183,0.4142830154070935,0.6027773394680306,0.3407197092475521,0.3710822863259126,0.2418853308265742,0.3160991414686409,0.4915167381643324,0.3970076469317485,0.595653350527624,0.616074877608582,0.2914369772324801,0.5401171357832556,0.6846198587849728,0.7751953531577025,0.3011837065435881,0.3879288684405765,0.671396067238714,0.6273194763354193,0.5845031266039196,0.3660079010133895,0.4156915998502336,0.6077481079085445,0.3989377701784037,0.4879723822899835,0.4672147841397298,0.6648601769155493,0.4921828294620148,0.2652995817770219,0.5873309624491379,0.2491842158516928,0.3683695637824251,0.6958662039339617,0.7347782233593674,0.3178591576065182,0.6401267702266686,0.5759713310441184,0.6364552203211187,0.7352631107805534,0.7097523637436851,0.5789758966767531,0.6875854398990743,0.5473404723635367,0.6615201529415085,0.3276564117057781,0.2219937855821579,0.3563697928643345,0.736391560727633,0.5238062700872299,0.5923448835694667,0.2891797901652095,0.4354990075080394,0.7348625262326518,0.5537604528660782,0.7142984924808107,0.2803287556679598,0.5006739028263629,0.2543324145530991,0.4183193348445025,0.2063550099552206,0.3433284827231548,0.77840016099754,0.7891119194658218,0.6104969941042822,0.6543236427641065,0.284222415594252,0.2955334507486754,0.5398143527599208,0.5394875198278426,0.723317092512856,0.287719431829094,0.6392026848353598,0.7635051549619238,0.2242518956310411,0.6568834267004229,0.3390499445625894,0.3586142690603517,0.3404112013107915,0.6011513600056205,0.5107311378764783,0.6748762742932948,0.4328558659687976,0.7507411664186872,0.7289311887909657,0.2239428191509386,0.5891148492279847,0.261935007737888,0.7810648405017238,0.580140189064952,0.3640971891650808,0.6451458242385808,0.5471788609520349,0.5420960910939417,0.4259957417264967,0.4271111102340971,0.5526072948575164,0.7389359705245604,0.2467024826258252,0.3509518461361324,0.783604465010356,0.3337395527200629,0.4435053215305418,0.6903420591401432,0.4070193938323627,0.6755944720600997,0.7323031661102668,0.203958611943589,0.7292205459131376,0.4639392204535268,0.3379944596160422,0.5087247638857827,0.3684857050099243,0.2901442446719363,0.2944144116143418,0.5612121658800664,0.6901730453297357,0.5966657857463344,0.4487682110570637,0.3981348591458306,0.2680032185383885,0.6051376557893215,0.4874126980187175,0.554474539285509,0.5883555404843316,0.4465395242979201,0.3462021844527617,0.2767310689694576,0.55540859622268,0.2808344288000781,0.5075856896006653,0.7344786028814434,0.2881190600510478,0.299804819784729,0.7534681223930606,0.5099844155828879,0.4432737898797878,0.7815462122720691,0.5825736240384879,0.727105389771822,0.6367845892686177,0.6927819860732017,0.7683523211736165,0.329956050735131,0.5639155387555472,0.4828480729489136,0.4890010394330328,0.3316182888911526,0.4464601111449542,0.2856272822377804,0.5495876825770133,0.6604940675879307,0.5739270433469806,0.5064829450749786,0.3006330209561592,0.6113546982825009,0.7534111669069685,0.5579200174984158,0.2413057382247468,0.4269268112724806,0.2793279190744614,0.2099375763640487,0.5136268058102951,0.7456035338537077,0.6106206987193004,0.6959085113535577,0.563306610716724,0.3064533105903976,0.7409649310175248,0.5598882781224097,0.7266515826457809,0.5188579701036031,0.6514298906215269,0.2559139794807475,0.5956355666979947,0.7411908534324527,0.5235715917983135,0.200720123486082,0.7626409043738414,0.6071356161649455,0.4588980951400588,0.4524104120003169],\"x0\":\" \",\"xaxis\":\"x\",\"y0\":\" \",\"yaxis\":\"y\",\"type\":\"box\"}],                        {\"template\":{\"data\":{\"histogram2dcontour\":[{\"type\":\"histogram2dcontour\",\"colorbar\":{\"outlinewidth\":0,\"ticks\":\"\"},\"colorscale\":[[0.0,\"#0d0887\"],[0.1111111111111111,\"#46039f\"],[0.2222222222222222,\"#7201a8\"],[0.3333333333333333,\"#9c179e\"],[0.4444444444444444,\"#bd3786\"],[0.5555555555555556,\"#d8576b\"],[0.6666666666666666,\"#ed7953\"],[0.7777777777777778,\"#fb9f3a\"],[0.8888888888888888,\"#fdca26\"],[1.0,\"#f0f921\"]]}],\"choropleth\":[{\"type\":\"choropleth\",\"colorbar\":{\"outlinewidth\":0,\"ticks\":\"\"}}],\"histogram2d\":[{\"type\":\"histogram2d\",\"colorbar\":{\"outlinewidth\":0,\"ticks\":\"\"},\"colorscale\":[[0.0,\"#0d0887\"],[0.1111111111111111,\"#46039f\"],[0.2222222222222222,\"#7201a8\"],[0.3333333333333333,\"#9c179e\"],[0.4444444444444444,\"#bd3786\"],[0.5555555555555556,\"#d8576b\"],[0.6666666666666666,\"#ed7953\"],[0.7777777777777778,\"#fb9f3a\"],[0.8888888888888888,\"#fdca26\"],[1.0,\"#f0f921\"]]}],\"heatmap\":[{\"type\":\"heatmap\",\"colorbar\":{\"outlinewidth\":0,\"ticks\":\"\"},\"colorscale\":[[0.0,\"#0d0887\"],[0.1111111111111111,\"#46039f\"],[0.2222222222222222,\"#7201a8\"],[0.3333333333333333,\"#9c179e\"],[0.4444444444444444,\"#bd3786\"],[0.5555555555555556,\"#d8576b\"],[0.6666666666666666,\"#ed7953\"],[0.7777777777777778,\"#fb9f3a\"],[0.8888888888888888,\"#fdca26\"],[1.0,\"#f0f921\"]]}],\"heatmapgl\":[{\"type\":\"heatmapgl\",\"colorbar\":{\"outlinewidth\":0,\"ticks\":\"\"},\"colorscale\":[[0.0,\"#0d0887\"],[0.1111111111111111,\"#46039f\"],[0.2222222222222222,\"#7201a8\"],[0.3333333333333333,\"#9c179e\"],[0.4444444444444444,\"#bd3786\"],[0.5555555555555556,\"#d8576b\"],[0.6666666666666666,\"#ed7953\"],[0.7777777777777778,\"#fb9f3a\"],[0.8888888888888888,\"#fdca26\"],[1.0,\"#f0f921\"]]}],\"contourcarpet\":[{\"type\":\"contourcarpet\",\"colorbar\":{\"outlinewidth\":0,\"ticks\":\"\"}}],\"contour\":[{\"type\":\"contour\",\"colorbar\":{\"outlinewidth\":0,\"ticks\":\"\"},\"colorscale\":[[0.0,\"#0d0887\"],[0.1111111111111111,\"#46039f\"],[0.2222222222222222,\"#7201a8\"],[0.3333333333333333,\"#9c179e\"],[0.4444444444444444,\"#bd3786\"],[0.5555555555555556,\"#d8576b\"],[0.6666666666666666,\"#ed7953\"],[0.7777777777777778,\"#fb9f3a\"],[0.8888888888888888,\"#fdca26\"],[1.0,\"#f0f921\"]]}],\"surface\":[{\"type\":\"surface\",\"colorbar\":{\"outlinewidth\":0,\"ticks\":\"\"},\"colorscale\":[[0.0,\"#0d0887\"],[0.1111111111111111,\"#46039f\"],[0.2222222222222222,\"#7201a8\"],[0.3333333333333333,\"#9c179e\"],[0.4444444444444444,\"#bd3786\"],[0.5555555555555556,\"#d8576b\"],[0.6666666666666666,\"#ed7953\"],[0.7777777777777778,\"#fb9f3a\"],[0.8888888888888888,\"#fdca26\"],[1.0,\"#f0f921\"]]}],\"mesh3d\":[{\"type\":\"mesh3d\",\"colorbar\":{\"outlinewidth\":0,\"ticks\":\"\"}}],\"scatter\":[{\"fillpattern\":{\"fillmode\":\"overlay\",\"size\":10,\"solidity\":0.2},\"type\":\"scatter\"}],\"parcoords\":[{\"type\":\"parcoords\",\"line\":{\"colorbar\":{\"outlinewidth\":0,\"ticks\":\"\"}}}],\"scatterpolargl\":[{\"type\":\"scatterpolargl\",\"marker\":{\"colorbar\":{\"outlinewidth\":0,\"ticks\":\"\"}}}],\"bar\":[{\"error_x\":{\"color\":\"#2a3f5f\"},\"error_y\":{\"color\":\"#2a3f5f\"},\"marker\":{\"line\":{\"color\":\"#E5ECF6\",\"width\":0.5},\"pattern\":{\"fillmode\":\"overlay\",\"size\":10,\"solidity\":0.2}},\"type\":\"bar\"}],\"scattergeo\":[{\"type\":\"scattergeo\",\"marker\":{\"colorbar\":{\"outlinewidth\":0,\"ticks\":\"\"}}}],\"scatterpolar\":[{\"type\":\"scatterpolar\",\"marker\":{\"colorbar\":{\"outlinewidth\":0,\"ticks\":\"\"}}}],\"histogram\":[{\"marker\":{\"pattern\":{\"fillmode\":\"overlay\",\"size\":10,\"solidity\":0.2}},\"type\":\"histogram\"}],\"scattergl\":[{\"type\":\"scattergl\",\"marker\":{\"colorbar\":{\"outlinewidth\":0,\"ticks\":\"\"}}}],\"scatter3d\":[{\"type\":\"scatter3d\",\"line\":{\"colorbar\":{\"outlinewidth\":0,\"ticks\":\"\"}},\"marker\":{\"colorbar\":{\"outlinewidth\":0,\"ticks\":\"\"}}}],\"scattermapbox\":[{\"type\":\"scattermapbox\",\"marker\":{\"colorbar\":{\"outlinewidth\":0,\"ticks\":\"\"}}}],\"scatterternary\":[{\"type\":\"scatterternary\",\"marker\":{\"colorbar\":{\"outlinewidth\":0,\"ticks\":\"\"}}}],\"scattercarpet\":[{\"type\":\"scattercarpet\",\"marker\":{\"colorbar\":{\"outlinewidth\":0,\"ticks\":\"\"}}}],\"carpet\":[{\"aaxis\":{\"endlinecolor\":\"#2a3f5f\",\"gridcolor\":\"white\",\"linecolor\":\"white\",\"minorgridcolor\":\"white\",\"startlinecolor\":\"#2a3f5f\"},\"baxis\":{\"endlinecolor\":\"#2a3f5f\",\"gridcolor\":\"white\",\"linecolor\":\"white\",\"minorgridcolor\":\"white\",\"startlinecolor\":\"#2a3f5f\"},\"type\":\"carpet\"}],\"table\":[{\"cells\":{\"fill\":{\"color\":\"#EBF0F8\"},\"line\":{\"color\":\"white\"}},\"header\":{\"fill\":{\"color\":\"#C8D4E3\"},\"line\":{\"color\":\"white\"}},\"type\":\"table\"}],\"barpolar\":[{\"marker\":{\"line\":{\"color\":\"#E5ECF6\",\"width\":0.5},\"pattern\":{\"fillmode\":\"overlay\",\"size\":10,\"solidity\":0.2}},\"type\":\"barpolar\"}],\"pie\":[{\"automargin\":true,\"type\":\"pie\"}]},\"layout\":{\"autotypenumbers\":\"strict\",\"colorway\":[\"#636efa\",\"#EF553B\",\"#00cc96\",\"#ab63fa\",\"#FFA15A\",\"#19d3f3\",\"#FF6692\",\"#B6E880\",\"#FF97FF\",\"#FECB52\"],\"font\":{\"color\":\"#2a3f5f\"},\"hovermode\":\"closest\",\"hoverlabel\":{\"align\":\"left\"},\"paper_bgcolor\":\"white\",\"plot_bgcolor\":\"#E5ECF6\",\"polar\":{\"bgcolor\":\"#E5ECF6\",\"angularaxis\":{\"gridcolor\":\"white\",\"linecolor\":\"white\",\"ticks\":\"\"},\"radialaxis\":{\"gridcolor\":\"white\",\"linecolor\":\"white\",\"ticks\":\"\"}},\"ternary\":{\"bgcolor\":\"#E5ECF6\",\"aaxis\":{\"gridcolor\":\"white\",\"linecolor\":\"white\",\"ticks\":\"\"},\"baxis\":{\"gridcolor\":\"white\",\"linecolor\":\"white\",\"ticks\":\"\"},\"caxis\":{\"gridcolor\":\"white\",\"linecolor\":\"white\",\"ticks\":\"\"}},\"coloraxis\":{\"colorbar\":{\"outlinewidth\":0,\"ticks\":\"\"}},\"colorscale\":{\"sequential\":[[0.0,\"#0d0887\"],[0.1111111111111111,\"#46039f\"],[0.2222222222222222,\"#7201a8\"],[0.3333333333333333,\"#9c179e\"],[0.4444444444444444,\"#bd3786\"],[0.5555555555555556,\"#d8576b\"],[0.6666666666666666,\"#ed7953\"],[0.7777777777777778,\"#fb9f3a\"],[0.8888888888888888,\"#fdca26\"],[1.0,\"#f0f921\"]],\"sequentialminus\":[[0.0,\"#0d0887\"],[0.1111111111111111,\"#46039f\"],[0.2222222222222222,\"#7201a8\"],[0.3333333333333333,\"#9c179e\"],[0.4444444444444444,\"#bd3786\"],[0.5555555555555556,\"#d8576b\"],[0.6666666666666666,\"#ed7953\"],[0.7777777777777778,\"#fb9f3a\"],[0.8888888888888888,\"#fdca26\"],[1.0,\"#f0f921\"]],\"diverging\":[[0,\"#8e0152\"],[0.1,\"#c51b7d\"],[0.2,\"#de77ae\"],[0.3,\"#f1b6da\"],[0.4,\"#fde0ef\"],[0.5,\"#f7f7f7\"],[0.6,\"#e6f5d0\"],[0.7,\"#b8e186\"],[0.8,\"#7fbc41\"],[0.9,\"#4d9221\"],[1,\"#276419\"]]},\"xaxis\":{\"gridcolor\":\"white\",\"linecolor\":\"white\",\"ticks\":\"\",\"title\":{\"standoff\":15},\"zerolinecolor\":\"white\",\"automargin\":true,\"zerolinewidth\":2},\"yaxis\":{\"gridcolor\":\"white\",\"linecolor\":\"white\",\"ticks\":\"\",\"title\":{\"standoff\":15},\"zerolinecolor\":\"white\",\"automargin\":true,\"zerolinewidth\":2},\"scene\":{\"xaxis\":{\"backgroundcolor\":\"#E5ECF6\",\"gridcolor\":\"white\",\"linecolor\":\"white\",\"showbackground\":true,\"ticks\":\"\",\"zerolinecolor\":\"white\",\"gridwidth\":2},\"yaxis\":{\"backgroundcolor\":\"#E5ECF6\",\"gridcolor\":\"white\",\"linecolor\":\"white\",\"showbackground\":true,\"ticks\":\"\",\"zerolinecolor\":\"white\",\"gridwidth\":2},\"zaxis\":{\"backgroundcolor\":\"#E5ECF6\",\"gridcolor\":\"white\",\"linecolor\":\"white\",\"showbackground\":true,\"ticks\":\"\",\"zerolinecolor\":\"white\",\"gridwidth\":2}},\"shapedefaults\":{\"line\":{\"color\":\"#2a3f5f\"}},\"annotationdefaults\":{\"arrowcolor\":\"#2a3f5f\",\"arrowhead\":0,\"arrowwidth\":1},\"geo\":{\"bgcolor\":\"white\",\"landcolor\":\"#E5ECF6\",\"subunitcolor\":\"white\",\"showland\":true,\"showlakes\":true,\"lakecolor\":\"white\"},\"title\":{\"x\":0.05},\"mapbox\":{\"style\":\"light\"}}},\"xaxis\":{\"anchor\":\"y\",\"domain\":[0.0,1.0],\"title\":{\"text\":\"Bounce Rate\"}},\"yaxis\":{\"anchor\":\"x\",\"domain\":[0.0,1.0]},\"legend\":{\"tracegroupgap\":0},\"margin\":{\"t\":60},\"boxmode\":\"group\"},                        {\"responsive\": true}                    ).then(function(){\n",
              "                            \n",
              "var gd = document.getElementById('d03f5042-82e7-4506-922f-79ed8f326f7f');\n",
              "var x = new MutationObserver(function (mutations, observer) {{\n",
              "        var display = window.getComputedStyle(gd).display;\n",
              "        if (!display || display === 'none') {{\n",
              "            console.log([gd, 'removed!']);\n",
              "            Plotly.purge(gd);\n",
              "            observer.disconnect();\n",
              "        }}\n",
              "}});\n",
              "\n",
              "// Listen for the removal of the full notebook cells\n",
              "var notebookContainer = gd.closest('#notebook-container');\n",
              "if (notebookContainer) {{\n",
              "    x.observe(notebookContainer, {childList: true});\n",
              "}}\n",
              "\n",
              "// Listen for the clearing of the current output cell\n",
              "var outputEl = gd.closest('.output');\n",
              "if (outputEl) {{\n",
              "    x.observe(outputEl, {childList: true});\n",
              "}}\n",
              "\n",
              "                        })                };                            </script>        </div>\n",
              "</body>\n",
              "</html>"
            ]
          },
          "metadata": {}
        },
        {
          "output_type": "display_data",
          "data": {
            "text/html": [
              "<html>\n",
              "<head><meta charset=\"utf-8\" /></head>\n",
              "<body>\n",
              "    <div>            <script src=\"https://cdnjs.cloudflare.com/ajax/libs/mathjax/2.7.5/MathJax.js?config=TeX-AMS-MML_SVG\"></script><script type=\"text/javascript\">if (window.MathJax && window.MathJax.Hub && window.MathJax.Hub.Config) {window.MathJax.Hub.Config({SVG: {font: \"STIX-Web\"}});}</script>                <script type=\"text/javascript\">window.PlotlyConfig = {MathJaxConfig: 'local'};</script>\n",
              "        <script charset=\"utf-8\" src=\"https://cdn.plot.ly/plotly-2.24.1.min.js\"></script>                <div id=\"d2de39d8-a5fc-405f-9e61-715db8755efb\" class=\"plotly-graph-div\" style=\"height:525px; width:100%;\"></div>            <script type=\"text/javascript\">                                    window.PLOTLYENV=window.PLOTLYENV || {};                                    if (document.getElementById(\"d2de39d8-a5fc-405f-9e61-715db8755efb\")) {                    Plotly.newPlot(                        \"d2de39d8-a5fc-405f-9e61-715db8755efb\",                        [{\"alignmentgroup\":\"True\",\"hovertemplate\":\"Scroll_Depth=%{x}\\u003cextra\\u003e\\u003c\\u002fextra\\u003e\",\"legendgroup\":\"\",\"marker\":{\"color\":\"#636efa\"},\"name\":\"\",\"notched\":false,\"offsetgroup\":\"\",\"orientation\":\"h\",\"showlegend\":false,\"x\":[72.48945804392022,61.85856842837475,45.73737586862724,76.30529767377683,48.92740687261026,66.12030031438313,41.03106882678631,68.27726233365865,74.4715325958457,70.23143084200066,54.56724901395302,45.529363811261845,35.27108169070239,65.95153342150726,74.6051214005291,25.029054857760663,55.89754099105283,52.62386131673159,35.468298579314805,20.328167248881822,64.6187408817213,20.426844765836208,51.35243778727737,51.18571073138448,42.50179290229653,32.32512176980081,68.25722917135136,44.53070463043591,26.39499298696752,45.56429534475919,55.12221109284433,35.678173685808595,52.16629345278213,53.88021425857131,56.7128406206789,79.50792045024292,43.84724889172847,32.22161967153616,53.1262969004162,53.45376051178624,30.723175869977304,53.5456297792098,49.025609457691445,79.31049584149707,54.65906918541624,66.45166905469951,43.88778510799219,28.28411110714029,71.82983159688838,27.14514586976805,33.786278268662784,66.98655562072014,76.95471070489069,26.016717052962544,50.50061258698742,67.16486737360262,68.05122400100956,56.84152202176633,61.07386680250909,23.123167825075093,43.34622083510618,58.15259710190772,68.26216165323045,69.39532793104429,48.30011960530062,56.01472650559728,25.288441358840664,35.78551987786751,42.25010756255972,56.54173167247564,63.46968280568391,75.84109946390156,44.038691497131694,59.37051379129538,37.188154032054165,77.8117893326905,23.44778207498007,66.41650713394375,30.516267705093902,49.662102657097,20.642623842525733,71.03405817905852,75.84550804074551,51.08919692904048,31.68478967261732,67.0375667212225,50.63287102392925,61.90698395595147,56.91139914221296,60.4414628607308,41.584399896527806,59.30114716304269,78.53875405674194,25.21056875444225,36.556212207528745,43.9660213976179,60.17972278377851,44.32705801103123,32.018622987453355,20.92199134987244,62.21731546608381,75.15064526654743,52.97555921278616,63.56832258243775,53.54683201685948,54.97594491307225,40.84850533155545,68.93089276992134,33.57773077772411,77.78342836850517,47.28554051952682,44.237388182389765,20.279087093967576,30.50208720883785,50.37428577533288,53.51784277217953,50.1901499752336,40.39795366541242,27.020539851311845,50.79720122667074,35.46160319869803,52.27420336595804,67.60335545609618,35.00848950186008,46.56611843379831,42.624816848264,49.01779373137676,34.59639538413582,40.37964580710472,66.53592830546874,60.89568039509077,73.7914293647527,71.72139675647796,48.91820972395016,35.469185889164024,42.96039475515267,67.31936111786874,33.22293937664313,62.070566071538686,68.00968363094212,44.74555833136097,41.185775928126674,52.13911444383406,62.04911313899325,35.80098148357463,37.23737497315232,43.93583819584455,64.92728791582942,40.51957267941332,53.27309024247359,30.709144835124366,38.83236677357759,33.113968027077426,54.42275714981963,30.96706715842401,64.76937548061042,75.81531580236292,31.4100498701629,64.22673487648362,34.09168231580961,34.523391070697826,35.92432239954708,33.752451927706545,70.0964288039634,70.18008259770136,41.36164240062038,66.7363088309866,27.192709559286293,24.70925435832684,77.34678104374889,49.559891796332735,20.3974205691714,71.42536023623077,77.47958542805752,70.88063574535789,42.271792123020056,38.92501435831504,73.88727202357113,72.8592349128424,54.47116279696024,36.48398197776318,30.97231178778172,65.85573952615566,50.66801813852784,43.87276987228965,65.01016314774685,27.69475700891681,51.54412662950303,45.39055204912427,76.37926528190133,21.95375882199788,40.83733769970398,71.62400782987712,66.5542378312947,47.43176205896162,27.222090824653755,51.09230836931046,38.93907592708344,20.50511628917753,60.44618362669008,42.76568021521339,26.044869568393917,41.69613954996083,71.71052139686083,31.229146517170992,35.770942078742,36.16449377149881,77.51160902369799,40.58578760888762,31.03482045178265,45.43657282465658,45.1455766114798,65.13174580289854,41.90467917367492,44.03555584533343,47.04373948867137,54.28458309075496,78.7563471090314,61.16071472848955,68.85143984848398,63.24892756489624,68.24525486043326,53.32040284524206,71.3785243246928,31.763792848219158,68.00224749407823,64.3125208390719,48.379221471697846,20.584537465843827,45.29124014061592,28.06830107967336,73.5962245685115,57.83911906943037,52.03895526553407,38.94363483130914,49.19721184672453,35.058442009451284,71.51011894695513,22.86255824494447,25.938487957660783,29.80051281751828,32.928039497353765,35.25738096678529,70.33830253624717,25.77811320864624,64.67559322773957,35.58614732070059,41.61839480415733,53.44948929481711,68.60095288949378,40.64841658763676,44.705654287891456,41.06542938979055,60.77515108724678,56.334561943542106,54.61122538561871,58.99192898681653,52.30629526430614,78.76238798214902,37.07652390976654,39.50541720086015,50.626671532166185,66.48466202759423,46.815807024970255,24.70445128429129,56.819826343591615,47.825124844184,77.39566585936322,72.09545902948477,58.43483916270009,75.71400001826359,45.30898927060071,56.73860828800689,44.2863632063124,74.42438307613614,24.74671564787603,40.61752925584521,38.80892380336444,59.18078584582642,62.62600910699624,56.32309838144971,43.727319510839024,73.2615083954774,66.85844221538594,76.3261900975547,64.87372990857949,51.25614149817498,47.01731938749062,30.03908642406144,71.25271068055977,27.502394643920248,34.07763153106982,35.0988206001091,64.63252069087189,64.98438421490701,32.63428948830536,43.82273499802172,25.733223138954813,76.20761970223083,48.39114779908973,23.229526293142843,66.25602233276331,51.43896748050885,79.76082388307952,26.23570424129915,57.08613030103193,25.05867599911958,75.89537481314152,43.39077248098134,33.761357328621976,64.25559369512287,46.58962560883791,27.5847024312364,51.60454027586479,30.23647905673293,22.109298853672648,41.41047456579005,74.9163432382947,71.85446849889519,48.03160860016117,72.25389638867266,76.09145429987359,52.91271646835428,28.10689447948735,76.90916792942116,52.357254107461856,55.44985559474715,47.39260522919037,64.93469609432718,72.63762260853551,46.0986422852247,58.3871905384339,52.02704786196112,74.53538910172952,48.89910096213286,33.62770667882611,25.373241353866597,38.47209112306683,44.732228335651925,29.34305234413128,20.633349120658192,51.39897442551543,65.49760692474834,28.17802727694135,37.20573490971235,52.10593328251709,61.26619782541173,49.515899247061085,65.32836205232161,37.9766310792264,65.95215220619826,67.87788657527682,55.82022513354512,67.80604303205817,52.8927317441898,31.31425875949973,72.92972410942065,46.22638198498729,34.993767066271374,62.89627897908591,58.759447957451606,69.70561133847745,33.2355455739708,24.75258399050208,57.51938085536442,50.99660371148808,67.9975442185794,56.79297319393229,61.635473527598506,36.31190700144031,58.907422457453706,51.91665596163659,36.12932149152631,31.280037546224307,24.107837162497862,28.19744197559146,26.62138103107782,47.32058075862948,47.166033955872415,62.02835587684233,49.51976084163313,39.23862338933143,29.128958307042147,78.1829730577636,21.327853136928788,78.33995629948683,36.92687225454828,27.502352169988725,46.30499812682289,20.49224536097519,25.411818988926868,20.883490812888542,33.03128511097111,45.21458162884862,67.14352032518194,49.90374535231148,42.283824889518826,61.8160881659797,21.90422728519826,24.81338583389504,65.03417489751162,28.76526954294965,35.99021469458322,43.545306505881854,52.59151703274851,30.896224316444524,73.74193869897988,35.00476799186351,42.89464451145472,20.756929273290133,78.47591017252759,62.8809512774478,43.0878739526385,78.49833284748834,34.82973146630183,79.67212454982561,31.950792578235845,64.11936675205646,25.637618238243064,59.96047302281075,32.50682792342851,43.34737763469322,77.672833790828,76.17291479843699,29.51668618433069,63.694224674486776,64.68347472135167,52.97479667704981,27.32849072813067,48.87377558880448,37.92878502550288,41.62559936382751,23.125250874604724,60.00168705781768,78.3964436261036,34.15795026700599,46.04969903432436,20.90406231613175,67.66342384044827,55.08181160076689,43.74849801770319,34.58535999458873,78.13009576886596,54.864621363643664,61.44508487370789,61.30439233610583,29.29951654586136,66.24782000011797,34.9233353842937,49.99515239510009,61.15667862533547,40.305325805030215,78.17910238965143,65.57360989978864,23.60314014245948,41.3310605188794,29.23510612606769,52.18119954681377,26.443499382955185,49.27057291537879,39.00437354222343,53.50102653588138,58.67875878067204,40.83906433233263,73.50775708498905,63.991329905226216,21.281169961057596,42.66613618649579,63.46394947233744,35.04177446603613,22.369312562928556,62.39755873568356,53.54148743810411,52.56404460834165,49.40551974912397,54.00210403798225,52.61723265692503,39.42085254150736,48.10368326693376,72.05971039742957,55.920796654138265,71.63365165346278,29.62060454586592,51.86824581996745,46.963051987740094,69.16511308998582,52.49635712822349,47.24473878773443,66.55507444055053,50.35746397631328,64.01946448633117,72.97594235184187,57.18407639421342,41.84451182604576,57.21183876937027,39.24164565846483,23.80050539595905,78.02978942049586,69.14298402703889,31.39216714683313,60.99345095346085,65.94404573059133,29.24789083586897,36.987745012015125,44.5882716659772,39.32144333889967,25.77537783527398,59.53346180916421,22.62663580560387,76.2679721995179,30.7183280021665,21.876425237392944,26.423310109393423,31.49699841384005,21.90902899399944,58.50510008765736,43.31592917051371,49.39457827470662,57.43822903989882,55.41805472490424,22.945137634733623,33.243367048779255,63.07071167418687,20.785166590010085,75.26211256179425,59.34496171388275,75.70422316630214,69.92466185090996,48.083548605898,58.33500298590966,41.65556306750471,64.60864645462209,73.4258366000443,69.32159097600072,67.65497462828478,23.498001466829905,57.015999525405,51.741249877506405,64.05802029537624,70.06738989229703,24.676122491629485,32.95400379326347,51.169116391443865,26.07350724570688,33.86108019873249,43.11986529355961,31.5871668724084,59.41259082351462,54.20166013776885,76.85020067344512,53.50540880077825,53.48849642955568,64.76650257655122,65.97700520096316,54.59381953982861,60.46955382468726,62.15302497084841,45.62449941761375,26.24614380306421,67.54769586640441,52.9979279942321,50.2815668303577,59.45191286124727,52.03402861882756,55.994943876420926,76.01119817152205,74.1490982391633,53.00488054370715,79.81101885049974,70.69124089407302,44.74059750028745,57.994449331129225,69.56929850244566,39.407055202907344,34.4433533682576,52.73757437494165,42.50378449218342,53.01432233727585,64.67470091019084,41.6005126960509,47.14420845247796,77.5894658552515,20.01173767133651,22.079774133692595,37.06893023659117,20.97814687383593,28.1051425606364,73.41947345517947,20.39412973836092,79.06366551900805,32.88936876761336,38.8942805029607,66.29138431933816,76.60087437468134,69.34024748621454,75.14672497823676,50.67628930046696,54.24009230401625,54.29670981528525,25.657227652253045,47.622188339675546,29.366426380757176,35.899290755577184,73.37752114928769,34.99141435309983,35.374630307141345,38.01814590032628,54.22922956934493,54.14389621520719,33.04623681348531,24.632093931845063,39.48152324240097,48.95199038367085,49.29658390240605,73.94144580793161,62.170873690947495,69.1709158901821,25.72184321071112,58.53527738171514,22.242295770699982,68.50047032964991,42.8927666299689,66.80731448050858,75.31228979121215,40.06337866839626,72.78755015901105,46.05826381587463,75.81476503662665,27.232431711161063,66.22340346577063,64.86071943615937,70.96869003875626,75.71918994699465,58.03322618190286,57.93161722234798,23.247676926009383,51.46300109081667,39.158992412654925,53.89477363955081,39.60989765930248,61.86611915564411,29.19184895628086,60.418114542176674,79.84203818122269,78.26241468442211,65.17041218063184,54.5152912310046,25.404977152683863,45.916140209041394,67.18209790929663,28.88074403950082,40.17009068245222,48.55127926384236,64.71890228210884,52.889144301052966,35.753478594904685,43.9116222419544,46.06946666858723,61.87223097549759,65.72197517821375,48.85535011856087,31.88651166313637,43.71912821482797,54.27984097425608,53.67005658864833,79.82472601637292,51.454866936614735,34.5389055035907,35.97542544161017,45.80394386801643,61.08427834099743,54.56109423470258,26.751792284137405,44.81492314794984,41.91605866624766,31.42938449415789,40.67149457061759,59.32459146866507,66.1808775237883,30.15531584068473,40.9829839838539,69.29504319585524,68.16776146391484,57.39092937669984,46.4278054437984,75.45279241420563,34.00937581048244,61.121553647736064,29.35947303074618,63.70920517419166,25.148866375850915,64.37489780241461,34.58289859396558,57.2601465553327,28.86062467191473,69.94668535298138,37.261105334937554,40.59628234526301,68.25684641805796,38.30708300325046,48.2714182240135,39.91260314390489,64.40077910036092,32.712518812925225,52.785452838211896,65.02130892514795,52.92800328866824,57.382519571448974,79.53812769413624,61.70426861886168,60.09563491570436,42.59640019372326,74.36241716006174,51.60794543183536,35.32738067373022,23.60660297454009,32.041763420040226,61.79160130827045,36.27688708294268,47.8976491040399,76.71058893576301,23.99586754529706,59.62236952989267,59.77889814320934,74.77212682072835,41.613148539192494,26.47348598498627,37.54973465237488,73.00413890901706,43.19139356814412,78.78757106395119,50.51241992858586,62.58132790011333,74.23232360875127,49.07972911004994,55.82638451377778,25.28124012935939,31.932512000494064,78.00748234599214,53.64125248477607,62.74815143115303,22.3851441952849,75.33620694104523,38.29565137635304,49.395970729023134,64.66344318852063,21.102333521893573,61.05868131752897,41.322687994792,38.13957269618128,79.7596646748085,78.71526949163592,36.55269673998335,23.72058181127564,35.46076188028333,43.23023537862394,79.99710804888247,79.42169518595898,76.64820189249784,76.94698510178648,33.53496185766526,40.50716917090504,43.57079579991032,28.235640565065296,63.79337983528097,51.243070644411006,60.67969379385488,72.36208824464288,61.19139875207602,45.04000018851197,54.37391317758672,45.58789982074671,38.74296586650701,56.32213309226248,46.9501511196347,27.90632793609377,59.14835876460814,54.861842039832695,61.04291817550587,32.138613997066464,28.286578495352742,61.31192536881702,73.91859018376715,74.57376292433702,45.80385789082309,74.54012571682493,66.20299986533183,59.37390518174914,53.89065723886137,29.48287501223216,24.068842481377853,51.97769281950663,63.16643034743694,31.048112951635236,70.37135059221302,28.731369850224045,21.769000783012068,39.12124673134024,78.37376210721142,77.67177123334338,38.20088629856906,64.73658379931831,69.30191094910953,58.21084392067046,64.30037674626536,29.117423346239875,31.276016134070492,27.892752819394985,21.571893287799124,79.15733558475148,57.01679033049759,56.33627067523141,56.74172128628702,55.78164155729824,33.85474265547598,21.56506956782699,24.7685258186495,66.78957498517731,28.045197651829383,70.768294157704,48.125809898385015,58.97411318449351,31.038588666377706,43.2476172557975,48.4308152515498,29.82718252834372,33.576383605105974,44.51534961068876,78.12890485600275,75.52610498809457,77.01188254939498,33.35325274275243,60.28034522603903,32.17001457114961,32.273726343871495,30.624692109422323,77.2819441492681,46.35711216947243,57.023561666880354,61.27176224808199,72.00649430940074,73.25521495049469,45.65334099748735,66.57288314781766,56.47579747527768,69.45971088724173,63.212054809733104,43.64904252208987,76.34834799578839,54.31606706699988,52.169563111020864,58.48362946917845,62.24675303112858,22.310718381695043,26.55897756737899,47.4140254379854,72.66601802814718,72.66679629497366,34.74329897107302,52.27214860719942,79.02983862243745,22.355097334549253,43.24387111490668,65.90959234415675,77.75553869424556,31.391020398369143,46.37323248298759,73.06385456229185,66.42062075180755,37.15487530589722,29.98919610193171,37.66518352022808,75.14196919853092,61.39717751009895,74.22053879897578,47.81473718429811,58.76609047578189,25.42644845961636,50.03946741514128,30.786283513336397,55.12686324321141,73.6596810949359,52.78442627279759,43.58400288830369,39.40765594730638,21.49472676763471,47.220844145260216,73.79705043701875,73.74769443359912,72.95290684164308,25.410779677368232,39.444486808054485,58.91458581708184,62.6881847365884,29.839641623962542,63.99573987284789,25.471474430336773,62.37360259118605,58.04434509408923,25.11839264205872,62.43674712661834,63.6124301512837,78.51148553714145,56.724352069089065,29.593980183606725,53.02075313654855,22.63436500799372,30.253098865860448,40.111588343452624,72.27832421341404,71.76034874473052,29.727445782192888,28.6764424348772,66.14940779449678,23.078629413060103,38.48373233207388,63.80970482615996,77.6579668132625,37.326832246684816,30.84176158199637,73.91251480500594,77.62603277095482,20.211973915648606,65.92374842753007,20.73246588944315,49.85765644404786,49.91853440262429,68.44727382320934,56.479035861508365,49.60800777578877,33.012430633095946,59.56823727892875,47.224309031732986,46.5125216898642,56.07299399380479,20.39438139410905,72.93007189661634,36.68677625943692,57.71812553296178,69.20728347834311,32.458256057911576,31.09039924215801,23.30383628008226,40.94118999096202,28.72246497295616,21.94592550411666,54.68556292564322,56.19712783326575,39.86666526811631,25.26216106818528,26.53325874371391,79.62411083798784,29.680113645832456,37.06283268828232,59.65547667064381,61.99080896152659,54.33695530324023,53.73063184801605,77.97759583085977,64.96008854164165,41.611318855649145,22.150402557757324,66.11071898011616,39.36931105043117,73.85178657424719,69.21588453695178,65.50651927023702,70.59857780507404,23.895551991238907,48.249010652845705,27.32139380035673,71.56447646368377,39.75251161771389,44.82547455637733,32.59072215668685,32.5430588180067,23.491075236783423,54.28202453094505,78.76099674208996,51.73679738664147,25.26018447443678,63.44444827228231,56.28668126488849,67.29109063131142,62.4083384665194,45.62321630515662,70.86787819109345,35.579602357175006,54.50856134073034,57.39464879953265,75.6263220890074,56.857398850903365,49.78381552683076,63.75108463996244,49.86446685753961,68.47882159646178,73.01982087317367,33.96329836931247,37.42928384807303,31.613326222411203],\"x0\":\" \",\"xaxis\":\"x\",\"y0\":\" \",\"yaxis\":\"y\",\"type\":\"box\"}],                        {\"template\":{\"data\":{\"histogram2dcontour\":[{\"type\":\"histogram2dcontour\",\"colorbar\":{\"outlinewidth\":0,\"ticks\":\"\"},\"colorscale\":[[0.0,\"#0d0887\"],[0.1111111111111111,\"#46039f\"],[0.2222222222222222,\"#7201a8\"],[0.3333333333333333,\"#9c179e\"],[0.4444444444444444,\"#bd3786\"],[0.5555555555555556,\"#d8576b\"],[0.6666666666666666,\"#ed7953\"],[0.7777777777777778,\"#fb9f3a\"],[0.8888888888888888,\"#fdca26\"],[1.0,\"#f0f921\"]]}],\"choropleth\":[{\"type\":\"choropleth\",\"colorbar\":{\"outlinewidth\":0,\"ticks\":\"\"}}],\"histogram2d\":[{\"type\":\"histogram2d\",\"colorbar\":{\"outlinewidth\":0,\"ticks\":\"\"},\"colorscale\":[[0.0,\"#0d0887\"],[0.1111111111111111,\"#46039f\"],[0.2222222222222222,\"#7201a8\"],[0.3333333333333333,\"#9c179e\"],[0.4444444444444444,\"#bd3786\"],[0.5555555555555556,\"#d8576b\"],[0.6666666666666666,\"#ed7953\"],[0.7777777777777778,\"#fb9f3a\"],[0.8888888888888888,\"#fdca26\"],[1.0,\"#f0f921\"]]}],\"heatmap\":[{\"type\":\"heatmap\",\"colorbar\":{\"outlinewidth\":0,\"ticks\":\"\"},\"colorscale\":[[0.0,\"#0d0887\"],[0.1111111111111111,\"#46039f\"],[0.2222222222222222,\"#7201a8\"],[0.3333333333333333,\"#9c179e\"],[0.4444444444444444,\"#bd3786\"],[0.5555555555555556,\"#d8576b\"],[0.6666666666666666,\"#ed7953\"],[0.7777777777777778,\"#fb9f3a\"],[0.8888888888888888,\"#fdca26\"],[1.0,\"#f0f921\"]]}],\"heatmapgl\":[{\"type\":\"heatmapgl\",\"colorbar\":{\"outlinewidth\":0,\"ticks\":\"\"},\"colorscale\":[[0.0,\"#0d0887\"],[0.1111111111111111,\"#46039f\"],[0.2222222222222222,\"#7201a8\"],[0.3333333333333333,\"#9c179e\"],[0.4444444444444444,\"#bd3786\"],[0.5555555555555556,\"#d8576b\"],[0.6666666666666666,\"#ed7953\"],[0.7777777777777778,\"#fb9f3a\"],[0.8888888888888888,\"#fdca26\"],[1.0,\"#f0f921\"]]}],\"contourcarpet\":[{\"type\":\"contourcarpet\",\"colorbar\":{\"outlinewidth\":0,\"ticks\":\"\"}}],\"contour\":[{\"type\":\"contour\",\"colorbar\":{\"outlinewidth\":0,\"ticks\":\"\"},\"colorscale\":[[0.0,\"#0d0887\"],[0.1111111111111111,\"#46039f\"],[0.2222222222222222,\"#7201a8\"],[0.3333333333333333,\"#9c179e\"],[0.4444444444444444,\"#bd3786\"],[0.5555555555555556,\"#d8576b\"],[0.6666666666666666,\"#ed7953\"],[0.7777777777777778,\"#fb9f3a\"],[0.8888888888888888,\"#fdca26\"],[1.0,\"#f0f921\"]]}],\"surface\":[{\"type\":\"surface\",\"colorbar\":{\"outlinewidth\":0,\"ticks\":\"\"},\"colorscale\":[[0.0,\"#0d0887\"],[0.1111111111111111,\"#46039f\"],[0.2222222222222222,\"#7201a8\"],[0.3333333333333333,\"#9c179e\"],[0.4444444444444444,\"#bd3786\"],[0.5555555555555556,\"#d8576b\"],[0.6666666666666666,\"#ed7953\"],[0.7777777777777778,\"#fb9f3a\"],[0.8888888888888888,\"#fdca26\"],[1.0,\"#f0f921\"]]}],\"mesh3d\":[{\"type\":\"mesh3d\",\"colorbar\":{\"outlinewidth\":0,\"ticks\":\"\"}}],\"scatter\":[{\"fillpattern\":{\"fillmode\":\"overlay\",\"size\":10,\"solidity\":0.2},\"type\":\"scatter\"}],\"parcoords\":[{\"type\":\"parcoords\",\"line\":{\"colorbar\":{\"outlinewidth\":0,\"ticks\":\"\"}}}],\"scatterpolargl\":[{\"type\":\"scatterpolargl\",\"marker\":{\"colorbar\":{\"outlinewidth\":0,\"ticks\":\"\"}}}],\"bar\":[{\"error_x\":{\"color\":\"#2a3f5f\"},\"error_y\":{\"color\":\"#2a3f5f\"},\"marker\":{\"line\":{\"color\":\"#E5ECF6\",\"width\":0.5},\"pattern\":{\"fillmode\":\"overlay\",\"size\":10,\"solidity\":0.2}},\"type\":\"bar\"}],\"scattergeo\":[{\"type\":\"scattergeo\",\"marker\":{\"colorbar\":{\"outlinewidth\":0,\"ticks\":\"\"}}}],\"scatterpolar\":[{\"type\":\"scatterpolar\",\"marker\":{\"colorbar\":{\"outlinewidth\":0,\"ticks\":\"\"}}}],\"histogram\":[{\"marker\":{\"pattern\":{\"fillmode\":\"overlay\",\"size\":10,\"solidity\":0.2}},\"type\":\"histogram\"}],\"scattergl\":[{\"type\":\"scattergl\",\"marker\":{\"colorbar\":{\"outlinewidth\":0,\"ticks\":\"\"}}}],\"scatter3d\":[{\"type\":\"scatter3d\",\"line\":{\"colorbar\":{\"outlinewidth\":0,\"ticks\":\"\"}},\"marker\":{\"colorbar\":{\"outlinewidth\":0,\"ticks\":\"\"}}}],\"scattermapbox\":[{\"type\":\"scattermapbox\",\"marker\":{\"colorbar\":{\"outlinewidth\":0,\"ticks\":\"\"}}}],\"scatterternary\":[{\"type\":\"scatterternary\",\"marker\":{\"colorbar\":{\"outlinewidth\":0,\"ticks\":\"\"}}}],\"scattercarpet\":[{\"type\":\"scattercarpet\",\"marker\":{\"colorbar\":{\"outlinewidth\":0,\"ticks\":\"\"}}}],\"carpet\":[{\"aaxis\":{\"endlinecolor\":\"#2a3f5f\",\"gridcolor\":\"white\",\"linecolor\":\"white\",\"minorgridcolor\":\"white\",\"startlinecolor\":\"#2a3f5f\"},\"baxis\":{\"endlinecolor\":\"#2a3f5f\",\"gridcolor\":\"white\",\"linecolor\":\"white\",\"minorgridcolor\":\"white\",\"startlinecolor\":\"#2a3f5f\"},\"type\":\"carpet\"}],\"table\":[{\"cells\":{\"fill\":{\"color\":\"#EBF0F8\"},\"line\":{\"color\":\"white\"}},\"header\":{\"fill\":{\"color\":\"#C8D4E3\"},\"line\":{\"color\":\"white\"}},\"type\":\"table\"}],\"barpolar\":[{\"marker\":{\"line\":{\"color\":\"#E5ECF6\",\"width\":0.5},\"pattern\":{\"fillmode\":\"overlay\",\"size\":10,\"solidity\":0.2}},\"type\":\"barpolar\"}],\"pie\":[{\"automargin\":true,\"type\":\"pie\"}]},\"layout\":{\"autotypenumbers\":\"strict\",\"colorway\":[\"#636efa\",\"#EF553B\",\"#00cc96\",\"#ab63fa\",\"#FFA15A\",\"#19d3f3\",\"#FF6692\",\"#B6E880\",\"#FF97FF\",\"#FECB52\"],\"font\":{\"color\":\"#2a3f5f\"},\"hovermode\":\"closest\",\"hoverlabel\":{\"align\":\"left\"},\"paper_bgcolor\":\"white\",\"plot_bgcolor\":\"#E5ECF6\",\"polar\":{\"bgcolor\":\"#E5ECF6\",\"angularaxis\":{\"gridcolor\":\"white\",\"linecolor\":\"white\",\"ticks\":\"\"},\"radialaxis\":{\"gridcolor\":\"white\",\"linecolor\":\"white\",\"ticks\":\"\"}},\"ternary\":{\"bgcolor\":\"#E5ECF6\",\"aaxis\":{\"gridcolor\":\"white\",\"linecolor\":\"white\",\"ticks\":\"\"},\"baxis\":{\"gridcolor\":\"white\",\"linecolor\":\"white\",\"ticks\":\"\"},\"caxis\":{\"gridcolor\":\"white\",\"linecolor\":\"white\",\"ticks\":\"\"}},\"coloraxis\":{\"colorbar\":{\"outlinewidth\":0,\"ticks\":\"\"}},\"colorscale\":{\"sequential\":[[0.0,\"#0d0887\"],[0.1111111111111111,\"#46039f\"],[0.2222222222222222,\"#7201a8\"],[0.3333333333333333,\"#9c179e\"],[0.4444444444444444,\"#bd3786\"],[0.5555555555555556,\"#d8576b\"],[0.6666666666666666,\"#ed7953\"],[0.7777777777777778,\"#fb9f3a\"],[0.8888888888888888,\"#fdca26\"],[1.0,\"#f0f921\"]],\"sequentialminus\":[[0.0,\"#0d0887\"],[0.1111111111111111,\"#46039f\"],[0.2222222222222222,\"#7201a8\"],[0.3333333333333333,\"#9c179e\"],[0.4444444444444444,\"#bd3786\"],[0.5555555555555556,\"#d8576b\"],[0.6666666666666666,\"#ed7953\"],[0.7777777777777778,\"#fb9f3a\"],[0.8888888888888888,\"#fdca26\"],[1.0,\"#f0f921\"]],\"diverging\":[[0,\"#8e0152\"],[0.1,\"#c51b7d\"],[0.2,\"#de77ae\"],[0.3,\"#f1b6da\"],[0.4,\"#fde0ef\"],[0.5,\"#f7f7f7\"],[0.6,\"#e6f5d0\"],[0.7,\"#b8e186\"],[0.8,\"#7fbc41\"],[0.9,\"#4d9221\"],[1,\"#276419\"]]},\"xaxis\":{\"gridcolor\":\"white\",\"linecolor\":\"white\",\"ticks\":\"\",\"title\":{\"standoff\":15},\"zerolinecolor\":\"white\",\"automargin\":true,\"zerolinewidth\":2},\"yaxis\":{\"gridcolor\":\"white\",\"linecolor\":\"white\",\"ticks\":\"\",\"title\":{\"standoff\":15},\"zerolinecolor\":\"white\",\"automargin\":true,\"zerolinewidth\":2},\"scene\":{\"xaxis\":{\"backgroundcolor\":\"#E5ECF6\",\"gridcolor\":\"white\",\"linecolor\":\"white\",\"showbackground\":true,\"ticks\":\"\",\"zerolinecolor\":\"white\",\"gridwidth\":2},\"yaxis\":{\"backgroundcolor\":\"#E5ECF6\",\"gridcolor\":\"white\",\"linecolor\":\"white\",\"showbackground\":true,\"ticks\":\"\",\"zerolinecolor\":\"white\",\"gridwidth\":2},\"zaxis\":{\"backgroundcolor\":\"#E5ECF6\",\"gridcolor\":\"white\",\"linecolor\":\"white\",\"showbackground\":true,\"ticks\":\"\",\"zerolinecolor\":\"white\",\"gridwidth\":2}},\"shapedefaults\":{\"line\":{\"color\":\"#2a3f5f\"}},\"annotationdefaults\":{\"arrowcolor\":\"#2a3f5f\",\"arrowhead\":0,\"arrowwidth\":1},\"geo\":{\"bgcolor\":\"white\",\"landcolor\":\"#E5ECF6\",\"subunitcolor\":\"white\",\"showland\":true,\"showlakes\":true,\"lakecolor\":\"white\"},\"title\":{\"x\":0.05},\"mapbox\":{\"style\":\"light\"}}},\"xaxis\":{\"anchor\":\"y\",\"domain\":[0.0,1.0],\"title\":{\"text\":\"Scroll_Depth\"}},\"yaxis\":{\"anchor\":\"x\",\"domain\":[0.0,1.0]},\"legend\":{\"tracegroupgap\":0},\"margin\":{\"t\":60},\"boxmode\":\"group\"},                        {\"responsive\": true}                    ).then(function(){\n",
              "                            \n",
              "var gd = document.getElementById('d2de39d8-a5fc-405f-9e61-715db8755efb');\n",
              "var x = new MutationObserver(function (mutations, observer) {{\n",
              "        var display = window.getComputedStyle(gd).display;\n",
              "        if (!display || display === 'none') {{\n",
              "            console.log([gd, 'removed!']);\n",
              "            Plotly.purge(gd);\n",
              "            observer.disconnect();\n",
              "        }}\n",
              "}});\n",
              "\n",
              "// Listen for the removal of the full notebook cells\n",
              "var notebookContainer = gd.closest('#notebook-container');\n",
              "if (notebookContainer) {{\n",
              "    x.observe(notebookContainer, {childList: true});\n",
              "}}\n",
              "\n",
              "// Listen for the clearing of the current output cell\n",
              "var outputEl = gd.closest('.output');\n",
              "if (outputEl) {{\n",
              "    x.observe(outputEl, {childList: true});\n",
              "}}\n",
              "\n",
              "                        })                };                            </script>        </div>\n",
              "</body>\n",
              "</html>"
            ]
          },
          "metadata": {}
        },
        {
          "output_type": "display_data",
          "data": {
            "text/html": [
              "<html>\n",
              "<head><meta charset=\"utf-8\" /></head>\n",
              "<body>\n",
              "    <div>            <script src=\"https://cdnjs.cloudflare.com/ajax/libs/mathjax/2.7.5/MathJax.js?config=TeX-AMS-MML_SVG\"></script><script type=\"text/javascript\">if (window.MathJax && window.MathJax.Hub && window.MathJax.Hub.Config) {window.MathJax.Hub.Config({SVG: {font: \"STIX-Web\"}});}</script>                <script type=\"text/javascript\">window.PlotlyConfig = {MathJaxConfig: 'local'};</script>\n",
              "        <script charset=\"utf-8\" src=\"https://cdn.plot.ly/plotly-2.24.1.min.js\"></script>                <div id=\"aca4adbb-4785-4788-ad6c-fd466a81559f\" class=\"plotly-graph-div\" style=\"height:525px; width:100%;\"></div>            <script type=\"text/javascript\">                                    window.PLOTLYENV=window.PLOTLYENV || {};                                    if (document.getElementById(\"aca4adbb-4785-4788-ad6c-fd466a81559f\")) {                    Plotly.newPlot(                        \"aca4adbb-4785-4788-ad6c-fd466a81559f\",                        [{\"alignmentgroup\":\"True\",\"hovertemplate\":\"Age=%{x}\\u003cextra\\u003e\\u003c\\u002fextra\\u003e\",\"legendgroup\":\"\",\"marker\":{\"color\":\"#636efa\"},\"name\":\"\",\"notched\":false,\"offsetgroup\":\"\",\"orientation\":\"h\",\"showlegend\":false,\"x\":[25,19,47,58,25,65,31,57,44,44,20,39,40,53,58,31,18,58,30,62,36,34,22,37,37,50,53,38,18,25,61,39,39,43,64,54,57,19,29,30,39,39,61,48,48,20,59,26,48,27,58,47,52,39,47,44,65,21,51,37,54,64,61,38,53,52,19,31,54,61,39,40,22,27,35,19,39,42,58,52,28,54,56,42,29,56,25,37,63,38,63,20,35,44,23,49,33,41,46,37,31,51,37,29,25,41,20,30,23,46,50,19,48,50,27,30,39,48,64,51,37,38,27,24,51,61,26,31,64,20,47,42,63,51,25,18,37,20,61,56,23,39,47,20,24,51,60,65,37,19,54,37,58,31,38,30,30,36,35,52,38,46,60,25,35,27,28,35,25,18,57,53,50,24,31,52,40,53,38,35,27,63,36,54,33,28,22,37,57,39,52,46,21,26,19,48,61,21,24,42,21,23,45,43,29,63,56,55,58,62,62,46,57,40,37,39,30,63,60,52,23,47,54,26,23,62,47,24,47,37,61,59,63,47,48,32,32,27,57,34,41,43,29,62,60,39,38,47,49,19,22,48,25,40,48,47,28,36,40,56,54,26,50,24,43,63,24,38,53,59,22,37,52,47,43,55,44,33,57,33,53,28,48,42,22,39,31,62,55,45,45,54,39,52,62,33,29,60,60,22,65,63,54,49,25,55,56,47,38,53,24,46,29,37,43,22,56,24,61,56,42,38,49,59,60,21,23,31,26,55,58,18,27,60,27,46,52,36,42,57,54,46,30,31,61,38,37,54,61,37,45,63,40,23,55,18,57,50,43,26,36,21,41,53,21,18,63,53,40,25,36,19,33,45,62,55,43,58,38,63,42,43,42,45,52,31,60,29,48,26,30,53,42,41,44,27,36,60,26,26,18,22,59,19,27,64,49,60,45,26,23,26,59,44,47,62,56,45,57,29,47,50,45,53,46,42,40,32,29,45,56,18,54,49,64,33,63,50,35,44,52,54,41,20,20,54,48,63,41,25,55,48,62,23,27,64,64,51,35,47,51,23,51,57,23,33,48,58,65,60,60,22,61,58,52,55,37,57,21,39,52,18,48,47,50,48,54,64,39,44,40,36,36,28,20,62,56,65,37,64,54,34,21,58,48,55,28,54,21,60,36,65,57,19,36,49,23,26,50,22,35,34,26,57,35,35,34,18,65,25,56,29,55,65,27,60,46,41,29,34,62,33,49,29,51,20,39,23,27,56,27,49,44,42,33,60,46,64,58,28,31,54,64,40,21,59,34,25,21,28,47,43,48,37,48,65,52,32,42,61,63,42,48,34,27,51,45,18,36,46,42,61,38,51,61,20,24,52,58,40,45,57,59,35,39,35,35,24,34,59,55,43,47,61,65,33,64,61,55,30,51,39,61,62,29,38,53,18,61,18,22,18,44,24,51,24,61,46,40,32,64,36,34,30,20,19,57,23,21,56,60,31,56,58,25,63,25,23,56,26,42,60,59,54,29,25,62,29,34,36,47,60,22,58,47,35,45,62,60,38,34,28,22,35,21,42,42,39,21,34,34,29,46,22,49,30,57,43,29,59,49,24,27,52,45,31,57,59,24,46,63,34,24,20,22,22,54,64,34,46,19,49,27,59,58,18,20,60,42,35,27,62,39,43,54,18,50,63,49,48,45,43,64,22,52,32,18,42,62,48,25,54,52,40,39,61,37,43,21,58,59,23,41,52,39,23,47,36,59,30,29,53,20,42,60,30,37,62,42,24,58,62,40,49,23,58,46,65,30,26,20,30,19,64,55,33,49,42,22,52,59,37,49,52,46,19,20,39,21,39,64,20,43,25,31,59,60,51,47,61,52,27,65,55,32,22,20,65,27,49,59,19,48,57,20,33,62,59,26,18,29,58,21,37,24,47,57,28,55,22,24,25,49,56,57,32,22,30,45,39,65,61,43,38,25,61,54,52,26,38,31,20,55,29,39,22,25,35,27,44,28,62,41,53,28,46,33,55,20,26,24,58,57,42,28,19,49,23,18,18,29,23,63,59,55,36,44,62,48,62,26,31,27,58,35,51,46,44,33,29,57,62,20,56,29,63,49,57,23,58,37,40,44,18,53,33,30,25,51,24,57,41,52,50,32,47,58,60,31,35,21,30,25,27,61,48,49,29,28,60,20,21,59,41,36,31,45,34,39,57,47,20,24,65,21,52,29,28,19,49,50,25,22,33,64,46,55,55,38,44,30,65,61,38,32,25,38,32,24,33],\"x0\":\" \",\"xaxis\":\"x\",\"y0\":\" \",\"yaxis\":\"y\",\"type\":\"box\"}],                        {\"template\":{\"data\":{\"histogram2dcontour\":[{\"type\":\"histogram2dcontour\",\"colorbar\":{\"outlinewidth\":0,\"ticks\":\"\"},\"colorscale\":[[0.0,\"#0d0887\"],[0.1111111111111111,\"#46039f\"],[0.2222222222222222,\"#7201a8\"],[0.3333333333333333,\"#9c179e\"],[0.4444444444444444,\"#bd3786\"],[0.5555555555555556,\"#d8576b\"],[0.6666666666666666,\"#ed7953\"],[0.7777777777777778,\"#fb9f3a\"],[0.8888888888888888,\"#fdca26\"],[1.0,\"#f0f921\"]]}],\"choropleth\":[{\"type\":\"choropleth\",\"colorbar\":{\"outlinewidth\":0,\"ticks\":\"\"}}],\"histogram2d\":[{\"type\":\"histogram2d\",\"colorbar\":{\"outlinewidth\":0,\"ticks\":\"\"},\"colorscale\":[[0.0,\"#0d0887\"],[0.1111111111111111,\"#46039f\"],[0.2222222222222222,\"#7201a8\"],[0.3333333333333333,\"#9c179e\"],[0.4444444444444444,\"#bd3786\"],[0.5555555555555556,\"#d8576b\"],[0.6666666666666666,\"#ed7953\"],[0.7777777777777778,\"#fb9f3a\"],[0.8888888888888888,\"#fdca26\"],[1.0,\"#f0f921\"]]}],\"heatmap\":[{\"type\":\"heatmap\",\"colorbar\":{\"outlinewidth\":0,\"ticks\":\"\"},\"colorscale\":[[0.0,\"#0d0887\"],[0.1111111111111111,\"#46039f\"],[0.2222222222222222,\"#7201a8\"],[0.3333333333333333,\"#9c179e\"],[0.4444444444444444,\"#bd3786\"],[0.5555555555555556,\"#d8576b\"],[0.6666666666666666,\"#ed7953\"],[0.7777777777777778,\"#fb9f3a\"],[0.8888888888888888,\"#fdca26\"],[1.0,\"#f0f921\"]]}],\"heatmapgl\":[{\"type\":\"heatmapgl\",\"colorbar\":{\"outlinewidth\":0,\"ticks\":\"\"},\"colorscale\":[[0.0,\"#0d0887\"],[0.1111111111111111,\"#46039f\"],[0.2222222222222222,\"#7201a8\"],[0.3333333333333333,\"#9c179e\"],[0.4444444444444444,\"#bd3786\"],[0.5555555555555556,\"#d8576b\"],[0.6666666666666666,\"#ed7953\"],[0.7777777777777778,\"#fb9f3a\"],[0.8888888888888888,\"#fdca26\"],[1.0,\"#f0f921\"]]}],\"contourcarpet\":[{\"type\":\"contourcarpet\",\"colorbar\":{\"outlinewidth\":0,\"ticks\":\"\"}}],\"contour\":[{\"type\":\"contour\",\"colorbar\":{\"outlinewidth\":0,\"ticks\":\"\"},\"colorscale\":[[0.0,\"#0d0887\"],[0.1111111111111111,\"#46039f\"],[0.2222222222222222,\"#7201a8\"],[0.3333333333333333,\"#9c179e\"],[0.4444444444444444,\"#bd3786\"],[0.5555555555555556,\"#d8576b\"],[0.6666666666666666,\"#ed7953\"],[0.7777777777777778,\"#fb9f3a\"],[0.8888888888888888,\"#fdca26\"],[1.0,\"#f0f921\"]]}],\"surface\":[{\"type\":\"surface\",\"colorbar\":{\"outlinewidth\":0,\"ticks\":\"\"},\"colorscale\":[[0.0,\"#0d0887\"],[0.1111111111111111,\"#46039f\"],[0.2222222222222222,\"#7201a8\"],[0.3333333333333333,\"#9c179e\"],[0.4444444444444444,\"#bd3786\"],[0.5555555555555556,\"#d8576b\"],[0.6666666666666666,\"#ed7953\"],[0.7777777777777778,\"#fb9f3a\"],[0.8888888888888888,\"#fdca26\"],[1.0,\"#f0f921\"]]}],\"mesh3d\":[{\"type\":\"mesh3d\",\"colorbar\":{\"outlinewidth\":0,\"ticks\":\"\"}}],\"scatter\":[{\"fillpattern\":{\"fillmode\":\"overlay\",\"size\":10,\"solidity\":0.2},\"type\":\"scatter\"}],\"parcoords\":[{\"type\":\"parcoords\",\"line\":{\"colorbar\":{\"outlinewidth\":0,\"ticks\":\"\"}}}],\"scatterpolargl\":[{\"type\":\"scatterpolargl\",\"marker\":{\"colorbar\":{\"outlinewidth\":0,\"ticks\":\"\"}}}],\"bar\":[{\"error_x\":{\"color\":\"#2a3f5f\"},\"error_y\":{\"color\":\"#2a3f5f\"},\"marker\":{\"line\":{\"color\":\"#E5ECF6\",\"width\":0.5},\"pattern\":{\"fillmode\":\"overlay\",\"size\":10,\"solidity\":0.2}},\"type\":\"bar\"}],\"scattergeo\":[{\"type\":\"scattergeo\",\"marker\":{\"colorbar\":{\"outlinewidth\":0,\"ticks\":\"\"}}}],\"scatterpolar\":[{\"type\":\"scatterpolar\",\"marker\":{\"colorbar\":{\"outlinewidth\":0,\"ticks\":\"\"}}}],\"histogram\":[{\"marker\":{\"pattern\":{\"fillmode\":\"overlay\",\"size\":10,\"solidity\":0.2}},\"type\":\"histogram\"}],\"scattergl\":[{\"type\":\"scattergl\",\"marker\":{\"colorbar\":{\"outlinewidth\":0,\"ticks\":\"\"}}}],\"scatter3d\":[{\"type\":\"scatter3d\",\"line\":{\"colorbar\":{\"outlinewidth\":0,\"ticks\":\"\"}},\"marker\":{\"colorbar\":{\"outlinewidth\":0,\"ticks\":\"\"}}}],\"scattermapbox\":[{\"type\":\"scattermapbox\",\"marker\":{\"colorbar\":{\"outlinewidth\":0,\"ticks\":\"\"}}}],\"scatterternary\":[{\"type\":\"scatterternary\",\"marker\":{\"colorbar\":{\"outlinewidth\":0,\"ticks\":\"\"}}}],\"scattercarpet\":[{\"type\":\"scattercarpet\",\"marker\":{\"colorbar\":{\"outlinewidth\":0,\"ticks\":\"\"}}}],\"carpet\":[{\"aaxis\":{\"endlinecolor\":\"#2a3f5f\",\"gridcolor\":\"white\",\"linecolor\":\"white\",\"minorgridcolor\":\"white\",\"startlinecolor\":\"#2a3f5f\"},\"baxis\":{\"endlinecolor\":\"#2a3f5f\",\"gridcolor\":\"white\",\"linecolor\":\"white\",\"minorgridcolor\":\"white\",\"startlinecolor\":\"#2a3f5f\"},\"type\":\"carpet\"}],\"table\":[{\"cells\":{\"fill\":{\"color\":\"#EBF0F8\"},\"line\":{\"color\":\"white\"}},\"header\":{\"fill\":{\"color\":\"#C8D4E3\"},\"line\":{\"color\":\"white\"}},\"type\":\"table\"}],\"barpolar\":[{\"marker\":{\"line\":{\"color\":\"#E5ECF6\",\"width\":0.5},\"pattern\":{\"fillmode\":\"overlay\",\"size\":10,\"solidity\":0.2}},\"type\":\"barpolar\"}],\"pie\":[{\"automargin\":true,\"type\":\"pie\"}]},\"layout\":{\"autotypenumbers\":\"strict\",\"colorway\":[\"#636efa\",\"#EF553B\",\"#00cc96\",\"#ab63fa\",\"#FFA15A\",\"#19d3f3\",\"#FF6692\",\"#B6E880\",\"#FF97FF\",\"#FECB52\"],\"font\":{\"color\":\"#2a3f5f\"},\"hovermode\":\"closest\",\"hoverlabel\":{\"align\":\"left\"},\"paper_bgcolor\":\"white\",\"plot_bgcolor\":\"#E5ECF6\",\"polar\":{\"bgcolor\":\"#E5ECF6\",\"angularaxis\":{\"gridcolor\":\"white\",\"linecolor\":\"white\",\"ticks\":\"\"},\"radialaxis\":{\"gridcolor\":\"white\",\"linecolor\":\"white\",\"ticks\":\"\"}},\"ternary\":{\"bgcolor\":\"#E5ECF6\",\"aaxis\":{\"gridcolor\":\"white\",\"linecolor\":\"white\",\"ticks\":\"\"},\"baxis\":{\"gridcolor\":\"white\",\"linecolor\":\"white\",\"ticks\":\"\"},\"caxis\":{\"gridcolor\":\"white\",\"linecolor\":\"white\",\"ticks\":\"\"}},\"coloraxis\":{\"colorbar\":{\"outlinewidth\":0,\"ticks\":\"\"}},\"colorscale\":{\"sequential\":[[0.0,\"#0d0887\"],[0.1111111111111111,\"#46039f\"],[0.2222222222222222,\"#7201a8\"],[0.3333333333333333,\"#9c179e\"],[0.4444444444444444,\"#bd3786\"],[0.5555555555555556,\"#d8576b\"],[0.6666666666666666,\"#ed7953\"],[0.7777777777777778,\"#fb9f3a\"],[0.8888888888888888,\"#fdca26\"],[1.0,\"#f0f921\"]],\"sequentialminus\":[[0.0,\"#0d0887\"],[0.1111111111111111,\"#46039f\"],[0.2222222222222222,\"#7201a8\"],[0.3333333333333333,\"#9c179e\"],[0.4444444444444444,\"#bd3786\"],[0.5555555555555556,\"#d8576b\"],[0.6666666666666666,\"#ed7953\"],[0.7777777777777778,\"#fb9f3a\"],[0.8888888888888888,\"#fdca26\"],[1.0,\"#f0f921\"]],\"diverging\":[[0,\"#8e0152\"],[0.1,\"#c51b7d\"],[0.2,\"#de77ae\"],[0.3,\"#f1b6da\"],[0.4,\"#fde0ef\"],[0.5,\"#f7f7f7\"],[0.6,\"#e6f5d0\"],[0.7,\"#b8e186\"],[0.8,\"#7fbc41\"],[0.9,\"#4d9221\"],[1,\"#276419\"]]},\"xaxis\":{\"gridcolor\":\"white\",\"linecolor\":\"white\",\"ticks\":\"\",\"title\":{\"standoff\":15},\"zerolinecolor\":\"white\",\"automargin\":true,\"zerolinewidth\":2},\"yaxis\":{\"gridcolor\":\"white\",\"linecolor\":\"white\",\"ticks\":\"\",\"title\":{\"standoff\":15},\"zerolinecolor\":\"white\",\"automargin\":true,\"zerolinewidth\":2},\"scene\":{\"xaxis\":{\"backgroundcolor\":\"#E5ECF6\",\"gridcolor\":\"white\",\"linecolor\":\"white\",\"showbackground\":true,\"ticks\":\"\",\"zerolinecolor\":\"white\",\"gridwidth\":2},\"yaxis\":{\"backgroundcolor\":\"#E5ECF6\",\"gridcolor\":\"white\",\"linecolor\":\"white\",\"showbackground\":true,\"ticks\":\"\",\"zerolinecolor\":\"white\",\"gridwidth\":2},\"zaxis\":{\"backgroundcolor\":\"#E5ECF6\",\"gridcolor\":\"white\",\"linecolor\":\"white\",\"showbackground\":true,\"ticks\":\"\",\"zerolinecolor\":\"white\",\"gridwidth\":2}},\"shapedefaults\":{\"line\":{\"color\":\"#2a3f5f\"}},\"annotationdefaults\":{\"arrowcolor\":\"#2a3f5f\",\"arrowhead\":0,\"arrowwidth\":1},\"geo\":{\"bgcolor\":\"white\",\"landcolor\":\"#E5ECF6\",\"subunitcolor\":\"white\",\"showland\":true,\"showlakes\":true,\"lakecolor\":\"white\"},\"title\":{\"x\":0.05},\"mapbox\":{\"style\":\"light\"}}},\"xaxis\":{\"anchor\":\"y\",\"domain\":[0.0,1.0],\"title\":{\"text\":\"Age\"}},\"yaxis\":{\"anchor\":\"x\",\"domain\":[0.0,1.0]},\"legend\":{\"tracegroupgap\":0},\"margin\":{\"t\":60},\"boxmode\":\"group\"},                        {\"responsive\": true}                    ).then(function(){\n",
              "                            \n",
              "var gd = document.getElementById('aca4adbb-4785-4788-ad6c-fd466a81559f');\n",
              "var x = new MutationObserver(function (mutations, observer) {{\n",
              "        var display = window.getComputedStyle(gd).display;\n",
              "        if (!display || display === 'none') {{\n",
              "            console.log([gd, 'removed!']);\n",
              "            Plotly.purge(gd);\n",
              "            observer.disconnect();\n",
              "        }}\n",
              "}});\n",
              "\n",
              "// Listen for the removal of the full notebook cells\n",
              "var notebookContainer = gd.closest('#notebook-container');\n",
              "if (notebookContainer) {{\n",
              "    x.observe(notebookContainer, {childList: true});\n",
              "}}\n",
              "\n",
              "// Listen for the clearing of the current output cell\n",
              "var outputEl = gd.closest('.output');\n",
              "if (outputEl) {{\n",
              "    x.observe(outputEl, {childList: true});\n",
              "}}\n",
              "\n",
              "                        })                };                            </script>        </div>\n",
              "</body>\n",
              "</html>"
            ]
          },
          "metadata": {}
        },
        {
          "output_type": "display_data",
          "data": {
            "text/html": [
              "<html>\n",
              "<head><meta charset=\"utf-8\" /></head>\n",
              "<body>\n",
              "    <div>            <script src=\"https://cdnjs.cloudflare.com/ajax/libs/mathjax/2.7.5/MathJax.js?config=TeX-AMS-MML_SVG\"></script><script type=\"text/javascript\">if (window.MathJax && window.MathJax.Hub && window.MathJax.Hub.Config) {window.MathJax.Hub.Config({SVG: {font: \"STIX-Web\"}});}</script>                <script type=\"text/javascript\">window.PlotlyConfig = {MathJaxConfig: 'local'};</script>\n",
              "        <script charset=\"utf-8\" src=\"https://cdn.plot.ly/plotly-2.24.1.min.js\"></script>                <div id=\"9de597b6-fd5d-49bb-90dc-46d2b0c4dfa1\" class=\"plotly-graph-div\" style=\"height:525px; width:100%;\"></div>            <script type=\"text/javascript\">                                    window.PLOTLYENV=window.PLOTLYENV || {};                                    if (document.getElementById(\"9de597b6-fd5d-49bb-90dc-46d2b0c4dfa1\")) {                    Plotly.newPlot(                        \"9de597b6-fd5d-49bb-90dc-46d2b0c4dfa1\",                        [{\"alignmentgroup\":\"True\",\"hovertemplate\":\"Session_Duration=%{x}\\u003cextra\\u003e\\u003c\\u002fextra\\u003e\",\"legendgroup\":\"\",\"marker\":{\"color\":\"#636efa\"},\"name\":\"\",\"notched\":false,\"offsetgroup\":\"\",\"orientation\":\"h\",\"showlegend\":false,\"x\":[1535,303,563,385,1437,1244,1723,700,1667,607,436,202,878,782,402,835,802,1739,1198,489,72,77,1173,1355,1283,1313,498,212,977,436,566,1466,1774,375,131,851,1295,908,1259,562,335,212,783,378,1191,270,58,1501,1106,921,1613,959,1724,1409,1042,272,489,1491,446,420,1795,1695,1631,575,619,1558,1042,812,296,913,1783,453,1258,471,1717,609,1518,1416,417,886,399,866,1652,328,88,624,566,512,1295,953,538,787,1223,1431,1355,968,205,51,990,302,692,1449,844,1436,464,1490,815,1480,896,1537,1253,554,179,225,1170,150,136,711,510,994,755,1271,1403,1673,1255,1483,1562,1688,123,40,549,1063,1299,810,649,838,1404,789,300,1175,114,1218,397,563,377,1061,1039,724,988,300,213,679,1484,1116,916,320,563,269,671,120,291,1052,1739,605,1561,768,910,609,569,1285,1728,1589,570,1088,671,922,367,676,1539,1036,1594,339,1168,1777,1376,1333,1664,931,138,416,334,141,500,405,103,993,562,364,1475,986,923,267,1043,113,934,760,1482,1178,1023,967,1039,260,1762,1504,333,283,745,221,447,611,399,1739,374,1565,1071,1714,588,1183,1388,1229,464,1225,38,1107,1600,1198,399,882,187,534,1603,1050,1416,223,703,83,612,1425,1423,279,837,795,1239,247,1744,692,344,89,196,972,1731,1479,1380,1012,959,1316,581,1246,1377,41,704,119,1373,1304,957,695,1528,1533,1662,1195,294,462,1797,129,1671,1348,609,691,1664,143,1553,174,1150,1263,811,219,846,552,394,521,1608,846,212,72,1775,456,363,825,1626,854,613,1355,1571,1369,345,276,641,1035,1670,915,1537,1681,665,1432,1265,298,765,1392,226,1734,782,1079,439,1032,942,824,1005,579,1183,1259,896,214,1579,895,1690,784,1287,411,919,1321,902,220,112,1081,729,979,1415,489,1356,1435,1491,347,1044,1109,1319,1355,1104,201,625,988,925,192,1671,1008,645,334,291,1431,645,1753,539,1101,905,635,1194,127,1158,186,122,1081,250,1075,900,875,223,981,1383,1505,1194,1694,548,757,551,1229,197,1604,1061,63,263,1546,1384,977,397,1640,403,1756,834,122,200,882,1472,639,672,1232,1512,961,1581,1402,951,1307,1684,572,729,1688,413,462,409,190,1559,1267,561,1409,247,918,1124,66,41,838,268,57,381,1373,1007,972,1446,859,1377,1554,1262,1516,1026,650,1296,1695,1293,768,1444,1409,1443,1412,838,1677,649,209,286,306,58,420,259,1701,62,1455,415,1789,84,458,1015,1358,327,1360,525,922,1754,1312,1787,1647,1133,420,206,646,1606,979,333,1000,894,74,268,370,342,1543,1468,941,1023,995,70,1790,950,1228,526,442,633,1196,1728,1737,832,134,713,46,240,1321,1765,1490,914,881,1767,1045,1539,1215,1250,1527,1165,625,105,1028,848,1025,1081,1240,1514,1282,1419,1702,1029,504,1492,154,1111,68,894,1210,676,1163,160,578,1357,884,999,269,1043,1305,1353,740,948,1458,923,72,360,619,1517,423,991,734,927,505,1069,479,1233,1432,724,1263,1777,1755,1494,1375,989,298,630,1510,1486,829,883,1736,1408,1366,1534,767,1660,997,1667,1759,361,1303,454,608,1444,1564,206,1396,1018,294,384,438,350,1270,1037,236,1655,881,1041,651,510,458,1170,126,67,764,564,761,1416,354,387,1725,1790,1061,95,1682,160,721,911,263,1294,494,277,1180,488,1026,558,726,1637,757,1605,125,1607,1170,577,339,1777,1443,1085,1267,1401,243,1476,133,926,1666,966,1753,1577,257,246,1630,1280,1278,1631,1787,238,1716,1181,115,1068,245,372,1320,271,450,770,351,1521,628,1480,934,1590,1066,1050,1530,233,345,1355,774,715,1707,312,281,1767,443,929,881,1605,1604,43,532,1739,1687,1000,729,617,1064,380,204,574,792,1494,1575,879,768,1319,1391,532,340,1572,1573,1114,893,1642,497,312,1672,908,876,868,969,1775,1087,1657,1427,770,90,936,328,1607,50,1499,1681,1089,172,203,722,674,852,1611,366,918,155,835,1584,105,1382,1343,339,1206,148,1323,1490,1666,1382,1094,635,888,853,1424,1465,1163,653,1507,1551,672,734,46,1723,602,1110,1280,330,1464,857,943,1348,450,1144,1308,1644,1296,1365,935,1458,737,1692,1630,1358,858,1618,434,647,202,105,1130,715,828,1515,1502,1545,288,1095,1137,611,467,220,1077,1160,669,1097,727,1580,1331,357,77,87,1661,1135,1243,559,524,1734,1615,652,1517,895,1064,256,1529,152,1753,793,561,1314,1069,755,283,127,1579,1363,285,949,640,1202,1539,40,958,724,513,1679,1557,1221,1188,1493,1315,1392,1122,1759,1249,508,747,642,612,1395,1637,1699,1494,1203,1407,316,1492,803,1094,1540,537,245,701,1087,1222,424,1715,1624,769,960,230,330,1487,901,1726,873,197,218,157,900,296,1005,469,943,189,786,1416,1107,854,1234,1174,1092,1625,838,570,1226,1051,1333,897,931,1441,1032,1528,883,1717,363,325,1065,290,1022,1486,967,294,1472,1081,1797,1113,271,1452,465,962,999,96,1558,351,1174,786,273,1262,1775,866,255,277,786,1200,623,112,1100,343,271,790,654,796,651,632,1025,87,1650,322,321,1635,1237,893,129],\"x0\":\" \",\"xaxis\":\"x\",\"y0\":\" \",\"yaxis\":\"y\",\"type\":\"box\"}],                        {\"template\":{\"data\":{\"histogram2dcontour\":[{\"type\":\"histogram2dcontour\",\"colorbar\":{\"outlinewidth\":0,\"ticks\":\"\"},\"colorscale\":[[0.0,\"#0d0887\"],[0.1111111111111111,\"#46039f\"],[0.2222222222222222,\"#7201a8\"],[0.3333333333333333,\"#9c179e\"],[0.4444444444444444,\"#bd3786\"],[0.5555555555555556,\"#d8576b\"],[0.6666666666666666,\"#ed7953\"],[0.7777777777777778,\"#fb9f3a\"],[0.8888888888888888,\"#fdca26\"],[1.0,\"#f0f921\"]]}],\"choropleth\":[{\"type\":\"choropleth\",\"colorbar\":{\"outlinewidth\":0,\"ticks\":\"\"}}],\"histogram2d\":[{\"type\":\"histogram2d\",\"colorbar\":{\"outlinewidth\":0,\"ticks\":\"\"},\"colorscale\":[[0.0,\"#0d0887\"],[0.1111111111111111,\"#46039f\"],[0.2222222222222222,\"#7201a8\"],[0.3333333333333333,\"#9c179e\"],[0.4444444444444444,\"#bd3786\"],[0.5555555555555556,\"#d8576b\"],[0.6666666666666666,\"#ed7953\"],[0.7777777777777778,\"#fb9f3a\"],[0.8888888888888888,\"#fdca26\"],[1.0,\"#f0f921\"]]}],\"heatmap\":[{\"type\":\"heatmap\",\"colorbar\":{\"outlinewidth\":0,\"ticks\":\"\"},\"colorscale\":[[0.0,\"#0d0887\"],[0.1111111111111111,\"#46039f\"],[0.2222222222222222,\"#7201a8\"],[0.3333333333333333,\"#9c179e\"],[0.4444444444444444,\"#bd3786\"],[0.5555555555555556,\"#d8576b\"],[0.6666666666666666,\"#ed7953\"],[0.7777777777777778,\"#fb9f3a\"],[0.8888888888888888,\"#fdca26\"],[1.0,\"#f0f921\"]]}],\"heatmapgl\":[{\"type\":\"heatmapgl\",\"colorbar\":{\"outlinewidth\":0,\"ticks\":\"\"},\"colorscale\":[[0.0,\"#0d0887\"],[0.1111111111111111,\"#46039f\"],[0.2222222222222222,\"#7201a8\"],[0.3333333333333333,\"#9c179e\"],[0.4444444444444444,\"#bd3786\"],[0.5555555555555556,\"#d8576b\"],[0.6666666666666666,\"#ed7953\"],[0.7777777777777778,\"#fb9f3a\"],[0.8888888888888888,\"#fdca26\"],[1.0,\"#f0f921\"]]}],\"contourcarpet\":[{\"type\":\"contourcarpet\",\"colorbar\":{\"outlinewidth\":0,\"ticks\":\"\"}}],\"contour\":[{\"type\":\"contour\",\"colorbar\":{\"outlinewidth\":0,\"ticks\":\"\"},\"colorscale\":[[0.0,\"#0d0887\"],[0.1111111111111111,\"#46039f\"],[0.2222222222222222,\"#7201a8\"],[0.3333333333333333,\"#9c179e\"],[0.4444444444444444,\"#bd3786\"],[0.5555555555555556,\"#d8576b\"],[0.6666666666666666,\"#ed7953\"],[0.7777777777777778,\"#fb9f3a\"],[0.8888888888888888,\"#fdca26\"],[1.0,\"#f0f921\"]]}],\"surface\":[{\"type\":\"surface\",\"colorbar\":{\"outlinewidth\":0,\"ticks\":\"\"},\"colorscale\":[[0.0,\"#0d0887\"],[0.1111111111111111,\"#46039f\"],[0.2222222222222222,\"#7201a8\"],[0.3333333333333333,\"#9c179e\"],[0.4444444444444444,\"#bd3786\"],[0.5555555555555556,\"#d8576b\"],[0.6666666666666666,\"#ed7953\"],[0.7777777777777778,\"#fb9f3a\"],[0.8888888888888888,\"#fdca26\"],[1.0,\"#f0f921\"]]}],\"mesh3d\":[{\"type\":\"mesh3d\",\"colorbar\":{\"outlinewidth\":0,\"ticks\":\"\"}}],\"scatter\":[{\"fillpattern\":{\"fillmode\":\"overlay\",\"size\":10,\"solidity\":0.2},\"type\":\"scatter\"}],\"parcoords\":[{\"type\":\"parcoords\",\"line\":{\"colorbar\":{\"outlinewidth\":0,\"ticks\":\"\"}}}],\"scatterpolargl\":[{\"type\":\"scatterpolargl\",\"marker\":{\"colorbar\":{\"outlinewidth\":0,\"ticks\":\"\"}}}],\"bar\":[{\"error_x\":{\"color\":\"#2a3f5f\"},\"error_y\":{\"color\":\"#2a3f5f\"},\"marker\":{\"line\":{\"color\":\"#E5ECF6\",\"width\":0.5},\"pattern\":{\"fillmode\":\"overlay\",\"size\":10,\"solidity\":0.2}},\"type\":\"bar\"}],\"scattergeo\":[{\"type\":\"scattergeo\",\"marker\":{\"colorbar\":{\"outlinewidth\":0,\"ticks\":\"\"}}}],\"scatterpolar\":[{\"type\":\"scatterpolar\",\"marker\":{\"colorbar\":{\"outlinewidth\":0,\"ticks\":\"\"}}}],\"histogram\":[{\"marker\":{\"pattern\":{\"fillmode\":\"overlay\",\"size\":10,\"solidity\":0.2}},\"type\":\"histogram\"}],\"scattergl\":[{\"type\":\"scattergl\",\"marker\":{\"colorbar\":{\"outlinewidth\":0,\"ticks\":\"\"}}}],\"scatter3d\":[{\"type\":\"scatter3d\",\"line\":{\"colorbar\":{\"outlinewidth\":0,\"ticks\":\"\"}},\"marker\":{\"colorbar\":{\"outlinewidth\":0,\"ticks\":\"\"}}}],\"scattermapbox\":[{\"type\":\"scattermapbox\",\"marker\":{\"colorbar\":{\"outlinewidth\":0,\"ticks\":\"\"}}}],\"scatterternary\":[{\"type\":\"scatterternary\",\"marker\":{\"colorbar\":{\"outlinewidth\":0,\"ticks\":\"\"}}}],\"scattercarpet\":[{\"type\":\"scattercarpet\",\"marker\":{\"colorbar\":{\"outlinewidth\":0,\"ticks\":\"\"}}}],\"carpet\":[{\"aaxis\":{\"endlinecolor\":\"#2a3f5f\",\"gridcolor\":\"white\",\"linecolor\":\"white\",\"minorgridcolor\":\"white\",\"startlinecolor\":\"#2a3f5f\"},\"baxis\":{\"endlinecolor\":\"#2a3f5f\",\"gridcolor\":\"white\",\"linecolor\":\"white\",\"minorgridcolor\":\"white\",\"startlinecolor\":\"#2a3f5f\"},\"type\":\"carpet\"}],\"table\":[{\"cells\":{\"fill\":{\"color\":\"#EBF0F8\"},\"line\":{\"color\":\"white\"}},\"header\":{\"fill\":{\"color\":\"#C8D4E3\"},\"line\":{\"color\":\"white\"}},\"type\":\"table\"}],\"barpolar\":[{\"marker\":{\"line\":{\"color\":\"#E5ECF6\",\"width\":0.5},\"pattern\":{\"fillmode\":\"overlay\",\"size\":10,\"solidity\":0.2}},\"type\":\"barpolar\"}],\"pie\":[{\"automargin\":true,\"type\":\"pie\"}]},\"layout\":{\"autotypenumbers\":\"strict\",\"colorway\":[\"#636efa\",\"#EF553B\",\"#00cc96\",\"#ab63fa\",\"#FFA15A\",\"#19d3f3\",\"#FF6692\",\"#B6E880\",\"#FF97FF\",\"#FECB52\"],\"font\":{\"color\":\"#2a3f5f\"},\"hovermode\":\"closest\",\"hoverlabel\":{\"align\":\"left\"},\"paper_bgcolor\":\"white\",\"plot_bgcolor\":\"#E5ECF6\",\"polar\":{\"bgcolor\":\"#E5ECF6\",\"angularaxis\":{\"gridcolor\":\"white\",\"linecolor\":\"white\",\"ticks\":\"\"},\"radialaxis\":{\"gridcolor\":\"white\",\"linecolor\":\"white\",\"ticks\":\"\"}},\"ternary\":{\"bgcolor\":\"#E5ECF6\",\"aaxis\":{\"gridcolor\":\"white\",\"linecolor\":\"white\",\"ticks\":\"\"},\"baxis\":{\"gridcolor\":\"white\",\"linecolor\":\"white\",\"ticks\":\"\"},\"caxis\":{\"gridcolor\":\"white\",\"linecolor\":\"white\",\"ticks\":\"\"}},\"coloraxis\":{\"colorbar\":{\"outlinewidth\":0,\"ticks\":\"\"}},\"colorscale\":{\"sequential\":[[0.0,\"#0d0887\"],[0.1111111111111111,\"#46039f\"],[0.2222222222222222,\"#7201a8\"],[0.3333333333333333,\"#9c179e\"],[0.4444444444444444,\"#bd3786\"],[0.5555555555555556,\"#d8576b\"],[0.6666666666666666,\"#ed7953\"],[0.7777777777777778,\"#fb9f3a\"],[0.8888888888888888,\"#fdca26\"],[1.0,\"#f0f921\"]],\"sequentialminus\":[[0.0,\"#0d0887\"],[0.1111111111111111,\"#46039f\"],[0.2222222222222222,\"#7201a8\"],[0.3333333333333333,\"#9c179e\"],[0.4444444444444444,\"#bd3786\"],[0.5555555555555556,\"#d8576b\"],[0.6666666666666666,\"#ed7953\"],[0.7777777777777778,\"#fb9f3a\"],[0.8888888888888888,\"#fdca26\"],[1.0,\"#f0f921\"]],\"diverging\":[[0,\"#8e0152\"],[0.1,\"#c51b7d\"],[0.2,\"#de77ae\"],[0.3,\"#f1b6da\"],[0.4,\"#fde0ef\"],[0.5,\"#f7f7f7\"],[0.6,\"#e6f5d0\"],[0.7,\"#b8e186\"],[0.8,\"#7fbc41\"],[0.9,\"#4d9221\"],[1,\"#276419\"]]},\"xaxis\":{\"gridcolor\":\"white\",\"linecolor\":\"white\",\"ticks\":\"\",\"title\":{\"standoff\":15},\"zerolinecolor\":\"white\",\"automargin\":true,\"zerolinewidth\":2},\"yaxis\":{\"gridcolor\":\"white\",\"linecolor\":\"white\",\"ticks\":\"\",\"title\":{\"standoff\":15},\"zerolinecolor\":\"white\",\"automargin\":true,\"zerolinewidth\":2},\"scene\":{\"xaxis\":{\"backgroundcolor\":\"#E5ECF6\",\"gridcolor\":\"white\",\"linecolor\":\"white\",\"showbackground\":true,\"ticks\":\"\",\"zerolinecolor\":\"white\",\"gridwidth\":2},\"yaxis\":{\"backgroundcolor\":\"#E5ECF6\",\"gridcolor\":\"white\",\"linecolor\":\"white\",\"showbackground\":true,\"ticks\":\"\",\"zerolinecolor\":\"white\",\"gridwidth\":2},\"zaxis\":{\"backgroundcolor\":\"#E5ECF6\",\"gridcolor\":\"white\",\"linecolor\":\"white\",\"showbackground\":true,\"ticks\":\"\",\"zerolinecolor\":\"white\",\"gridwidth\":2}},\"shapedefaults\":{\"line\":{\"color\":\"#2a3f5f\"}},\"annotationdefaults\":{\"arrowcolor\":\"#2a3f5f\",\"arrowhead\":0,\"arrowwidth\":1},\"geo\":{\"bgcolor\":\"white\",\"landcolor\":\"#E5ECF6\",\"subunitcolor\":\"white\",\"showland\":true,\"showlakes\":true,\"lakecolor\":\"white\"},\"title\":{\"x\":0.05},\"mapbox\":{\"style\":\"light\"}}},\"xaxis\":{\"anchor\":\"y\",\"domain\":[0.0,1.0],\"title\":{\"text\":\"Session_Duration\"}},\"yaxis\":{\"anchor\":\"x\",\"domain\":[0.0,1.0]},\"legend\":{\"tracegroupgap\":0},\"margin\":{\"t\":60},\"boxmode\":\"group\"},                        {\"responsive\": true}                    ).then(function(){\n",
              "                            \n",
              "var gd = document.getElementById('9de597b6-fd5d-49bb-90dc-46d2b0c4dfa1');\n",
              "var x = new MutationObserver(function (mutations, observer) {{\n",
              "        var display = window.getComputedStyle(gd).display;\n",
              "        if (!display || display === 'none') {{\n",
              "            console.log([gd, 'removed!']);\n",
              "            Plotly.purge(gd);\n",
              "            observer.disconnect();\n",
              "        }}\n",
              "}});\n",
              "\n",
              "// Listen for the removal of the full notebook cells\n",
              "var notebookContainer = gd.closest('#notebook-container');\n",
              "if (notebookContainer) {{\n",
              "    x.observe(notebookContainer, {childList: true});\n",
              "}}\n",
              "\n",
              "// Listen for the clearing of the current output cell\n",
              "var outputEl = gd.closest('.output');\n",
              "if (outputEl) {{\n",
              "    x.observe(outputEl, {childList: true});\n",
              "}}\n",
              "\n",
              "                        })                };                            </script>        </div>\n",
              "</body>\n",
              "</html>"
            ]
          },
          "metadata": {}
        }
      ]
    },
    {
      "cell_type": "markdown",
      "source": [
        "# Function Scatter Plot"
      ],
      "metadata": {
        "id": "zjU0fQOkUABH"
      }
    },
    {
      "cell_type": "code",
      "source": [
        "def relationship(data, x, y, refers):\n",
        "  fig = px.scatter(data_frame=data, x=x, y=y, trendline='ols', color=refers)\n",
        "  fig.show()\n",
        "\n",
        "relationship(data, 'Age', 'Session_Duration', 'Theme')"
      ],
      "metadata": {
        "colab": {
          "base_uri": "https://localhost:8080/",
          "height": 542
        },
        "id": "2PUwl1euLASK",
        "outputId": "b474c649-67cf-45d6-9258-9a4c96974fd6"
      },
      "execution_count": 10,
      "outputs": [
        {
          "output_type": "display_data",
          "data": {
            "text/html": [
              "<html>\n",
              "<head><meta charset=\"utf-8\" /></head>\n",
              "<body>\n",
              "    <div>            <script src=\"https://cdnjs.cloudflare.com/ajax/libs/mathjax/2.7.5/MathJax.js?config=TeX-AMS-MML_SVG\"></script><script type=\"text/javascript\">if (window.MathJax && window.MathJax.Hub && window.MathJax.Hub.Config) {window.MathJax.Hub.Config({SVG: {font: \"STIX-Web\"}});}</script>                <script type=\"text/javascript\">window.PlotlyConfig = {MathJaxConfig: 'local'};</script>\n",
              "        <script charset=\"utf-8\" src=\"https://cdn.plot.ly/plotly-2.24.1.min.js\"></script>                <div id=\"23d70eef-2a2f-4f02-86af-e62e3cb49021\" class=\"plotly-graph-div\" style=\"height:525px; width:100%;\"></div>            <script type=\"text/javascript\">                                    window.PLOTLYENV=window.PLOTLYENV || {};                                    if (document.getElementById(\"23d70eef-2a2f-4f02-86af-e62e3cb49021\")) {                    Plotly.newPlot(                        \"23d70eef-2a2f-4f02-86af-e62e3cb49021\",                        [{\"hovertemplate\":\"Theme=Light Theme\\u003cbr\\u003eAge=%{x}\\u003cbr\\u003eSession_Duration=%{y}\\u003cextra\\u003e\\u003c\\u002fextra\\u003e\",\"legendgroup\":\"Light Theme\",\"marker\":{\"color\":\"#636efa\",\"symbol\":\"circle\"},\"mode\":\"markers\",\"name\":\"Light Theme\",\"orientation\":\"v\",\"showlegend\":true,\"x\":[25,19,58,25,65,31,57,44,20,39,40,53,58,31,58,36,34,50,53,18,25,39,54,19,30,61,48,48,20,26,48,27,47,21,37,54,64,61,19,54,61,39,35,19,42,54,42,29,38,63,35,44,23,49,33,46,29,25,30,50,48,27,30,48,64,37,38,51,61,64,20,47,42,63,25,18,37,61,39,47,37,19,54,37,31,38,30,30,36,35,52,38,46,25,35,35,25,57,24,31,52,63,36,54,22,37,57,39,46,26,61,21,42,21,23,45,43,29,58,62,46,40,23,47,26,23,62,24,47,61,59,63,47,48,32,32,57,34,41,43,39,47,22,48,47,36,40,56,26,24,43,38,22,52,47,55,44,33,53,48,31,62,45,54,52,33,60,22,65,63,54,25,56,47,24,29,37,43,24,61,56,42,49,59,23,26,55,18,60,27,42,57,54,46,38,45,63,23,18,57,21,53,18,53,40,19,62,43,42,31,48,53,60,26,18,19,27,49,60,45,26,23,26,44,56,47,50,45,53,42,40,29,45,56,54,35,41,54,41,55,27,64,64,51,47,51,23,58,65,22,52,39,18,48,44,36,36,20,62,65,64,54,48,57,36,49,26,50,22,35,34,26,57,35,35,34,65,25,65,27,60,41,29,49,29,51,20,23,27,44,33,64,54,40,47,43,48,42,42,34,46,42,61,38,20,40,45,59,39,64,61,55,51,39,61,62,18,61,22,44,51,24,46,40,64,34,30,56,60,58,25,23,56,26,42,59,54,29,62,58,47,35,45,60,38,34,28,22,35,21,34,34,49,30,43,59,49,24,52,45,31,57,63,64,34,27,59,58,18,60,42,39,18,43,64,62,25,39,37,58,59,39,23,36,53,20,42,60,37,42,24,58,40,49,20,19,55,33,49,37,19,25,31,60,47,55,22,20,27,59,48,57,33,62,58,57,28,55,24,25,56,57,22,45,39,61,54,52,38,31,20,55,39,25,35,41,46,33,28,23,18,59,44,62,26,27,58,51,46,44,57,20,56,57,23,58,44,25,24,57,41,32,58,31,61,48,29,60,20,36,31,45,34,47,20,24,65,19,50,64,55,44,65,32,32,24],\"xaxis\":\"x\",\"y\":[1535,303,385,1437,1244,1723,700,607,436,202,878,782,402,835,1739,72,77,1313,498,977,436,1466,851,908,562,783,378,1191,270,1501,1106,921,1042,1491,420,1795,1695,1631,1042,296,913,1783,1717,609,1416,866,328,88,953,538,1223,1431,1355,968,205,990,1436,464,1480,1253,179,1170,150,711,510,755,1271,1255,1483,123,40,549,1063,1299,649,838,1404,300,1218,397,988,300,213,679,1116,916,320,563,269,671,120,291,1052,605,1561,609,569,1728,1088,671,922,339,1168,1777,1664,931,138,416,141,405,562,364,986,923,267,1043,113,934,1023,1039,260,1504,399,1739,1565,1071,1714,1183,1388,464,1225,38,1107,1600,1198,399,187,534,1603,1050,83,1425,837,1744,692,89,196,972,1479,1012,959,1246,704,1373,1304,695,1528,1533,294,1797,609,691,1553,174,1263,219,394,521,1608,846,212,1775,363,825,613,1571,1369,345,1035,1670,915,1537,665,1432,765,226,1734,1079,1032,942,1183,1259,896,214,784,902,220,1081,979,1415,347,1109,1355,201,625,192,645,1101,905,127,122,1075,1505,1694,548,1229,197,1061,63,263,1546,1384,977,1640,834,1472,639,672,1232,961,1581,951,1307,1684,729,1559,247,66,268,381,1446,859,1377,1554,1516,1026,650,1409,1443,1677,286,1701,1455,458,1360,922,1754,1787,1647,420,646,1606,894,1023,70,1790,1228,526,442,633,1196,1728,1737,832,134,713,240,1321,881,1767,1045,1215,1250,105,1028,848,1025,1240,1514,1029,1492,68,1163,578,1353,740,923,1517,734,505,1263,1777,1755,1494,298,829,883,1408,1534,206,1396,1018,384,438,350,1270,881,1041,510,1170,67,764,761,1416,387,1790,1061,263,1294,1180,488,726,1637,757,1605,1607,1170,577,1777,133,926,1666,966,1577,257,246,1630,1280,1278,1631,115,1068,271,450,351,628,1480,934,1066,1050,1530,233,715,881,1605,1739,1687,1000,729,1064,380,1494,768,1573,1114,908,868,1657,770,328,1607,1089,172,722,366,918,155,835,105,1343,339,1206,1323,1490,1424,1163,1507,1551,672,1110,857,1365,935,737,1630,647,105,1130,828,1502,288,1095,611,467,1097,77,87,1661,1243,559,1734,1615,1517,1064,256,152,1069,755,127,1579,1363,285,640,1539,40,1557,1493,1315,612,1699,1494,803,537,245,1222,1715,1624,960,230,330,1726,197,218,1005,469,943,1416,1092,838,570,1226,897,1441,1528,290,1022,967,1472,1081,1452,465,962,999,351,1174,786,273,277,1200,343,790,651,1025,322,1237,893],\"yaxis\":\"y\",\"type\":\"scatter\"},{\"hovertemplate\":\"\\u003cb\\u003eOLS trendline\\u003c\\u002fb\\u003e\\u003cbr\\u003eSession_Duration = -0.329812 * Age + 944.598\\u003cbr\\u003eR\\u003csup\\u003e2\\u003c\\u002fsup\\u003e=0.000083\\u003cbr\\u003e\\u003cbr\\u003eTheme=Light Theme\\u003cbr\\u003eAge=%{x}\\u003cbr\\u003eSession_Duration=%{y} \\u003cb\\u003e(trend)\\u003c\\u002fb\\u003e\\u003cextra\\u003e\\u003c\\u002fextra\\u003e\",\"legendgroup\":\"Light Theme\",\"marker\":{\"color\":\"#636efa\",\"symbol\":\"circle\"},\"mode\":\"lines\",\"name\":\"Light Theme\",\"showlegend\":false,\"x\":[18,18,18,18,18,18,18,18,18,18,18,19,19,19,19,19,19,19,19,19,19,20,20,20,20,20,20,20,20,20,20,20,20,20,21,21,21,21,21,22,22,22,22,22,22,22,22,22,22,23,23,23,23,23,23,23,23,23,23,23,23,23,24,24,24,24,24,24,24,24,24,24,24,24,25,25,25,25,25,25,25,25,25,25,25,25,25,25,25,26,26,26,26,26,26,26,26,26,26,26,26,27,27,27,27,27,27,27,27,27,27,28,28,28,29,29,29,29,29,29,29,29,29,30,30,30,30,30,30,30,31,31,31,31,31,31,31,31,31,31,31,32,32,32,32,32,33,33,33,33,33,33,33,34,34,34,34,34,34,34,34,34,34,34,35,35,35,35,35,35,35,35,35,35,35,35,36,36,36,36,36,36,36,36,36,37,37,37,37,37,37,37,37,37,37,38,38,38,38,38,38,38,38,38,39,39,39,39,39,39,39,39,39,39,39,39,39,39,40,40,40,40,40,40,40,40,40,41,41,41,41,41,41,42,42,42,42,42,42,42,42,42,42,42,42,42,42,42,43,43,43,43,43,43,43,43,44,44,44,44,44,44,44,44,44,44,44,45,45,45,45,45,45,45,45,45,45,45,46,46,46,46,46,46,46,46,46,47,47,47,47,47,47,47,47,47,47,47,47,47,47,47,47,48,48,48,48,48,48,48,48,48,48,48,48,48,48,49,49,49,49,49,49,49,49,49,50,50,50,50,50,51,51,51,51,51,51,51,52,52,52,52,52,52,52,53,53,53,53,53,53,53,53,54,54,54,54,54,54,54,54,54,54,54,54,54,54,54,55,55,55,55,55,55,55,55,55,56,56,56,56,56,56,56,56,56,57,57,57,57,57,57,57,57,57,57,57,57,57,57,57,58,58,58,58,58,58,58,58,58,58,58,58,58,58,59,59,59,59,59,59,59,59,59,60,60,60,60,60,60,60,60,60,60,60,61,61,61,61,61,61,61,61,61,61,61,61,61,61,62,62,62,62,62,62,62,62,62,62,63,63,63,63,63,63,63,64,64,64,64,64,64,64,64,64,64,64,64,65,65,65,65,65,65,65,65],\"xaxis\":\"x\",\"y\":[938.6612743479703,938.6612743479703,938.6612743479703,938.6612743479703,938.6612743479703,938.6612743479703,938.6612743479703,938.6612743479703,938.6612743479703,938.6612743479703,938.6612743479703,938.3314625288882,938.3314625288882,938.3314625288882,938.3314625288882,938.3314625288882,938.3314625288882,938.3314625288882,938.3314625288882,938.3314625288882,938.3314625288882,938.001650709806,938.001650709806,938.001650709806,938.001650709806,938.001650709806,938.001650709806,938.001650709806,938.001650709806,938.001650709806,938.001650709806,938.001650709806,938.001650709806,938.001650709806,937.6718388907238,937.6718388907238,937.6718388907238,937.6718388907238,937.6718388907238,937.3420270716416,937.3420270716416,937.3420270716416,937.3420270716416,937.3420270716416,937.3420270716416,937.3420270716416,937.3420270716416,937.3420270716416,937.3420270716416,937.0122152525594,937.0122152525594,937.0122152525594,937.0122152525594,937.0122152525594,937.0122152525594,937.0122152525594,937.0122152525594,937.0122152525594,937.0122152525594,937.0122152525594,937.0122152525594,937.0122152525594,936.6824034334772,936.6824034334772,936.6824034334772,936.6824034334772,936.6824034334772,936.6824034334772,936.6824034334772,936.6824034334772,936.6824034334772,936.6824034334772,936.6824034334772,936.6824034334772,936.352591614395,936.352591614395,936.352591614395,936.352591614395,936.352591614395,936.352591614395,936.352591614395,936.352591614395,936.352591614395,936.352591614395,936.352591614395,936.352591614395,936.352591614395,936.352591614395,936.352591614395,936.0227797953129,936.0227797953129,936.0227797953129,936.0227797953129,936.0227797953129,936.0227797953129,936.0227797953129,936.0227797953129,936.0227797953129,936.0227797953129,936.0227797953129,936.0227797953129,935.6929679762306,935.6929679762306,935.6929679762306,935.6929679762306,935.6929679762306,935.6929679762306,935.6929679762306,935.6929679762306,935.6929679762306,935.6929679762306,935.3631561571484,935.3631561571484,935.3631561571484,935.0333443380663,935.0333443380663,935.0333443380663,935.0333443380663,935.0333443380663,935.0333443380663,935.0333443380663,935.0333443380663,935.0333443380663,934.703532518984,934.703532518984,934.703532518984,934.703532518984,934.703532518984,934.703532518984,934.703532518984,934.3737206999019,934.3737206999019,934.3737206999019,934.3737206999019,934.3737206999019,934.3737206999019,934.3737206999019,934.3737206999019,934.3737206999019,934.3737206999019,934.3737206999019,934.0439088808197,934.0439088808197,934.0439088808197,934.0439088808197,934.0439088808197,933.7140970617374,933.7140970617374,933.7140970617374,933.7140970617374,933.7140970617374,933.7140970617374,933.7140970617374,933.3842852426553,933.3842852426553,933.3842852426553,933.3842852426553,933.3842852426553,933.3842852426553,933.3842852426553,933.3842852426553,933.3842852426553,933.3842852426553,933.3842852426553,933.0544734235731,933.0544734235731,933.0544734235731,933.0544734235731,933.0544734235731,933.0544734235731,933.0544734235731,933.0544734235731,933.0544734235731,933.0544734235731,933.0544734235731,933.0544734235731,932.724661604491,932.724661604491,932.724661604491,932.724661604491,932.724661604491,932.724661604491,932.724661604491,932.724661604491,932.724661604491,932.3948497854087,932.3948497854087,932.3948497854087,932.3948497854087,932.3948497854087,932.3948497854087,932.3948497854087,932.3948497854087,932.3948497854087,932.3948497854087,932.0650379663265,932.0650379663265,932.0650379663265,932.0650379663265,932.0650379663265,932.0650379663265,932.0650379663265,932.0650379663265,932.0650379663265,931.7352261472444,931.7352261472444,931.7352261472444,931.7352261472444,931.7352261472444,931.7352261472444,931.7352261472444,931.7352261472444,931.7352261472444,931.7352261472444,931.7352261472444,931.7352261472444,931.7352261472444,931.7352261472444,931.4054143281621,931.4054143281621,931.4054143281621,931.4054143281621,931.4054143281621,931.4054143281621,931.4054143281621,931.4054143281621,931.4054143281621,931.07560250908,931.07560250908,931.07560250908,931.07560250908,931.07560250908,931.07560250908,930.7457906899978,930.7457906899978,930.7457906899978,930.7457906899978,930.7457906899978,930.7457906899978,930.7457906899978,930.7457906899978,930.7457906899978,930.7457906899978,930.7457906899978,930.7457906899978,930.7457906899978,930.7457906899978,930.7457906899978,930.4159788709155,930.4159788709155,930.4159788709155,930.4159788709155,930.4159788709155,930.4159788709155,930.4159788709155,930.4159788709155,930.0861670518334,930.0861670518334,930.0861670518334,930.0861670518334,930.0861670518334,930.0861670518334,930.0861670518334,930.0861670518334,930.0861670518334,930.0861670518334,930.0861670518334,929.7563552327512,929.7563552327512,929.7563552327512,929.7563552327512,929.7563552327512,929.7563552327512,929.7563552327512,929.7563552327512,929.7563552327512,929.7563552327512,929.7563552327512,929.426543413669,929.426543413669,929.426543413669,929.426543413669,929.426543413669,929.426543413669,929.426543413669,929.426543413669,929.426543413669,929.0967315945868,929.0967315945868,929.0967315945868,929.0967315945868,929.0967315945868,929.0967315945868,929.0967315945868,929.0967315945868,929.0967315945868,929.0967315945868,929.0967315945868,929.0967315945868,929.0967315945868,929.0967315945868,929.0967315945868,929.0967315945868,928.7669197755047,928.7669197755047,928.7669197755047,928.7669197755047,928.7669197755047,928.7669197755047,928.7669197755047,928.7669197755047,928.7669197755047,928.7669197755047,928.7669197755047,928.7669197755047,928.7669197755047,928.7669197755047,928.4371079564224,928.4371079564224,928.4371079564224,928.4371079564224,928.4371079564224,928.4371079564224,928.4371079564224,928.4371079564224,928.4371079564224,928.1072961373402,928.1072961373402,928.1072961373402,928.1072961373402,928.1072961373402,927.7774843182581,927.7774843182581,927.7774843182581,927.7774843182581,927.7774843182581,927.7774843182581,927.7774843182581,927.4476724991758,927.4476724991758,927.4476724991758,927.4476724991758,927.4476724991758,927.4476724991758,927.4476724991758,927.1178606800937,927.1178606800937,927.1178606800937,927.1178606800937,927.1178606800937,927.1178606800937,927.1178606800937,927.1178606800937,926.7880488610115,926.7880488610115,926.7880488610115,926.7880488610115,926.7880488610115,926.7880488610115,926.7880488610115,926.7880488610115,926.7880488610115,926.7880488610115,926.7880488610115,926.7880488610115,926.7880488610115,926.7880488610115,926.7880488610115,926.4582370419292,926.4582370419292,926.4582370419292,926.4582370419292,926.4582370419292,926.4582370419292,926.4582370419292,926.4582370419292,926.4582370419292,926.1284252228471,926.1284252228471,926.1284252228471,926.1284252228471,926.1284252228471,926.1284252228471,926.1284252228471,926.1284252228471,926.1284252228471,925.7986134037649,925.7986134037649,925.7986134037649,925.7986134037649,925.7986134037649,925.7986134037649,925.7986134037649,925.7986134037649,925.7986134037649,925.7986134037649,925.7986134037649,925.7986134037649,925.7986134037649,925.7986134037649,925.7986134037649,925.4688015846828,925.4688015846828,925.4688015846828,925.4688015846828,925.4688015846828,925.4688015846828,925.4688015846828,925.4688015846828,925.4688015846828,925.4688015846828,925.4688015846828,925.4688015846828,925.4688015846828,925.4688015846828,925.1389897656005,925.1389897656005,925.1389897656005,925.1389897656005,925.1389897656005,925.1389897656005,925.1389897656005,925.1389897656005,925.1389897656005,924.8091779465183,924.8091779465183,924.8091779465183,924.8091779465183,924.8091779465183,924.8091779465183,924.8091779465183,924.8091779465183,924.8091779465183,924.8091779465183,924.8091779465183,924.4793661274362,924.4793661274362,924.4793661274362,924.4793661274362,924.4793661274362,924.4793661274362,924.4793661274362,924.4793661274362,924.4793661274362,924.4793661274362,924.4793661274362,924.4793661274362,924.4793661274362,924.4793661274362,924.1495543083539,924.1495543083539,924.1495543083539,924.1495543083539,924.1495543083539,924.1495543083539,924.1495543083539,924.1495543083539,924.1495543083539,924.1495543083539,923.8197424892718,923.8197424892718,923.8197424892718,923.8197424892718,923.8197424892718,923.8197424892718,923.8197424892718,923.4899306701896,923.4899306701896,923.4899306701896,923.4899306701896,923.4899306701896,923.4899306701896,923.4899306701896,923.4899306701896,923.4899306701896,923.4899306701896,923.4899306701896,923.4899306701896,923.1601188511073,923.1601188511073,923.1601188511073,923.1601188511073,923.1601188511073,923.1601188511073,923.1601188511073,923.1601188511073],\"yaxis\":\"y\",\"type\":\"scatter\"},{\"hovertemplate\":\"Theme=Dark Theme\\u003cbr\\u003eAge=%{x}\\u003cbr\\u003eSession_Duration=%{y}\\u003cextra\\u003e\\u003c\\u002fextra\\u003e\",\"legendgroup\":\"Dark Theme\",\"marker\":{\"color\":\"#EF553B\",\"symbol\":\"circle\"},\"mode\":\"markers\",\"name\":\"Dark Theme\",\"orientation\":\"v\",\"showlegend\":true,\"x\":[47,44,18,30,62,22,37,37,38,61,39,43,64,57,29,39,39,59,58,47,52,39,44,65,51,38,53,52,31,40,22,27,39,58,52,28,56,56,25,37,63,20,41,37,31,51,37,41,20,23,46,19,50,39,51,27,24,26,31,51,20,56,23,20,24,51,60,65,58,60,27,28,18,53,50,40,53,38,35,27,33,28,52,21,19,48,24,63,56,55,62,57,37,39,30,63,60,52,54,47,37,27,29,62,60,38,49,19,48,25,40,28,54,50,63,24,53,59,37,43,57,33,28,42,22,39,55,45,39,62,29,60,49,55,38,53,46,22,56,38,60,21,31,58,27,46,52,36,30,31,61,37,54,61,37,40,55,50,43,26,36,41,21,63,25,36,33,45,55,43,58,38,63,42,45,52,60,29,26,30,42,41,44,27,36,26,22,59,64,59,47,62,45,57,29,46,32,18,49,64,33,63,50,44,52,54,20,20,48,63,25,48,62,23,35,51,57,23,33,48,60,60,61,58,55,37,57,21,52,48,47,50,54,64,39,40,28,56,37,34,21,58,55,28,54,21,60,36,65,19,23,18,56,29,55,46,34,62,33,39,56,27,49,42,60,46,58,28,31,64,21,59,34,25,21,28,48,37,65,52,32,61,63,48,27,51,45,18,36,51,61,24,52,58,57,35,35,35,24,34,59,55,43,47,61,65,33,30,29,38,53,18,18,24,61,32,36,20,19,57,23,21,31,56,63,25,60,25,29,34,36,47,60,22,62,42,42,39,21,29,46,22,57,29,27,59,24,46,34,24,20,22,22,54,46,19,49,20,35,27,62,43,54,50,63,49,48,45,22,52,32,18,42,48,54,52,40,61,43,21,23,41,52,47,59,30,29,30,62,62,23,58,46,65,30,26,30,64,42,22,52,59,49,52,46,20,39,21,39,64,20,43,59,51,61,52,27,65,32,65,49,19,20,59,26,18,29,21,37,24,47,22,49,32,30,65,43,38,25,61,26,29,22,27,44,28,62,53,28,55,20,26,24,58,57,42,19,49,18,29,23,63,55,36,48,62,31,35,33,29,62,29,63,49,37,40,18,53,33,30,51,52,50,47,60,35,21,30,25,27,49,28,21,59,41,39,57,21,52,29,28,49,25,22,33,46,55,38,30,61,38,25,38,33],\"xaxis\":\"x\",\"y\":[563,1667,802,1198,489,1173,1355,1283,212,566,1774,375,131,1295,1259,335,212,58,1613,959,1724,1409,272,489,446,575,619,1558,812,453,1258,471,1518,417,886,399,1652,624,566,512,1295,787,51,302,692,1449,844,1490,815,896,1537,554,225,136,994,1403,1673,1562,1688,810,789,1175,114,563,377,1061,1039,724,1484,1739,768,910,1285,1589,570,367,676,1539,1036,1594,1376,1333,334,500,103,993,1475,760,1482,1178,967,1762,333,283,745,221,447,611,374,588,1229,882,1416,223,703,612,1423,279,795,1239,247,344,1731,1380,1316,581,1377,41,119,957,1662,1195,462,129,1671,1348,1664,143,1150,811,846,552,72,456,1626,854,1355,276,641,1681,1265,298,1392,782,439,824,1005,579,1579,895,1690,1287,411,919,1321,112,729,489,1356,1435,1491,1044,1319,1104,988,925,1671,1008,334,291,1431,645,1753,539,635,1194,1158,186,1081,250,900,875,223,981,1383,1194,757,551,1604,397,403,1756,122,200,882,1512,1402,572,1688,413,462,409,190,1267,561,1409,918,1124,41,838,57,1373,1007,972,1262,1296,1695,1293,768,1444,1412,838,649,209,306,58,420,259,62,415,1789,84,1015,1358,327,525,1312,1133,206,979,333,1000,74,268,370,342,1543,1468,941,995,950,46,1765,1490,914,1539,1527,1165,625,1081,1282,1419,1702,504,154,1111,894,1210,676,160,1357,884,999,269,1043,1305,948,1458,72,360,619,423,991,927,1069,479,1233,1432,724,1375,989,630,1510,1486,1736,1366,767,1660,997,1667,1759,361,1303,454,608,1444,1564,294,1037,236,1655,651,458,126,564,354,1725,95,1682,160,721,911,494,277,1026,558,125,339,1443,1085,1267,1401,243,1476,1753,1787,238,1716,1181,245,372,1320,770,1521,1590,345,1355,774,1707,312,281,1767,443,929,1604,43,532,617,204,574,792,1575,879,1319,1391,532,340,1572,893,1642,497,312,1672,876,969,1775,1087,1427,90,936,50,1499,1681,203,674,852,1611,1584,1382,148,1666,1382,1094,635,888,853,1465,653,734,46,1723,602,1280,330,1464,943,1348,450,1144,1308,1644,1296,1458,1692,1358,858,1618,434,202,715,1515,1545,1137,220,1077,1160,669,727,1580,1331,357,1135,524,652,895,1529,1753,793,561,1314,283,949,1202,958,724,513,1679,1221,1188,1392,1122,1759,1249,508,747,642,1395,1637,1203,1407,316,1492,1094,1540,701,1087,424,769,1487,901,873,157,900,296,189,786,1107,854,1234,1174,1625,1051,1333,931,1032,883,1717,363,325,1065,1486,294,1797,1113,271,96,1558,1262,1775,866,255,786,623,112,1100,271,654,796,632,87,1650,321,1635,129],\"yaxis\":\"y\",\"type\":\"scatter\"},{\"hovertemplate\":\"\\u003cb\\u003eOLS trendline\\u003c\\u002fb\\u003e\\u003cbr\\u003eSession_Duration = 1.24456 * Age + 868.042\\u003cbr\\u003eR\\u003csup\\u003e2\\u003c\\u002fsup\\u003e=0.001206\\u003cbr\\u003e\\u003cbr\\u003eTheme=Dark Theme\\u003cbr\\u003eAge=%{x}\\u003cbr\\u003eSession_Duration=%{y} \\u003cb\\u003e(trend)\\u003c\\u002fb\\u003e\\u003cextra\\u003e\\u003c\\u002fextra\\u003e\",\"legendgroup\":\"Dark Theme\",\"marker\":{\"color\":\"#EF553B\",\"symbol\":\"circle\"},\"mode\":\"lines\",\"name\":\"Dark Theme\",\"showlegend\":false,\"x\":[18,18,18,18,18,18,18,18,18,18,18,19,19,19,19,19,19,19,19,20,20,20,20,20,20,20,20,20,20,20,20,20,21,21,21,21,21,21,21,21,21,21,21,21,21,21,21,21,22,22,22,22,22,22,22,22,22,22,22,22,22,22,23,23,23,23,23,23,23,23,23,24,24,24,24,24,24,24,24,24,24,24,25,25,25,25,25,25,25,25,25,25,25,26,26,26,26,26,26,26,26,27,27,27,27,27,27,27,27,27,27,27,27,27,27,28,28,28,28,28,28,28,28,28,28,28,28,28,29,29,29,29,29,29,29,29,29,29,29,29,29,29,29,29,29,30,30,30,30,30,30,30,30,30,30,30,30,30,31,31,31,31,31,31,31,31,32,32,32,32,32,32,33,33,33,33,33,33,33,33,33,33,33,34,34,34,34,34,34,35,35,35,35,35,35,35,35,36,36,36,36,36,36,36,36,36,37,37,37,37,37,37,37,37,37,37,37,37,37,37,37,38,38,38,38,38,38,38,38,38,38,38,38,39,39,39,39,39,39,39,39,39,39,39,39,39,39,39,40,40,40,40,40,40,40,41,41,41,41,41,41,42,42,42,42,42,42,42,42,42,43,43,43,43,43,43,43,43,43,44,44,44,44,44,45,45,45,45,45,45,46,46,46,46,46,46,46,46,46,46,46,46,47,47,47,47,47,47,47,47,47,47,48,48,48,48,48,48,48,48,48,48,48,49,49,49,49,49,49,49,49,49,49,49,49,49,50,50,50,50,50,50,50,50,51,51,51,51,51,51,51,51,51,51,52,52,52,52,52,52,52,52,52,52,52,52,52,52,52,52,52,52,52,53,53,53,53,53,53,53,53,54,54,54,54,54,54,54,54,54,55,55,55,55,55,55,55,55,55,55,55,55,56,56,56,56,56,56,56,56,56,57,57,57,57,57,57,57,57,57,57,57,58,58,58,58,58,58,58,58,58,58,58,59,59,59,59,59,59,59,59,59,59,59,59,60,60,60,60,60,60,60,60,60,60,60,60,60,60,61,61,61,61,61,61,61,61,61,61,61,61,62,62,62,62,62,62,62,62,62,62,62,62,62,62,63,63,63,63,63,63,63,63,63,63,63,63,63,64,64,64,64,64,64,64,65,65,65,65,65,65,65,65,65],\"xaxis\":\"x\",\"y\":[890.4436379529623,890.4436379529623,890.4436379529623,890.4436379529623,890.4436379529623,890.4436379529623,890.4436379529623,890.4436379529623,890.4436379529623,890.4436379529623,890.4436379529623,891.6881947854627,891.6881947854627,891.6881947854627,891.6881947854627,891.6881947854627,891.6881947854627,891.6881947854627,891.6881947854627,892.932751617963,892.932751617963,892.932751617963,892.932751617963,892.932751617963,892.932751617963,892.932751617963,892.932751617963,892.932751617963,892.932751617963,892.932751617963,892.932751617963,892.932751617963,894.1773084504634,894.1773084504634,894.1773084504634,894.1773084504634,894.1773084504634,894.1773084504634,894.1773084504634,894.1773084504634,894.1773084504634,894.1773084504634,894.1773084504634,894.1773084504634,894.1773084504634,894.1773084504634,894.1773084504634,894.1773084504634,895.4218652829638,895.4218652829638,895.4218652829638,895.4218652829638,895.4218652829638,895.4218652829638,895.4218652829638,895.4218652829638,895.4218652829638,895.4218652829638,895.4218652829638,895.4218652829638,895.4218652829638,895.4218652829638,896.6664221154642,896.6664221154642,896.6664221154642,896.6664221154642,896.6664221154642,896.6664221154642,896.6664221154642,896.6664221154642,896.6664221154642,897.9109789479647,897.9109789479647,897.9109789479647,897.9109789479647,897.9109789479647,897.9109789479647,897.9109789479647,897.9109789479647,897.9109789479647,897.9109789479647,897.9109789479647,899.1555357804651,899.1555357804651,899.1555357804651,899.1555357804651,899.1555357804651,899.1555357804651,899.1555357804651,899.1555357804651,899.1555357804651,899.1555357804651,899.1555357804651,900.4000926129655,900.4000926129655,900.4000926129655,900.4000926129655,900.4000926129655,900.4000926129655,900.4000926129655,900.4000926129655,901.6446494454659,901.6446494454659,901.6446494454659,901.6446494454659,901.6446494454659,901.6446494454659,901.6446494454659,901.6446494454659,901.6446494454659,901.6446494454659,901.6446494454659,901.6446494454659,901.6446494454659,901.6446494454659,902.8892062779663,902.8892062779663,902.8892062779663,902.8892062779663,902.8892062779663,902.8892062779663,902.8892062779663,902.8892062779663,902.8892062779663,902.8892062779663,902.8892062779663,902.8892062779663,902.8892062779663,904.1337631104667,904.1337631104667,904.1337631104667,904.1337631104667,904.1337631104667,904.1337631104667,904.1337631104667,904.1337631104667,904.1337631104667,904.1337631104667,904.1337631104667,904.1337631104667,904.1337631104667,904.1337631104667,904.1337631104667,904.1337631104667,904.1337631104667,905.3783199429672,905.3783199429672,905.3783199429672,905.3783199429672,905.3783199429672,905.3783199429672,905.3783199429672,905.3783199429672,905.3783199429672,905.3783199429672,905.3783199429672,905.3783199429672,905.3783199429672,906.6228767754676,906.6228767754676,906.6228767754676,906.6228767754676,906.6228767754676,906.6228767754676,906.6228767754676,906.6228767754676,907.867433607968,907.867433607968,907.867433607968,907.867433607968,907.867433607968,907.867433607968,909.1119904404684,909.1119904404684,909.1119904404684,909.1119904404684,909.1119904404684,909.1119904404684,909.1119904404684,909.1119904404684,909.1119904404684,909.1119904404684,909.1119904404684,910.3565472729688,910.3565472729688,910.3565472729688,910.3565472729688,910.3565472729688,910.3565472729688,911.6011041054692,911.6011041054692,911.6011041054692,911.6011041054692,911.6011041054692,911.6011041054692,911.6011041054692,911.6011041054692,912.8456609379696,912.8456609379696,912.8456609379696,912.8456609379696,912.8456609379696,912.8456609379696,912.8456609379696,912.8456609379696,912.8456609379696,914.0902177704701,914.0902177704701,914.0902177704701,914.0902177704701,914.0902177704701,914.0902177704701,914.0902177704701,914.0902177704701,914.0902177704701,914.0902177704701,914.0902177704701,914.0902177704701,914.0902177704701,914.0902177704701,914.0902177704701,915.3347746029705,915.3347746029705,915.3347746029705,915.3347746029705,915.3347746029705,915.3347746029705,915.3347746029705,915.3347746029705,915.3347746029705,915.3347746029705,915.3347746029705,915.3347746029705,916.5793314354709,916.5793314354709,916.5793314354709,916.5793314354709,916.5793314354709,916.5793314354709,916.5793314354709,916.5793314354709,916.5793314354709,916.5793314354709,916.5793314354709,916.5793314354709,916.5793314354709,916.5793314354709,916.5793314354709,917.8238882679713,917.8238882679713,917.8238882679713,917.8238882679713,917.8238882679713,917.8238882679713,917.8238882679713,919.0684451004716,919.0684451004716,919.0684451004716,919.0684451004716,919.0684451004716,919.0684451004716,920.313001932972,920.313001932972,920.313001932972,920.313001932972,920.313001932972,920.313001932972,920.313001932972,920.313001932972,920.313001932972,921.5575587654724,921.5575587654724,921.5575587654724,921.5575587654724,921.5575587654724,921.5575587654724,921.5575587654724,921.5575587654724,921.5575587654724,922.8021155979729,922.8021155979729,922.8021155979729,922.8021155979729,922.8021155979729,924.0466724304733,924.0466724304733,924.0466724304733,924.0466724304733,924.0466724304733,924.0466724304733,925.2912292629737,925.2912292629737,925.2912292629737,925.2912292629737,925.2912292629737,925.2912292629737,925.2912292629737,925.2912292629737,925.2912292629737,925.2912292629737,925.2912292629737,925.2912292629737,926.5357860954741,926.5357860954741,926.5357860954741,926.5357860954741,926.5357860954741,926.5357860954741,926.5357860954741,926.5357860954741,926.5357860954741,926.5357860954741,927.7803429279745,927.7803429279745,927.7803429279745,927.7803429279745,927.7803429279745,927.7803429279745,927.7803429279745,927.7803429279745,927.7803429279745,927.7803429279745,927.7803429279745,929.0248997604749,929.0248997604749,929.0248997604749,929.0248997604749,929.0248997604749,929.0248997604749,929.0248997604749,929.0248997604749,929.0248997604749,929.0248997604749,929.0248997604749,929.0248997604749,929.0248997604749,930.2694565929753,930.2694565929753,930.2694565929753,930.2694565929753,930.2694565929753,930.2694565929753,930.2694565929753,930.2694565929753,931.5140134254758,931.5140134254758,931.5140134254758,931.5140134254758,931.5140134254758,931.5140134254758,931.5140134254758,931.5140134254758,931.5140134254758,931.5140134254758,932.7585702579762,932.7585702579762,932.7585702579762,932.7585702579762,932.7585702579762,932.7585702579762,932.7585702579762,932.7585702579762,932.7585702579762,932.7585702579762,932.7585702579762,932.7585702579762,932.7585702579762,932.7585702579762,932.7585702579762,932.7585702579762,932.7585702579762,932.7585702579762,932.7585702579762,934.0031270904766,934.0031270904766,934.0031270904766,934.0031270904766,934.0031270904766,934.0031270904766,934.0031270904766,934.0031270904766,935.247683922977,935.247683922977,935.247683922977,935.247683922977,935.247683922977,935.247683922977,935.247683922977,935.247683922977,935.247683922977,936.4922407554774,936.4922407554774,936.4922407554774,936.4922407554774,936.4922407554774,936.4922407554774,936.4922407554774,936.4922407554774,936.4922407554774,936.4922407554774,936.4922407554774,936.4922407554774,937.7367975879778,937.7367975879778,937.7367975879778,937.7367975879778,937.7367975879778,937.7367975879778,937.7367975879778,937.7367975879778,937.7367975879778,938.9813544204783,938.9813544204783,938.9813544204783,938.9813544204783,938.9813544204783,938.9813544204783,938.9813544204783,938.9813544204783,938.9813544204783,938.9813544204783,938.9813544204783,940.2259112529787,940.2259112529787,940.2259112529787,940.2259112529787,940.2259112529787,940.2259112529787,940.2259112529787,940.2259112529787,940.2259112529787,940.2259112529787,940.2259112529787,941.4704680854791,941.4704680854791,941.4704680854791,941.4704680854791,941.4704680854791,941.4704680854791,941.4704680854791,941.4704680854791,941.4704680854791,941.4704680854791,941.4704680854791,941.4704680854791,942.7150249179795,942.7150249179795,942.7150249179795,942.7150249179795,942.7150249179795,942.7150249179795,942.7150249179795,942.7150249179795,942.7150249179795,942.7150249179795,942.7150249179795,942.7150249179795,942.7150249179795,942.7150249179795,943.9595817504799,943.9595817504799,943.9595817504799,943.9595817504799,943.9595817504799,943.9595817504799,943.9595817504799,943.9595817504799,943.9595817504799,943.9595817504799,943.9595817504799,943.9595817504799,945.2041385829802,945.2041385829802,945.2041385829802,945.2041385829802,945.2041385829802,945.2041385829802,945.2041385829802,945.2041385829802,945.2041385829802,945.2041385829802,945.2041385829802,945.2041385829802,945.2041385829802,945.2041385829802,946.4486954154806,946.4486954154806,946.4486954154806,946.4486954154806,946.4486954154806,946.4486954154806,946.4486954154806,946.4486954154806,946.4486954154806,946.4486954154806,946.4486954154806,946.4486954154806,946.4486954154806,947.6932522479811,947.6932522479811,947.6932522479811,947.6932522479811,947.6932522479811,947.6932522479811,947.6932522479811,948.9378090804815,948.9378090804815,948.9378090804815,948.9378090804815,948.9378090804815,948.9378090804815,948.9378090804815,948.9378090804815,948.9378090804815],\"yaxis\":\"y\",\"type\":\"scatter\"}],                        {\"template\":{\"data\":{\"histogram2dcontour\":[{\"type\":\"histogram2dcontour\",\"colorbar\":{\"outlinewidth\":0,\"ticks\":\"\"},\"colorscale\":[[0.0,\"#0d0887\"],[0.1111111111111111,\"#46039f\"],[0.2222222222222222,\"#7201a8\"],[0.3333333333333333,\"#9c179e\"],[0.4444444444444444,\"#bd3786\"],[0.5555555555555556,\"#d8576b\"],[0.6666666666666666,\"#ed7953\"],[0.7777777777777778,\"#fb9f3a\"],[0.8888888888888888,\"#fdca26\"],[1.0,\"#f0f921\"]]}],\"choropleth\":[{\"type\":\"choropleth\",\"colorbar\":{\"outlinewidth\":0,\"ticks\":\"\"}}],\"histogram2d\":[{\"type\":\"histogram2d\",\"colorbar\":{\"outlinewidth\":0,\"ticks\":\"\"},\"colorscale\":[[0.0,\"#0d0887\"],[0.1111111111111111,\"#46039f\"],[0.2222222222222222,\"#7201a8\"],[0.3333333333333333,\"#9c179e\"],[0.4444444444444444,\"#bd3786\"],[0.5555555555555556,\"#d8576b\"],[0.6666666666666666,\"#ed7953\"],[0.7777777777777778,\"#fb9f3a\"],[0.8888888888888888,\"#fdca26\"],[1.0,\"#f0f921\"]]}],\"heatmap\":[{\"type\":\"heatmap\",\"colorbar\":{\"outlinewidth\":0,\"ticks\":\"\"},\"colorscale\":[[0.0,\"#0d0887\"],[0.1111111111111111,\"#46039f\"],[0.2222222222222222,\"#7201a8\"],[0.3333333333333333,\"#9c179e\"],[0.4444444444444444,\"#bd3786\"],[0.5555555555555556,\"#d8576b\"],[0.6666666666666666,\"#ed7953\"],[0.7777777777777778,\"#fb9f3a\"],[0.8888888888888888,\"#fdca26\"],[1.0,\"#f0f921\"]]}],\"heatmapgl\":[{\"type\":\"heatmapgl\",\"colorbar\":{\"outlinewidth\":0,\"ticks\":\"\"},\"colorscale\":[[0.0,\"#0d0887\"],[0.1111111111111111,\"#46039f\"],[0.2222222222222222,\"#7201a8\"],[0.3333333333333333,\"#9c179e\"],[0.4444444444444444,\"#bd3786\"],[0.5555555555555556,\"#d8576b\"],[0.6666666666666666,\"#ed7953\"],[0.7777777777777778,\"#fb9f3a\"],[0.8888888888888888,\"#fdca26\"],[1.0,\"#f0f921\"]]}],\"contourcarpet\":[{\"type\":\"contourcarpet\",\"colorbar\":{\"outlinewidth\":0,\"ticks\":\"\"}}],\"contour\":[{\"type\":\"contour\",\"colorbar\":{\"outlinewidth\":0,\"ticks\":\"\"},\"colorscale\":[[0.0,\"#0d0887\"],[0.1111111111111111,\"#46039f\"],[0.2222222222222222,\"#7201a8\"],[0.3333333333333333,\"#9c179e\"],[0.4444444444444444,\"#bd3786\"],[0.5555555555555556,\"#d8576b\"],[0.6666666666666666,\"#ed7953\"],[0.7777777777777778,\"#fb9f3a\"],[0.8888888888888888,\"#fdca26\"],[1.0,\"#f0f921\"]]}],\"surface\":[{\"type\":\"surface\",\"colorbar\":{\"outlinewidth\":0,\"ticks\":\"\"},\"colorscale\":[[0.0,\"#0d0887\"],[0.1111111111111111,\"#46039f\"],[0.2222222222222222,\"#7201a8\"],[0.3333333333333333,\"#9c179e\"],[0.4444444444444444,\"#bd3786\"],[0.5555555555555556,\"#d8576b\"],[0.6666666666666666,\"#ed7953\"],[0.7777777777777778,\"#fb9f3a\"],[0.8888888888888888,\"#fdca26\"],[1.0,\"#f0f921\"]]}],\"mesh3d\":[{\"type\":\"mesh3d\",\"colorbar\":{\"outlinewidth\":0,\"ticks\":\"\"}}],\"scatter\":[{\"fillpattern\":{\"fillmode\":\"overlay\",\"size\":10,\"solidity\":0.2},\"type\":\"scatter\"}],\"parcoords\":[{\"type\":\"parcoords\",\"line\":{\"colorbar\":{\"outlinewidth\":0,\"ticks\":\"\"}}}],\"scatterpolargl\":[{\"type\":\"scatterpolargl\",\"marker\":{\"colorbar\":{\"outlinewidth\":0,\"ticks\":\"\"}}}],\"bar\":[{\"error_x\":{\"color\":\"#2a3f5f\"},\"error_y\":{\"color\":\"#2a3f5f\"},\"marker\":{\"line\":{\"color\":\"#E5ECF6\",\"width\":0.5},\"pattern\":{\"fillmode\":\"overlay\",\"size\":10,\"solidity\":0.2}},\"type\":\"bar\"}],\"scattergeo\":[{\"type\":\"scattergeo\",\"marker\":{\"colorbar\":{\"outlinewidth\":0,\"ticks\":\"\"}}}],\"scatterpolar\":[{\"type\":\"scatterpolar\",\"marker\":{\"colorbar\":{\"outlinewidth\":0,\"ticks\":\"\"}}}],\"histogram\":[{\"marker\":{\"pattern\":{\"fillmode\":\"overlay\",\"size\":10,\"solidity\":0.2}},\"type\":\"histogram\"}],\"scattergl\":[{\"type\":\"scattergl\",\"marker\":{\"colorbar\":{\"outlinewidth\":0,\"ticks\":\"\"}}}],\"scatter3d\":[{\"type\":\"scatter3d\",\"line\":{\"colorbar\":{\"outlinewidth\":0,\"ticks\":\"\"}},\"marker\":{\"colorbar\":{\"outlinewidth\":0,\"ticks\":\"\"}}}],\"scattermapbox\":[{\"type\":\"scattermapbox\",\"marker\":{\"colorbar\":{\"outlinewidth\":0,\"ticks\":\"\"}}}],\"scatterternary\":[{\"type\":\"scatterternary\",\"marker\":{\"colorbar\":{\"outlinewidth\":0,\"ticks\":\"\"}}}],\"scattercarpet\":[{\"type\":\"scattercarpet\",\"marker\":{\"colorbar\":{\"outlinewidth\":0,\"ticks\":\"\"}}}],\"carpet\":[{\"aaxis\":{\"endlinecolor\":\"#2a3f5f\",\"gridcolor\":\"white\",\"linecolor\":\"white\",\"minorgridcolor\":\"white\",\"startlinecolor\":\"#2a3f5f\"},\"baxis\":{\"endlinecolor\":\"#2a3f5f\",\"gridcolor\":\"white\",\"linecolor\":\"white\",\"minorgridcolor\":\"white\",\"startlinecolor\":\"#2a3f5f\"},\"type\":\"carpet\"}],\"table\":[{\"cells\":{\"fill\":{\"color\":\"#EBF0F8\"},\"line\":{\"color\":\"white\"}},\"header\":{\"fill\":{\"color\":\"#C8D4E3\"},\"line\":{\"color\":\"white\"}},\"type\":\"table\"}],\"barpolar\":[{\"marker\":{\"line\":{\"color\":\"#E5ECF6\",\"width\":0.5},\"pattern\":{\"fillmode\":\"overlay\",\"size\":10,\"solidity\":0.2}},\"type\":\"barpolar\"}],\"pie\":[{\"automargin\":true,\"type\":\"pie\"}]},\"layout\":{\"autotypenumbers\":\"strict\",\"colorway\":[\"#636efa\",\"#EF553B\",\"#00cc96\",\"#ab63fa\",\"#FFA15A\",\"#19d3f3\",\"#FF6692\",\"#B6E880\",\"#FF97FF\",\"#FECB52\"],\"font\":{\"color\":\"#2a3f5f\"},\"hovermode\":\"closest\",\"hoverlabel\":{\"align\":\"left\"},\"paper_bgcolor\":\"white\",\"plot_bgcolor\":\"#E5ECF6\",\"polar\":{\"bgcolor\":\"#E5ECF6\",\"angularaxis\":{\"gridcolor\":\"white\",\"linecolor\":\"white\",\"ticks\":\"\"},\"radialaxis\":{\"gridcolor\":\"white\",\"linecolor\":\"white\",\"ticks\":\"\"}},\"ternary\":{\"bgcolor\":\"#E5ECF6\",\"aaxis\":{\"gridcolor\":\"white\",\"linecolor\":\"white\",\"ticks\":\"\"},\"baxis\":{\"gridcolor\":\"white\",\"linecolor\":\"white\",\"ticks\":\"\"},\"caxis\":{\"gridcolor\":\"white\",\"linecolor\":\"white\",\"ticks\":\"\"}},\"coloraxis\":{\"colorbar\":{\"outlinewidth\":0,\"ticks\":\"\"}},\"colorscale\":{\"sequential\":[[0.0,\"#0d0887\"],[0.1111111111111111,\"#46039f\"],[0.2222222222222222,\"#7201a8\"],[0.3333333333333333,\"#9c179e\"],[0.4444444444444444,\"#bd3786\"],[0.5555555555555556,\"#d8576b\"],[0.6666666666666666,\"#ed7953\"],[0.7777777777777778,\"#fb9f3a\"],[0.8888888888888888,\"#fdca26\"],[1.0,\"#f0f921\"]],\"sequentialminus\":[[0.0,\"#0d0887\"],[0.1111111111111111,\"#46039f\"],[0.2222222222222222,\"#7201a8\"],[0.3333333333333333,\"#9c179e\"],[0.4444444444444444,\"#bd3786\"],[0.5555555555555556,\"#d8576b\"],[0.6666666666666666,\"#ed7953\"],[0.7777777777777778,\"#fb9f3a\"],[0.8888888888888888,\"#fdca26\"],[1.0,\"#f0f921\"]],\"diverging\":[[0,\"#8e0152\"],[0.1,\"#c51b7d\"],[0.2,\"#de77ae\"],[0.3,\"#f1b6da\"],[0.4,\"#fde0ef\"],[0.5,\"#f7f7f7\"],[0.6,\"#e6f5d0\"],[0.7,\"#b8e186\"],[0.8,\"#7fbc41\"],[0.9,\"#4d9221\"],[1,\"#276419\"]]},\"xaxis\":{\"gridcolor\":\"white\",\"linecolor\":\"white\",\"ticks\":\"\",\"title\":{\"standoff\":15},\"zerolinecolor\":\"white\",\"automargin\":true,\"zerolinewidth\":2},\"yaxis\":{\"gridcolor\":\"white\",\"linecolor\":\"white\",\"ticks\":\"\",\"title\":{\"standoff\":15},\"zerolinecolor\":\"white\",\"automargin\":true,\"zerolinewidth\":2},\"scene\":{\"xaxis\":{\"backgroundcolor\":\"#E5ECF6\",\"gridcolor\":\"white\",\"linecolor\":\"white\",\"showbackground\":true,\"ticks\":\"\",\"zerolinecolor\":\"white\",\"gridwidth\":2},\"yaxis\":{\"backgroundcolor\":\"#E5ECF6\",\"gridcolor\":\"white\",\"linecolor\":\"white\",\"showbackground\":true,\"ticks\":\"\",\"zerolinecolor\":\"white\",\"gridwidth\":2},\"zaxis\":{\"backgroundcolor\":\"#E5ECF6\",\"gridcolor\":\"white\",\"linecolor\":\"white\",\"showbackground\":true,\"ticks\":\"\",\"zerolinecolor\":\"white\",\"gridwidth\":2}},\"shapedefaults\":{\"line\":{\"color\":\"#2a3f5f\"}},\"annotationdefaults\":{\"arrowcolor\":\"#2a3f5f\",\"arrowhead\":0,\"arrowwidth\":1},\"geo\":{\"bgcolor\":\"white\",\"landcolor\":\"#E5ECF6\",\"subunitcolor\":\"white\",\"showland\":true,\"showlakes\":true,\"lakecolor\":\"white\"},\"title\":{\"x\":0.05},\"mapbox\":{\"style\":\"light\"}}},\"xaxis\":{\"anchor\":\"y\",\"domain\":[0.0,1.0],\"title\":{\"text\":\"Age\"}},\"yaxis\":{\"anchor\":\"x\",\"domain\":[0.0,1.0],\"title\":{\"text\":\"Session_Duration\"}},\"legend\":{\"title\":{\"text\":\"Theme\"},\"tracegroupgap\":0},\"margin\":{\"t\":60}},                        {\"responsive\": true}                    ).then(function(){\n",
              "                            \n",
              "var gd = document.getElementById('23d70eef-2a2f-4f02-86af-e62e3cb49021');\n",
              "var x = new MutationObserver(function (mutations, observer) {{\n",
              "        var display = window.getComputedStyle(gd).display;\n",
              "        if (!display || display === 'none') {{\n",
              "            console.log([gd, 'removed!']);\n",
              "            Plotly.purge(gd);\n",
              "            observer.disconnect();\n",
              "        }}\n",
              "}});\n",
              "\n",
              "// Listen for the removal of the full notebook cells\n",
              "var notebookContainer = gd.closest('#notebook-container');\n",
              "if (notebookContainer) {{\n",
              "    x.observe(notebookContainer, {childList: true});\n",
              "}}\n",
              "\n",
              "// Listen for the clearing of the current output cell\n",
              "var outputEl = gd.closest('.output');\n",
              "if (outputEl) {{\n",
              "    x.observe(outputEl, {childList: true});\n",
              "}}\n",
              "\n",
              "                        })                };                            </script>        </div>\n",
              "</body>\n",
              "</html>"
            ]
          },
          "metadata": {}
        }
      ]
    },
    {
      "cell_type": "markdown",
      "source": [
        "# Function Bar Plot"
      ],
      "metadata": {
        "id": "qY6W-G7qUM_h"
      }
    },
    {
      "cell_type": "code",
      "source": [
        "light_theme = data[data['Theme'] == 'Light Theme']\n",
        "dark_theme = data[data['Theme'] == 'Dark Theme']\n",
        "\n",
        "def bar_plot(x, xax_title, title):\n",
        "  fig = go.Figure()\n",
        "\n",
        "  fig.add_trace(go.Histogram(x=light_theme[x], name='Light Theme', opacity=0.6))\n",
        "  fig.add_trace(go.Histogram(x=dark_theme[x], name='Dark Theme', opacity=0.6))\n",
        "\n",
        "  fig.update_layout(\n",
        "      title_text= title,\n",
        "      xaxis_title_text=xax_title,\n",
        "      yaxis_title_text='Frequency',\n",
        "      barmode='group',\n",
        "      bargap=0.1\n",
        "  )\n",
        "\n",
        "  fig.show()"
      ],
      "metadata": {
        "id": "x0CHQuPgMqC-"
      },
      "execution_count": 11,
      "outputs": []
    },
    {
      "cell_type": "code",
      "source": [
        "bar_plot('Click Through Rate','Click Through Rate', 'Click Through Rate by Theme')"
      ],
      "metadata": {
        "colab": {
          "base_uri": "https://localhost:8080/",
          "height": 542
        },
        "id": "4BgbTZc5Qyxg",
        "outputId": "8bdfb88b-ff2f-409b-fe85-8e2f1b0a341c"
      },
      "execution_count": 12,
      "outputs": [
        {
          "output_type": "display_data",
          "data": {
            "text/html": [
              "<html>\n",
              "<head><meta charset=\"utf-8\" /></head>\n",
              "<body>\n",
              "    <div>            <script src=\"https://cdnjs.cloudflare.com/ajax/libs/mathjax/2.7.5/MathJax.js?config=TeX-AMS-MML_SVG\"></script><script type=\"text/javascript\">if (window.MathJax && window.MathJax.Hub && window.MathJax.Hub.Config) {window.MathJax.Hub.Config({SVG: {font: \"STIX-Web\"}});}</script>                <script type=\"text/javascript\">window.PlotlyConfig = {MathJaxConfig: 'local'};</script>\n",
              "        <script charset=\"utf-8\" src=\"https://cdn.plot.ly/plotly-2.24.1.min.js\"></script>                <div id=\"24fb496e-67ad-417b-a090-40ec0bb459a7\" class=\"plotly-graph-div\" style=\"height:525px; width:100%;\"></div>            <script type=\"text/javascript\">                                    window.PLOTLYENV=window.PLOTLYENV || {};                                    if (document.getElementById(\"24fb496e-67ad-417b-a090-40ec0bb459a7\")) {                    Plotly.newPlot(                        \"24fb496e-67ad-417b-a090-40ec0bb459a7\",                        [{\"name\":\"Light Theme\",\"opacity\":0.6,\"x\":[0.0549199776705852,0.1139318495574234,0.4858357229118433,0.0347834702248077,0.1734194866519328,0.4945222429312966,0.3956192689883948,0.4166107402363949,0.2815618163459532,0.2973277109549653,0.4083959607493189,0.1241693527325554,0.3894406031243618,0.3964354395960286,0.1458646745280846,0.2747055738629442,0.4012717735432355,0.1855387168161011,0.3963314518823213,0.0177327309204685,0.1400300790792369,0.2162706728859388,0.1873990971705809,0.2314826557552886,0.3114023497793739,0.3328625061028532,0.1577988612237635,0.3252369352606895,0.0252638133600685,0.4251762861519489,0.2188740734471959,0.0629012965428213,0.0826835745735786,0.2968286973885793,0.1966431554210752,0.3027220090476635,0.154499895515446,0.2577200264979833,0.3308093491863397,0.2801542619110014,0.4340912346941329,0.2207342714165293,0.2053777902859071,0.3675101287409071,0.1631365498595152,0.2423912639386603,0.0518285350924935,0.2216194940903527,0.4787460656849842,0.2852248569691668,0.2112962301318575,0.438067612394816,0.4711536357375925,0.2172390593243028,0.4587633987763504,0.1509384097471903,0.2462728041401504,0.4251646755861267,0.066293803629851,0.2202650813320728,0.3860419406073477,0.3407385885337187,0.2828024800335196,0.3323373017194553,0.3498008820492728,0.1439024904692351,0.3835806638106889,0.0988887235241586,0.0801932302675942,0.3730748389680258,0.4861870561914293,0.0549612646966782,0.2699365174428754,0.1943352587947094,0.0871305451640934,0.162702311155066,0.168947617118429,0.3021496483804952,0.3796735807712428,0.034383621292149,0.1156287930154959,0.2610496898425413,0.1791346991856223,0.0643359883784559,0.3006357826922092,0.2681977125025909,0.1611255020071156,0.118054033396237,0.4923783725773485,0.0368431596738596,0.1101673309333285,0.4732088027410555,0.386001268381216,0.1518290942965444,0.068792328415719,0.0733009938620153,0.2709653504550376,0.2837745481606092,0.2045648753811756,0.3736002504134781,0.2237476018010329,0.3236694178333136,0.1518624507370215,0.2084658304618277,0.4743310115701062,0.2354474819279662,0.347908920129293,0.1873078187047216,0.0618729353638371,0.2062204099948827,0.3754443649676554,0.1185703088581831,0.0474258949617803,0.3202800868144114,0.2699963621785976,0.1050128160707811,0.3903518323689243,0.1820388701291066,0.0603742186111037,0.0950145209966264,0.0849061966129056,0.0469231040537476,0.4422035967305375,0.3250659970290673,0.1683720384052467,0.4857768014619985,0.1649080583003843,0.2397713309279229,0.3193787088124604,0.2997956808472002,0.1824516890838375,0.0463534215249109,0.2362538183587625,0.0284275503298351,0.1906814237500082,0.1506677459746464,0.488910580941243,0.0542452869665183,0.3010991111283245,0.1983964135254078,0.0301011297879331,0.2901117763623621,0.2556699779176855,0.4203148173413016,0.4913689347357647,0.3266022746604223,0.0291796418383301,0.3567346351184066,0.2667935910533855,0.1883100002459992,0.4597890266673106,0.3426598830741947,0.1739781801573694,0.2834019740850171,0.1994164603146315,0.4272674673923581,0.4825609140404158,0.3053233986937034,0.3351699319429688,0.1620135514003879,0.3573286670418164,0.0515123158819609,0.1709535115842561,0.0726189444091695,0.4740832259654968,0.4570995128745789,0.2591593583471757,0.018932963517851,0.1613443743313016,0.4760729636621058,0.1774488491144586,0.1040825644955492,0.0859231347427583,0.1549381298107646,0.2744876716226988,0.2680004984773417,0.3343453263119946,0.4394324585459435,0.0855838530473495,0.0986145239126613,0.349494364022001,0.3161228351774172,0.3633796689246593,0.031409289697712,0.4850984156702262,0.3786716709046281,0.3940621761230729,0.1271925636503045,0.3943414174006703,0.4529474256873545,0.22589272771942,0.3870248904680322,0.3912807782524637,0.2564242788289136,0.3062850893126076,0.4678038414587748,0.3585864787883103,0.0710921082621878,0.0885530437802354,0.2301664179831746,0.4101845953691952,0.4659312442918747,0.2042624430804214,0.1992213978418515,0.0499866642334104,0.0585507309525935,0.0815641603426918,0.3115206460101387,0.4538701696606027,0.0832646132924711,0.2173948318845149,0.0697056891277225,0.2549163188964287,0.3196579215864398,0.2917732541900104,0.0107665246073655,0.1828798594167565,0.1017838167812074,0.3374253024306211,0.2665074332623235,0.1866958412763689,0.4771678022129023,0.2766001603647364,0.2587350685263757,0.0313318683317205,0.1849759994922191,0.0431041832935304,0.1281517029489658,0.3319811560053073,0.2951326275634886,0.380772673956559,0.1826265325959528,0.1758881565080534,0.324969851939333,0.3454944575404019,0.4723665238489433,0.4440372889528715,0.2051297872861483,0.027944178053085,0.1501943388202588,0.143876136995798,0.4016777816439374,0.2241061777312188,0.2060106695757863,0.4786745717335934,0.1761279479199987,0.1015404366190699,0.2180048340460228,0.2209975044816889,0.1539455453112244,0.1548635751767677,0.229093533238426,0.4566875431146774,0.3978241361265864,0.2614121495376305,0.0883934960280865,0.0252589033541227,0.3422635472777699,0.224704684220638,0.1256377364059726,0.1874537854462761,0.4752388848211606,0.1917726086995494,0.0226975370234301,0.2636951843621121,0.4576358278484614,0.3897325969304292,0.3549785274913447,0.1151395084576226,0.3098198195541848,0.350050514109989,0.4993281333199746,0.1080873870856488,0.0765069246879583,0.0462854991965064,0.0946016183521801,0.4986585779712905,0.4071514769952396,0.3576748385415982,0.2794986022685763,0.1522775185611286,0.0871775721668188,0.3576862576930893,0.1198783914705187,0.4927149478977947,0.398112180069459,0.1260007303005665,0.1868392969777472,0.2904159294870977,0.4432807589489638,0.2050983905777451,0.2112896091259317,0.1653435585256361,0.2382582678143188,0.0732261493204754,0.2564032553601936,0.263870045132768,0.1204804395105786,0.149183672029581,0.106187940546706,0.3240838393765061,0.2999861382051365,0.2945167855587243,0.0938883052973382,0.175433597436843,0.0497991988977512,0.4747879584454918,0.1396813948381967,0.2903472291985714,0.0874594190374515,0.2136546556449164,0.2375766573099141,0.0803976586696909,0.4321276876479224,0.1664650323968967,0.494131451038874,0.2623402657002888,0.0620301274684576,0.0700357354511403,0.0790300411540099,0.4732385974245772,0.4334402866775911,0.481716067597275,0.4521323052663566,0.4675382522722083,0.1030187095994462,0.0880777818273761,0.2026886702155156,0.2340430146729681,0.0338424851355314,0.1478646058030289,0.3395350958450702,0.1500167069060986,0.014006928914148,0.0626735713418916,0.1395917208975475,0.1892310434899465,0.2075944953360356,0.035067266817674,0.4144025457997206,0.3153883735343465,0.3094111391769155,0.0730450614377154,0.1928671847991618,0.4935259555738553,0.2833376007533431,0.1891471228743563,0.0806910060907778,0.3052068460693212,0.2066796712952716,0.2644730280632108,0.0829809256424579,0.1660797155620604,0.2025477480545767,0.4228749444084229,0.2585843432386353,0.2597599093679079,0.2500248595124669,0.2426973739990363,0.0181521081961343,0.1723074008536721,0.0637062488507481,0.4373285659189625,0.1214961803964231,0.0351640309089899,0.3895570036185674,0.1962932647944248,0.4126140326526476,0.1286763144692,0.3532552464593113,0.1034843206351943,0.1099069245240459,0.2410866772955706,0.4990802055186862,0.2444017818382665,0.3411756025126203,0.3435654858888794,0.4790953241347847,0.156264588983244,0.3878753918529453,0.3554014590499261,0.2846389192157476,0.4678978407364235,0.1510167939939968,0.203320903264023,0.1791159908306475,0.3888015210946035,0.0817732997411623,0.4781037216628285,0.4627647196260414,0.3314263047699447,0.3761958648618224,0.4156963347189365,0.1428550337790081,0.4535402535662824,0.1240899143049168,0.171843875508796,0.2414779144470915,0.3437840734249008,0.3299174708736369,0.3803964191102823,0.4266632197720408,0.028276140820105,0.2147636413000526,0.4676220791833181,0.3770115687060681,0.1518388183385443,0.0283584262023934,0.3053636530978779,0.1741706357109189,0.3242430806623193,0.266916082069405,0.0757579735444431,0.2570642100224657,0.3276598159675284,0.3404565585484247,0.1046490309833921,0.3093677048348768,0.208690283635445,0.2195745926535689,0.2064082908476544,0.0567387018393187,0.2439525082600475,0.0133467590643821,0.1979514514312551,0.1408272202124972,0.1861805243749664,0.1257882629367777,0.2380435455615454,0.0882612443615059,0.3461760737466441,0.4623219468340873,0.3872221132545113,0.3229685493476978,0.4709114556354912,0.2329395496576284,0.3539509561592706,0.457270475258721,0.2674982615478821,0.4594499063226779,0.0649823078532624,0.0906232067255499,0.3433446665901447,0.3612898034285184,0.228286519171738,0.0746527265123385,0.2135580411838833,0.2838106275093955,0.339656178991411,0.1610030863762441,0.0114775810796334,0.045784467698574,0.2176117185415263,0.4481670382158412,0.4932072515603157,0.2413148884143686,0.0763601445798244,0.4467534665570781,0.4593863875740467,0.1949732113187485,0.0493224963883896,0.0751650051044799,0.068130251969785,0.20259872957418,0.2368719115854421,0.3623560477553175,0.1958454693365589,0.2357063864888121,0.0860094728698459,0.0257864843058907,0.3334968660431198,0.3113123715323671,0.4687565858888681,0.0429725424158527,0.3010326322648851,0.2287561224618151,0.3392915820673873,0.2744823063646399,0.3902711745177029,0.4590345462295678,0.2929626591725621,0.1260829770405931,0.4929908247553116,0.1448254210492166,0.3702539335688431,0.09581526224864],\"type\":\"histogram\"},{\"name\":\"Dark Theme\",\"opacity\":0.6,\"x\":[0.3233515300795548,0.1105507318200094,0.3020310012354658,0.4921737846053921,0.4938883791394244,0.0638639104658234,0.4345594653683325,0.0745835824853297,0.2985379318047167,0.0721116864192623,0.0656881603254078,0.0411434386920967,0.2296548549922432,0.3008963487553333,0.1185593806449596,0.3663490686102302,0.4552883270742047,0.4993075099937702,0.3590766442995772,0.2273455413878742,0.450640714910532,0.1678347916756997,0.0718338782694774,0.3159155721977918,0.3589548702488904,0.2207976696535754,0.3986170856198066,0.066062895490739,0.4400760444014648,0.4451646007743615,0.2127686498766876,0.4154354201422219,0.1631486914985951,0.1348960002765618,0.4772603336333711,0.3465423073788186,0.0547001462993638,0.3748485949040207,0.1925969610941927,0.0737565722511832,0.0393906792057148,0.338306499718825,0.0352085791864642,0.1630999605529504,0.0607642773030703,0.258632148014322,0.0858177861705481,0.1815558571683836,0.2825700832911201,0.1464984241225496,0.1208179562206452,0.2848731938565361,0.3146446646798469,0.3084075086210019,0.0241870587200214,0.4615533853062546,0.182001476161121,0.3320988710700298,0.0440968564116848,0.2322864374297785,0.471289637745327,0.4428376704139882,0.0862341526681992,0.0499749484906374,0.2271253574218597,0.2177672388253676,0.3074672436460975,0.212950031562535,0.3423267675374318,0.3844388389230113,0.2537188110205301,0.2210209555632654,0.1227542508775632,0.3373436041551685,0.183541913966216,0.2352795826745747,0.0481526798191212,0.1633997090318947,0.2203493002874094,0.2081672134075648,0.4834378486062318,0.0942178584832538,0.2239887719884316,0.223481498200796,0.0485370728666013,0.4365569639357517,0.3917677556155997,0.4795294410086037,0.3262670583230863,0.082368019638745,0.1354244287808476,0.3819846662223295,0.4761331488839951,0.317694898338,0.2373370035713795,0.2862303868110463,0.29393936395618,0.3437554043742685,0.493400654390571,0.2254837800075133,0.4002015427841998,0.3258865700921603,0.2943614096314834,0.4775734235941672,0.3720713122858078,0.4554344787210956,0.1022373378839202,0.3064528586943315,0.4792839558446266,0.2307563234173947,0.4073737375480841,0.0513212746920362,0.4955831510969748,0.3088046490981104,0.1998341141663268,0.3894877464011304,0.035659103592643,0.3191344214765699,0.1715484700076871,0.1334779346334151,0.0836829303454413,0.0499359738494631,0.4592057629779889,0.3314668118376671,0.3344462268952982,0.0731863125530644,0.2838718143446211,0.3253116990470465,0.3543871273561559,0.4986104153532764,0.0557919528823506,0.3385234596391701,0.3854165417572315,0.499988544340484,0.3961788850989861,0.2587679592350766,0.3719355614707191,0.3128354180918189,0.3026507561250979,0.4523014315300747,0.1885067129240768,0.3625969801574185,0.3091917568416497,0.1246614427243579,0.4831423522250778,0.1050679263490592,0.3423703442818953,0.2895055027483068,0.2151438050975754,0.0894085048904769,0.1078518884078936,0.4377709408290801,0.0355681035978922,0.2454894211762942,0.191893932236172,0.2627955999007177,0.0510988114321771,0.2615428415849867,0.417212892132711,0.0549396491329557,0.4561474273264305,0.4434685891218236,0.2132994838513126,0.1932411289627198,0.1200239917174867,0.1661555889703683,0.3602050935363824,0.1742922743989267,0.0287685636473514,0.4595241240902482,0.2415029171934371,0.4172441381067664,0.3818321658351475,0.2398639623061919,0.0193119036063754,0.1156708247894936,0.4707107151772458,0.3083512485668662,0.3903245899913443,0.1264437110540575,0.1268353566953131,0.323086348764677,0.3151771784870749,0.0407755039954212,0.4199769830966143,0.27266635431389,0.3620867206182528,0.1527232740098763,0.2896252208509901,0.3953420445642056,0.0199638100812012,0.4379324048784836,0.1995718475484052,0.1929181696794079,0.3761851298656962,0.0607952950748478,0.0753706990310883,0.4168879918141653,0.4906014010365361,0.2444802740927827,0.0993162192227978,0.0760777647861783,0.3608620782221354,0.0281220571978901,0.1087795864899834,0.3976435144822315,0.1646419518243654,0.161937182639077,0.4095489795214313,0.2419658861616533,0.3269812444123676,0.4324478799299326,0.0334239767807807,0.331308370103263,0.2254709505168524,0.3491135606451814,0.1899999942102441,0.4006725313845661,0.1406931409430694,0.0504796382506925,0.4975981007735969,0.0984236781096641,0.060272974813236,0.1706807536173643,0.2284987239188298,0.3616548265427118,0.0916559383122976,0.227515106739536,0.3661390538984403,0.3112772262773945,0.2231208470056364,0.3233399621413154,0.0381054515150947,0.3388801055578972,0.2090430134387497,0.377450012288326,0.4258479618855619,0.0718527119081045,0.3261298090927373,0.0258688087500368,0.0851847000624269,0.230462058670249,0.2275302516960456,0.0476738601268952,0.0774706028359781,0.1898054748403778,0.1640488662442919,0.1465579854869075,0.4806548256098465,0.1011635442415739,0.0677028877904308,0.3595512482382691,0.4841050058179005,0.4934215832248181,0.3372414973395943,0.1569787723360017,0.3531074354236797,0.095304594776863,0.1871311697310977,0.2520707493489919,0.2390288612529206,0.491675859244965,0.0735879025597475,0.0422165715810093,0.3612974632698754,0.2445459038584744,0.2106224284577094,0.2917012491534489,0.071410123307005,0.046340859685,0.2635064057917314,0.0728839592650567,0.4162363267863455,0.280138687368475,0.2980151352968956,0.3862130023052518,0.4354236974355004,0.4173814951690953,0.1590210259756592,0.0893638101823908,0.4680215399531479,0.4742667370367273,0.2642599187680609,0.0486413533448919,0.478612297251167,0.1444810062746215,0.3162609571098093,0.311069856371017,0.0557799193729522,0.3159948018424962,0.4519804379084561,0.4627255654049876,0.0301852087256742,0.4332527838938162,0.387800960709288,0.1132961060539626,0.3128731288992292,0.024840090304901,0.4456084719099876,0.2773329669381612,0.324534571757604,0.1580261153477651,0.1299901762179821,0.4056011640701109,0.2089853381048336,0.2322366251480339,0.347420650119762,0.1766943584923709,0.1792315747434893,0.2053711375152722,0.3827258474496356,0.1284515518588689,0.2303020458778757,0.0347965929821422,0.2148860242340895,0.4086041447553303,0.3633529301228397,0.4980250114367542,0.2387394076913018,0.4407470751642051,0.2537114337932794,0.0541240565714543,0.1279570339278933,0.2958386148729815,0.3027841977949912,0.4229963269873515,0.0756281225562341,0.0321687733105196,0.2852902639313124,0.1876366502126994,0.1514148315491569,0.1993109242400914,0.2306736465138048,0.2794299738635356,0.0573739281521202,0.0297249040171402,0.0290678434606479,0.3596600046991552,0.4039432690451639,0.4476345291182235,0.078492683028454,0.466370680409695,0.3120852388610429,0.3009250812591835,0.2858328877158267,0.214104732021794,0.1607621385187645,0.4503958810523812,0.318337635495194,0.3024857118170649,0.1401099141230034,0.3312395763667148,0.4863078633719637,0.2934524227905337,0.2454199040200628,0.2668738429860947,0.363379589272071,0.2905594329880217,0.2261088974305191,0.2152023461029031,0.2123504537965739,0.2558915572593839,0.309624249346966,0.425704727475049,0.36642702848105,0.3558298637543649,0.2641547736644554,0.2848345187252332,0.1946441403309909,0.4787758911763086,0.2352351306895974,0.2712322616408783,0.2776738774299668,0.4351506576929467,0.4037897397557163,0.139537469811272,0.2472482498303758,0.1467131340016607,0.471327917700456,0.4913075452732379,0.3482175566661674,0.2496115089606491,0.24510367736901,0.3636155455112024,0.2910036338980861,0.2761635297242563,0.4489226261547108,0.0306125785480355,0.0487244236448266,0.1148535359577336,0.2853888296419675,0.1430945186858158,0.0635210249698292,0.3730365785773615,0.127248212313685,0.0348750606791573,0.1205791066780152,0.0590969999322121,0.0773588467578508,0.4826141959404405,0.4891762487982127,0.0873911273433614,0.4415172540427432,0.2430928257402015,0.32876395901839,0.1507500684065533,0.149853517237976,0.0389896672583304,0.3866752468335312,0.329626377905349,0.1237878976182983,0.3719563959116314,0.4615207320882509,0.420426395655695,0.0278065261141522,0.4197395670751284,0.3961007086391606,0.1012926996420195,0.4374224357587058,0.1562121832244195,0.4649428745483384,0.2326310482968295,0.445737382247259,0.1436901699340163,0.4063188003390797,0.1720352074475749,0.3682484245662993,0.3621131049933846,0.0169012558530477,0.1751849678715776,0.1545618862525581,0.3229756391014974,0.1706840627826862,0.4910257442958639,0.4685544396306803,0.2289004056851622,0.1715163986232389,0.2954057682619425,0.290709900301721,0.1381610438995424,0.3372151962513489,0.4450226928647082,0.3482422849352189,0.1900965125200634,0.1182161275846735,0.479106663059061,0.2443091308702597,0.4945306013287013,0.1930761725735988,0.3811017564191197,0.4029775459722152,0.4145457194523639,0.3833112137858425,0.343367540760505,0.3019490881102992,0.395811638013396,0.2688048307958647,0.1872745855768794,0.4160992864396283,0.4524151985175062,0.1090568216936574,0.2729634775476728,0.428698143623526,0.2265018708032191,0.2495257037472829,0.4504557823396021,0.0372615448548035,0.2863164806983695,0.0206675243676816,0.1346840373431301,0.1167716412497499,0.3531885902676162,0.2751701169991537,0.0395252593453643,0.1506744463767468,0.0981908501445971,0.3243472500844546,0.3673518546408533,0.4822534577993851,0.1934858511127511,0.229783195004716,0.4824307444265361,0.4385313236285532,0.4315404247522894,0.4964949202780176,0.0724000727880782,0.4895749447429046,0.4190625897176706,0.3805279132808767,0.4894604345127781,0.2178227345693667,0.1225353927260703,0.1023554211060037,0.4388520055656264,0.385090065339907,0.4456302575593176,0.1279264841301738,0.437384084715332,0.1299197340970123,0.0316759977274389,0.2250917776288557,0.3796489972861693,0.0786664318063032,0.4968068862090937,0.1247391433994118,0.2922940644343406,0.3885437241162406,0.4110074196541749,0.4393665778651655,0.2654130165898125,0.2126445011589338,0.2827918778715649,0.2999168898989245,0.3425875604102632],\"type\":\"histogram\"}],                        {\"template\":{\"data\":{\"histogram2dcontour\":[{\"type\":\"histogram2dcontour\",\"colorbar\":{\"outlinewidth\":0,\"ticks\":\"\"},\"colorscale\":[[0.0,\"#0d0887\"],[0.1111111111111111,\"#46039f\"],[0.2222222222222222,\"#7201a8\"],[0.3333333333333333,\"#9c179e\"],[0.4444444444444444,\"#bd3786\"],[0.5555555555555556,\"#d8576b\"],[0.6666666666666666,\"#ed7953\"],[0.7777777777777778,\"#fb9f3a\"],[0.8888888888888888,\"#fdca26\"],[1.0,\"#f0f921\"]]}],\"choropleth\":[{\"type\":\"choropleth\",\"colorbar\":{\"outlinewidth\":0,\"ticks\":\"\"}}],\"histogram2d\":[{\"type\":\"histogram2d\",\"colorbar\":{\"outlinewidth\":0,\"ticks\":\"\"},\"colorscale\":[[0.0,\"#0d0887\"],[0.1111111111111111,\"#46039f\"],[0.2222222222222222,\"#7201a8\"],[0.3333333333333333,\"#9c179e\"],[0.4444444444444444,\"#bd3786\"],[0.5555555555555556,\"#d8576b\"],[0.6666666666666666,\"#ed7953\"],[0.7777777777777778,\"#fb9f3a\"],[0.8888888888888888,\"#fdca26\"],[1.0,\"#f0f921\"]]}],\"heatmap\":[{\"type\":\"heatmap\",\"colorbar\":{\"outlinewidth\":0,\"ticks\":\"\"},\"colorscale\":[[0.0,\"#0d0887\"],[0.1111111111111111,\"#46039f\"],[0.2222222222222222,\"#7201a8\"],[0.3333333333333333,\"#9c179e\"],[0.4444444444444444,\"#bd3786\"],[0.5555555555555556,\"#d8576b\"],[0.6666666666666666,\"#ed7953\"],[0.7777777777777778,\"#fb9f3a\"],[0.8888888888888888,\"#fdca26\"],[1.0,\"#f0f921\"]]}],\"heatmapgl\":[{\"type\":\"heatmapgl\",\"colorbar\":{\"outlinewidth\":0,\"ticks\":\"\"},\"colorscale\":[[0.0,\"#0d0887\"],[0.1111111111111111,\"#46039f\"],[0.2222222222222222,\"#7201a8\"],[0.3333333333333333,\"#9c179e\"],[0.4444444444444444,\"#bd3786\"],[0.5555555555555556,\"#d8576b\"],[0.6666666666666666,\"#ed7953\"],[0.7777777777777778,\"#fb9f3a\"],[0.8888888888888888,\"#fdca26\"],[1.0,\"#f0f921\"]]}],\"contourcarpet\":[{\"type\":\"contourcarpet\",\"colorbar\":{\"outlinewidth\":0,\"ticks\":\"\"}}],\"contour\":[{\"type\":\"contour\",\"colorbar\":{\"outlinewidth\":0,\"ticks\":\"\"},\"colorscale\":[[0.0,\"#0d0887\"],[0.1111111111111111,\"#46039f\"],[0.2222222222222222,\"#7201a8\"],[0.3333333333333333,\"#9c179e\"],[0.4444444444444444,\"#bd3786\"],[0.5555555555555556,\"#d8576b\"],[0.6666666666666666,\"#ed7953\"],[0.7777777777777778,\"#fb9f3a\"],[0.8888888888888888,\"#fdca26\"],[1.0,\"#f0f921\"]]}],\"surface\":[{\"type\":\"surface\",\"colorbar\":{\"outlinewidth\":0,\"ticks\":\"\"},\"colorscale\":[[0.0,\"#0d0887\"],[0.1111111111111111,\"#46039f\"],[0.2222222222222222,\"#7201a8\"],[0.3333333333333333,\"#9c179e\"],[0.4444444444444444,\"#bd3786\"],[0.5555555555555556,\"#d8576b\"],[0.6666666666666666,\"#ed7953\"],[0.7777777777777778,\"#fb9f3a\"],[0.8888888888888888,\"#fdca26\"],[1.0,\"#f0f921\"]]}],\"mesh3d\":[{\"type\":\"mesh3d\",\"colorbar\":{\"outlinewidth\":0,\"ticks\":\"\"}}],\"scatter\":[{\"fillpattern\":{\"fillmode\":\"overlay\",\"size\":10,\"solidity\":0.2},\"type\":\"scatter\"}],\"parcoords\":[{\"type\":\"parcoords\",\"line\":{\"colorbar\":{\"outlinewidth\":0,\"ticks\":\"\"}}}],\"scatterpolargl\":[{\"type\":\"scatterpolargl\",\"marker\":{\"colorbar\":{\"outlinewidth\":0,\"ticks\":\"\"}}}],\"bar\":[{\"error_x\":{\"color\":\"#2a3f5f\"},\"error_y\":{\"color\":\"#2a3f5f\"},\"marker\":{\"line\":{\"color\":\"#E5ECF6\",\"width\":0.5},\"pattern\":{\"fillmode\":\"overlay\",\"size\":10,\"solidity\":0.2}},\"type\":\"bar\"}],\"scattergeo\":[{\"type\":\"scattergeo\",\"marker\":{\"colorbar\":{\"outlinewidth\":0,\"ticks\":\"\"}}}],\"scatterpolar\":[{\"type\":\"scatterpolar\",\"marker\":{\"colorbar\":{\"outlinewidth\":0,\"ticks\":\"\"}}}],\"histogram\":[{\"marker\":{\"pattern\":{\"fillmode\":\"overlay\",\"size\":10,\"solidity\":0.2}},\"type\":\"histogram\"}],\"scattergl\":[{\"type\":\"scattergl\",\"marker\":{\"colorbar\":{\"outlinewidth\":0,\"ticks\":\"\"}}}],\"scatter3d\":[{\"type\":\"scatter3d\",\"line\":{\"colorbar\":{\"outlinewidth\":0,\"ticks\":\"\"}},\"marker\":{\"colorbar\":{\"outlinewidth\":0,\"ticks\":\"\"}}}],\"scattermapbox\":[{\"type\":\"scattermapbox\",\"marker\":{\"colorbar\":{\"outlinewidth\":0,\"ticks\":\"\"}}}],\"scatterternary\":[{\"type\":\"scatterternary\",\"marker\":{\"colorbar\":{\"outlinewidth\":0,\"ticks\":\"\"}}}],\"scattercarpet\":[{\"type\":\"scattercarpet\",\"marker\":{\"colorbar\":{\"outlinewidth\":0,\"ticks\":\"\"}}}],\"carpet\":[{\"aaxis\":{\"endlinecolor\":\"#2a3f5f\",\"gridcolor\":\"white\",\"linecolor\":\"white\",\"minorgridcolor\":\"white\",\"startlinecolor\":\"#2a3f5f\"},\"baxis\":{\"endlinecolor\":\"#2a3f5f\",\"gridcolor\":\"white\",\"linecolor\":\"white\",\"minorgridcolor\":\"white\",\"startlinecolor\":\"#2a3f5f\"},\"type\":\"carpet\"}],\"table\":[{\"cells\":{\"fill\":{\"color\":\"#EBF0F8\"},\"line\":{\"color\":\"white\"}},\"header\":{\"fill\":{\"color\":\"#C8D4E3\"},\"line\":{\"color\":\"white\"}},\"type\":\"table\"}],\"barpolar\":[{\"marker\":{\"line\":{\"color\":\"#E5ECF6\",\"width\":0.5},\"pattern\":{\"fillmode\":\"overlay\",\"size\":10,\"solidity\":0.2}},\"type\":\"barpolar\"}],\"pie\":[{\"automargin\":true,\"type\":\"pie\"}]},\"layout\":{\"autotypenumbers\":\"strict\",\"colorway\":[\"#636efa\",\"#EF553B\",\"#00cc96\",\"#ab63fa\",\"#FFA15A\",\"#19d3f3\",\"#FF6692\",\"#B6E880\",\"#FF97FF\",\"#FECB52\"],\"font\":{\"color\":\"#2a3f5f\"},\"hovermode\":\"closest\",\"hoverlabel\":{\"align\":\"left\"},\"paper_bgcolor\":\"white\",\"plot_bgcolor\":\"#E5ECF6\",\"polar\":{\"bgcolor\":\"#E5ECF6\",\"angularaxis\":{\"gridcolor\":\"white\",\"linecolor\":\"white\",\"ticks\":\"\"},\"radialaxis\":{\"gridcolor\":\"white\",\"linecolor\":\"white\",\"ticks\":\"\"}},\"ternary\":{\"bgcolor\":\"#E5ECF6\",\"aaxis\":{\"gridcolor\":\"white\",\"linecolor\":\"white\",\"ticks\":\"\"},\"baxis\":{\"gridcolor\":\"white\",\"linecolor\":\"white\",\"ticks\":\"\"},\"caxis\":{\"gridcolor\":\"white\",\"linecolor\":\"white\",\"ticks\":\"\"}},\"coloraxis\":{\"colorbar\":{\"outlinewidth\":0,\"ticks\":\"\"}},\"colorscale\":{\"sequential\":[[0.0,\"#0d0887\"],[0.1111111111111111,\"#46039f\"],[0.2222222222222222,\"#7201a8\"],[0.3333333333333333,\"#9c179e\"],[0.4444444444444444,\"#bd3786\"],[0.5555555555555556,\"#d8576b\"],[0.6666666666666666,\"#ed7953\"],[0.7777777777777778,\"#fb9f3a\"],[0.8888888888888888,\"#fdca26\"],[1.0,\"#f0f921\"]],\"sequentialminus\":[[0.0,\"#0d0887\"],[0.1111111111111111,\"#46039f\"],[0.2222222222222222,\"#7201a8\"],[0.3333333333333333,\"#9c179e\"],[0.4444444444444444,\"#bd3786\"],[0.5555555555555556,\"#d8576b\"],[0.6666666666666666,\"#ed7953\"],[0.7777777777777778,\"#fb9f3a\"],[0.8888888888888888,\"#fdca26\"],[1.0,\"#f0f921\"]],\"diverging\":[[0,\"#8e0152\"],[0.1,\"#c51b7d\"],[0.2,\"#de77ae\"],[0.3,\"#f1b6da\"],[0.4,\"#fde0ef\"],[0.5,\"#f7f7f7\"],[0.6,\"#e6f5d0\"],[0.7,\"#b8e186\"],[0.8,\"#7fbc41\"],[0.9,\"#4d9221\"],[1,\"#276419\"]]},\"xaxis\":{\"gridcolor\":\"white\",\"linecolor\":\"white\",\"ticks\":\"\",\"title\":{\"standoff\":15},\"zerolinecolor\":\"white\",\"automargin\":true,\"zerolinewidth\":2},\"yaxis\":{\"gridcolor\":\"white\",\"linecolor\":\"white\",\"ticks\":\"\",\"title\":{\"standoff\":15},\"zerolinecolor\":\"white\",\"automargin\":true,\"zerolinewidth\":2},\"scene\":{\"xaxis\":{\"backgroundcolor\":\"#E5ECF6\",\"gridcolor\":\"white\",\"linecolor\":\"white\",\"showbackground\":true,\"ticks\":\"\",\"zerolinecolor\":\"white\",\"gridwidth\":2},\"yaxis\":{\"backgroundcolor\":\"#E5ECF6\",\"gridcolor\":\"white\",\"linecolor\":\"white\",\"showbackground\":true,\"ticks\":\"\",\"zerolinecolor\":\"white\",\"gridwidth\":2},\"zaxis\":{\"backgroundcolor\":\"#E5ECF6\",\"gridcolor\":\"white\",\"linecolor\":\"white\",\"showbackground\":true,\"ticks\":\"\",\"zerolinecolor\":\"white\",\"gridwidth\":2}},\"shapedefaults\":{\"line\":{\"color\":\"#2a3f5f\"}},\"annotationdefaults\":{\"arrowcolor\":\"#2a3f5f\",\"arrowhead\":0,\"arrowwidth\":1},\"geo\":{\"bgcolor\":\"white\",\"landcolor\":\"#E5ECF6\",\"subunitcolor\":\"white\",\"showland\":true,\"showlakes\":true,\"lakecolor\":\"white\"},\"title\":{\"x\":0.05},\"mapbox\":{\"style\":\"light\"}}},\"title\":{\"text\":\"Click Through Rate by Theme\"},\"xaxis\":{\"title\":{\"text\":\"Click Through Rate\"}},\"yaxis\":{\"title\":{\"text\":\"Frequency\"}},\"barmode\":\"group\",\"bargap\":0.1},                        {\"responsive\": true}                    ).then(function(){\n",
              "                            \n",
              "var gd = document.getElementById('24fb496e-67ad-417b-a090-40ec0bb459a7');\n",
              "var x = new MutationObserver(function (mutations, observer) {{\n",
              "        var display = window.getComputedStyle(gd).display;\n",
              "        if (!display || display === 'none') {{\n",
              "            console.log([gd, 'removed!']);\n",
              "            Plotly.purge(gd);\n",
              "            observer.disconnect();\n",
              "        }}\n",
              "}});\n",
              "\n",
              "// Listen for the removal of the full notebook cells\n",
              "var notebookContainer = gd.closest('#notebook-container');\n",
              "if (notebookContainer) {{\n",
              "    x.observe(notebookContainer, {childList: true});\n",
              "}}\n",
              "\n",
              "// Listen for the clearing of the current output cell\n",
              "var outputEl = gd.closest('.output');\n",
              "if (outputEl) {{\n",
              "    x.observe(outputEl, {childList: true});\n",
              "}}\n",
              "\n",
              "                        })                };                            </script>        </div>\n",
              "</body>\n",
              "</html>"
            ]
          },
          "metadata": {}
        }
      ]
    },
    {
      "cell_type": "code",
      "source": [
        "bar_plot('Age','Age', 'Age by Theme')"
      ],
      "metadata": {
        "colab": {
          "base_uri": "https://localhost:8080/",
          "height": 542
        },
        "id": "C2a0tH_URzzo",
        "outputId": "9a2f2dfe-08ce-4621-cf80-f0befedc1d87"
      },
      "execution_count": 13,
      "outputs": [
        {
          "output_type": "display_data",
          "data": {
            "text/html": [
              "<html>\n",
              "<head><meta charset=\"utf-8\" /></head>\n",
              "<body>\n",
              "    <div>            <script src=\"https://cdnjs.cloudflare.com/ajax/libs/mathjax/2.7.5/MathJax.js?config=TeX-AMS-MML_SVG\"></script><script type=\"text/javascript\">if (window.MathJax && window.MathJax.Hub && window.MathJax.Hub.Config) {window.MathJax.Hub.Config({SVG: {font: \"STIX-Web\"}});}</script>                <script type=\"text/javascript\">window.PlotlyConfig = {MathJaxConfig: 'local'};</script>\n",
              "        <script charset=\"utf-8\" src=\"https://cdn.plot.ly/plotly-2.24.1.min.js\"></script>                <div id=\"77c4d2b1-f8e0-4cc9-8601-fb9025ff27c9\" class=\"plotly-graph-div\" style=\"height:525px; width:100%;\"></div>            <script type=\"text/javascript\">                                    window.PLOTLYENV=window.PLOTLYENV || {};                                    if (document.getElementById(\"77c4d2b1-f8e0-4cc9-8601-fb9025ff27c9\")) {                    Plotly.newPlot(                        \"77c4d2b1-f8e0-4cc9-8601-fb9025ff27c9\",                        [{\"name\":\"Light Theme\",\"opacity\":0.6,\"x\":[25,19,58,25,65,31,57,44,20,39,40,53,58,31,58,36,34,50,53,18,25,39,54,19,30,61,48,48,20,26,48,27,47,21,37,54,64,61,19,54,61,39,35,19,42,54,42,29,38,63,35,44,23,49,33,46,29,25,30,50,48,27,30,48,64,37,38,51,61,64,20,47,42,63,25,18,37,61,39,47,37,19,54,37,31,38,30,30,36,35,52,38,46,25,35,35,25,57,24,31,52,63,36,54,22,37,57,39,46,26,61,21,42,21,23,45,43,29,58,62,46,40,23,47,26,23,62,24,47,61,59,63,47,48,32,32,57,34,41,43,39,47,22,48,47,36,40,56,26,24,43,38,22,52,47,55,44,33,53,48,31,62,45,54,52,33,60,22,65,63,54,25,56,47,24,29,37,43,24,61,56,42,49,59,23,26,55,18,60,27,42,57,54,46,38,45,63,23,18,57,21,53,18,53,40,19,62,43,42,31,48,53,60,26,18,19,27,49,60,45,26,23,26,44,56,47,50,45,53,42,40,29,45,56,54,35,41,54,41,55,27,64,64,51,47,51,23,58,65,22,52,39,18,48,44,36,36,20,62,65,64,54,48,57,36,49,26,50,22,35,34,26,57,35,35,34,65,25,65,27,60,41,29,49,29,51,20,23,27,44,33,64,54,40,47,43,48,42,42,34,46,42,61,38,20,40,45,59,39,64,61,55,51,39,61,62,18,61,22,44,51,24,46,40,64,34,30,56,60,58,25,23,56,26,42,59,54,29,62,58,47,35,45,60,38,34,28,22,35,21,34,34,49,30,43,59,49,24,52,45,31,57,63,64,34,27,59,58,18,60,42,39,18,43,64,62,25,39,37,58,59,39,23,36,53,20,42,60,37,42,24,58,40,49,20,19,55,33,49,37,19,25,31,60,47,55,22,20,27,59,48,57,33,62,58,57,28,55,24,25,56,57,22,45,39,61,54,52,38,31,20,55,39,25,35,41,46,33,28,23,18,59,44,62,26,27,58,51,46,44,57,20,56,57,23,58,44,25,24,57,41,32,58,31,61,48,29,60,20,36,31,45,34,47,20,24,65,19,50,64,55,44,65,32,32,24],\"type\":\"histogram\"},{\"name\":\"Dark Theme\",\"opacity\":0.6,\"x\":[47,44,18,30,62,22,37,37,38,61,39,43,64,57,29,39,39,59,58,47,52,39,44,65,51,38,53,52,31,40,22,27,39,58,52,28,56,56,25,37,63,20,41,37,31,51,37,41,20,23,46,19,50,39,51,27,24,26,31,51,20,56,23,20,24,51,60,65,58,60,27,28,18,53,50,40,53,38,35,27,33,28,52,21,19,48,24,63,56,55,62,57,37,39,30,63,60,52,54,47,37,27,29,62,60,38,49,19,48,25,40,28,54,50,63,24,53,59,37,43,57,33,28,42,22,39,55,45,39,62,29,60,49,55,38,53,46,22,56,38,60,21,31,58,27,46,52,36,30,31,61,37,54,61,37,40,55,50,43,26,36,41,21,63,25,36,33,45,55,43,58,38,63,42,45,52,60,29,26,30,42,41,44,27,36,26,22,59,64,59,47,62,45,57,29,46,32,18,49,64,33,63,50,44,52,54,20,20,48,63,25,48,62,23,35,51,57,23,33,48,60,60,61,58,55,37,57,21,52,48,47,50,54,64,39,40,28,56,37,34,21,58,55,28,54,21,60,36,65,19,23,18,56,29,55,46,34,62,33,39,56,27,49,42,60,46,58,28,31,64,21,59,34,25,21,28,48,37,65,52,32,61,63,48,27,51,45,18,36,51,61,24,52,58,57,35,35,35,24,34,59,55,43,47,61,65,33,30,29,38,53,18,18,24,61,32,36,20,19,57,23,21,31,56,63,25,60,25,29,34,36,47,60,22,62,42,42,39,21,29,46,22,57,29,27,59,24,46,34,24,20,22,22,54,46,19,49,20,35,27,62,43,54,50,63,49,48,45,22,52,32,18,42,48,54,52,40,61,43,21,23,41,52,47,59,30,29,30,62,62,23,58,46,65,30,26,30,64,42,22,52,59,49,52,46,20,39,21,39,64,20,43,59,51,61,52,27,65,32,65,49,19,20,59,26,18,29,21,37,24,47,22,49,32,30,65,43,38,25,61,26,29,22,27,44,28,62,53,28,55,20,26,24,58,57,42,19,49,18,29,23,63,55,36,48,62,31,35,33,29,62,29,63,49,37,40,18,53,33,30,51,52,50,47,60,35,21,30,25,27,49,28,21,59,41,39,57,21,52,29,28,49,25,22,33,46,55,38,30,61,38,25,38,33],\"type\":\"histogram\"}],                        {\"template\":{\"data\":{\"histogram2dcontour\":[{\"type\":\"histogram2dcontour\",\"colorbar\":{\"outlinewidth\":0,\"ticks\":\"\"},\"colorscale\":[[0.0,\"#0d0887\"],[0.1111111111111111,\"#46039f\"],[0.2222222222222222,\"#7201a8\"],[0.3333333333333333,\"#9c179e\"],[0.4444444444444444,\"#bd3786\"],[0.5555555555555556,\"#d8576b\"],[0.6666666666666666,\"#ed7953\"],[0.7777777777777778,\"#fb9f3a\"],[0.8888888888888888,\"#fdca26\"],[1.0,\"#f0f921\"]]}],\"choropleth\":[{\"type\":\"choropleth\",\"colorbar\":{\"outlinewidth\":0,\"ticks\":\"\"}}],\"histogram2d\":[{\"type\":\"histogram2d\",\"colorbar\":{\"outlinewidth\":0,\"ticks\":\"\"},\"colorscale\":[[0.0,\"#0d0887\"],[0.1111111111111111,\"#46039f\"],[0.2222222222222222,\"#7201a8\"],[0.3333333333333333,\"#9c179e\"],[0.4444444444444444,\"#bd3786\"],[0.5555555555555556,\"#d8576b\"],[0.6666666666666666,\"#ed7953\"],[0.7777777777777778,\"#fb9f3a\"],[0.8888888888888888,\"#fdca26\"],[1.0,\"#f0f921\"]]}],\"heatmap\":[{\"type\":\"heatmap\",\"colorbar\":{\"outlinewidth\":0,\"ticks\":\"\"},\"colorscale\":[[0.0,\"#0d0887\"],[0.1111111111111111,\"#46039f\"],[0.2222222222222222,\"#7201a8\"],[0.3333333333333333,\"#9c179e\"],[0.4444444444444444,\"#bd3786\"],[0.5555555555555556,\"#d8576b\"],[0.6666666666666666,\"#ed7953\"],[0.7777777777777778,\"#fb9f3a\"],[0.8888888888888888,\"#fdca26\"],[1.0,\"#f0f921\"]]}],\"heatmapgl\":[{\"type\":\"heatmapgl\",\"colorbar\":{\"outlinewidth\":0,\"ticks\":\"\"},\"colorscale\":[[0.0,\"#0d0887\"],[0.1111111111111111,\"#46039f\"],[0.2222222222222222,\"#7201a8\"],[0.3333333333333333,\"#9c179e\"],[0.4444444444444444,\"#bd3786\"],[0.5555555555555556,\"#d8576b\"],[0.6666666666666666,\"#ed7953\"],[0.7777777777777778,\"#fb9f3a\"],[0.8888888888888888,\"#fdca26\"],[1.0,\"#f0f921\"]]}],\"contourcarpet\":[{\"type\":\"contourcarpet\",\"colorbar\":{\"outlinewidth\":0,\"ticks\":\"\"}}],\"contour\":[{\"type\":\"contour\",\"colorbar\":{\"outlinewidth\":0,\"ticks\":\"\"},\"colorscale\":[[0.0,\"#0d0887\"],[0.1111111111111111,\"#46039f\"],[0.2222222222222222,\"#7201a8\"],[0.3333333333333333,\"#9c179e\"],[0.4444444444444444,\"#bd3786\"],[0.5555555555555556,\"#d8576b\"],[0.6666666666666666,\"#ed7953\"],[0.7777777777777778,\"#fb9f3a\"],[0.8888888888888888,\"#fdca26\"],[1.0,\"#f0f921\"]]}],\"surface\":[{\"type\":\"surface\",\"colorbar\":{\"outlinewidth\":0,\"ticks\":\"\"},\"colorscale\":[[0.0,\"#0d0887\"],[0.1111111111111111,\"#46039f\"],[0.2222222222222222,\"#7201a8\"],[0.3333333333333333,\"#9c179e\"],[0.4444444444444444,\"#bd3786\"],[0.5555555555555556,\"#d8576b\"],[0.6666666666666666,\"#ed7953\"],[0.7777777777777778,\"#fb9f3a\"],[0.8888888888888888,\"#fdca26\"],[1.0,\"#f0f921\"]]}],\"mesh3d\":[{\"type\":\"mesh3d\",\"colorbar\":{\"outlinewidth\":0,\"ticks\":\"\"}}],\"scatter\":[{\"fillpattern\":{\"fillmode\":\"overlay\",\"size\":10,\"solidity\":0.2},\"type\":\"scatter\"}],\"parcoords\":[{\"type\":\"parcoords\",\"line\":{\"colorbar\":{\"outlinewidth\":0,\"ticks\":\"\"}}}],\"scatterpolargl\":[{\"type\":\"scatterpolargl\",\"marker\":{\"colorbar\":{\"outlinewidth\":0,\"ticks\":\"\"}}}],\"bar\":[{\"error_x\":{\"color\":\"#2a3f5f\"},\"error_y\":{\"color\":\"#2a3f5f\"},\"marker\":{\"line\":{\"color\":\"#E5ECF6\",\"width\":0.5},\"pattern\":{\"fillmode\":\"overlay\",\"size\":10,\"solidity\":0.2}},\"type\":\"bar\"}],\"scattergeo\":[{\"type\":\"scattergeo\",\"marker\":{\"colorbar\":{\"outlinewidth\":0,\"ticks\":\"\"}}}],\"scatterpolar\":[{\"type\":\"scatterpolar\",\"marker\":{\"colorbar\":{\"outlinewidth\":0,\"ticks\":\"\"}}}],\"histogram\":[{\"marker\":{\"pattern\":{\"fillmode\":\"overlay\",\"size\":10,\"solidity\":0.2}},\"type\":\"histogram\"}],\"scattergl\":[{\"type\":\"scattergl\",\"marker\":{\"colorbar\":{\"outlinewidth\":0,\"ticks\":\"\"}}}],\"scatter3d\":[{\"type\":\"scatter3d\",\"line\":{\"colorbar\":{\"outlinewidth\":0,\"ticks\":\"\"}},\"marker\":{\"colorbar\":{\"outlinewidth\":0,\"ticks\":\"\"}}}],\"scattermapbox\":[{\"type\":\"scattermapbox\",\"marker\":{\"colorbar\":{\"outlinewidth\":0,\"ticks\":\"\"}}}],\"scatterternary\":[{\"type\":\"scatterternary\",\"marker\":{\"colorbar\":{\"outlinewidth\":0,\"ticks\":\"\"}}}],\"scattercarpet\":[{\"type\":\"scattercarpet\",\"marker\":{\"colorbar\":{\"outlinewidth\":0,\"ticks\":\"\"}}}],\"carpet\":[{\"aaxis\":{\"endlinecolor\":\"#2a3f5f\",\"gridcolor\":\"white\",\"linecolor\":\"white\",\"minorgridcolor\":\"white\",\"startlinecolor\":\"#2a3f5f\"},\"baxis\":{\"endlinecolor\":\"#2a3f5f\",\"gridcolor\":\"white\",\"linecolor\":\"white\",\"minorgridcolor\":\"white\",\"startlinecolor\":\"#2a3f5f\"},\"type\":\"carpet\"}],\"table\":[{\"cells\":{\"fill\":{\"color\":\"#EBF0F8\"},\"line\":{\"color\":\"white\"}},\"header\":{\"fill\":{\"color\":\"#C8D4E3\"},\"line\":{\"color\":\"white\"}},\"type\":\"table\"}],\"barpolar\":[{\"marker\":{\"line\":{\"color\":\"#E5ECF6\",\"width\":0.5},\"pattern\":{\"fillmode\":\"overlay\",\"size\":10,\"solidity\":0.2}},\"type\":\"barpolar\"}],\"pie\":[{\"automargin\":true,\"type\":\"pie\"}]},\"layout\":{\"autotypenumbers\":\"strict\",\"colorway\":[\"#636efa\",\"#EF553B\",\"#00cc96\",\"#ab63fa\",\"#FFA15A\",\"#19d3f3\",\"#FF6692\",\"#B6E880\",\"#FF97FF\",\"#FECB52\"],\"font\":{\"color\":\"#2a3f5f\"},\"hovermode\":\"closest\",\"hoverlabel\":{\"align\":\"left\"},\"paper_bgcolor\":\"white\",\"plot_bgcolor\":\"#E5ECF6\",\"polar\":{\"bgcolor\":\"#E5ECF6\",\"angularaxis\":{\"gridcolor\":\"white\",\"linecolor\":\"white\",\"ticks\":\"\"},\"radialaxis\":{\"gridcolor\":\"white\",\"linecolor\":\"white\",\"ticks\":\"\"}},\"ternary\":{\"bgcolor\":\"#E5ECF6\",\"aaxis\":{\"gridcolor\":\"white\",\"linecolor\":\"white\",\"ticks\":\"\"},\"baxis\":{\"gridcolor\":\"white\",\"linecolor\":\"white\",\"ticks\":\"\"},\"caxis\":{\"gridcolor\":\"white\",\"linecolor\":\"white\",\"ticks\":\"\"}},\"coloraxis\":{\"colorbar\":{\"outlinewidth\":0,\"ticks\":\"\"}},\"colorscale\":{\"sequential\":[[0.0,\"#0d0887\"],[0.1111111111111111,\"#46039f\"],[0.2222222222222222,\"#7201a8\"],[0.3333333333333333,\"#9c179e\"],[0.4444444444444444,\"#bd3786\"],[0.5555555555555556,\"#d8576b\"],[0.6666666666666666,\"#ed7953\"],[0.7777777777777778,\"#fb9f3a\"],[0.8888888888888888,\"#fdca26\"],[1.0,\"#f0f921\"]],\"sequentialminus\":[[0.0,\"#0d0887\"],[0.1111111111111111,\"#46039f\"],[0.2222222222222222,\"#7201a8\"],[0.3333333333333333,\"#9c179e\"],[0.4444444444444444,\"#bd3786\"],[0.5555555555555556,\"#d8576b\"],[0.6666666666666666,\"#ed7953\"],[0.7777777777777778,\"#fb9f3a\"],[0.8888888888888888,\"#fdca26\"],[1.0,\"#f0f921\"]],\"diverging\":[[0,\"#8e0152\"],[0.1,\"#c51b7d\"],[0.2,\"#de77ae\"],[0.3,\"#f1b6da\"],[0.4,\"#fde0ef\"],[0.5,\"#f7f7f7\"],[0.6,\"#e6f5d0\"],[0.7,\"#b8e186\"],[0.8,\"#7fbc41\"],[0.9,\"#4d9221\"],[1,\"#276419\"]]},\"xaxis\":{\"gridcolor\":\"white\",\"linecolor\":\"white\",\"ticks\":\"\",\"title\":{\"standoff\":15},\"zerolinecolor\":\"white\",\"automargin\":true,\"zerolinewidth\":2},\"yaxis\":{\"gridcolor\":\"white\",\"linecolor\":\"white\",\"ticks\":\"\",\"title\":{\"standoff\":15},\"zerolinecolor\":\"white\",\"automargin\":true,\"zerolinewidth\":2},\"scene\":{\"xaxis\":{\"backgroundcolor\":\"#E5ECF6\",\"gridcolor\":\"white\",\"linecolor\":\"white\",\"showbackground\":true,\"ticks\":\"\",\"zerolinecolor\":\"white\",\"gridwidth\":2},\"yaxis\":{\"backgroundcolor\":\"#E5ECF6\",\"gridcolor\":\"white\",\"linecolor\":\"white\",\"showbackground\":true,\"ticks\":\"\",\"zerolinecolor\":\"white\",\"gridwidth\":2},\"zaxis\":{\"backgroundcolor\":\"#E5ECF6\",\"gridcolor\":\"white\",\"linecolor\":\"white\",\"showbackground\":true,\"ticks\":\"\",\"zerolinecolor\":\"white\",\"gridwidth\":2}},\"shapedefaults\":{\"line\":{\"color\":\"#2a3f5f\"}},\"annotationdefaults\":{\"arrowcolor\":\"#2a3f5f\",\"arrowhead\":0,\"arrowwidth\":1},\"geo\":{\"bgcolor\":\"white\",\"landcolor\":\"#E5ECF6\",\"subunitcolor\":\"white\",\"showland\":true,\"showlakes\":true,\"lakecolor\":\"white\"},\"title\":{\"x\":0.05},\"mapbox\":{\"style\":\"light\"}}},\"title\":{\"text\":\"Age by Theme\"},\"xaxis\":{\"title\":{\"text\":\"Age\"}},\"yaxis\":{\"title\":{\"text\":\"Frequency\"}},\"barmode\":\"group\",\"bargap\":0.1},                        {\"responsive\": true}                    ).then(function(){\n",
              "                            \n",
              "var gd = document.getElementById('77c4d2b1-f8e0-4cc9-8601-fb9025ff27c9');\n",
              "var x = new MutationObserver(function (mutations, observer) {{\n",
              "        var display = window.getComputedStyle(gd).display;\n",
              "        if (!display || display === 'none') {{\n",
              "            console.log([gd, 'removed!']);\n",
              "            Plotly.purge(gd);\n",
              "            observer.disconnect();\n",
              "        }}\n",
              "}});\n",
              "\n",
              "// Listen for the removal of the full notebook cells\n",
              "var notebookContainer = gd.closest('#notebook-container');\n",
              "if (notebookContainer) {{\n",
              "    x.observe(notebookContainer, {childList: true});\n",
              "}}\n",
              "\n",
              "// Listen for the clearing of the current output cell\n",
              "var outputEl = gd.closest('.output');\n",
              "if (outputEl) {{\n",
              "    x.observe(outputEl, {childList: true});\n",
              "}}\n",
              "\n",
              "                        })                };                            </script>        </div>\n",
              "</body>\n",
              "</html>"
            ]
          },
          "metadata": {}
        }
      ]
    },
    {
      "cell_type": "code",
      "source": [
        "bar_plot('Location','Location', 'Location by Theme')"
      ],
      "metadata": {
        "colab": {
          "base_uri": "https://localhost:8080/",
          "height": 542
        },
        "id": "owR0witRSB8w",
        "outputId": "773ff1db-3d5e-49be-87ea-3c6fa581a9f4"
      },
      "execution_count": 14,
      "outputs": [
        {
          "output_type": "display_data",
          "data": {
            "text/html": [
              "<html>\n",
              "<head><meta charset=\"utf-8\" /></head>\n",
              "<body>\n",
              "    <div>            <script src=\"https://cdnjs.cloudflare.com/ajax/libs/mathjax/2.7.5/MathJax.js?config=TeX-AMS-MML_SVG\"></script><script type=\"text/javascript\">if (window.MathJax && window.MathJax.Hub && window.MathJax.Hub.Config) {window.MathJax.Hub.Config({SVG: {font: \"STIX-Web\"}});}</script>                <script type=\"text/javascript\">window.PlotlyConfig = {MathJaxConfig: 'local'};</script>\n",
              "        <script charset=\"utf-8\" src=\"https://cdn.plot.ly/plotly-2.24.1.min.js\"></script>                <div id=\"a2c1e814-d716-465c-afb8-df3ec2a82490\" class=\"plotly-graph-div\" style=\"height:525px; width:100%;\"></div>            <script type=\"text/javascript\">                                    window.PLOTLYENV=window.PLOTLYENV || {};                                    if (document.getElementById(\"a2c1e814-d716-465c-afb8-df3ec2a82490\")) {                    Plotly.newPlot(                        \"a2c1e814-d716-465c-afb8-df3ec2a82490\",                        [{\"name\":\"Light Theme\",\"opacity\":0.6,\"x\":[\"Chennai\",\"Pune\",\"Pune\",\"New Delhi\",\"Chennai\",\"Kolkata\",\"Chennai\",\"Chennai\",\"Pune\",\"Pune\",\"Kolkata\",\"Chennai\",\"Pune\",\"Chennai\",\"Pune\",\"Bangalore\",\"Bangalore\",\"New Delhi\",\"Kolkata\",\"Bangalore\",\"Pune\",\"Chennai\",\"Bangalore\",\"Bangalore\",\"Pune\",\"Kolkata\",\"Kolkata\",\"Pune\",\"New Delhi\",\"Kolkata\",\"Chennai\",\"Pune\",\"New Delhi\",\"Pune\",\"Chennai\",\"Kolkata\",\"Pune\",\"Kolkata\",\"Chennai\",\"New Delhi\",\"Chennai\",\"Kolkata\",\"Chennai\",\"Chennai\",\"Chennai\",\"Kolkata\",\"Chennai\",\"Pune\",\"New Delhi\",\"New Delhi\",\"Bangalore\",\"Pune\",\"Chennai\",\"Kolkata\",\"Kolkata\",\"Chennai\",\"Bangalore\",\"Chennai\",\"Chennai\",\"New Delhi\",\"Chennai\",\"Kolkata\",\"Kolkata\",\"Pune\",\"New Delhi\",\"Bangalore\",\"New Delhi\",\"New Delhi\",\"New Delhi\",\"Chennai\",\"Kolkata\",\"New Delhi\",\"Bangalore\",\"Bangalore\",\"Kolkata\",\"New Delhi\",\"Kolkata\",\"Pune\",\"Kolkata\",\"New Delhi\",\"Bangalore\",\"Bangalore\",\"Kolkata\",\"Chennai\",\"New Delhi\",\"New Delhi\",\"Bangalore\",\"Bangalore\",\"Chennai\",\"Chennai\",\"Kolkata\",\"Kolkata\",\"New Delhi\",\"Kolkata\",\"Kolkata\",\"Kolkata\",\"Bangalore\",\"Pune\",\"New Delhi\",\"Chennai\",\"Pune\",\"New Delhi\",\"Pune\",\"Chennai\",\"Kolkata\",\"New Delhi\",\"Bangalore\",\"Chennai\",\"Pune\",\"Bangalore\",\"New Delhi\",\"Bangalore\",\"New Delhi\",\"New Delhi\",\"Pune\",\"Kolkata\",\"Bangalore\",\"Chennai\",\"Chennai\",\"Kolkata\",\"Kolkata\",\"Chennai\",\"Pune\",\"Chennai\",\"Bangalore\",\"New Delhi\",\"Pune\",\"Bangalore\",\"Chennai\",\"Kolkata\",\"Pune\",\"Kolkata\",\"Bangalore\",\"Pune\",\"Pune\",\"Pune\",\"Pune\",\"New Delhi\",\"New Delhi\",\"Bangalore\",\"Bangalore\",\"Pune\",\"New Delhi\",\"Bangalore\",\"Chennai\",\"Pune\",\"Kolkata\",\"Bangalore\",\"New Delhi\",\"Chennai\",\"Pune\",\"Pune\",\"Kolkata\",\"Bangalore\",\"Chennai\",\"Kolkata\",\"Pune\",\"Kolkata\",\"New Delhi\",\"New Delhi\",\"Bangalore\",\"New Delhi\",\"Pune\",\"Chennai\",\"New Delhi\",\"New Delhi\",\"Kolkata\",\"Kolkata\",\"Pune\",\"Bangalore\",\"Pune\",\"New Delhi\",\"Chennai\",\"New Delhi\",\"Pune\",\"Bangalore\",\"Kolkata\",\"Kolkata\",\"Bangalore\",\"Chennai\",\"Pune\",\"Chennai\",\"Chennai\",\"Bangalore\",\"Bangalore\",\"Bangalore\",\"Chennai\",\"New Delhi\",\"Chennai\",\"Chennai\",\"Chennai\",\"Chennai\",\"Pune\",\"Kolkata\",\"Pune\",\"New Delhi\",\"Kolkata\",\"New Delhi\",\"Chennai\",\"Bangalore\",\"Kolkata\",\"Pune\",\"Chennai\",\"Kolkata\",\"Chennai\",\"Kolkata\",\"Kolkata\",\"Bangalore\",\"Chennai\",\"Chennai\",\"Pune\",\"Bangalore\",\"Chennai\",\"Chennai\",\"Bangalore\",\"Bangalore\",\"Kolkata\",\"New Delhi\",\"Bangalore\",\"Pune\",\"Kolkata\",\"New Delhi\",\"Pune\",\"Chennai\",\"Pune\",\"Chennai\",\"Bangalore\",\"New Delhi\",\"Bangalore\",\"Kolkata\",\"New Delhi\",\"Pune\",\"Pune\",\"New Delhi\",\"Pune\",\"Bangalore\",\"Bangalore\",\"Pune\",\"Bangalore\",\"Chennai\",\"Pune\",\"Pune\",\"Kolkata\",\"Pune\",\"Kolkata\",\"Kolkata\",\"Kolkata\",\"New Delhi\",\"New Delhi\",\"Chennai\",\"Bangalore\",\"Bangalore\",\"Bangalore\",\"Pune\",\"Pune\",\"Pune\",\"New Delhi\",\"New Delhi\",\"New Delhi\",\"Chennai\",\"New Delhi\",\"Pune\",\"Kolkata\",\"New Delhi\",\"New Delhi\",\"Kolkata\",\"Kolkata\",\"Pune\",\"Pune\",\"Bangalore\",\"New Delhi\",\"New Delhi\",\"Pune\",\"Bangalore\",\"Kolkata\",\"Bangalore\",\"Pune\",\"Kolkata\",\"Kolkata\",\"New Delhi\",\"New Delhi\",\"New Delhi\",\"Kolkata\",\"Pune\",\"Kolkata\",\"New Delhi\",\"New Delhi\",\"Kolkata\",\"Chennai\",\"Chennai\",\"Pune\",\"Chennai\",\"Chennai\",\"Bangalore\",\"Bangalore\",\"Bangalore\",\"New Delhi\",\"Chennai\",\"Kolkata\",\"Chennai\",\"Pune\",\"New Delhi\",\"Chennai\",\"Bangalore\",\"Chennai\",\"Kolkata\",\"New Delhi\",\"Pune\",\"Chennai\",\"Pune\",\"Chennai\",\"Chennai\",\"Kolkata\",\"Kolkata\",\"Bangalore\",\"Chennai\",\"Chennai\",\"Chennai\",\"Bangalore\",\"Chennai\",\"New Delhi\",\"Bangalore\",\"Chennai\",\"Pune\",\"New Delhi\",\"New Delhi\",\"New Delhi\",\"Bangalore\",\"Pune\",\"Kolkata\",\"New Delhi\",\"Chennai\",\"Chennai\",\"Pune\",\"Bangalore\",\"Chennai\",\"Kolkata\",\"Bangalore\",\"Bangalore\",\"Chennai\",\"Chennai\",\"Bangalore\",\"Chennai\",\"Chennai\",\"New Delhi\",\"New Delhi\",\"Pune\",\"Kolkata\",\"Bangalore\",\"Pune\",\"Chennai\",\"Chennai\",\"Kolkata\",\"Kolkata\",\"Chennai\",\"Kolkata\",\"Pune\",\"Kolkata\",\"Chennai\",\"Bangalore\",\"Chennai\",\"Kolkata\",\"Bangalore\",\"Bangalore\",\"Bangalore\",\"Chennai\",\"New Delhi\",\"Chennai\",\"Bangalore\",\"Chennai\",\"Bangalore\",\"Pune\",\"New Delhi\",\"New Delhi\",\"Kolkata\",\"Kolkata\",\"Bangalore\",\"New Delhi\",\"Chennai\",\"Bangalore\",\"Kolkata\",\"Pune\",\"Bangalore\",\"Kolkata\",\"Bangalore\",\"Bangalore\",\"Chennai\",\"Pune\",\"New Delhi\",\"Pune\",\"Bangalore\",\"Bangalore\",\"Bangalore\",\"Kolkata\",\"Kolkata\",\"Bangalore\",\"Kolkata\",\"Kolkata\",\"Chennai\",\"Bangalore\",\"Kolkata\",\"Chennai\",\"Kolkata\",\"New Delhi\",\"Pune\",\"Bangalore\",\"Kolkata\",\"Chennai\",\"New Delhi\",\"Pune\",\"Chennai\",\"Pune\",\"Pune\",\"Bangalore\",\"Pune\",\"Bangalore\",\"Kolkata\",\"Pune\",\"Pune\",\"New Delhi\",\"Pune\",\"New Delhi\",\"Bangalore\",\"Chennai\",\"Kolkata\",\"Chennai\",\"Pune\",\"New Delhi\",\"Bangalore\",\"Kolkata\",\"Pune\",\"New Delhi\",\"New Delhi\",\"New Delhi\",\"Bangalore\",\"Bangalore\",\"Pune\",\"Pune\",\"Bangalore\",\"Pune\",\"Kolkata\",\"Chennai\",\"Pune\",\"Pune\",\"Pune\",\"Chennai\",\"Chennai\",\"Kolkata\",\"New Delhi\",\"Chennai\",\"New Delhi\",\"Kolkata\",\"Chennai\",\"Pune\",\"Bangalore\",\"Chennai\",\"New Delhi\",\"Bangalore\",\"Chennai\",\"Bangalore\",\"Bangalore\",\"Pune\",\"Chennai\",\"Chennai\",\"Pune\",\"Pune\",\"Bangalore\",\"New Delhi\",\"Bangalore\",\"Chennai\",\"Bangalore\",\"Chennai\",\"New Delhi\",\"Kolkata\",\"New Delhi\",\"Bangalore\",\"Chennai\",\"New Delhi\",\"Pune\",\"Chennai\",\"Bangalore\",\"New Delhi\",\"Pune\",\"Pune\",\"Bangalore\",\"Chennai\"],\"type\":\"histogram\"},{\"name\":\"Dark Theme\",\"opacity\":0.6,\"x\":[\"Chennai\",\"New Delhi\",\"Bangalore\",\"Chennai\",\"Pune\",\"Pune\",\"Bangalore\",\"Pune\",\"New Delhi\",\"New Delhi\",\"Chennai\",\"Chennai\",\"Pune\",\"Pune\",\"Kolkata\",\"Kolkata\",\"Pune\",\"Chennai\",\"Kolkata\",\"Chennai\",\"Chennai\",\"Bangalore\",\"Chennai\",\"Pune\",\"Bangalore\",\"Pune\",\"Kolkata\",\"New Delhi\",\"New Delhi\",\"New Delhi\",\"Chennai\",\"Kolkata\",\"New Delhi\",\"Chennai\",\"Pune\",\"New Delhi\",\"New Delhi\",\"Pune\",\"Bangalore\",\"Bangalore\",\"Pune\",\"Chennai\",\"New Delhi\",\"Chennai\",\"Pune\",\"Chennai\",\"Pune\",\"New Delhi\",\"New Delhi\",\"Bangalore\",\"Kolkata\",\"Bangalore\",\"Bangalore\",\"Kolkata\",\"Kolkata\",\"Kolkata\",\"Bangalore\",\"Chennai\",\"Bangalore\",\"Pune\",\"Pune\",\"Bangalore\",\"Pune\",\"Chennai\",\"Kolkata\",\"Pune\",\"Pune\",\"Bangalore\",\"Bangalore\",\"Chennai\",\"Bangalore\",\"Chennai\",\"New Delhi\",\"Chennai\",\"New Delhi\",\"Bangalore\",\"New Delhi\",\"New Delhi\",\"Pune\",\"Bangalore\",\"Pune\",\"Pune\",\"Kolkata\",\"Chennai\",\"Chennai\",\"Chennai\",\"Pune\",\"Kolkata\",\"Bangalore\",\"Bangalore\",\"Kolkata\",\"Chennai\",\"Bangalore\",\"Kolkata\",\"Pune\",\"Bangalore\",\"Pune\",\"Bangalore\",\"Bangalore\",\"Bangalore\",\"Pune\",\"Pune\",\"Kolkata\",\"Pune\",\"Chennai\",\"Bangalore\",\"Pune\",\"Kolkata\",\"Bangalore\",\"Bangalore\",\"Pune\",\"Kolkata\",\"New Delhi\",\"Chennai\",\"Chennai\",\"Bangalore\",\"New Delhi\",\"Kolkata\",\"Bangalore\",\"Bangalore\",\"Chennai\",\"Bangalore\",\"Chennai\",\"Pune\",\"Kolkata\",\"New Delhi\",\"Chennai\",\"Kolkata\",\"Bangalore\",\"Bangalore\",\"Kolkata\",\"Pune\",\"New Delhi\",\"Kolkata\",\"Kolkata\",\"Chennai\",\"Chennai\",\"Kolkata\",\"New Delhi\",\"Bangalore\",\"New Delhi\",\"Bangalore\",\"Bangalore\",\"Kolkata\",\"Pune\",\"Chennai\",\"Bangalore\",\"Pune\",\"Kolkata\",\"New Delhi\",\"Pune\",\"Bangalore\",\"Chennai\",\"Kolkata\",\"Bangalore\",\"Chennai\",\"New Delhi\",\"Chennai\",\"Pune\",\"Kolkata\",\"Chennai\",\"Pune\",\"Pune\",\"Bangalore\",\"New Delhi\",\"Bangalore\",\"Bangalore\",\"Chennai\",\"Chennai\",\"Pune\",\"New Delhi\",\"New Delhi\",\"Pune\",\"Bangalore\",\"New Delhi\",\"Bangalore\",\"Pune\",\"Chennai\",\"New Delhi\",\"New Delhi\",\"Chennai\",\"New Delhi\",\"Kolkata\",\"Bangalore\",\"Kolkata\",\"Kolkata\",\"Chennai\",\"New Delhi\",\"Kolkata\",\"Bangalore\",\"Pune\",\"Bangalore\",\"New Delhi\",\"Bangalore\",\"Bangalore\",\"Bangalore\",\"Kolkata\",\"Kolkata\",\"Kolkata\",\"Bangalore\",\"Bangalore\",\"Bangalore\",\"Bangalore\",\"New Delhi\",\"Kolkata\",\"Kolkata\",\"Pune\",\"New Delhi\",\"Kolkata\",\"Bangalore\",\"Chennai\",\"Bangalore\",\"Pune\",\"New Delhi\",\"Pune\",\"Kolkata\",\"Kolkata\",\"New Delhi\",\"Chennai\",\"Chennai\",\"Pune\",\"New Delhi\",\"Bangalore\",\"Bangalore\",\"Pune\",\"Chennai\",\"Kolkata\",\"Kolkata\",\"Pune\",\"New Delhi\",\"New Delhi\",\"Pune\",\"Pune\",\"Pune\",\"Bangalore\",\"Pune\",\"Chennai\",\"New Delhi\",\"Chennai\",\"New Delhi\",\"New Delhi\",\"Kolkata\",\"New Delhi\",\"Chennai\",\"New Delhi\",\"Bangalore\",\"New Delhi\",\"New Delhi\",\"Bangalore\",\"New Delhi\",\"Pune\",\"Bangalore\",\"Kolkata\",\"Pune\",\"Kolkata\",\"Kolkata\",\"Pune\",\"Pune\",\"Bangalore\",\"Pune\",\"Bangalore\",\"Kolkata\",\"Pune\",\"New Delhi\",\"Bangalore\",\"Chennai\",\"Pune\",\"Kolkata\",\"Pune\",\"New Delhi\",\"New Delhi\",\"Chennai\",\"New Delhi\",\"Kolkata\",\"Pune\",\"Chennai\",\"Kolkata\",\"New Delhi\",\"Bangalore\",\"Chennai\",\"New Delhi\",\"Bangalore\",\"Chennai\",\"Bangalore\",\"Pune\",\"Kolkata\",\"Chennai\",\"Bangalore\",\"Chennai\",\"Pune\",\"New Delhi\",\"New Delhi\",\"Chennai\",\"Chennai\",\"New Delhi\",\"Chennai\",\"Kolkata\",\"New Delhi\",\"Pune\",\"New Delhi\",\"Bangalore\",\"Pune\",\"Bangalore\",\"Pune\",\"Kolkata\",\"Chennai\",\"New Delhi\",\"Bangalore\",\"Bangalore\",\"Chennai\",\"Kolkata\",\"Kolkata\",\"Pune\",\"New Delhi\",\"Chennai\",\"Pune\",\"New Delhi\",\"Chennai\",\"New Delhi\",\"Pune\",\"Chennai\",\"Kolkata\",\"Bangalore\",\"Kolkata\",\"New Delhi\",\"Kolkata\",\"Chennai\",\"Kolkata\",\"Kolkata\",\"Kolkata\",\"New Delhi\",\"New Delhi\",\"Chennai\",\"New Delhi\",\"Chennai\",\"Chennai\",\"Chennai\",\"Pune\",\"Bangalore\",\"New Delhi\",\"Kolkata\",\"Chennai\",\"Kolkata\",\"Chennai\",\"New Delhi\",\"Chennai\",\"Kolkata\",\"Bangalore\",\"Bangalore\",\"New Delhi\",\"New Delhi\",\"Kolkata\",\"New Delhi\",\"Pune\",\"Kolkata\",\"New Delhi\",\"Bangalore\",\"Bangalore\",\"New Delhi\",\"Pune\",\"Pune\",\"Bangalore\",\"Kolkata\",\"New Delhi\",\"Bangalore\",\"New Delhi\",\"Bangalore\",\"Pune\",\"Bangalore\",\"New Delhi\",\"Chennai\",\"Chennai\",\"Kolkata\",\"Chennai\",\"New Delhi\",\"Chennai\",\"Kolkata\",\"Bangalore\",\"Kolkata\",\"Chennai\",\"New Delhi\",\"Chennai\",\"New Delhi\",\"Chennai\",\"Bangalore\",\"Pune\",\"Kolkata\",\"Chennai\",\"Kolkata\",\"New Delhi\",\"Chennai\",\"Pune\",\"Kolkata\",\"New Delhi\",\"Kolkata\",\"New Delhi\",\"Bangalore\",\"New Delhi\",\"Chennai\",\"Pune\",\"Bangalore\",\"New Delhi\",\"Kolkata\",\"Bangalore\",\"Chennai\",\"Bangalore\",\"Pune\",\"Chennai\",\"Chennai\",\"Bangalore\",\"Kolkata\",\"Kolkata\",\"Pune\",\"Kolkata\",\"Kolkata\",\"Chennai\",\"Pune\",\"Chennai\",\"Kolkata\",\"Kolkata\",\"Kolkata\",\"Bangalore\",\"Pune\",\"Chennai\",\"Chennai\",\"Bangalore\",\"New Delhi\",\"Chennai\",\"Bangalore\",\"Bangalore\",\"Pune\",\"Chennai\",\"Pune\",\"Pune\",\"Chennai\",\"Chennai\",\"New Delhi\",\"Pune\",\"Pune\",\"Bangalore\",\"Bangalore\",\"Chennai\",\"New Delhi\",\"Kolkata\",\"Bangalore\",\"New Delhi\",\"Chennai\",\"New Delhi\",\"Chennai\",\"New Delhi\",\"Kolkata\",\"Kolkata\",\"New Delhi\",\"Kolkata\",\"Kolkata\",\"Kolkata\",\"Chennai\",\"New Delhi\",\"New Delhi\",\"Bangalore\",\"Bangalore\",\"Kolkata\",\"Pune\",\"Chennai\",\"New Delhi\",\"Pune\",\"Bangalore\",\"Bangalore\",\"Kolkata\",\"Bangalore\",\"Bangalore\",\"Chennai\",\"Pune\",\"Bangalore\",\"Bangalore\",\"Bangalore\",\"Kolkata\",\"New Delhi\",\"New Delhi\",\"Pune\",\"Kolkata\",\"New Delhi\",\"Kolkata\",\"Chennai\",\"New Delhi\",\"Bangalore\",\"Bangalore\",\"New Delhi\",\"Pune\",\"Bangalore\",\"Chennai\",\"Chennai\",\"New Delhi\",\"Chennai\",\"Chennai\",\"Pune\",\"Bangalore\",\"Kolkata\",\"Kolkata\",\"Bangalore\",\"Chennai\",\"New Delhi\",\"Chennai\",\"Pune\",\"New Delhi\",\"Pune\",\"Bangalore\",\"Kolkata\",\"New Delhi\",\"Pune\",\"Kolkata\",\"Kolkata\",\"Chennai\",\"Chennai\"],\"type\":\"histogram\"}],                        {\"template\":{\"data\":{\"histogram2dcontour\":[{\"type\":\"histogram2dcontour\",\"colorbar\":{\"outlinewidth\":0,\"ticks\":\"\"},\"colorscale\":[[0.0,\"#0d0887\"],[0.1111111111111111,\"#46039f\"],[0.2222222222222222,\"#7201a8\"],[0.3333333333333333,\"#9c179e\"],[0.4444444444444444,\"#bd3786\"],[0.5555555555555556,\"#d8576b\"],[0.6666666666666666,\"#ed7953\"],[0.7777777777777778,\"#fb9f3a\"],[0.8888888888888888,\"#fdca26\"],[1.0,\"#f0f921\"]]}],\"choropleth\":[{\"type\":\"choropleth\",\"colorbar\":{\"outlinewidth\":0,\"ticks\":\"\"}}],\"histogram2d\":[{\"type\":\"histogram2d\",\"colorbar\":{\"outlinewidth\":0,\"ticks\":\"\"},\"colorscale\":[[0.0,\"#0d0887\"],[0.1111111111111111,\"#46039f\"],[0.2222222222222222,\"#7201a8\"],[0.3333333333333333,\"#9c179e\"],[0.4444444444444444,\"#bd3786\"],[0.5555555555555556,\"#d8576b\"],[0.6666666666666666,\"#ed7953\"],[0.7777777777777778,\"#fb9f3a\"],[0.8888888888888888,\"#fdca26\"],[1.0,\"#f0f921\"]]}],\"heatmap\":[{\"type\":\"heatmap\",\"colorbar\":{\"outlinewidth\":0,\"ticks\":\"\"},\"colorscale\":[[0.0,\"#0d0887\"],[0.1111111111111111,\"#46039f\"],[0.2222222222222222,\"#7201a8\"],[0.3333333333333333,\"#9c179e\"],[0.4444444444444444,\"#bd3786\"],[0.5555555555555556,\"#d8576b\"],[0.6666666666666666,\"#ed7953\"],[0.7777777777777778,\"#fb9f3a\"],[0.8888888888888888,\"#fdca26\"],[1.0,\"#f0f921\"]]}],\"heatmapgl\":[{\"type\":\"heatmapgl\",\"colorbar\":{\"outlinewidth\":0,\"ticks\":\"\"},\"colorscale\":[[0.0,\"#0d0887\"],[0.1111111111111111,\"#46039f\"],[0.2222222222222222,\"#7201a8\"],[0.3333333333333333,\"#9c179e\"],[0.4444444444444444,\"#bd3786\"],[0.5555555555555556,\"#d8576b\"],[0.6666666666666666,\"#ed7953\"],[0.7777777777777778,\"#fb9f3a\"],[0.8888888888888888,\"#fdca26\"],[1.0,\"#f0f921\"]]}],\"contourcarpet\":[{\"type\":\"contourcarpet\",\"colorbar\":{\"outlinewidth\":0,\"ticks\":\"\"}}],\"contour\":[{\"type\":\"contour\",\"colorbar\":{\"outlinewidth\":0,\"ticks\":\"\"},\"colorscale\":[[0.0,\"#0d0887\"],[0.1111111111111111,\"#46039f\"],[0.2222222222222222,\"#7201a8\"],[0.3333333333333333,\"#9c179e\"],[0.4444444444444444,\"#bd3786\"],[0.5555555555555556,\"#d8576b\"],[0.6666666666666666,\"#ed7953\"],[0.7777777777777778,\"#fb9f3a\"],[0.8888888888888888,\"#fdca26\"],[1.0,\"#f0f921\"]]}],\"surface\":[{\"type\":\"surface\",\"colorbar\":{\"outlinewidth\":0,\"ticks\":\"\"},\"colorscale\":[[0.0,\"#0d0887\"],[0.1111111111111111,\"#46039f\"],[0.2222222222222222,\"#7201a8\"],[0.3333333333333333,\"#9c179e\"],[0.4444444444444444,\"#bd3786\"],[0.5555555555555556,\"#d8576b\"],[0.6666666666666666,\"#ed7953\"],[0.7777777777777778,\"#fb9f3a\"],[0.8888888888888888,\"#fdca26\"],[1.0,\"#f0f921\"]]}],\"mesh3d\":[{\"type\":\"mesh3d\",\"colorbar\":{\"outlinewidth\":0,\"ticks\":\"\"}}],\"scatter\":[{\"fillpattern\":{\"fillmode\":\"overlay\",\"size\":10,\"solidity\":0.2},\"type\":\"scatter\"}],\"parcoords\":[{\"type\":\"parcoords\",\"line\":{\"colorbar\":{\"outlinewidth\":0,\"ticks\":\"\"}}}],\"scatterpolargl\":[{\"type\":\"scatterpolargl\",\"marker\":{\"colorbar\":{\"outlinewidth\":0,\"ticks\":\"\"}}}],\"bar\":[{\"error_x\":{\"color\":\"#2a3f5f\"},\"error_y\":{\"color\":\"#2a3f5f\"},\"marker\":{\"line\":{\"color\":\"#E5ECF6\",\"width\":0.5},\"pattern\":{\"fillmode\":\"overlay\",\"size\":10,\"solidity\":0.2}},\"type\":\"bar\"}],\"scattergeo\":[{\"type\":\"scattergeo\",\"marker\":{\"colorbar\":{\"outlinewidth\":0,\"ticks\":\"\"}}}],\"scatterpolar\":[{\"type\":\"scatterpolar\",\"marker\":{\"colorbar\":{\"outlinewidth\":0,\"ticks\":\"\"}}}],\"histogram\":[{\"marker\":{\"pattern\":{\"fillmode\":\"overlay\",\"size\":10,\"solidity\":0.2}},\"type\":\"histogram\"}],\"scattergl\":[{\"type\":\"scattergl\",\"marker\":{\"colorbar\":{\"outlinewidth\":0,\"ticks\":\"\"}}}],\"scatter3d\":[{\"type\":\"scatter3d\",\"line\":{\"colorbar\":{\"outlinewidth\":0,\"ticks\":\"\"}},\"marker\":{\"colorbar\":{\"outlinewidth\":0,\"ticks\":\"\"}}}],\"scattermapbox\":[{\"type\":\"scattermapbox\",\"marker\":{\"colorbar\":{\"outlinewidth\":0,\"ticks\":\"\"}}}],\"scatterternary\":[{\"type\":\"scatterternary\",\"marker\":{\"colorbar\":{\"outlinewidth\":0,\"ticks\":\"\"}}}],\"scattercarpet\":[{\"type\":\"scattercarpet\",\"marker\":{\"colorbar\":{\"outlinewidth\":0,\"ticks\":\"\"}}}],\"carpet\":[{\"aaxis\":{\"endlinecolor\":\"#2a3f5f\",\"gridcolor\":\"white\",\"linecolor\":\"white\",\"minorgridcolor\":\"white\",\"startlinecolor\":\"#2a3f5f\"},\"baxis\":{\"endlinecolor\":\"#2a3f5f\",\"gridcolor\":\"white\",\"linecolor\":\"white\",\"minorgridcolor\":\"white\",\"startlinecolor\":\"#2a3f5f\"},\"type\":\"carpet\"}],\"table\":[{\"cells\":{\"fill\":{\"color\":\"#EBF0F8\"},\"line\":{\"color\":\"white\"}},\"header\":{\"fill\":{\"color\":\"#C8D4E3\"},\"line\":{\"color\":\"white\"}},\"type\":\"table\"}],\"barpolar\":[{\"marker\":{\"line\":{\"color\":\"#E5ECF6\",\"width\":0.5},\"pattern\":{\"fillmode\":\"overlay\",\"size\":10,\"solidity\":0.2}},\"type\":\"barpolar\"}],\"pie\":[{\"automargin\":true,\"type\":\"pie\"}]},\"layout\":{\"autotypenumbers\":\"strict\",\"colorway\":[\"#636efa\",\"#EF553B\",\"#00cc96\",\"#ab63fa\",\"#FFA15A\",\"#19d3f3\",\"#FF6692\",\"#B6E880\",\"#FF97FF\",\"#FECB52\"],\"font\":{\"color\":\"#2a3f5f\"},\"hovermode\":\"closest\",\"hoverlabel\":{\"align\":\"left\"},\"paper_bgcolor\":\"white\",\"plot_bgcolor\":\"#E5ECF6\",\"polar\":{\"bgcolor\":\"#E5ECF6\",\"angularaxis\":{\"gridcolor\":\"white\",\"linecolor\":\"white\",\"ticks\":\"\"},\"radialaxis\":{\"gridcolor\":\"white\",\"linecolor\":\"white\",\"ticks\":\"\"}},\"ternary\":{\"bgcolor\":\"#E5ECF6\",\"aaxis\":{\"gridcolor\":\"white\",\"linecolor\":\"white\",\"ticks\":\"\"},\"baxis\":{\"gridcolor\":\"white\",\"linecolor\":\"white\",\"ticks\":\"\"},\"caxis\":{\"gridcolor\":\"white\",\"linecolor\":\"white\",\"ticks\":\"\"}},\"coloraxis\":{\"colorbar\":{\"outlinewidth\":0,\"ticks\":\"\"}},\"colorscale\":{\"sequential\":[[0.0,\"#0d0887\"],[0.1111111111111111,\"#46039f\"],[0.2222222222222222,\"#7201a8\"],[0.3333333333333333,\"#9c179e\"],[0.4444444444444444,\"#bd3786\"],[0.5555555555555556,\"#d8576b\"],[0.6666666666666666,\"#ed7953\"],[0.7777777777777778,\"#fb9f3a\"],[0.8888888888888888,\"#fdca26\"],[1.0,\"#f0f921\"]],\"sequentialminus\":[[0.0,\"#0d0887\"],[0.1111111111111111,\"#46039f\"],[0.2222222222222222,\"#7201a8\"],[0.3333333333333333,\"#9c179e\"],[0.4444444444444444,\"#bd3786\"],[0.5555555555555556,\"#d8576b\"],[0.6666666666666666,\"#ed7953\"],[0.7777777777777778,\"#fb9f3a\"],[0.8888888888888888,\"#fdca26\"],[1.0,\"#f0f921\"]],\"diverging\":[[0,\"#8e0152\"],[0.1,\"#c51b7d\"],[0.2,\"#de77ae\"],[0.3,\"#f1b6da\"],[0.4,\"#fde0ef\"],[0.5,\"#f7f7f7\"],[0.6,\"#e6f5d0\"],[0.7,\"#b8e186\"],[0.8,\"#7fbc41\"],[0.9,\"#4d9221\"],[1,\"#276419\"]]},\"xaxis\":{\"gridcolor\":\"white\",\"linecolor\":\"white\",\"ticks\":\"\",\"title\":{\"standoff\":15},\"zerolinecolor\":\"white\",\"automargin\":true,\"zerolinewidth\":2},\"yaxis\":{\"gridcolor\":\"white\",\"linecolor\":\"white\",\"ticks\":\"\",\"title\":{\"standoff\":15},\"zerolinecolor\":\"white\",\"automargin\":true,\"zerolinewidth\":2},\"scene\":{\"xaxis\":{\"backgroundcolor\":\"#E5ECF6\",\"gridcolor\":\"white\",\"linecolor\":\"white\",\"showbackground\":true,\"ticks\":\"\",\"zerolinecolor\":\"white\",\"gridwidth\":2},\"yaxis\":{\"backgroundcolor\":\"#E5ECF6\",\"gridcolor\":\"white\",\"linecolor\":\"white\",\"showbackground\":true,\"ticks\":\"\",\"zerolinecolor\":\"white\",\"gridwidth\":2},\"zaxis\":{\"backgroundcolor\":\"#E5ECF6\",\"gridcolor\":\"white\",\"linecolor\":\"white\",\"showbackground\":true,\"ticks\":\"\",\"zerolinecolor\":\"white\",\"gridwidth\":2}},\"shapedefaults\":{\"line\":{\"color\":\"#2a3f5f\"}},\"annotationdefaults\":{\"arrowcolor\":\"#2a3f5f\",\"arrowhead\":0,\"arrowwidth\":1},\"geo\":{\"bgcolor\":\"white\",\"landcolor\":\"#E5ECF6\",\"subunitcolor\":\"white\",\"showland\":true,\"showlakes\":true,\"lakecolor\":\"white\"},\"title\":{\"x\":0.05},\"mapbox\":{\"style\":\"light\"}}},\"title\":{\"text\":\"Location by Theme\"},\"xaxis\":{\"title\":{\"text\":\"Location\"}},\"yaxis\":{\"title\":{\"text\":\"Frequency\"}},\"barmode\":\"group\",\"bargap\":0.1},                        {\"responsive\": true}                    ).then(function(){\n",
              "                            \n",
              "var gd = document.getElementById('a2c1e814-d716-465c-afb8-df3ec2a82490');\n",
              "var x = new MutationObserver(function (mutations, observer) {{\n",
              "        var display = window.getComputedStyle(gd).display;\n",
              "        if (!display || display === 'none') {{\n",
              "            console.log([gd, 'removed!']);\n",
              "            Plotly.purge(gd);\n",
              "            observer.disconnect();\n",
              "        }}\n",
              "}});\n",
              "\n",
              "// Listen for the removal of the full notebook cells\n",
              "var notebookContainer = gd.closest('#notebook-container');\n",
              "if (notebookContainer) {{\n",
              "    x.observe(notebookContainer, {childList: true});\n",
              "}}\n",
              "\n",
              "// Listen for the clearing of the current output cell\n",
              "var outputEl = gd.closest('.output');\n",
              "if (outputEl) {{\n",
              "    x.observe(outputEl, {childList: true});\n",
              "}}\n",
              "\n",
              "                        })                };                            </script>        </div>\n",
              "</body>\n",
              "</html>"
            ]
          },
          "metadata": {}
        }
      ]
    },
    {
      "cell_type": "markdown",
      "source": [
        "# Comparison of Both Themes Based on Purchases"
      ],
      "metadata": {
        "id": "3VRzHZKTa829"
      }
    },
    {
      "cell_type": "code",
      "source": [
        "light_theme_conversion = light_theme[light_theme['Purchases'] == 'Yes'].shape[0]\n",
        "light_theme_total = light_theme.shape[0]\n",
        "print(f'Conversion {light_theme_conversion}, Total: {light_theme_total}')"
      ],
      "metadata": {
        "colab": {
          "base_uri": "https://localhost:8080/"
        },
        "id": "KYbXuahVbCl_",
        "outputId": "5cb9a4e6-28b5-43f8-fcd6-0640e2982bdf"
      },
      "execution_count": 15,
      "outputs": [
        {
          "output_type": "stream",
          "name": "stdout",
          "text": [
            "Conversion 258, Total: 486\n"
          ]
        }
      ]
    },
    {
      "cell_type": "code",
      "source": [
        "dark_theme_conversion = dark_theme[dark_theme['Purchases'] == 'Yes'].shape[0]\n",
        "dark_theme_total = dark_theme.shape[0]\n",
        "print(f'Conversion {dark_theme_conversion}, Total: {dark_theme_total}')"
      ],
      "metadata": {
        "colab": {
          "base_uri": "https://localhost:8080/"
        },
        "id": "VPOm7f3zbfiX",
        "outputId": "645555d7-2148-4074-99c0-9ecbc6233e9a"
      },
      "execution_count": 16,
      "outputs": [
        {
          "output_type": "stream",
          "name": "stdout",
          "text": [
            "Conversion 259, Total: 514\n"
          ]
        }
      ]
    },
    {
      "cell_type": "code",
      "source": [
        "light_theme_conversion_rate = light_theme_conversion / light_theme_total\n",
        "dark_theme_conversion_rate = dark_theme_conversion / dark_theme_total\n",
        "print(f'Crt Light: {light_theme_conversion_rate}, Crt Dark: {dark_theme_conversion_rate}')"
      ],
      "metadata": {
        "colab": {
          "base_uri": "https://localhost:8080/"
        },
        "id": "z4UXKE0qkiei",
        "outputId": "ab6495ae-7ca9-4a0b-93be-93bedfdc06d6"
      },
      "execution_count": 18,
      "outputs": [
        {
          "output_type": "stream",
          "name": "stdout",
          "text": [
            "Crt Light: 0.5308641975308642, Crt Dark: 0.5038910505836576\n"
          ]
        }
      ]
    },
    {
      "cell_type": "code",
      "source": [
        "conversion_count = [light_theme_conversion, dark_theme_conversion]\n",
        "sample_sizes = [light_theme_total, dark_theme_total]\n",
        "print(f'Conversion Count: {conversion_count}, Sample Size: {sample_sizes}')"
      ],
      "metadata": {
        "colab": {
          "base_uri": "https://localhost:8080/"
        },
        "id": "BTew8lSpkDNa",
        "outputId": "5b1ae306-1593-44fc-98cf-89a302934f00"
      },
      "execution_count": 17,
      "outputs": [
        {
          "output_type": "stream",
          "name": "stdout",
          "text": [
            "Conversion Count: [258, 259], Sample Size: [486, 514]\n"
          ]
        }
      ]
    },
    {
      "cell_type": "code",
      "source": [
        "zstats, pval = proportions_ztest(conversion_count, sample_sizes)\n",
        "print(f\"Light Conversion Rate: {light_theme_conversion_rate}\")\n",
        "print(f\"Dark Conversion Rate: {dark_theme_conversion_rate}\")\n",
        "print(f\"A/B Testing (z-Statistic: {zstats}, P-Value: {pval})\")"
      ],
      "metadata": {
        "colab": {
          "base_uri": "https://localhost:8080/"
        },
        "id": "wo17G4V1lOCv",
        "outputId": "29d060bb-b78e-47f4-b210-504bfa4527d8"
      },
      "execution_count": 19,
      "outputs": [
        {
          "output_type": "stream",
          "name": "stdout",
          "text": [
            "Light Conversion Rate: 0.5308641975308642\n",
            "Dark Conversion Rate: 0.5038910505836576\n",
            "A/B Testing (z-Statistic: 0.8531246206222649, P-Value: 0.39359019934127804)\n"
          ]
        }
      ]
    },
    {
      "cell_type": "markdown",
      "source": [
        "In the comparison of conversion rates based on purchases from both themes, we conducted an A/B test to determine if there is a statistically significant difference in the conversion rates between the two themes. The results of the A/B test are as follows:\n",
        "\n",
        "z-statistic: 0.8531\n",
        "p-value: 0.3936\n",
        "The z-statistic measures the difference between the conversion rates of the two themes in terms of standard deviations. In this case, the z-statistic is approximately 0.8531. The positive z-statistic value indicates that the conversion rate of the Light Theme is slightly higher than the conversion rate of the Dark Theme.\n",
        "\n",
        "The p-value represents the probability of observing the observed difference in conversion rates or a more extreme difference if the null hypothesis is true. The null hypothesis assumes that there is no statistically significant difference in conversion rates between the two themes. In this case, the p-value is approximately 0.3936.\n",
        "\n",
        "\n",
        "Since the p-value is greater than the typical significance level of 0.05 (commonly used in A/B testing), we do not have enough evidence to reject the null hypothesis. It means that the observed difference in conversion rates between the two themes is not statistically significant. The results suggest that any observed difference in the number of purchases could be due to random variation rather than a true difference caused by the themes. In simpler terms, based on the current data and statistical analysis, we cannot confidently say that one theme performs significantly better than the other in terms of purchases."
      ],
      "metadata": {
        "id": "usI6_lo9rzmm"
      }
    },
    {
      "cell_type": "markdown",
      "source": [
        "## **Comparison of Both Themes based on Session Duration**"
      ],
      "metadata": {
        "id": "8T_1iLH5LKJn"
      }
    },
    {
      "cell_type": "markdown",
      "source": [
        "The session duration is also an important metric to determine how much users like to stay on your website. Now I’ll perform a two-sample t-test to compare the session duration from both themes:"
      ],
      "metadata": {
        "id": "2BTMrdpKLUEx"
      }
    },
    {
      "cell_type": "code",
      "source": [
        "light_theme_session_duration = light_theme['Session_Duration']\n",
        "dark_theme_session_duration = dark_theme['Session_Duration']"
      ],
      "metadata": {
        "id": "0heSuGj1r0mN"
      },
      "execution_count": 20,
      "outputs": []
    },
    {
      "cell_type": "code",
      "source": [
        "# calculate the average from light and dark theme\n",
        "light_theme_avg_duration = light_theme_session_duration.mean()\n",
        "dark_theme_avg_duration = dark_theme_session_duration.mean()\n",
        "\n",
        "print(f'Average Duration Light Theme: {light_theme_avg_duration}, Average Duration dark Theme: {dark_theme_avg_duration}')"
      ],
      "metadata": {
        "colab": {
          "base_uri": "https://localhost:8080/"
        },
        "id": "SpS-DeI8LrUj",
        "outputId": "96567b43-ac33-4d16-cbb7-a2abce5afcb7"
      },
      "execution_count": 22,
      "outputs": [
        {
          "output_type": "stream",
          "name": "stdout",
          "text": [
            "Average Duration Light Theme: 930.8333333333334, Average Duration dark Theme: 919.4824902723735\n"
          ]
        }
      ]
    },
    {
      "cell_type": "code",
      "source": [
        "# perform two sample t-test for session duration\n",
        "tstat, pval = stats.ttest_ind(light_theme_session_duration, dark_theme_session_duration)\n",
        "\n",
        "print(\"A/B Testing for Session Duration - t-statistic:\", tstat, \" p-value:\", pval)"
      ],
      "metadata": {
        "colab": {
          "base_uri": "https://localhost:8080/"
        },
        "id": "8-s1eh4JMKfy",
        "outputId": "80ae406f-75ef-4e6e-b5af-3267f0c07569"
      },
      "execution_count": 25,
      "outputs": [
        {
          "output_type": "stream",
          "name": "stdout",
          "text": [
            "A/B Testing for Session Duration - t-statistic: 0.3528382474155483  p-value: 0.7242842138292167\n"
          ]
        }
      ]
    },
    {
      "cell_type": "markdown",
      "source": [
        "In the comparison of session duration from both themes, we performed an A/B test to determine if there is a statistically significant difference in the average session duration between the two themes. The results of the A/B test are as follows:\n",
        "\n",
        "## **t-statistic: 0.3528, p-value: 0.7243**\n",
        "\n",
        "The t-statistic measures the difference in the average session duration between the two themes, considering the variability within the datasets. In this case, the t-statistic is approximately 0.3528. A positive t-statistic value indicates that the average session duration of the Light Theme is slightly higher than the average session duration of the Dark Theme.\n",
        "\n",
        "The p-value represents the probability of observing the observed difference in average session duration or a more extreme difference if the null hypothesis is true. The null hypothesis assumes there is no statistically significant difference in average session duration between the two themes. In this case, the p-value is approximately 0.7243.\n",
        "\n",
        "\n",
        "Since the p-value is much greater than the typical significance level of 0.05, we do not have enough evidence to reject the null hypothesis. It means that the observed difference in average session duration between the two themes is not statistically significant. The results suggest that any observed difference in session duration could be due to random variation rather than a true difference caused by the themes. In simpler terms, results indicate that the average session duration for both themes is similar, and any differences observed may be due to chance."
      ],
      "metadata": {
        "id": "F_vjF1LLM0fi"
      }
    },
    {
      "cell_type": "markdown",
      "source": [
        "## **Summary**"
      ],
      "metadata": {
        "id": "dT8HUTMbNwhH"
      }
    },
    {
      "cell_type": "markdown",
      "source": [
        "From the Hypothesis Testing on session duration and purchases, the result from the samples is, theres is no significant difference from both parameters on Light Theme and Dark Theme"
      ],
      "metadata": {
        "id": "jV2sV5X6NzU8"
      }
    },
    {
      "cell_type": "markdown",
      "source": [
        "In This Section, we use this articles as the references using two sampled test\n",
        "\n",
        "https://www.statology.org/hypothesis-test-python/"
      ],
      "metadata": {
        "id": "YhQI4-5jKNsv"
      }
    }
  ]
}