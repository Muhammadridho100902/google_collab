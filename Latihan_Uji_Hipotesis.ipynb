{
  "nbformat": 4,
  "nbformat_minor": 0,
  "metadata": {
    "colab": {
      "provenance": [],
      "authorship_tag": "ABX9TyNF7/pxNc0lFS7nlQZTzMFW",
      "include_colab_link": true
    },
    "kernelspec": {
      "name": "python3",
      "display_name": "Python 3"
    },
    "language_info": {
      "name": "python"
    }
  },
  "cells": [
    {
      "cell_type": "markdown",
      "metadata": {
        "id": "view-in-github",
        "colab_type": "text"
      },
      "source": [
        "<a href=\"https://colab.research.google.com/github/Muhammadridho100902/google_collab/blob/main/Latihan_Uji_Hipotesis.ipynb\" target=\"_parent\"><img src=\"https://colab.research.google.com/assets/colab-badge.svg\" alt=\"Open In Colab\"/></a>"
      ]
    },
    {
      "cell_type": "code",
      "execution_count": 1,
      "metadata": {
        "id": "KUU5KQFA8AM4"
      },
      "outputs": [],
      "source": [
        "import scipy.stats as stats"
      ]
    },
    {
      "cell_type": "code",
      "source": [
        "data = [300, 315, 320, 311, 314, 309, 300, 308, 305, 303, 305, 301, 303]"
      ],
      "metadata": {
        "id": "7FBy_N8h8ikW"
      },
      "execution_count": 2,
      "outputs": []
    },
    {
      "cell_type": "code",
      "source": [
        "(300+ 315+ 320+ 311+ 314+ 309+ 300+ 308+ 305+ 303+ 305+ 301+ 303) /13"
      ],
      "metadata": {
        "colab": {
          "base_uri": "https://localhost:8080/"
        },
        "id": "dHZHi3L28sd9",
        "outputId": "25cdaadf-533c-4ec7-e8ad-84fb2851478a"
      },
      "execution_count": 5,
      "outputs": [
        {
          "output_type": "execute_result",
          "data": {
            "text/plain": [
              "307.2307692307692"
            ]
          },
          "metadata": {},
          "execution_count": 5
        }
      ]
    },
    {
      "cell_type": "markdown",
      "source": [
        "## THE STATEMENT\n",
        "Rata-rata kecepatan pada mobil ferrari adalah 307 km/h\n",
        "\n",
        "H0 = miu = 307 (Mean Value)\n",
        "\n",
        "H1 = miu != 307 (Mean Value)"
      ],
      "metadata": {
        "id": "_RIP5sbWD_4Y"
      }
    },
    {
      "cell_type": "code",
      "source": [
        "stats.ttest_1samp(data, popmean=307)"
      ],
      "metadata": {
        "colab": {
          "base_uri": "https://localhost:8080/"
        },
        "id": "QLTLWo-p8n8b",
        "outputId": "e5d80ce4-10d3-4d6f-d01c-b052635e4007"
      },
      "execution_count": 8,
      "outputs": [
        {
          "output_type": "execute_result",
          "data": {
            "text/plain": [
              "TtestResult(statistic=0.13206763594884108, pvalue=0.89711935582273, df=12)"
            ]
          },
          "metadata": {},
          "execution_count": 8
        }
      ]
    },
    {
      "cell_type": "markdown",
      "source": [
        "we use Alpha 0.05 on two tail / dua arah, because our P-Value in our test is 0.89 which is greater than our alpha 0.05, we fail to reject the Null Hypothesis."
      ],
      "metadata": {
        "id": "o-bZqVUODh3G"
      }
    },
    {
      "cell_type": "markdown",
      "source": [
        "https://www.statology.org/hypothesis-test-python/"
      ],
      "metadata": {
        "id": "im4yE8i0L36Q"
      }
    }
  ]
}